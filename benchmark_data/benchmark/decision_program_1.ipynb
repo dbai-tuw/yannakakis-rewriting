{
 "cells": [
  {
   "cell_type": "markdown",
   "id": "6db35e3d-1124-4cc4-9732-30c61afa7a26",
   "metadata": {},
   "source": [
    "# Decision program using machine learning methods"
   ]
  },
  {
   "cell_type": "code",
   "execution_count": 1,
   "id": "42129418-1fba-457e-a372-a3a81aabed89",
   "metadata": {},
   "outputs": [
    {
     "name": "stdout",
     "output_type": "stream",
     "text": [
      "Requirement already satisfied: scikit-learn in /usr/local/lib/python3.10/dist-packages (1.4.1.post1)\n",
      "Requirement already satisfied: threadpoolctl>=2.0.0 in /usr/local/lib/python3.10/dist-packages (from scikit-learn) (3.4.0)\n",
      "Requirement already satisfied: joblib>=1.2.0 in /usr/local/lib/python3.10/dist-packages (from scikit-learn) (1.3.2)\n",
      "Requirement already satisfied: numpy<2.0,>=1.19.5 in /usr/local/lib/python3.10/dist-packages (from scikit-learn) (1.26.4)\n",
      "Requirement already satisfied: scipy>=1.6.0 in /usr/local/lib/python3.10/dist-packages (from scikit-learn) (1.13.0)\n",
      "\u001b[33mWARNING: Running pip as the 'root' user can result in broken permissions and conflicting behaviour with the system package manager. It is recommended to use a virtual environment instead: https://pip.pypa.io/warnings/venv\u001b[0m\u001b[33m\n",
      "\u001b[0mRequirement already satisfied: statsmodels in /usr/local/lib/python3.10/dist-packages (0.14.1)\n",
      "Requirement already satisfied: numpy<2,>=1.18 in /usr/local/lib/python3.10/dist-packages (from statsmodels) (1.26.4)\n",
      "Requirement already satisfied: patsy>=0.5.4 in /usr/local/lib/python3.10/dist-packages (from statsmodels) (0.5.6)\n",
      "Requirement already satisfied: pandas!=2.1.0,>=1.0 in /usr/local/lib/python3.10/dist-packages (from statsmodels) (2.2.1)\n",
      "Requirement already satisfied: scipy!=1.9.2,>=1.4 in /usr/local/lib/python3.10/dist-packages (from statsmodels) (1.13.0)\n",
      "Requirement already satisfied: packaging>=21.3 in /usr/local/lib/python3.10/dist-packages (from statsmodels) (23.2)\n",
      "Requirement already satisfied: tzdata>=2022.7 in /usr/local/lib/python3.10/dist-packages (from pandas!=2.1.0,>=1.0->statsmodels) (2024.1)\n",
      "Requirement already satisfied: python-dateutil>=2.8.2 in /usr/local/lib/python3.10/dist-packages (from pandas!=2.1.0,>=1.0->statsmodels) (2.8.2)\n",
      "Requirement already satisfied: pytz>=2020.1 in /usr/local/lib/python3.10/dist-packages (from pandas!=2.1.0,>=1.0->statsmodels) (2024.1)\n",
      "Requirement already satisfied: six in /usr/local/lib/python3.10/dist-packages (from patsy>=0.5.4->statsmodels) (1.16.0)\n",
      "\u001b[33mWARNING: Running pip as the 'root' user can result in broken permissions and conflicting behaviour with the system package manager. It is recommended to use a virtual environment instead: https://pip.pypa.io/warnings/venv\u001b[0m\u001b[33m\n",
      "\u001b[0mRequirement already satisfied: matplotlib in /usr/local/lib/python3.10/dist-packages (3.8.4)\n",
      "Requirement already satisfied: contourpy>=1.0.1 in /usr/local/lib/python3.10/dist-packages (from matplotlib) (1.2.1)\n",
      "Requirement already satisfied: fonttools>=4.22.0 in /usr/local/lib/python3.10/dist-packages (from matplotlib) (4.51.0)\n",
      "Requirement already satisfied: numpy>=1.21 in /usr/local/lib/python3.10/dist-packages (from matplotlib) (1.26.4)\n",
      "Requirement already satisfied: packaging>=20.0 in /usr/local/lib/python3.10/dist-packages (from matplotlib) (23.2)\n",
      "Requirement already satisfied: python-dateutil>=2.7 in /usr/local/lib/python3.10/dist-packages (from matplotlib) (2.8.2)\n",
      "Requirement already satisfied: kiwisolver>=1.3.1 in /usr/local/lib/python3.10/dist-packages (from matplotlib) (1.4.5)\n",
      "Requirement already satisfied: cycler>=0.10 in /usr/local/lib/python3.10/dist-packages (from matplotlib) (0.12.1)\n",
      "Requirement already satisfied: pillow>=8 in /usr/local/lib/python3.10/dist-packages (from matplotlib) (10.3.0)\n",
      "Requirement already satisfied: pyparsing>=2.3.1 in /usr/local/lib/python3.10/dist-packages (from matplotlib) (3.1.2)\n",
      "Requirement already satisfied: six>=1.5 in /usr/local/lib/python3.10/dist-packages (from python-dateutil>=2.7->matplotlib) (1.16.0)\n",
      "\u001b[33mWARNING: Running pip as the 'root' user can result in broken permissions and conflicting behaviour with the system package manager. It is recommended to use a virtual environment instead: https://pip.pypa.io/warnings/venv\u001b[0m\u001b[33m\n",
      "\u001b[0mRequirement already satisfied: seaborn in /usr/local/lib/python3.10/dist-packages (0.13.2)\n",
      "Requirement already satisfied: pandas>=1.2 in /usr/local/lib/python3.10/dist-packages (from seaborn) (2.2.1)\n",
      "Requirement already satisfied: numpy!=1.24.0,>=1.20 in /usr/local/lib/python3.10/dist-packages (from seaborn) (1.26.4)\n",
      "Requirement already satisfied: matplotlib!=3.6.1,>=3.4 in /usr/local/lib/python3.10/dist-packages (from seaborn) (3.8.4)\n",
      "Requirement already satisfied: pyparsing>=2.3.1 in /usr/local/lib/python3.10/dist-packages (from matplotlib!=3.6.1,>=3.4->seaborn) (3.1.2)\n",
      "Requirement already satisfied: python-dateutil>=2.7 in /usr/local/lib/python3.10/dist-packages (from matplotlib!=3.6.1,>=3.4->seaborn) (2.8.2)\n",
      "Requirement already satisfied: pillow>=8 in /usr/local/lib/python3.10/dist-packages (from matplotlib!=3.6.1,>=3.4->seaborn) (10.3.0)\n",
      "Requirement already satisfied: packaging>=20.0 in /usr/local/lib/python3.10/dist-packages (from matplotlib!=3.6.1,>=3.4->seaborn) (23.2)\n",
      "Requirement already satisfied: fonttools>=4.22.0 in /usr/local/lib/python3.10/dist-packages (from matplotlib!=3.6.1,>=3.4->seaborn) (4.51.0)\n",
      "Requirement already satisfied: kiwisolver>=1.3.1 in /usr/local/lib/python3.10/dist-packages (from matplotlib!=3.6.1,>=3.4->seaborn) (1.4.5)\n",
      "Requirement already satisfied: cycler>=0.10 in /usr/local/lib/python3.10/dist-packages (from matplotlib!=3.6.1,>=3.4->seaborn) (0.12.1)\n",
      "Requirement already satisfied: contourpy>=1.0.1 in /usr/local/lib/python3.10/dist-packages (from matplotlib!=3.6.1,>=3.4->seaborn) (1.2.1)\n",
      "Requirement already satisfied: pytz>=2020.1 in /usr/local/lib/python3.10/dist-packages (from pandas>=1.2->seaborn) (2024.1)\n",
      "Requirement already satisfied: tzdata>=2022.7 in /usr/local/lib/python3.10/dist-packages (from pandas>=1.2->seaborn) (2024.1)\n",
      "Requirement already satisfied: six>=1.5 in /usr/local/lib/python3.10/dist-packages (from python-dateutil>=2.7->matplotlib!=3.6.1,>=3.4->seaborn) (1.16.0)\n",
      "\u001b[33mWARNING: Running pip as the 'root' user can result in broken permissions and conflicting behaviour with the system package manager. It is recommended to use a virtual environment instead: https://pip.pypa.io/warnings/venv\u001b[0m\u001b[33m\n",
      "\u001b[0m"
     ]
    }
   ],
   "source": [
    "!pip install scikit-learn\n",
    "!pip install statsmodels\n",
    "!pip install matplotlib\n",
    "!pip install seaborn"
   ]
  },
  {
   "cell_type": "code",
   "execution_count": 2,
   "id": "424d2e00-9146-4aa9-a3be-9731421befa2",
   "metadata": {},
   "outputs": [],
   "source": [
    "import numpy as np\n",
    "import pandas as pd\n",
    "from sklearn.model_selection import cross_val_predict\n",
    "from sklearn.linear_model import LinearRegression\n",
    "from sklearn.linear_model import LogisticRegression\n",
    "from sklearn.preprocessing import StandardScaler\n",
    "from sklearn.model_selection import cross_val_score\n",
    "from sklearn.metrics import confusion_matrix\n",
    "from sklearn.model_selection import train_test_split\n",
    "from sklearn.tree import DecisionTreeClassifier\n",
    "from sklearn.ensemble import RandomForestClassifier\n",
    "from sklearn.metrics import accuracy_score\n",
    "from sklearn.svm import SVC\n",
    "from sklearn.neighbors import KNeighborsClassifier\n",
    "from sklearn.naive_bayes import GaussianNB\n",
    "from sklearn.linear_model import Ridge\n",
    "from sklearn.linear_model import Lasso\n",
    "from sklearn.metrics import mean_squared_error\n",
    "import statsmodels.api as sm\n",
    "import matplotlib.pyplot as plt\n",
    "import seaborn as sns"
   ]
  },
  {
   "cell_type": "markdown",
   "id": "8ed298a8-d4ce-4d0a-88a4-a6e67c45a81b",
   "metadata": {},
   "source": [
    "### Import the data"
   ]
  },
  {
   "cell_type": "code",
   "execution_count": 3,
   "id": "77dacf66-452f-4185-ab16-d77b08bc169f",
   "metadata": {},
   "outputs": [
    {
     "data": {
      "text/html": [
       "<div>\n",
       "<style scoped>\n",
       "    .dataframe tbody tr th:only-of-type {\n",
       "        vertical-align: middle;\n",
       "    }\n",
       "\n",
       "    .dataframe tbody tr th {\n",
       "        vertical-align: top;\n",
       "    }\n",
       "\n",
       "    .dataframe thead th {\n",
       "        text-align: right;\n",
       "    }\n",
       "</style>\n",
       "<table border=\"1\" class=\"dataframe\">\n",
       "  <thead>\n",
       "    <tr style=\"text-align: right;\">\n",
       "      <th></th>\n",
       "      <th>bench</th>\n",
       "      <th>query</th>\n",
       "      <th>orig/rewr(mean)</th>\n",
       "      <th>orig/rewr+rewr(mean)</th>\n",
       "      <th>orig mean</th>\n",
       "      <th>rewr mean</th>\n",
       "      <th>rewr mean+rewr</th>\n",
       "      <th>diff rewr-orig</th>\n",
       "      <th>diff rewr+rewr-orig</th>\n",
       "      <th>#relations</th>\n",
       "      <th>...</th>\n",
       "      <th>min(branching factors)</th>\n",
       "      <th>max(branching factors)</th>\n",
       "      <th>mean(branching factors)</th>\n",
       "      <th>median(branching factors)</th>\n",
       "      <th>balancedness factor</th>\n",
       "      <th>list table rows</th>\n",
       "      <th>list join rows</th>\n",
       "      <th>container counts list</th>\n",
       "      <th>branching factors list</th>\n",
       "      <th>text</th>\n",
       "    </tr>\n",
       "  </thead>\n",
       "  <tbody>\n",
       "    <tr>\n",
       "      <th>0</th>\n",
       "      <td>STATS</td>\n",
       "      <td>001-014</td>\n",
       "      <td>orig</td>\n",
       "      <td>orig</td>\n",
       "      <td>0.034702</td>\n",
       "      <td>0.076554</td>\n",
       "      <td>2.080650</td>\n",
       "      <td>0.041853</td>\n",
       "      <td>2.045948</td>\n",
       "      <td>3</td>\n",
       "      <td>...</td>\n",
       "      <td>2</td>\n",
       "      <td>2</td>\n",
       "      <td>2.0</td>\n",
       "      <td>2.0</td>\n",
       "      <td>1.0</td>\n",
       "      <td>[99733, 969, 31480]</td>\n",
       "      <td>[24066, 81]</td>\n",
       "      <td>[1, 1, 1, 1, 1, 1, 1, 1, 1, 1, 1, 1, 1, 1, 3]</td>\n",
       "      <td>[2]</td>\n",
       "      <td>SELECT MIN(u.Id) FROM comments as c, votes as ...</td>\n",
       "    </tr>\n",
       "    <tr>\n",
       "      <th>1</th>\n",
       "      <td>STATS</td>\n",
       "      <td>002-048</td>\n",
       "      <td>orig</td>\n",
       "      <td>orig</td>\n",
       "      <td>0.078468</td>\n",
       "      <td>0.143340</td>\n",
       "      <td>1.313430</td>\n",
       "      <td>0.064872</td>\n",
       "      <td>1.234962</td>\n",
       "      <td>5</td>\n",
       "      <td>...</td>\n",
       "      <td>1</td>\n",
       "      <td>3</td>\n",
       "      <td>2.0</td>\n",
       "      <td>2.0</td>\n",
       "      <td>1.0</td>\n",
       "      <td>[101755, 192979, 268, 31527, 79851]</td>\n",
       "      <td>[81277596, 98639, 10171, 194]</td>\n",
       "      <td>[1, 1, 1, 1, 1, 1, 1, 1, 1, 1, 1, 1, 1, 1, 1, ...</td>\n",
       "      <td>[3, 1]</td>\n",
       "      <td>SELECT MIN(c.Id) FROM comments as c, postHisto...</td>\n",
       "    </tr>\n",
       "    <tr>\n",
       "      <th>2</th>\n",
       "      <td>STATS</td>\n",
       "      <td>003-067</td>\n",
       "      <td>orig</td>\n",
       "      <td>orig</td>\n",
       "      <td>0.046257</td>\n",
       "      <td>0.140295</td>\n",
       "      <td>1.342906</td>\n",
       "      <td>0.094038</td>\n",
       "      <td>1.296649</td>\n",
       "      <td>6</td>\n",
       "      <td>...</td>\n",
       "      <td>5</td>\n",
       "      <td>5</td>\n",
       "      <td>5.0</td>\n",
       "      <td>5.0</td>\n",
       "      <td>1.0</td>\n",
       "      <td>[192979, 78165, 25426, 10013, 1334, 38465]</td>\n",
       "      <td>[3421, 55, 58, 40, 145]</td>\n",
       "      <td>[1, 1, 1, 1, 1, 1, 1, 1, 1, 1, 1, 1, 1, 1, 1, ...</td>\n",
       "      <td>[5]</td>\n",
       "      <td>SELECT MIN(c.Id) FROM comments as c, posts as ...</td>\n",
       "    </tr>\n",
       "    <tr>\n",
       "      <th>3</th>\n",
       "      <td>STATS</td>\n",
       "      <td>004-041</td>\n",
       "      <td>orig</td>\n",
       "      <td>orig</td>\n",
       "      <td>0.025213</td>\n",
       "      <td>0.056958</td>\n",
       "      <td>1.142012</td>\n",
       "      <td>0.031745</td>\n",
       "      <td>1.116799</td>\n",
       "      <td>4</td>\n",
       "      <td>...</td>\n",
       "      <td>1</td>\n",
       "      <td>2</td>\n",
       "      <td>1.5</td>\n",
       "      <td>1.5</td>\n",
       "      <td>1.0</td>\n",
       "      <td>[79668, 10726, 771, 36453]</td>\n",
       "      <td>[158, 80, 90]</td>\n",
       "      <td>[1, 1, 1, 1, 1, 1, 1, 1, 1, 1, 1, 1, 1, 1, 1, ...</td>\n",
       "      <td>[2, 1]</td>\n",
       "      <td>SELECT MIN(pl.Id) FROM postLinks as pl, posts ...</td>\n",
       "    </tr>\n",
       "    <tr>\n",
       "      <th>4</th>\n",
       "      <td>STATS</td>\n",
       "      <td>005-024</td>\n",
       "      <td>orig</td>\n",
       "      <td>orig</td>\n",
       "      <td>0.021546</td>\n",
       "      <td>0.050257</td>\n",
       "      <td>1.123830</td>\n",
       "      <td>0.028711</td>\n",
       "      <td>1.102284</td>\n",
       "      <td>3</td>\n",
       "      <td>...</td>\n",
       "      <td>2</td>\n",
       "      <td>2</td>\n",
       "      <td>2.0</td>\n",
       "      <td>2.0</td>\n",
       "      <td>1.0</td>\n",
       "      <td>[79851, 728, 39595]</td>\n",
       "      <td>[305, 76]</td>\n",
       "      <td>[1, 1, 1, 1, 1, 1, 1, 1, 1, 1, 1, 1, 3]</td>\n",
       "      <td>[2]</td>\n",
       "      <td>SELECT MIN(v.Id) FROM votes as v, badges as b,...</td>\n",
       "    </tr>\n",
       "  </tbody>\n",
       "</table>\n",
       "<p>5 rows × 43 columns</p>\n",
       "</div>"
      ],
      "text/plain": [
       "   bench    query orig/rewr(mean) orig/rewr+rewr(mean)  orig mean  rewr mean  \\\n",
       "0  STATS  001-014            orig                 orig   0.034702   0.076554   \n",
       "1  STATS  002-048            orig                 orig   0.078468   0.143340   \n",
       "2  STATS  003-067            orig                 orig   0.046257   0.140295   \n",
       "3  STATS  004-041            orig                 orig   0.025213   0.056958   \n",
       "4  STATS  005-024            orig                 orig   0.021546   0.050257   \n",
       "\n",
       "   rewr mean+rewr  diff rewr-orig  diff rewr+rewr-orig  #relations  ...  \\\n",
       "0        2.080650        0.041853             2.045948           3  ...   \n",
       "1        1.313430        0.064872             1.234962           5  ...   \n",
       "2        1.342906        0.094038             1.296649           6  ...   \n",
       "3        1.142012        0.031745             1.116799           4  ...   \n",
       "4        1.123830        0.028711             1.102284           3  ...   \n",
       "\n",
       "   min(branching factors)  max(branching factors)  mean(branching factors)  \\\n",
       "0                       2                       2                      2.0   \n",
       "1                       1                       3                      2.0   \n",
       "2                       5                       5                      5.0   \n",
       "3                       1                       2                      1.5   \n",
       "4                       2                       2                      2.0   \n",
       "\n",
       "   median(branching factors)  balancedness factor  \\\n",
       "0                        2.0                  1.0   \n",
       "1                        2.0                  1.0   \n",
       "2                        5.0                  1.0   \n",
       "3                        1.5                  1.0   \n",
       "4                        2.0                  1.0   \n",
       "\n",
       "                              list table rows                 list join rows  \\\n",
       "0                         [99733, 969, 31480]                    [24066, 81]   \n",
       "1         [101755, 192979, 268, 31527, 79851]  [81277596, 98639, 10171, 194]   \n",
       "2  [192979, 78165, 25426, 10013, 1334, 38465]        [3421, 55, 58, 40, 145]   \n",
       "3                  [79668, 10726, 771, 36453]                  [158, 80, 90]   \n",
       "4                         [79851, 728, 39595]                      [305, 76]   \n",
       "\n",
       "                               container counts list  branching factors list  \\\n",
       "0      [1, 1, 1, 1, 1, 1, 1, 1, 1, 1, 1, 1, 1, 1, 3]                     [2]   \n",
       "1  [1, 1, 1, 1, 1, 1, 1, 1, 1, 1, 1, 1, 1, 1, 1, ...                  [3, 1]   \n",
       "2  [1, 1, 1, 1, 1, 1, 1, 1, 1, 1, 1, 1, 1, 1, 1, ...                     [5]   \n",
       "3  [1, 1, 1, 1, 1, 1, 1, 1, 1, 1, 1, 1, 1, 1, 1, ...                  [2, 1]   \n",
       "4            [1, 1, 1, 1, 1, 1, 1, 1, 1, 1, 1, 1, 3]                     [2]   \n",
       "\n",
       "                                                text  \n",
       "0  SELECT MIN(u.Id) FROM comments as c, votes as ...  \n",
       "1  SELECT MIN(c.Id) FROM comments as c, postHisto...  \n",
       "2  SELECT MIN(c.Id) FROM comments as c, posts as ...  \n",
       "3  SELECT MIN(pl.Id) FROM postLinks as pl, posts ...  \n",
       "4  SELECT MIN(v.Id) FROM votes as v, badges as b,...  \n",
       "\n",
       "[5 rows x 43 columns]"
      ]
     },
     "execution_count": 3,
     "metadata": {},
     "output_type": "execute_result"
    }
   ],
   "source": [
    "file_path = 'results/features_times.csv'\n",
    "df = pd.read_csv(file_path)\n",
    "df.head()"
   ]
  },
  {
   "cell_type": "markdown",
   "id": "8968f132-ffca-45c8-bb15-375b9bd214f8",
   "metadata": {},
   "source": [
    "Handle the NaNs of the balancedness factor"
   ]
  },
  {
   "cell_type": "code",
   "execution_count": 4,
   "id": "8b7bc129-fdfa-43b9-96cf-77acb00e99be",
   "metadata": {},
   "outputs": [
    {
     "name": "stdout",
     "output_type": "stream",
     "text": [
      "bench                         0\n",
      "query                         0\n",
      "orig/rewr(mean)               0\n",
      "orig/rewr+rewr(mean)          0\n",
      "orig mean                     0\n",
      "rewr mean                     0\n",
      "rewr mean+rewr                0\n",
      "diff rewr-orig                0\n",
      "diff rewr+rewr-orig           0\n",
      "#relations                    0\n",
      "#conditions                   0\n",
      "#filters                      0\n",
      "#joins                        0\n",
      "total cost                    0\n",
      "min(table rows)               0\n",
      "max(table rows)               0\n",
      "mean(table rows)              0\n",
      "q25(table rows)               0\n",
      "median(table rows)            0\n",
      "q75(table rows)               0\n",
      "min(join rows)                0\n",
      "max(join rows)                0\n",
      "mean(join rows)               0\n",
      "q25(join rows)                0\n",
      "median(join rows)             0\n",
      "q75(join rows)                0\n",
      "depth                         0\n",
      "min(container counts)         0\n",
      "max(container counts)         0\n",
      "mean(container counts)        0\n",
      "q25(container counts)         0\n",
      "median(container counts)      0\n",
      "q75(container counts)         0\n",
      "min(branching factors)        0\n",
      "max(branching factors)        0\n",
      "mean(branching factors)       0\n",
      "median(branching factors)     0\n",
      "balancedness factor          27\n",
      "list table rows               0\n",
      "list join rows                0\n",
      "container counts list         0\n",
      "branching factors list        0\n",
      "text                          0\n",
      "dtype: int64\n"
     ]
    }
   ],
   "source": [
    "nan_counts = df.isna().sum()\n",
    "print(nan_counts)\n",
    "df = df.fillna(0)"
   ]
  },
  {
   "cell_type": "markdown",
   "id": "f051cdd4-5edf-4f3e-a0c8-06f3a5e0b275",
   "metadata": {},
   "source": [
    "Get the features matrix X and the response variables y2 and y2, where once the rewritting time and the evaluation time are taken into consideration and once only the evaluation time. Additionally the response variables have to have numbers in it and we assign 1 = rewr and 0 = orig."
   ]
  },
  {
   "cell_type": "code",
   "execution_count": 5,
   "id": "9705deff-9dac-4389-9793-0ca787300662",
   "metadata": {},
   "outputs": [
    {
     "data": {
      "text/html": [
       "<div>\n",
       "<style scoped>\n",
       "    .dataframe tbody tr th:only-of-type {\n",
       "        vertical-align: middle;\n",
       "    }\n",
       "\n",
       "    .dataframe tbody tr th {\n",
       "        vertical-align: top;\n",
       "    }\n",
       "\n",
       "    .dataframe thead th {\n",
       "        text-align: right;\n",
       "    }\n",
       "</style>\n",
       "<table border=\"1\" class=\"dataframe\">\n",
       "  <thead>\n",
       "    <tr style=\"text-align: right;\">\n",
       "      <th></th>\n",
       "      <th>#relations</th>\n",
       "      <th>#conditions</th>\n",
       "      <th>#filters</th>\n",
       "      <th>#joins</th>\n",
       "      <th>total cost</th>\n",
       "      <th>min(table rows)</th>\n",
       "      <th>max(table rows)</th>\n",
       "      <th>mean(table rows)</th>\n",
       "      <th>q25(table rows)</th>\n",
       "      <th>median(table rows)</th>\n",
       "      <th>...</th>\n",
       "      <th>max(container counts)</th>\n",
       "      <th>mean(container counts)</th>\n",
       "      <th>q25(container counts)</th>\n",
       "      <th>median(container counts)</th>\n",
       "      <th>q75(container counts)</th>\n",
       "      <th>min(branching factors)</th>\n",
       "      <th>max(branching factors)</th>\n",
       "      <th>mean(branching factors)</th>\n",
       "      <th>median(branching factors)</th>\n",
       "      <th>balancedness factor</th>\n",
       "    </tr>\n",
       "  </thead>\n",
       "  <tbody>\n",
       "    <tr>\n",
       "      <th>0</th>\n",
       "      <td>3</td>\n",
       "      <td>7</td>\n",
       "      <td>3</td>\n",
       "      <td>2</td>\n",
       "      <td>9607.31</td>\n",
       "      <td>969</td>\n",
       "      <td>99733</td>\n",
       "      <td>44060.666667</td>\n",
       "      <td>16224.50</td>\n",
       "      <td>31480.0</td>\n",
       "      <td>...</td>\n",
       "      <td>3</td>\n",
       "      <td>1.133333</td>\n",
       "      <td>1.0</td>\n",
       "      <td>1.0</td>\n",
       "      <td>1.0</td>\n",
       "      <td>2</td>\n",
       "      <td>2</td>\n",
       "      <td>2.0</td>\n",
       "      <td>2.0</td>\n",
       "      <td>1.0</td>\n",
       "    </tr>\n",
       "    <tr>\n",
       "      <th>1</th>\n",
       "      <td>5</td>\n",
       "      <td>7</td>\n",
       "      <td>3</td>\n",
       "      <td>4</td>\n",
       "      <td>223292.04</td>\n",
       "      <td>268</td>\n",
       "      <td>192979</td>\n",
       "      <td>81276.000000</td>\n",
       "      <td>31527.00</td>\n",
       "      <td>79851.0</td>\n",
       "      <td>...</td>\n",
       "      <td>5</td>\n",
       "      <td>1.190476</td>\n",
       "      <td>1.0</td>\n",
       "      <td>1.0</td>\n",
       "      <td>1.0</td>\n",
       "      <td>1</td>\n",
       "      <td>3</td>\n",
       "      <td>2.0</td>\n",
       "      <td>2.0</td>\n",
       "      <td>1.0</td>\n",
       "    </tr>\n",
       "    <tr>\n",
       "      <th>2</th>\n",
       "      <td>6</td>\n",
       "      <td>17</td>\n",
       "      <td>5</td>\n",
       "      <td>5</td>\n",
       "      <td>17194.35</td>\n",
       "      <td>1334</td>\n",
       "      <td>192979</td>\n",
       "      <td>57730.333333</td>\n",
       "      <td>13866.25</td>\n",
       "      <td>31945.5</td>\n",
       "      <td>...</td>\n",
       "      <td>4</td>\n",
       "      <td>1.156250</td>\n",
       "      <td>1.0</td>\n",
       "      <td>1.0</td>\n",
       "      <td>1.0</td>\n",
       "      <td>5</td>\n",
       "      <td>5</td>\n",
       "      <td>5.0</td>\n",
       "      <td>5.0</td>\n",
       "      <td>1.0</td>\n",
       "    </tr>\n",
       "    <tr>\n",
       "      <th>3</th>\n",
       "      <td>4</td>\n",
       "      <td>15</td>\n",
       "      <td>4</td>\n",
       "      <td>3</td>\n",
       "      <td>6580.11</td>\n",
       "      <td>771</td>\n",
       "      <td>79668</td>\n",
       "      <td>31904.500000</td>\n",
       "      <td>8237.25</td>\n",
       "      <td>23589.5</td>\n",
       "      <td>...</td>\n",
       "      <td>3</td>\n",
       "      <td>1.142857</td>\n",
       "      <td>1.0</td>\n",
       "      <td>1.0</td>\n",
       "      <td>1.0</td>\n",
       "      <td>1</td>\n",
       "      <td>2</td>\n",
       "      <td>1.5</td>\n",
       "      <td>1.5</td>\n",
       "      <td>1.0</td>\n",
       "    </tr>\n",
       "    <tr>\n",
       "      <th>4</th>\n",
       "      <td>3</td>\n",
       "      <td>5</td>\n",
       "      <td>2</td>\n",
       "      <td>2</td>\n",
       "      <td>8525.96</td>\n",
       "      <td>728</td>\n",
       "      <td>79851</td>\n",
       "      <td>40058.000000</td>\n",
       "      <td>20161.50</td>\n",
       "      <td>39595.0</td>\n",
       "      <td>...</td>\n",
       "      <td>3</td>\n",
       "      <td>1.153846</td>\n",
       "      <td>1.0</td>\n",
       "      <td>1.0</td>\n",
       "      <td>1.0</td>\n",
       "      <td>2</td>\n",
       "      <td>2</td>\n",
       "      <td>2.0</td>\n",
       "      <td>2.0</td>\n",
       "      <td>1.0</td>\n",
       "    </tr>\n",
       "  </tbody>\n",
       "</table>\n",
       "<p>5 rows × 29 columns</p>\n",
       "</div>"
      ],
      "text/plain": [
       "   #relations  #conditions  #filters  #joins  total cost  min(table rows)  \\\n",
       "0           3            7         3       2     9607.31              969   \n",
       "1           5            7         3       4   223292.04              268   \n",
       "2           6           17         5       5    17194.35             1334   \n",
       "3           4           15         4       3     6580.11              771   \n",
       "4           3            5         2       2     8525.96              728   \n",
       "\n",
       "   max(table rows)  mean(table rows)  q25(table rows)  median(table rows)  \\\n",
       "0            99733      44060.666667         16224.50             31480.0   \n",
       "1           192979      81276.000000         31527.00             79851.0   \n",
       "2           192979      57730.333333         13866.25             31945.5   \n",
       "3            79668      31904.500000          8237.25             23589.5   \n",
       "4            79851      40058.000000         20161.50             39595.0   \n",
       "\n",
       "   ...  max(container counts)  mean(container counts)  q25(container counts)  \\\n",
       "0  ...                      3                1.133333                    1.0   \n",
       "1  ...                      5                1.190476                    1.0   \n",
       "2  ...                      4                1.156250                    1.0   \n",
       "3  ...                      3                1.142857                    1.0   \n",
       "4  ...                      3                1.153846                    1.0   \n",
       "\n",
       "   median(container counts)  q75(container counts)  min(branching factors)  \\\n",
       "0                       1.0                    1.0                       2   \n",
       "1                       1.0                    1.0                       1   \n",
       "2                       1.0                    1.0                       5   \n",
       "3                       1.0                    1.0                       1   \n",
       "4                       1.0                    1.0                       2   \n",
       "\n",
       "   max(branching factors)  mean(branching factors)  median(branching factors)  \\\n",
       "0                       2                      2.0                        2.0   \n",
       "1                       3                      2.0                        2.0   \n",
       "2                       5                      5.0                        5.0   \n",
       "3                       2                      1.5                        1.5   \n",
       "4                       2                      2.0                        2.0   \n",
       "\n",
       "   balancedness factor  \n",
       "0                  1.0  \n",
       "1                  1.0  \n",
       "2                  1.0  \n",
       "3                  1.0  \n",
       "4                  1.0  \n",
       "\n",
       "[5 rows x 29 columns]"
      ]
     },
     "execution_count": 5,
     "metadata": {},
     "output_type": "execute_result"
    }
   ],
   "source": [
    "X = df.iloc[:, 9:38]\n",
    "X['max(join rows)'] = df['max(join rows)'].astype(\"float64\")\n",
    "X.head()"
   ]
  },
  {
   "cell_type": "markdown",
   "id": "75ab4756-1755-4f8e-b098-47eabebf67bb",
   "metadata": {},
   "source": [
    "#### Classification response"
   ]
  },
  {
   "cell_type": "markdown",
   "id": "43482284-5f2c-409e-83a6-70f86c2b6c75",
   "metadata": {},
   "source": [
    "Get the column(s) where we have \"orig\" or \"rewr\", depending on which method was faster. We now want to encode this as 0 (evaluating the original query faster) and 1 (evaluating the rewritten query faster)."
   ]
  },
  {
   "cell_type": "code",
   "execution_count": 6,
   "id": "b7f20f22-c2dc-4124-848a-358bd736f54e",
   "metadata": {},
   "outputs": [
    {
     "data": {
      "text/plain": [
       "0    0\n",
       "1    0\n",
       "2    0\n",
       "3    0\n",
       "4    0\n",
       "Name: orig/rewr(mean), dtype: int64"
      ]
     },
     "execution_count": 6,
     "metadata": {},
     "output_type": "execute_result"
    }
   ],
   "source": [
    "mapping = {'orig': 0, 'rewr': 1}\n",
    "y1 = df['orig/rewr(mean)'].map(mapping)\n",
    "y1.head()"
   ]
  },
  {
   "cell_type": "code",
   "execution_count": 7,
   "id": "0ded17e4-ee80-46cf-9649-fb4f0c411159",
   "metadata": {},
   "outputs": [
    {
     "data": {
      "text/plain": [
       "0    0\n",
       "1    0\n",
       "2    0\n",
       "3    0\n",
       "4    0\n",
       "Name: orig/rewr+rewr(mean), dtype: int64"
      ]
     },
     "execution_count": 7,
     "metadata": {},
     "output_type": "execute_result"
    }
   ],
   "source": [
    "mapping = {'orig': 0, 'rewr': 1}\n",
    "y2 = df['orig/rewr+rewr(mean)'].map(mapping)\n",
    "y2.head()"
   ]
  },
  {
   "cell_type": "markdown",
   "id": "2f36e3c7-f02a-4839-a2c1-44ef230fca30",
   "metadata": {},
   "source": [
    "#### Regression response"
   ]
  },
  {
   "cell_type": "markdown",
   "id": "1c3500e7-c23e-4260-91de-28f12692ccce",
   "metadata": {},
   "source": [
    "We also have the time differences between the original and rewritten method and we want to use that as numerical response."
   ]
  },
  {
   "cell_type": "code",
   "execution_count": 8,
   "id": "67b9da20-d496-465e-8908-e33912027a3d",
   "metadata": {},
   "outputs": [],
   "source": [
    "y1_diff = df[\"diff rewr-orig\"]"
   ]
  },
  {
   "cell_type": "code",
   "execution_count": 9,
   "id": "f568bb7e-d9fc-4a84-9dfb-8702ff8b60ae",
   "metadata": {},
   "outputs": [],
   "source": [
    "y2_diff = df[\"diff rewr+rewr-orig\"]"
   ]
  },
  {
   "cell_type": "markdown",
   "id": "1c889d62-8988-4035-bc5d-e0848b0d2419",
   "metadata": {},
   "source": [
    "#### Train-test split\n",
    "\n",
    "We split the dataset by hand such that each benchmark dataset is represented in the train and in the test set. We do a 80% train, 20% test split."
   ]
  },
  {
   "cell_type": "code",
   "execution_count": 10,
   "id": "32365a34-e556-45e3-a17c-bfc250cb7aa6",
   "metadata": {},
   "outputs": [],
   "source": [
    "X_train_raw = X.iloc[list(range(0, 40)) + list(range(50, 90)) + list(range(100, 138))+ list(range(147, 178)) + list(range(187, 199)) + \n",
    "list(range(201, 202))]\n",
    "X_test_raw = X.iloc[list(range(40, 50)) + list(range(90, 100)) + list(range(138, 147))+ list(range(178, 187)) + list(range(199, 201)) +\n",
    "list(range(202, 203))]\n",
    "y1_train = y1.iloc[list(range(0, 40)) + list(range(50, 90)) + list(range(100, 138))+ list(range(147, 178)) + list(range(187, 199)) + \n",
    "list(range(201, 202))]\n",
    "y1_test = y1.iloc[list(range(40, 50)) + list(range(90, 100)) + list(range(138, 147))+ list(range(178, 187)) + list(range(199, 201)) +\n",
    "list(range(202, 203))]\n",
    "y2_train = y2.iloc[list(range(0, 40)) + list(range(50, 90)) + list(range(100, 138))+ list(range(147, 178)) + list(range(187, 199)) + \n",
    "list(range(201, 202))]\n",
    "y2_test = y2.iloc[list(range(40, 50)) + list(range(90, 100)) + list(range(138, 147))+ list(range(178, 187)) + list(range(199, 201)) +\n",
    "list(range(202, 203))]\n",
    "y1_diff_train_raw = y1_diff.iloc[list(range(0, 40)) + list(range(50, 90)) + list(range(100, 138))+ list(range(147, 178)) + list(range(187, 199)) + \n",
    "list(range(201, 202))]\n",
    "y1_diff_test_raw = y1_diff.iloc[list(range(40, 50)) + list(range(90, 100)) + list(range(138, 147))+ list(range(178, 187)) + list(range(199, 201)) +\n",
    "list(range(202, 203))]\n",
    "y2_diff_train_raw = y2_diff.iloc[list(range(0, 40)) + list(range(50, 90)) + list(range(100, 138))+ list(range(147, 178)) + list(range(187, 199)) + \n",
    "list(range(201, 202))]\n",
    "y2_diff_test_raw = y2_diff.iloc[list(range(40, 50)) + list(range(90, 100)) + list(range(138, 147))+ list(range(178, 187)) + list(range(199, 201)) +\n",
    "list(range(202, 203))]"
   ]
  },
  {
   "cell_type": "markdown",
   "id": "3a9d2b46-aadb-43fe-9216-3c57b2f5f2b1",
   "metadata": {},
   "source": [
    "#### Standard scaling of the features"
   ]
  },
  {
   "cell_type": "markdown",
   "id": "ed3f1651-0a6e-467f-af04-f8b05e43d931",
   "metadata": {},
   "source": [
    "Perform standard scaling for each column to get better comparability and less influence for the very high numbers.   \n",
    "Additionally standard scale the regression responses."
   ]
  },
  {
   "cell_type": "code",
   "execution_count": 11,
   "id": "efb949d0-11b4-4f1e-b508-d60143459156",
   "metadata": {},
   "outputs": [],
   "source": [
    "scaler = StandardScaler()\n",
    "scaler.fit(X_train_raw)\n",
    "X_train = pd.DataFrame(scaler.transform(X_train_raw), columns=X_train_raw.columns)\n",
    "X_test = pd.DataFrame(scaler.transform(X_test_raw), columns=X_test_raw.columns)\n",
    "\n",
    "y1_diff_train_raw = y1_diff_train_raw.values.reshape(-1, 1)\n",
    "y1_diff_test_raw = y1_diff_test_raw.values.reshape(-1, 1)\n",
    "scaler = StandardScaler()\n",
    "scaler.fit(y1_diff_train_raw)\n",
    "y1_diff_train = pd.Series(scaler.transform(y1_diff_train_raw).flatten())\n",
    "y1_diff_test = pd.Series(scaler.transform(y1_diff_test_raw).flatten())\n",
    "\n",
    "y2_diff_train_raw = y2_diff_train_raw.values.reshape(-1, 1)\n",
    "y2_diff_test_raw = y2_diff_test_raw.values.reshape(-1, 1)\n",
    "scaler = StandardScaler()\n",
    "scaler.fit(y2_diff_train_raw)\n",
    "y2_diff_train = pd.Series(scaler.transform(y2_diff_train_raw).flatten())\n",
    "y2_diff_test = pd.Series(scaler.transform(y2_diff_test_raw).flatten())"
   ]
  },
  {
   "cell_type": "code",
   "execution_count": 12,
   "id": "4a01eaa6-bbf3-408c-abf8-3b49101f3652",
   "metadata": {},
   "outputs": [],
   "source": [
    "scaler = StandardScaler()\n",
    "X_scaled = pd.DataFrame(scaler.fit_transform(X), columns=X_train_raw.columns)"
   ]
  },
  {
   "cell_type": "markdown",
   "id": "26ec1508-d024-40bb-bf9c-369007ba2438",
   "metadata": {},
   "source": [
    "#### Selecting some features"
   ]
  },
  {
   "cell_type": "markdown",
   "id": "e99379ea-dc9a-4f02-941f-bd7e48a3f92f",
   "metadata": {},
   "source": [
    "Since multiple features occur several times (as min, max, mean, median,...) we create a smaller feature set, where we only use the medians of features occuring more than once."
   ]
  },
  {
   "cell_type": "code",
   "execution_count": 13,
   "id": "493f199f-8ea6-4323-9afd-6d1ee76a6387",
   "metadata": {},
   "outputs": [
    {
     "data": {
      "text/plain": [
       "Index(['#relations', '#conditions', '#filters', '#joins', 'total cost',\n",
       "       'min(table rows)', 'max(table rows)', 'mean(table rows)',\n",
       "       'q25(table rows)', 'median(table rows)', 'q75(table rows)',\n",
       "       'min(join rows)', 'max(join rows)', 'mean(join rows)', 'q25(join rows)',\n",
       "       'median(join rows)', 'q75(join rows)', 'depth', 'min(container counts)',\n",
       "       'max(container counts)', 'mean(container counts)',\n",
       "       'q25(container counts)', 'median(container counts)',\n",
       "       'q75(container counts)', 'min(branching factors)',\n",
       "       'max(branching factors)', 'mean(branching factors)',\n",
       "       'median(branching factors)', 'balancedness factor'],\n",
       "      dtype='object')"
      ]
     },
     "execution_count": 13,
     "metadata": {},
     "output_type": "execute_result"
    }
   ],
   "source": [
    "X_train.columns"
   ]
  },
  {
   "cell_type": "code",
   "execution_count": 14,
   "id": "3d005694-9f07-4226-a265-c0a32f05abfb",
   "metadata": {},
   "outputs": [],
   "source": [
    "X_train_small = X_train.iloc[:,[0,1,2,3,4,9,15,17,22,27,28]]\n",
    "X_test_small = X_test.iloc[:,[0,1,2,3,4,9,15,17,22,27,28]]\n",
    "X_small = X_scaled.iloc[:,[0,1,2,3,4,9,15,17,22,27,28]]"
   ]
  },
  {
   "cell_type": "markdown",
   "id": "539dfdeb-9be7-401d-89cd-93cfc54672ac",
   "metadata": {},
   "source": [
    "### Graphical inspection of the data"
   ]
  },
  {
   "cell_type": "markdown",
   "id": "a2b44a3d-04ec-4ed8-9f63-6d8cf3fd1b48",
   "metadata": {},
   "source": [
    "#### Boxplots of running times for both cases (either original or rewritten)"
   ]
  },
  {
   "cell_type": "code",
   "execution_count": 15,
   "id": "edad837a-b2e1-41e0-b06a-1a251d7e9200",
   "metadata": {},
   "outputs": [
    {
     "data": {
      "image/png": "[encoded data removed]",
      "text/plain": [
       "<Figure size 1500x1000 with 4 Axes>"
      ]
     },
     "metadata": {},
     "output_type": "display_data"
    }
   ],
   "source": [
    "df_orig = df[df['orig/rewr+rewr(mean)'] == 'orig']\n",
    "df_rewr = df[df['orig/rewr+rewr(mean)'] == 'rewr']\n",
    "\n",
    "fig, axes = plt.subplots(2, 2, figsize=(15, 10))\n",
    "\n",
    "sns.boxplot(y='orig mean', data=df, ax=axes[0,0])\n",
    "axes[0,0].set_title(f'Boxplot for orig')\n",
    "\n",
    "sns.boxplot(y='rewr mean+rewr', data=df, ax=axes[0,1])\n",
    "axes[0,1].set_title(f'Boxplot for rewr+rewr')\n",
    "\n",
    "sns.boxplot(y='orig mean', data=df_orig, ax=axes[1,0])\n",
    "axes[1,0].set_title(f'Boxplot for orig if \"orig\"')\n",
    "\n",
    "sns.boxplot(y='rewr mean+rewr', data=df_rewr, ax=axes[1,1])\n",
    "axes[1,1].set_title(f'Boxplot for rewr+rewr if \"rewr\"')\n",
    "\n",
    "plt.tight_layout()\n",
    "plt.show()"
   ]
  },
  {
   "cell_type": "code",
   "execution_count": 16,
   "id": "90139153-0ff7-401d-9671-73b57d2ebd82",
   "metadata": {},
   "outputs": [
    {
     "data": {
      "image/png": "[encoded data removed]",
      "text/plain": [
       "<Figure size 1500x1000 with 4 Axes>"
      ]
     },
     "metadata": {},
     "output_type": "display_data"
    }
   ],
   "source": [
    "df_log = df.copy()\n",
    "df_log[\"orig mean\"] = np.log(df_log[\"orig mean\"])\n",
    "df_log[\"rewr mean+rewr\"] = np.log(df_log[\"rewr mean+rewr\"])\n",
    "df_log[\"rewr mean\"] = np.log(df_log[\"rewr mean\"])\n",
    "\n",
    "df_orig = df_log[df_log['orig/rewr+rewr(mean)'] == 'orig']\n",
    "df_rewr = df_log[df_log['orig/rewr+rewr(mean)'] == 'rewr']\n",
    "\n",
    "fig, axes = plt.subplots(2, 2, figsize=(15, 10))\n",
    "\n",
    "sns.boxplot(y='orig mean', data=df_log, ax=axes[0,0])\n",
    "axes[0,0].set_title(f'Boxplot for orig')\n",
    "axes[0,0].set_ylim(-4.5, 8) \n",
    "\n",
    "sns.boxplot(y='rewr mean+rewr', data=df_log, ax=axes[0,1])\n",
    "axes[0,1].set_title(f'Boxplot for rewr+rewr')\n",
    "axes[0,1].set_ylim(-4.5, 8) \n",
    "\n",
    "sns.boxplot(y='orig mean', data=df_orig, ax=axes[1,0])\n",
    "axes[1,0].set_title(f'Boxplot for orig if \"orig\"')\n",
    "axes[1,0].set_ylim(-4.5, 8) \n",
    "\n",
    "sns.boxplot(y='rewr mean+rewr', data=df_rewr, ax=axes[1,1])\n",
    "axes[1,1].set_title(f'Boxplot for rewr+rewr if \"rewr\"')\n",
    "axes[1,1].set_ylim(-4.5, 8) \n",
    "\n",
    "plt.tight_layout()\n",
    "plt.show()"
   ]
  },
  {
   "cell_type": "markdown",
   "id": "9105393c-668d-43a7-94e9-f86faa0a3ef6",
   "metadata": {},
   "source": [
    "#### Scatterplot of running times"
   ]
  },
  {
   "cell_type": "code",
   "execution_count": 17,
   "id": "7286cfca-1f54-4c6d-a019-f17371aa6e1f",
   "metadata": {},
   "outputs": [
    {
     "data": {
      "image/png": "[encoded data removed]",
      "text/plain": [
       "<Figure size 640x480 with 1 Axes>"
      ]
     },
     "metadata": {},
     "output_type": "display_data"
    }
   ],
   "source": [
    "sns.scatterplot(x=\"orig mean\", y=\"rewr mean+rewr\", data=df)\n",
    "sns.regplot(x=\"orig mean\", y=\"rewr mean+rewr\", data=df) \n",
    "\n",
    "plt.xlabel(\"original\")\n",
    "plt.ylabel(\"rewritten\")\n",
    "plt.title(f'Running times')\n",
    "\n",
    "plt.show()"
   ]
  },
  {
   "cell_type": "code",
   "execution_count": 18,
   "id": "2e8dff39-5eb8-4fa4-9879-d660f5a19936",
   "metadata": {},
   "outputs": [
    {
     "data": {
      "image/png": "[encoded data removed]",
      "text/plain": [
       "<Figure size 640x480 with 1 Axes>"
      ]
     },
     "metadata": {},
     "output_type": "display_data"
    }
   ],
   "source": [
    "sns.scatterplot(x=\"orig mean\", y=\"rewr mean+rewr\", data=df_log)\n",
    "sns.regplot(x=\"orig mean\", y=\"rewr mean+rewr\", data=df_log) \n",
    "\n",
    "plt.xlabel(\"original\")\n",
    "plt.ylabel(\"rewritten\")\n",
    "plt.title(f'Running times')\n",
    "\n",
    "plt.show()"
   ]
  },
  {
   "cell_type": "code",
   "execution_count": 19,
   "id": "03134ca6-28bd-4ae6-8e23-4bda0a0652d9",
   "metadata": {},
   "outputs": [
    {
     "data": {
      "image/png": "[encoded data removed]",
      "text/plain": [
       "<Figure size 640x480 with 1 Axes>"
      ]
     },
     "metadata": {},
     "output_type": "display_data"
    }
   ],
   "source": [
    "sns.scatterplot(x=\"orig mean\", y=\"rewr mean\", data=df_log)\n",
    "sns.regplot(x=\"orig mean\", y=\"rewr mean\", data=df_log) \n",
    "\n",
    "plt.xlabel(\"original\")\n",
    "plt.ylabel(\"rewritten\")\n",
    "plt.title(f'Running times')\n",
    "\n",
    "plt.show()"
   ]
  },
  {
   "cell_type": "markdown",
   "id": "962284d7-56ce-4bca-b7f2-901ee148e7fd",
   "metadata": {},
   "source": [
    "## Comparison of different ML methods: Classification\n",
    "using test-train split, median features and decision with rewritting\n",
    "\n",
    "* Logisitic Regression with thresholds\n",
    "* Decision tree\n",
    "* Random Forest\n",
    "* SVM\n",
    "* kNN\n",
    "* Naive Bayes"
   ]
  },
  {
   "cell_type": "markdown",
   "id": "cf4a5cb9-8a53-4c2b-83b8-aad861c064b3",
   "metadata": {},
   "source": [
    "### Logistic Regression with thresholds"
   ]
  },
  {
   "cell_type": "code",
   "execution_count": 20,
   "id": "1f04d0aa-cb58-4869-9f9a-7e1e6e1a2a7c",
   "metadata": {
    "scrolled": true
   },
   "outputs": [
    {
     "name": "stdout",
     "output_type": "stream",
     "text": [
      "                            OLS Regression Results                            \n",
      "==============================================================================\n",
      "Dep. Variable:                      y   R-squared:                       0.472\n",
      "Model:                            OLS   Adj. R-squared:                  0.437\n",
      "Method:                 Least Squares   F-statistic:                     13.48\n",
      "Date:                Mon, 08 Apr 2024   Prob (F-statistic):           9.67e-17\n",
      "Time:                        06:30:47   Log-Likelihood:                -58.449\n",
      "No. Observations:                 162   AIC:                             138.9\n",
      "Df Residuals:                     151   BIC:                             172.9\n",
      "Df Model:                          10                                         \n",
      "Covariance Type:            nonrobust                                         \n",
      "=============================================================================================\n",
      "                                coef    std err          t      P>|t|      [0.025      0.975]\n",
      "---------------------------------------------------------------------------------------------\n",
      "const                         0.3519      0.028     12.456      0.000       0.296       0.408\n",
      "#relations                    0.2732      0.168      1.631      0.105      -0.058       0.604\n",
      "#conditions                   0.0615      0.050      1.223      0.223      -0.038       0.161\n",
      "#filters                     -0.2482      0.055     -4.473      0.000      -0.358      -0.139\n",
      "#joins                       -0.1450      0.122     -1.190      0.236      -0.386       0.096\n",
      "total cost                   -0.0237      0.031     -0.762      0.447      -0.085       0.038\n",
      "median(table rows)            0.0996      0.042      2.359      0.020       0.016       0.183\n",
      "median(join rows)            -0.0223      0.038     -0.582      0.561      -0.098       0.053\n",
      "depth                         0.0010      0.083      0.012      0.990      -0.163       0.165\n",
      "median(container counts)  -2.995e-17   9.26e-18     -3.233      0.002   -4.83e-17   -1.16e-17\n",
      "median(branching factors)     0.0803      0.070      1.145      0.254      -0.058       0.219\n",
      "balancedness factor           0.0436      0.033      1.327      0.187      -0.021       0.109\n",
      "==============================================================================\n",
      "Omnibus:                       19.574   Durbin-Watson:                   0.814\n",
      "Prob(Omnibus):                  0.000   Jarque-Bera (JB):               23.058\n",
      "Skew:                           0.912   Prob(JB):                     9.84e-06\n",
      "Kurtosis:                       3.299   Cond. No.                     3.28e+17\n",
      "==============================================================================\n",
      "\n",
      "Notes:\n",
      "[1] Standard Errors assume that the covariance matrix of the errors is correctly specified.\n",
      "[2] The smallest eigenvalue is 4.4e-33. This might indicate that there are\n",
      "strong multicollinearity problems or that the design matrix is singular.\n"
     ]
    }
   ],
   "source": [
    "model = LogisticRegression()\n",
    "model.fit(X_train_small, y2_train)\n",
    "X_with_intercept = sm.add_constant(X_train_small)\n",
    "ols_model = sm.OLS(np.array(y2_train), X_with_intercept).fit()\n",
    "print(ols_model.summary())"
   ]
  },
  {
   "cell_type": "markdown",
   "id": "6bd344e8-ebaf-47ff-8664-e8836c5e3a3a",
   "metadata": {},
   "source": [
    "Here #filters, median(table rows) and median(container counts) are significantly different from zero."
   ]
  },
  {
   "cell_type": "code",
   "execution_count": 21,
   "id": "e6346bb8-2696-468b-abed-1e87ae762bb9",
   "metadata": {},
   "outputs": [],
   "source": [
    "X_test_with_intercept = sm.add_constant(X_test_small)\n",
    "y2_pred_log_reg = ols_model.predict(X_test_with_intercept)"
   ]
  },
  {
   "cell_type": "code",
   "execution_count": 22,
   "id": "fb500e56-0d82-4533-9850-ce12fa14b2d7",
   "metadata": {},
   "outputs": [],
   "source": [
    "y2_pred_log_reg_00 = y2_pred_log_reg.apply(lambda x: 1 if x >= 0 else 0)\n",
    "y2_pred_log_reg_035 = y2_pred_log_reg.apply(lambda x: 1 if x >= 0.35 else 0)\n",
    "y2_pred_log_reg_05 = y2_pred_log_reg.apply(lambda x: 1 if x >= 0.5 else 0)\n",
    "#pd.concat([y2_test, y2_pred_log_reg_00, y2_pred_log_reg_05], axis = 1)"
   ]
  },
  {
   "cell_type": "code",
   "execution_count": 23,
   "id": "0e055b53-7211-4ccb-a9f3-48d4ed70172f",
   "metadata": {},
   "outputs": [
    {
     "data": {
      "text/plain": [
       "0.4146341463414634"
      ]
     },
     "execution_count": 23,
     "metadata": {},
     "output_type": "execute_result"
    }
   ],
   "source": [
    "accuracy = accuracy_score(y2_test, y2_pred_log_reg_00)\n",
    "accuracy"
   ]
  },
  {
   "cell_type": "code",
   "execution_count": 24,
   "id": "f220310d-f29c-4f84-949b-8203d141fb72",
   "metadata": {},
   "outputs": [
    {
     "data": {
      "text/plain": [
       "array([[ 6, 17],\n",
       "       [ 7, 11]])"
      ]
     },
     "execution_count": 24,
     "metadata": {},
     "output_type": "execute_result"
    }
   ],
   "source": [
    "conf_matrix = confusion_matrix(y2_test, y2_pred_log_reg_00)\n",
    "conf_matrix"
   ]
  },
  {
   "cell_type": "code",
   "execution_count": 25,
   "id": "b8c79185-e327-467d-a38b-b5e8ba64d1b6",
   "metadata": {},
   "outputs": [
    {
     "data": {
      "text/plain": [
       "0.5853658536585366"
      ]
     },
     "execution_count": 25,
     "metadata": {},
     "output_type": "execute_result"
    }
   ],
   "source": [
    "accuracy = accuracy_score(y2_test, y2_pred_log_reg_05)\n",
    "accuracy"
   ]
  },
  {
   "cell_type": "code",
   "execution_count": 26,
   "id": "bb1ab79e-4709-4e99-9fe8-b66f6deef024",
   "metadata": {},
   "outputs": [
    {
     "data": {
      "text/plain": [
       "array([[21,  2],\n",
       "       [15,  3]])"
      ]
     },
     "execution_count": 26,
     "metadata": {},
     "output_type": "execute_result"
    }
   ],
   "source": [
    "conf_matrix = confusion_matrix(y2_test, y2_pred_log_reg_05)\n",
    "conf_matrix"
   ]
  },
  {
   "cell_type": "code",
   "execution_count": 27,
   "id": "0bebbcf4-5986-41b9-88a9-3307d3bfcfee",
   "metadata": {},
   "outputs": [
    {
     "data": {
      "text/plain": [
       "0.6341463414634146"
      ]
     },
     "execution_count": 27,
     "metadata": {},
     "output_type": "execute_result"
    }
   ],
   "source": [
    "accuracy = accuracy_score(y2_test, y2_pred_log_reg_035)\n",
    "accuracy"
   ]
  },
  {
   "cell_type": "code",
   "execution_count": 28,
   "id": "92f31381-47d8-47da-adeb-fa220d5cf49c",
   "metadata": {},
   "outputs": [
    {
     "data": {
      "text/plain": [
       "array([[19,  4],\n",
       "       [11,  7]])"
      ]
     },
     "execution_count": 28,
     "metadata": {},
     "output_type": "execute_result"
    }
   ],
   "source": [
    "conf_matrix = confusion_matrix(y2_test, y2_pred_log_reg_035)\n",
    "conf_matrix"
   ]
  },
  {
   "cell_type": "markdown",
   "id": "778e9b15-cfb9-4109-ada6-d44e8e2ed45f",
   "metadata": {},
   "source": [
    "### Decision tree"
   ]
  },
  {
   "cell_type": "code",
   "execution_count": 29,
   "id": "1b547925-f1d9-48f9-98f3-380340315646",
   "metadata": {},
   "outputs": [],
   "source": [
    "clf = DecisionTreeClassifier()\n",
    "clf.fit(X_train_small, y2_train)\n",
    "y2_pred_dec_tree = clf.predict(X_test_small)"
   ]
  },
  {
   "cell_type": "code",
   "execution_count": 30,
   "id": "475858be-85fc-445e-8b12-e6afe5a42e35",
   "metadata": {},
   "outputs": [
    {
     "data": {
      "text/plain": [
       "0.7073170731707317"
      ]
     },
     "execution_count": 30,
     "metadata": {},
     "output_type": "execute_result"
    }
   ],
   "source": [
    "accuracy = accuracy_score(y2_test, y2_pred_dec_tree)\n",
    "accuracy"
   ]
  },
  {
   "cell_type": "code",
   "execution_count": 31,
   "id": "ff2866ff-85d4-4685-b263-d6bb7475f705",
   "metadata": {},
   "outputs": [
    {
     "data": {
      "text/plain": [
       "array([[17,  6],\n",
       "       [ 6, 12]])"
      ]
     },
     "execution_count": 31,
     "metadata": {},
     "output_type": "execute_result"
    }
   ],
   "source": [
    "conf_matrix = confusion_matrix(y2_test, y2_pred_dec_tree)\n",
    "conf_matrix"
   ]
  },
  {
   "cell_type": "markdown",
   "id": "348409b2-8712-434c-9e4c-926dcffa5ec2",
   "metadata": {},
   "source": [
    "### Random Forest"
   ]
  },
  {
   "cell_type": "code",
   "execution_count": 32,
   "id": "a33b62a5-0ff4-468a-9925-3a421bf9950d",
   "metadata": {},
   "outputs": [],
   "source": [
    "model = RandomForestClassifier(n_estimators=100)\n",
    "model.fit(X_train_small, y2_train)\n",
    "y2_pred_rand_forest = model.predict(X_test_small)"
   ]
  },
  {
   "cell_type": "code",
   "execution_count": 33,
   "id": "07e54f89-feac-47e7-8640-ea8616817310",
   "metadata": {},
   "outputs": [
    {
     "data": {
      "text/plain": [
       "0.7804878048780488"
      ]
     },
     "execution_count": 33,
     "metadata": {},
     "output_type": "execute_result"
    }
   ],
   "source": [
    "accuracy = accuracy_score(y2_test, y2_pred_rand_forest)\n",
    "accuracy"
   ]
  },
  {
   "cell_type": "code",
   "execution_count": 34,
   "id": "942f8b97-145e-46e7-93bd-d5fac24b26ad",
   "metadata": {},
   "outputs": [
    {
     "data": {
      "text/plain": [
       "array([[21,  2],\n",
       "       [ 7, 11]])"
      ]
     },
     "execution_count": 34,
     "metadata": {},
     "output_type": "execute_result"
    }
   ],
   "source": [
    "conf_matrix = confusion_matrix(y2_test, y2_pred_rand_forest)\n",
    "conf_matrix"
   ]
  },
  {
   "cell_type": "markdown",
   "id": "8e3a988a-c549-4396-9bf1-e8a474594633",
   "metadata": {},
   "source": [
    "### SVM (Support Vector Machine)"
   ]
  },
  {
   "cell_type": "code",
   "execution_count": 35,
   "id": "5cb69d7b-5eab-413a-baa4-178f21a4bfd2",
   "metadata": {},
   "outputs": [],
   "source": [
    "clf = SVC(kernel='linear')\n",
    "clf.fit(X_train_small, y2_train)\n",
    "y2_pred_svm_linear = clf.predict(X_test_small)"
   ]
  },
  {
   "cell_type": "code",
   "execution_count": 36,
   "id": "aa9d8ed5-8b75-4ccc-b9f5-54a3a7b3dbfa",
   "metadata": {},
   "outputs": [],
   "source": [
    "clf = SVC(kernel='poly')\n",
    "clf.fit(X_train_small, y2_train)\n",
    "y2_pred_svm_poly = clf.predict(X_test_small)"
   ]
  },
  {
   "cell_type": "code",
   "execution_count": 37,
   "id": "541dc36b-c71e-4e9e-9458-5ef85a35723a",
   "metadata": {},
   "outputs": [],
   "source": [
    "clf = SVC(kernel='rbf')\n",
    "clf.fit(X_train_small, y2_train)\n",
    "y2_pred_svm_rbf = clf.predict(X_test_small)"
   ]
  },
  {
   "cell_type": "code",
   "execution_count": 38,
   "id": "abc5ee19-28a4-4dce-956c-65b793f9409b",
   "metadata": {},
   "outputs": [
    {
     "data": {
      "text/plain": [
       "0.8048780487804879"
      ]
     },
     "execution_count": 38,
     "metadata": {},
     "output_type": "execute_result"
    }
   ],
   "source": [
    "accuracy = accuracy_score(y2_test, y2_pred_svm_linear)\n",
    "accuracy"
   ]
  },
  {
   "cell_type": "code",
   "execution_count": 39,
   "id": "864d07b3-ac10-4a9c-93d3-4cd8edcf6a08",
   "metadata": {},
   "outputs": [
    {
     "data": {
      "text/plain": [
       "array([[23,  0],\n",
       "       [ 8, 10]])"
      ]
     },
     "execution_count": 39,
     "metadata": {},
     "output_type": "execute_result"
    }
   ],
   "source": [
    "conf_matrix = confusion_matrix(y2_test, y2_pred_svm_linear)\n",
    "conf_matrix"
   ]
  },
  {
   "cell_type": "code",
   "execution_count": 40,
   "id": "ea684998-c6a5-438a-89e3-e74dda3143c0",
   "metadata": {},
   "outputs": [
    {
     "data": {
      "text/plain": [
       "0.7804878048780488"
      ]
     },
     "execution_count": 40,
     "metadata": {},
     "output_type": "execute_result"
    }
   ],
   "source": [
    "accuracy = accuracy_score(y2_test, y2_pred_svm_poly)\n",
    "accuracy"
   ]
  },
  {
   "cell_type": "code",
   "execution_count": 41,
   "id": "97c24959-ac81-41e0-a289-85ea7b8397cd",
   "metadata": {},
   "outputs": [
    {
     "data": {
      "text/plain": [
       "array([[23,  0],\n",
       "       [ 9,  9]])"
      ]
     },
     "execution_count": 41,
     "metadata": {},
     "output_type": "execute_result"
    }
   ],
   "source": [
    "conf_matrix = confusion_matrix(y2_test, y2_pred_svm_poly)\n",
    "conf_matrix"
   ]
  },
  {
   "cell_type": "code",
   "execution_count": 42,
   "id": "5a34d8dc-c0f6-4cfb-ab26-78c99209fd93",
   "metadata": {},
   "outputs": [
    {
     "data": {
      "text/plain": [
       "0.7804878048780488"
      ]
     },
     "execution_count": 42,
     "metadata": {},
     "output_type": "execute_result"
    }
   ],
   "source": [
    "accuracy = accuracy_score(y2_test, y2_pred_svm_rbf)\n",
    "accuracy"
   ]
  },
  {
   "cell_type": "code",
   "execution_count": 43,
   "id": "3f59cba4-45c1-47d8-aede-41103f4745b5",
   "metadata": {},
   "outputs": [
    {
     "data": {
      "text/plain": [
       "array([[21,  2],\n",
       "       [ 7, 11]])"
      ]
     },
     "execution_count": 43,
     "metadata": {},
     "output_type": "execute_result"
    }
   ],
   "source": [
    "conf_matrix = confusion_matrix(y2_test, y2_pred_svm_rbf)\n",
    "conf_matrix"
   ]
  },
  {
   "cell_type": "markdown",
   "id": "0ed50708-e7f2-4b9c-9b5b-97bf7c832e94",
   "metadata": {},
   "source": [
    "### kNN (k-nearest neighbors)"
   ]
  },
  {
   "cell_type": "code",
   "execution_count": 44,
   "id": "8f6aa997-1c61-4096-96b4-4df029b58fba",
   "metadata": {},
   "outputs": [],
   "source": [
    "clf = KNeighborsClassifier(n_neighbors=5) \n",
    "clf.fit(X_train_small, y2_train)\n",
    "y2_pred_kNN_5 = clf.predict(X_test_small)"
   ]
  },
  {
   "cell_type": "code",
   "execution_count": 45,
   "id": "c4ce42c9-96a1-43d6-a1c3-9204a26997fb",
   "metadata": {},
   "outputs": [],
   "source": [
    "clf = KNeighborsClassifier(n_neighbors=10) \n",
    "clf.fit(X_train_small, y2_train)\n",
    "y2_pred_kNN_10 = clf.predict(X_test_small)"
   ]
  },
  {
   "cell_type": "code",
   "execution_count": 46,
   "id": "60836ed2-429d-4edf-a8a2-d695f32aa17b",
   "metadata": {},
   "outputs": [
    {
     "data": {
      "text/plain": [
       "0.7317073170731707"
      ]
     },
     "execution_count": 46,
     "metadata": {},
     "output_type": "execute_result"
    }
   ],
   "source": [
    "accuracy = accuracy_score(y2_test, y2_pred_kNN_5)\n",
    "accuracy"
   ]
  },
  {
   "cell_type": "code",
   "execution_count": 47,
   "id": "c4a07047-4a53-4da2-8d02-1fe76fff3e2c",
   "metadata": {},
   "outputs": [
    {
     "data": {
      "text/plain": [
       "array([[20,  3],\n",
       "       [ 8, 10]])"
      ]
     },
     "execution_count": 47,
     "metadata": {},
     "output_type": "execute_result"
    }
   ],
   "source": [
    "conf_matrix = confusion_matrix(y2_test, y2_pred_kNN_5)\n",
    "conf_matrix"
   ]
  },
  {
   "cell_type": "code",
   "execution_count": 48,
   "id": "0b9da4ec-bb90-4376-9a97-c3cd3dccbbc0",
   "metadata": {},
   "outputs": [
    {
     "data": {
      "text/plain": [
       "0.7804878048780488"
      ]
     },
     "execution_count": 48,
     "metadata": {},
     "output_type": "execute_result"
    }
   ],
   "source": [
    "accuracy = accuracy_score(y2_test, y2_pred_kNN_10)\n",
    "accuracy"
   ]
  },
  {
   "cell_type": "code",
   "execution_count": 49,
   "id": "2d1f79ef-52d6-4567-b3c5-db5510cf62b2",
   "metadata": {},
   "outputs": [
    {
     "data": {
      "text/plain": [
       "array([[23,  0],\n",
       "       [ 9,  9]])"
      ]
     },
     "execution_count": 49,
     "metadata": {},
     "output_type": "execute_result"
    }
   ],
   "source": [
    "conf_matrix = confusion_matrix(y2_test, y2_pred_kNN_10)\n",
    "conf_matrix"
   ]
  },
  {
   "cell_type": "markdown",
   "id": "b1a56692-38de-4d12-8332-cf4710cc4342",
   "metadata": {},
   "source": [
    "### Naive Bayes"
   ]
  },
  {
   "cell_type": "code",
   "execution_count": 50,
   "id": "0252f6dd-a1bc-4bdc-b27e-f2211fa516c6",
   "metadata": {},
   "outputs": [],
   "source": [
    "clf = GaussianNB()\n",
    "clf.fit(X_train_small, y2_train)\n",
    "y2_pred_naive_bayes = clf.predict(X_test_small)"
   ]
  },
  {
   "cell_type": "code",
   "execution_count": 51,
   "id": "db3bdd35-f71e-4ede-be2d-79b2983a604f",
   "metadata": {},
   "outputs": [
    {
     "data": {
      "text/plain": [
       "0.7804878048780488"
      ]
     },
     "execution_count": 51,
     "metadata": {},
     "output_type": "execute_result"
    }
   ],
   "source": [
    "accuracy = accuracy_score(y2_test, y2_pred_naive_bayes)\n",
    "accuracy"
   ]
  },
  {
   "cell_type": "code",
   "execution_count": 52,
   "id": "b1bbd2e5-2e78-4781-8e5c-3f560fa8a8b9",
   "metadata": {},
   "outputs": [
    {
     "data": {
      "text/plain": [
       "array([[22,  1],\n",
       "       [ 8, 10]])"
      ]
     },
     "execution_count": 52,
     "metadata": {},
     "output_type": "execute_result"
    }
   ],
   "source": [
    "conf_matrix = confusion_matrix(y2_test, y2_pred_naive_bayes)\n",
    "conf_matrix"
   ]
  },
  {
   "cell_type": "markdown",
   "id": "5fb7804e-84ae-481c-b88e-b934274e8bd2",
   "metadata": {},
   "source": [
    "## Comparison of different ML methods: Regression\n",
    "using test-train split, median features and time differences with rewritting\n",
    "\n",
    "* Linear Regression\n",
    "* Ridge Regression\n",
    "* Lasso Regression"
   ]
  },
  {
   "cell_type": "markdown",
   "id": "83cd56bf-f421-4b45-b609-c856e48f6f12",
   "metadata": {},
   "source": [
    "### Linear Regression"
   ]
  },
  {
   "cell_type": "code",
   "execution_count": 53,
   "id": "67a69436-8aca-40d6-a973-cf93add7a1b0",
   "metadata": {},
   "outputs": [
    {
     "name": "stdout",
     "output_type": "stream",
     "text": [
      "                            OLS Regression Results                            \n",
      "==============================================================================\n",
      "Dep. Variable:                      y   R-squared:                       0.708\n",
      "Model:                            OLS   Adj. R-squared:                  0.688\n",
      "Method:                 Least Squares   F-statistic:                     36.56\n",
      "Date:                Mon, 08 Apr 2024   Prob (F-statistic):           1.85e-35\n",
      "Time:                        06:30:48   Log-Likelihood:                -130.24\n",
      "No. Observations:                 162   AIC:                             282.5\n",
      "Df Residuals:                     151   BIC:                             316.4\n",
      "Df Model:                          10                                         \n",
      "Covariance Type:            nonrobust                                         \n",
      "=============================================================================================\n",
      "                                coef    std err          t      P>|t|      [0.025      0.975]\n",
      "---------------------------------------------------------------------------------------------\n",
      "const                      2.168e-17      0.044   4.93e-16      1.000      -0.087       0.087\n",
      "#relations                   -1.3563      0.261     -5.197      0.000      -1.872      -0.841\n",
      "#conditions                   0.1009      0.078      1.288      0.200      -0.054       0.256\n",
      "#filters                      0.2906      0.086      3.363      0.001       0.120       0.461\n",
      "#joins                        0.8154      0.190      4.295      0.000       0.440       1.191\n",
      "total cost                    0.0154      0.048      0.319      0.750      -0.080       0.111\n",
      "median(table rows)           -0.2550      0.066     -3.876      0.000      -0.385      -0.125\n",
      "median(join rows)            -0.0456      0.060     -0.764      0.446      -0.164       0.072\n",
      "depth                        -0.0177      0.129     -0.137      0.891      -0.273       0.238\n",
      "median(container counts)   2.747e-17   1.44e-17      1.904      0.059   -1.04e-18     5.6e-17\n",
      "median(branching factors)     0.1517      0.109      1.389      0.167      -0.064       0.368\n",
      "balancedness factor           0.0592      0.051      1.156      0.249      -0.042       0.161\n",
      "==============================================================================\n",
      "Omnibus:                       35.870   Durbin-Watson:                   1.070\n",
      "Prob(Omnibus):                  0.000   Jarque-Bera (JB):              292.943\n",
      "Skew:                           0.414   Prob(JB):                     2.44e-64\n",
      "Kurtosis:                       9.535   Cond. No.                     3.28e+17\n",
      "==============================================================================\n",
      "\n",
      "Notes:\n",
      "[1] Standard Errors assume that the covariance matrix of the errors is correctly specified.\n",
      "[2] The smallest eigenvalue is 4.4e-33. This might indicate that there are\n",
      "strong multicollinearity problems or that the design matrix is singular.\n"
     ]
    }
   ],
   "source": [
    "model = LinearRegression()\n",
    "model.fit(X_train_small, y2_diff_train)\n",
    "X_with_intercept = sm.add_constant(X_train_small)\n",
    "ols_model = sm.OLS(y2_diff_train, X_with_intercept).fit()\n",
    "print(ols_model.summary())"
   ]
  },
  {
   "cell_type": "markdown",
   "id": "c1ea3d60-78b3-4755-8fef-f991d03ae8af",
   "metadata": {},
   "source": [
    "Here #relations, #filters, #joins and median(table rows) are significantly different from zero. (And nearly median(container count).)"
   ]
  },
  {
   "cell_type": "code",
   "execution_count": 54,
   "id": "42c01965-fdb0-481c-a566-7e47f044d181",
   "metadata": {},
   "outputs": [],
   "source": [
    "X_test_with_intercept = sm.add_constant(X_test_small)\n",
    "y2_pred_lin_reg = ols_model.predict(X_test_with_intercept)"
   ]
  },
  {
   "cell_type": "code",
   "execution_count": 55,
   "id": "19e5974d-698b-4989-89d3-9f6e79bc3fc3",
   "metadata": {},
   "outputs": [
    {
     "data": {
      "text/html": [
       "<div>\n",
       "<style scoped>\n",
       "    .dataframe tbody tr th:only-of-type {\n",
       "        vertical-align: middle;\n",
       "    }\n",
       "\n",
       "    .dataframe tbody tr th {\n",
       "        vertical-align: top;\n",
       "    }\n",
       "\n",
       "    .dataframe thead th {\n",
       "        text-align: right;\n",
       "    }\n",
       "</style>\n",
       "<table border=\"1\" class=\"dataframe\">\n",
       "  <thead>\n",
       "    <tr style=\"text-align: right;\">\n",
       "      <th></th>\n",
       "      <th>0</th>\n",
       "      <th>1</th>\n",
       "      <th>2</th>\n",
       "      <th>3</th>\n",
       "    </tr>\n",
       "  </thead>\n",
       "  <tbody>\n",
       "    <tr>\n",
       "      <th>0</th>\n",
       "      <td>-4.251814e-01</td>\n",
       "      <td>0.420070</td>\n",
       "      <td>0</td>\n",
       "      <td>1</td>\n",
       "    </tr>\n",
       "    <tr>\n",
       "      <th>1</th>\n",
       "      <td>6.922469e-01</td>\n",
       "      <td>0.419707</td>\n",
       "      <td>1</td>\n",
       "      <td>1</td>\n",
       "    </tr>\n",
       "    <tr>\n",
       "      <th>2</th>\n",
       "      <td>7.251708e-02</td>\n",
       "      <td>0.420023</td>\n",
       "      <td>1</td>\n",
       "      <td>1</td>\n",
       "    </tr>\n",
       "    <tr>\n",
       "      <th>3</th>\n",
       "      <td>2.610000e-01</td>\n",
       "      <td>0.420094</td>\n",
       "      <td>1</td>\n",
       "      <td>1</td>\n",
       "    </tr>\n",
       "    <tr>\n",
       "      <th>4</th>\n",
       "      <td>5.587050e-01</td>\n",
       "      <td>0.420130</td>\n",
       "      <td>1</td>\n",
       "      <td>1</td>\n",
       "    </tr>\n",
       "    <tr>\n",
       "      <th>5</th>\n",
       "      <td>5.587050e-01</td>\n",
       "      <td>0.420407</td>\n",
       "      <td>1</td>\n",
       "      <td>1</td>\n",
       "    </tr>\n",
       "    <tr>\n",
       "      <th>6</th>\n",
       "      <td>4.973363e-01</td>\n",
       "      <td>0.419777</td>\n",
       "      <td>1</td>\n",
       "      <td>1</td>\n",
       "    </tr>\n",
       "    <tr>\n",
       "      <th>7</th>\n",
       "      <td>2.987687e-01</td>\n",
       "      <td>0.420037</td>\n",
       "      <td>1</td>\n",
       "      <td>1</td>\n",
       "    </tr>\n",
       "    <tr>\n",
       "      <th>8</th>\n",
       "      <td>6.241650e-01</td>\n",
       "      <td>0.419881</td>\n",
       "      <td>1</td>\n",
       "      <td>1</td>\n",
       "    </tr>\n",
       "    <tr>\n",
       "      <th>9</th>\n",
       "      <td>4.605331e-01</td>\n",
       "      <td>0.419276</td>\n",
       "      <td>1</td>\n",
       "      <td>1</td>\n",
       "    </tr>\n",
       "    <tr>\n",
       "      <th>10</th>\n",
       "      <td>3.908404e-01</td>\n",
       "      <td>0.419609</td>\n",
       "      <td>1</td>\n",
       "      <td>1</td>\n",
       "    </tr>\n",
       "    <tr>\n",
       "      <th>11</th>\n",
       "      <td>2.040343e-01</td>\n",
       "      <td>0.419477</td>\n",
       "      <td>1</td>\n",
       "      <td>1</td>\n",
       "    </tr>\n",
       "    <tr>\n",
       "      <th>12</th>\n",
       "      <td>-8.996563e-02</td>\n",
       "      <td>0.419554</td>\n",
       "      <td>0</td>\n",
       "      <td>1</td>\n",
       "    </tr>\n",
       "    <tr>\n",
       "      <th>13</th>\n",
       "      <td>4.964207e-01</td>\n",
       "      <td>0.419549</td>\n",
       "      <td>1</td>\n",
       "      <td>1</td>\n",
       "    </tr>\n",
       "    <tr>\n",
       "      <th>14</th>\n",
       "      <td>1.828475e-01</td>\n",
       "      <td>0.419710</td>\n",
       "      <td>1</td>\n",
       "      <td>1</td>\n",
       "    </tr>\n",
       "    <tr>\n",
       "      <th>15</th>\n",
       "      <td>-1.133302e-01</td>\n",
       "      <td>0.419593</td>\n",
       "      <td>0</td>\n",
       "      <td>1</td>\n",
       "    </tr>\n",
       "    <tr>\n",
       "      <th>16</th>\n",
       "      <td>9.807184e-02</td>\n",
       "      <td>0.419199</td>\n",
       "      <td>1</td>\n",
       "      <td>1</td>\n",
       "    </tr>\n",
       "    <tr>\n",
       "      <th>17</th>\n",
       "      <td>3.856921e-01</td>\n",
       "      <td>0.419529</td>\n",
       "      <td>1</td>\n",
       "      <td>1</td>\n",
       "    </tr>\n",
       "    <tr>\n",
       "      <th>18</th>\n",
       "      <td>5.773776e-01</td>\n",
       "      <td>0.418832</td>\n",
       "      <td>1</td>\n",
       "      <td>1</td>\n",
       "    </tr>\n",
       "    <tr>\n",
       "      <th>19</th>\n",
       "      <td>3.981650e-01</td>\n",
       "      <td>0.419233</td>\n",
       "      <td>1</td>\n",
       "      <td>1</td>\n",
       "    </tr>\n",
       "    <tr>\n",
       "      <th>20</th>\n",
       "      <td>3.347465e-01</td>\n",
       "      <td>0.375450</td>\n",
       "      <td>1</td>\n",
       "      <td>1</td>\n",
       "    </tr>\n",
       "    <tr>\n",
       "      <th>21</th>\n",
       "      <td>1.291184e-01</td>\n",
       "      <td>0.371091</td>\n",
       "      <td>1</td>\n",
       "      <td>1</td>\n",
       "    </tr>\n",
       "    <tr>\n",
       "      <th>22</th>\n",
       "      <td>-3.562629e-01</td>\n",
       "      <td>0.338910</td>\n",
       "      <td>0</td>\n",
       "      <td>1</td>\n",
       "    </tr>\n",
       "    <tr>\n",
       "      <th>23</th>\n",
       "      <td>-9.940312e-02</td>\n",
       "      <td>0.303037</td>\n",
       "      <td>0</td>\n",
       "      <td>1</td>\n",
       "    </tr>\n",
       "    <tr>\n",
       "      <th>24</th>\n",
       "      <td>-1.125020e-01</td>\n",
       "      <td>0.165930</td>\n",
       "      <td>0</td>\n",
       "      <td>1</td>\n",
       "    </tr>\n",
       "    <tr>\n",
       "      <th>25</th>\n",
       "      <td>1.288396e-01</td>\n",
       "      <td>-2.567394</td>\n",
       "      <td>1</td>\n",
       "      <td>0</td>\n",
       "    </tr>\n",
       "    <tr>\n",
       "      <th>26</th>\n",
       "      <td>3.388547e-01</td>\n",
       "      <td>-2.567445</td>\n",
       "      <td>1</td>\n",
       "      <td>0</td>\n",
       "    </tr>\n",
       "    <tr>\n",
       "      <th>27</th>\n",
       "      <td>5.928478e-01</td>\n",
       "      <td>-2.567217</td>\n",
       "      <td>1</td>\n",
       "      <td>0</td>\n",
       "    </tr>\n",
       "    <tr>\n",
       "      <th>28</th>\n",
       "      <td>9.741544e-02</td>\n",
       "      <td>0.417710</td>\n",
       "      <td>1</td>\n",
       "      <td>1</td>\n",
       "    </tr>\n",
       "    <tr>\n",
       "      <th>29</th>\n",
       "      <td>-3.006634e+00</td>\n",
       "      <td>-2.444716</td>\n",
       "      <td>0</td>\n",
       "      <td>0</td>\n",
       "    </tr>\n",
       "    <tr>\n",
       "      <th>30</th>\n",
       "      <td>5.656114e+01</td>\n",
       "      <td>-2.411725</td>\n",
       "      <td>1</td>\n",
       "      <td>0</td>\n",
       "    </tr>\n",
       "    <tr>\n",
       "      <th>31</th>\n",
       "      <td>1.057054e+04</td>\n",
       "      <td>-2.373906</td>\n",
       "      <td>1</td>\n",
       "      <td>0</td>\n",
       "    </tr>\n",
       "    <tr>\n",
       "      <th>32</th>\n",
       "      <td>1.837386e+06</td>\n",
       "      <td>-2.337319</td>\n",
       "      <td>1</td>\n",
       "      <td>0</td>\n",
       "    </tr>\n",
       "    <tr>\n",
       "      <th>33</th>\n",
       "      <td>3.192309e+08</td>\n",
       "      <td>-2.301304</td>\n",
       "      <td>1</td>\n",
       "      <td>0</td>\n",
       "    </tr>\n",
       "    <tr>\n",
       "      <th>34</th>\n",
       "      <td>-2.984984e+00</td>\n",
       "      <td>-2.469837</td>\n",
       "      <td>0</td>\n",
       "      <td>0</td>\n",
       "    </tr>\n",
       "    <tr>\n",
       "      <th>35</th>\n",
       "      <td>5.665332e+01</td>\n",
       "      <td>-2.443337</td>\n",
       "      <td>1</td>\n",
       "      <td>0</td>\n",
       "    </tr>\n",
       "    <tr>\n",
       "      <th>36</th>\n",
       "      <td>1.837393e+06</td>\n",
       "      <td>-2.369774</td>\n",
       "      <td>1</td>\n",
       "      <td>0</td>\n",
       "    </tr>\n",
       "    <tr>\n",
       "      <th>37</th>\n",
       "      <td>1.703790e-01</td>\n",
       "      <td>0.419706</td>\n",
       "      <td>1</td>\n",
       "      <td>1</td>\n",
       "    </tr>\n",
       "    <tr>\n",
       "      <th>38</th>\n",
       "      <td>6.838323e-01</td>\n",
       "      <td>0.511082</td>\n",
       "      <td>1</td>\n",
       "      <td>1</td>\n",
       "    </tr>\n",
       "    <tr>\n",
       "      <th>39</th>\n",
       "      <td>8.285765e-01</td>\n",
       "      <td>0.420402</td>\n",
       "      <td>1</td>\n",
       "      <td>1</td>\n",
       "    </tr>\n",
       "    <tr>\n",
       "      <th>40</th>\n",
       "      <td>1.614185e+02</td>\n",
       "      <td>-2.554853</td>\n",
       "      <td>1</td>\n",
       "      <td>0</td>\n",
       "    </tr>\n",
       "  </tbody>\n",
       "</table>\n",
       "</div>"
      ],
      "text/plain": [
       "               0         1  2  3\n",
       "0  -4.251814e-01  0.420070  0  1\n",
       "1   6.922469e-01  0.419707  1  1\n",
       "2   7.251708e-02  0.420023  1  1\n",
       "3   2.610000e-01  0.420094  1  1\n",
       "4   5.587050e-01  0.420130  1  1\n",
       "5   5.587050e-01  0.420407  1  1\n",
       "6   4.973363e-01  0.419777  1  1\n",
       "7   2.987687e-01  0.420037  1  1\n",
       "8   6.241650e-01  0.419881  1  1\n",
       "9   4.605331e-01  0.419276  1  1\n",
       "10  3.908404e-01  0.419609  1  1\n",
       "11  2.040343e-01  0.419477  1  1\n",
       "12 -8.996563e-02  0.419554  0  1\n",
       "13  4.964207e-01  0.419549  1  1\n",
       "14  1.828475e-01  0.419710  1  1\n",
       "15 -1.133302e-01  0.419593  0  1\n",
       "16  9.807184e-02  0.419199  1  1\n",
       "17  3.856921e-01  0.419529  1  1\n",
       "18  5.773776e-01  0.418832  1  1\n",
       "19  3.981650e-01  0.419233  1  1\n",
       "20  3.347465e-01  0.375450  1  1\n",
       "21  1.291184e-01  0.371091  1  1\n",
       "22 -3.562629e-01  0.338910  0  1\n",
       "23 -9.940312e-02  0.303037  0  1\n",
       "24 -1.125020e-01  0.165930  0  1\n",
       "25  1.288396e-01 -2.567394  1  0\n",
       "26  3.388547e-01 -2.567445  1  0\n",
       "27  5.928478e-01 -2.567217  1  0\n",
       "28  9.741544e-02  0.417710  1  1\n",
       "29 -3.006634e+00 -2.444716  0  0\n",
       "30  5.656114e+01 -2.411725  1  0\n",
       "31  1.057054e+04 -2.373906  1  0\n",
       "32  1.837386e+06 -2.337319  1  0\n",
       "33  3.192309e+08 -2.301304  1  0\n",
       "34 -2.984984e+00 -2.469837  0  0\n",
       "35  5.665332e+01 -2.443337  1  0\n",
       "36  1.837393e+06 -2.369774  1  0\n",
       "37  1.703790e-01  0.419706  1  1\n",
       "38  6.838323e-01  0.511082  1  1\n",
       "39  8.285765e-01  0.420402  1  1\n",
       "40  1.614185e+02 -2.554853  1  0"
      ]
     },
     "execution_count": 55,
     "metadata": {},
     "output_type": "execute_result"
    }
   ],
   "source": [
    "y2_pred_lin_reg_dec = y2_pred_lin_reg.apply(lambda x: 1 if x >= 0 else 0)\n",
    "y2_diff_test_dec = y2_diff_test.apply(lambda x: 1 if x >= 0 else 0)\n",
    "pd.concat([y2_pred_lin_reg, y2_diff_test, y2_pred_lin_reg_dec, y2_diff_test_dec], axis = 1)"
   ]
  },
  {
   "cell_type": "code",
   "execution_count": 56,
   "id": "734eaf43-259b-430c-b3e5-4b914faff1f0",
   "metadata": {},
   "outputs": [
    {
     "data": {
      "text/plain": [
       "2485733891880008.0"
      ]
     },
     "execution_count": 56,
     "metadata": {},
     "output_type": "execute_result"
    }
   ],
   "source": [
    "mse = mean_squared_error(y2_diff_test, y2_pred_lin_reg)\n",
    "mse"
   ]
  },
  {
   "cell_type": "code",
   "execution_count": 57,
   "id": "76cdae33-2f39-4f38-a487-5cb5a60e6b56",
   "metadata": {},
   "outputs": [
    {
     "data": {
      "text/plain": [
       "0.6097560975609756"
      ]
     },
     "execution_count": 57,
     "metadata": {},
     "output_type": "execute_result"
    }
   ],
   "source": [
    "accuracy = accuracy_score(y2_diff_test_dec, y2_pred_lin_reg_dec)\n",
    "accuracy"
   ]
  },
  {
   "cell_type": "code",
   "execution_count": 58,
   "id": "aff76d17-d6d1-46af-ba86-8d0f8a8afbc5",
   "metadata": {},
   "outputs": [
    {
     "data": {
      "text/plain": [
       "array([[ 2, 10],\n",
       "       [ 6, 23]])"
      ]
     },
     "execution_count": 58,
     "metadata": {},
     "output_type": "execute_result"
    }
   ],
   "source": [
    "conf_matrix = confusion_matrix(y2_diff_test_dec, y2_pred_lin_reg_dec)\n",
    "conf_matrix"
   ]
  },
  {
   "cell_type": "markdown",
   "id": "c4cfda39-1c5f-47fd-a296-92d69a3e608e",
   "metadata": {},
   "source": [
    "### Ridge Regression"
   ]
  },
  {
   "cell_type": "markdown",
   "id": "67b5d915-5d21-481d-8e20-f9ce77442cac",
   "metadata": {},
   "source": [
    "alpha = 1"
   ]
  },
  {
   "cell_type": "code",
   "execution_count": 59,
   "id": "a2cce007-4a33-4640-8460-cb0782744ee2",
   "metadata": {},
   "outputs": [],
   "source": [
    "ridge = Ridge(alpha=1.0)\n",
    "ridge.fit(X_train_small, y2_diff_train)\n",
    "y2_pred_ridge_reg = ridge.predict(X_test_small)"
   ]
  },
  {
   "cell_type": "code",
   "execution_count": 60,
   "id": "2474f182-11e3-4e9b-b559-c6392e9115af",
   "metadata": {},
   "outputs": [
    {
     "data": {
      "text/plain": [
       "2221885234197975.0"
      ]
     },
     "execution_count": 60,
     "metadata": {},
     "output_type": "execute_result"
    }
   ],
   "source": [
    "mse = mean_squared_error(y2_diff_test, y2_pred_ridge_reg)\n",
    "mse"
   ]
  },
  {
   "cell_type": "code",
   "execution_count": 61,
   "id": "806d0b41-0494-49bc-a03e-90b5d1b14333",
   "metadata": {},
   "outputs": [],
   "source": [
    "y2_pred_ridge_reg_dec = pd.Series(y2_pred_ridge_reg).apply(lambda x: 1 if x >= 0 else 0)"
   ]
  },
  {
   "cell_type": "code",
   "execution_count": 62,
   "id": "4aafe380-5563-42ef-a885-92e2936c30e9",
   "metadata": {},
   "outputs": [
    {
     "data": {
      "text/plain": [
       "0.6097560975609756"
      ]
     },
     "execution_count": 62,
     "metadata": {},
     "output_type": "execute_result"
    }
   ],
   "source": [
    "accuracy = accuracy_score(y2_diff_test_dec, y2_pred_ridge_reg_dec)\n",
    "accuracy"
   ]
  },
  {
   "cell_type": "code",
   "execution_count": 63,
   "id": "d5a6dd39-9925-42c3-818a-c926af9aa3f1",
   "metadata": {},
   "outputs": [
    {
     "data": {
      "text/plain": [
       "array([[ 2, 10],\n",
       "       [ 6, 23]])"
      ]
     },
     "execution_count": 63,
     "metadata": {},
     "output_type": "execute_result"
    }
   ],
   "source": [
    "conf_matrix = confusion_matrix(y2_diff_test_dec, y2_pred_ridge_reg_dec)\n",
    "conf_matrix"
   ]
  },
  {
   "cell_type": "markdown",
   "id": "28b8d00d-3822-4799-87fd-a3af31433705",
   "metadata": {},
   "source": [
    "alpha = 0.1"
   ]
  },
  {
   "cell_type": "code",
   "execution_count": 64,
   "id": "2ec69a80-a13e-4c30-975c-b47719266859",
   "metadata": {},
   "outputs": [],
   "source": [
    "ridge = Ridge(alpha=0.1)\n",
    "ridge.fit(X_train_small, y2_diff_train)\n",
    "y2_pred_ridge_reg = ridge.predict(X_test_small)"
   ]
  },
  {
   "cell_type": "code",
   "execution_count": 65,
   "id": "88998128-46a1-4ad5-889a-3a2a0f209ac3",
   "metadata": {},
   "outputs": [
    {
     "data": {
      "text/plain": [
       "2469561407842980.5"
      ]
     },
     "execution_count": 65,
     "metadata": {},
     "output_type": "execute_result"
    }
   ],
   "source": [
    "mse = mean_squared_error(y2_diff_test, y2_pred_ridge_reg)\n",
    "mse"
   ]
  },
  {
   "cell_type": "code",
   "execution_count": 66,
   "id": "eda92d27-a62c-4611-b84a-a96899177833",
   "metadata": {},
   "outputs": [],
   "source": [
    "y2_pred_ridge_reg_dec = pd.Series(y2_pred_ridge_reg).apply(lambda x: 1 if x >= 0 else 0)"
   ]
  },
  {
   "cell_type": "code",
   "execution_count": 67,
   "id": "e15f4a66-54ec-4e66-b22f-350c00a3bdb0",
   "metadata": {},
   "outputs": [
    {
     "data": {
      "text/plain": [
       "0.6097560975609756"
      ]
     },
     "execution_count": 67,
     "metadata": {},
     "output_type": "execute_result"
    }
   ],
   "source": [
    "accuracy = accuracy_score(y2_diff_test_dec, y2_pred_ridge_reg_dec)\n",
    "accuracy"
   ]
  },
  {
   "cell_type": "code",
   "execution_count": 68,
   "id": "7a99bec9-9207-41d8-8067-e1696479dc66",
   "metadata": {},
   "outputs": [
    {
     "data": {
      "text/plain": [
       "array([[ 2, 10],\n",
       "       [ 6, 23]])"
      ]
     },
     "execution_count": 68,
     "metadata": {},
     "output_type": "execute_result"
    }
   ],
   "source": [
    "conf_matrix = confusion_matrix(y2_diff_test_dec, y2_pred_ridge_reg_dec)\n",
    "conf_matrix"
   ]
  },
  {
   "cell_type": "markdown",
   "id": "b203d057-d337-4e66-aa21-1229dea4a2ac",
   "metadata": {},
   "source": [
    "alpha = 10"
   ]
  },
  {
   "cell_type": "code",
   "execution_count": 69,
   "id": "380d7648-3414-4307-a7c3-0cdb991c0f00",
   "metadata": {},
   "outputs": [],
   "source": [
    "ridge = Ridge(alpha=10)\n",
    "ridge.fit(X_train_small, y2_diff_train)\n",
    "y2_pred_ridge_reg = ridge.predict(X_test_small)"
   ]
  },
  {
   "cell_type": "code",
   "execution_count": 70,
   "id": "ab01fbde-0b3c-49eb-a749-bddc51ceec68",
   "metadata": {},
   "outputs": [
    {
     "data": {
      "text/plain": [
       "114165505160910.17"
      ]
     },
     "execution_count": 70,
     "metadata": {},
     "output_type": "execute_result"
    }
   ],
   "source": [
    "mse = mean_squared_error(y2_diff_test, y2_pred_ridge_reg)\n",
    "mse"
   ]
  },
  {
   "cell_type": "code",
   "execution_count": 71,
   "id": "22fc10d2-49b7-4891-9e04-31e32dd14477",
   "metadata": {},
   "outputs": [],
   "source": [
    "y2_pred_ridge_reg_dec = pd.Series(y2_pred_ridge_reg).apply(lambda x: 1 if x >= 0 else 0)"
   ]
  },
  {
   "cell_type": "code",
   "execution_count": 72,
   "id": "d1178db2-0df0-4f83-8f37-f91b6ba958da",
   "metadata": {},
   "outputs": [
    {
     "data": {
      "text/plain": [
       "0.5853658536585366"
      ]
     },
     "execution_count": 72,
     "metadata": {},
     "output_type": "execute_result"
    }
   ],
   "source": [
    "accuracy = accuracy_score(y2_diff_test_dec, y2_pred_ridge_reg_dec)\n",
    "accuracy"
   ]
  },
  {
   "cell_type": "code",
   "execution_count": 73,
   "id": "f886f701-a56b-4632-8f2a-298ef10c952d",
   "metadata": {},
   "outputs": [
    {
     "data": {
      "text/plain": [
       "array([[ 2, 10],\n",
       "       [ 7, 22]])"
      ]
     },
     "execution_count": 73,
     "metadata": {},
     "output_type": "execute_result"
    }
   ],
   "source": [
    "conf_matrix = confusion_matrix(y2_diff_test_dec, y2_pred_ridge_reg_dec)\n",
    "conf_matrix"
   ]
  },
  {
   "cell_type": "markdown",
   "id": "35688188-24c3-4b13-b7e6-5d058082c829",
   "metadata": {},
   "source": [
    "### Lasso Regression"
   ]
  },
  {
   "cell_type": "markdown",
   "id": "5c05597d-157e-4b0d-ab80-c52d1f5cbbb2",
   "metadata": {},
   "source": [
    "alpha = 1"
   ]
  },
  {
   "cell_type": "code",
   "execution_count": 74,
   "id": "ad4992d8-f88d-41ca-86d8-f76026c03d70",
   "metadata": {},
   "outputs": [],
   "source": [
    "lasso = Lasso(alpha=1.0) \n",
    "lasso.fit(X_train_small, y2_diff_train)\n",
    "y2_pred_lasso_reg = lasso.predict(X_test_small)"
   ]
  },
  {
   "cell_type": "code",
   "execution_count": 75,
   "id": "130fa9a9-49a6-40fc-8620-8532d70b17bb",
   "metadata": {},
   "outputs": [
    {
     "name": "stdout",
     "output_type": "stream",
     "text": [
      "#relations: -0.0\n",
      "#conditions: 0.0\n",
      "#filters: 0.0\n",
      "#joins: -0.0\n",
      "total cost: -0.0\n",
      "median(table rows): -0.0\n",
      "median(join rows): -0.0\n",
      "depth: -0.0\n",
      "median(container counts): 0.0\n",
      "median(branching factors): 0.0\n",
      "balancedness factor: -0.0\n"
     ]
    }
   ],
   "source": [
    "coefficients = lasso.coef_\n",
    "feature_names = X_train_small.columns\n",
    "for feature, coef in zip(feature_names, coefficients):\n",
    "    print(f\"{feature}: {coef}\")"
   ]
  },
  {
   "cell_type": "code",
   "execution_count": 76,
   "id": "3f3debb9-94b9-4bbd-b12b-fdd839ca4a8c",
   "metadata": {},
   "outputs": [
    {
     "data": {
      "text/plain": [
       "1.8780170789693673"
      ]
     },
     "execution_count": 76,
     "metadata": {},
     "output_type": "execute_result"
    }
   ],
   "source": [
    "mse = mean_squared_error(y2_diff_test, y2_pred_lasso_reg)\n",
    "mse"
   ]
  },
  {
   "cell_type": "code",
   "execution_count": 77,
   "id": "4d4a49d3-cdda-46b4-b5ae-f566d9eba0d6",
   "metadata": {},
   "outputs": [],
   "source": [
    "y2_pred_lasso_reg_dec = pd.Series(y2_pred_lasso_reg).apply(lambda x: 1 if x >= 0 else 0)"
   ]
  },
  {
   "cell_type": "code",
   "execution_count": 78,
   "id": "07a912b9-1ab2-4b63-b7d0-82c210b6fee6",
   "metadata": {},
   "outputs": [
    {
     "data": {
      "text/plain": [
       "0.7073170731707317"
      ]
     },
     "execution_count": 78,
     "metadata": {},
     "output_type": "execute_result"
    }
   ],
   "source": [
    "accuracy = accuracy_score(y2_diff_test_dec, y2_pred_lasso_reg_dec)\n",
    "accuracy"
   ]
  },
  {
   "cell_type": "code",
   "execution_count": 79,
   "id": "cbfac059-e41f-450d-b573-c66eff698537",
   "metadata": {},
   "outputs": [
    {
     "data": {
      "text/plain": [
       "array([[ 0, 12],\n",
       "       [ 0, 29]])"
      ]
     },
     "execution_count": 79,
     "metadata": {},
     "output_type": "execute_result"
    }
   ],
   "source": [
    "conf_matrix = confusion_matrix(y2_diff_test_dec, y2_pred_lasso_reg_dec)\n",
    "conf_matrix"
   ]
  },
  {
   "cell_type": "markdown",
   "id": "474de9a6-33f2-417f-a409-aff7786b701d",
   "metadata": {},
   "source": [
    "alpha = 0.1"
   ]
  },
  {
   "cell_type": "code",
   "execution_count": 80,
   "id": "607a7d6f-2860-4b9c-8b15-65f02913b9c9",
   "metadata": {},
   "outputs": [],
   "source": [
    "lasso = Lasso(alpha=0.1) \n",
    "lasso.fit(X_train_small, y2_diff_train)\n",
    "y2_pred_lasso_reg = lasso.predict(X_test_small)"
   ]
  },
  {
   "cell_type": "code",
   "execution_count": 81,
   "id": "ce407cea-08ac-4ace-850e-25500a597c30",
   "metadata": {},
   "outputs": [
    {
     "name": "stdout",
     "output_type": "stream",
     "text": [
      "#relations: -0.2911695287187925\n",
      "#conditions: 0.0\n",
      "#filters: 0.35552149815658446\n",
      "#joins: -0.0\n",
      "total cost: -0.0\n",
      "median(table rows): -0.2174725244736192\n",
      "median(join rows): -0.0\n",
      "depth: -0.11155511476618896\n",
      "median(container counts): 0.0\n",
      "median(branching factors): -0.0\n",
      "balancedness factor: 0.0\n"
     ]
    }
   ],
   "source": [
    "coefficients = lasso.coef_\n",
    "feature_names = X_train_small.columns\n",
    "for feature, coef in zip(feature_names, coefficients):\n",
    "    print(f\"{feature}: {coef}\")"
   ]
  },
  {
   "cell_type": "code",
   "execution_count": 82,
   "id": "eed7cc9f-2def-4fac-a6bf-d7deb8f7a431",
   "metadata": {},
   "outputs": [
    {
     "data": {
      "text/plain": [
       "0.8928920260180396"
      ]
     },
     "execution_count": 82,
     "metadata": {},
     "output_type": "execute_result"
    }
   ],
   "source": [
    "mse = mean_squared_error(y2_diff_test, y2_pred_lasso_reg)\n",
    "mse"
   ]
  },
  {
   "cell_type": "code",
   "execution_count": 83,
   "id": "a2005b47-479b-40d0-8cfb-c9641d859b0e",
   "metadata": {},
   "outputs": [],
   "source": [
    "y2_pred_lasso_reg_dec = pd.Series(y2_pred_lasso_reg).apply(lambda x: 1 if x >= 0 else 0)"
   ]
  },
  {
   "cell_type": "code",
   "execution_count": 84,
   "id": "aa6b0ba3-b48f-47a9-8744-850641f1be20",
   "metadata": {},
   "outputs": [
    {
     "data": {
      "text/plain": [
       "0.7073170731707317"
      ]
     },
     "execution_count": 84,
     "metadata": {},
     "output_type": "execute_result"
    }
   ],
   "source": [
    "accuracy = accuracy_score(y2_diff_test_dec, y2_pred_lasso_reg_dec)\n",
    "accuracy"
   ]
  },
  {
   "cell_type": "code",
   "execution_count": 85,
   "id": "a24f72f0-9594-4596-83a9-4ab096dee2db",
   "metadata": {},
   "outputs": [
    {
     "data": {
      "text/plain": [
       "array([[ 9,  3],\n",
       "       [ 9, 20]])"
      ]
     },
     "execution_count": 85,
     "metadata": {},
     "output_type": "execute_result"
    }
   ],
   "source": [
    "conf_matrix = confusion_matrix(y2_diff_test_dec, y2_pred_lasso_reg_dec)\n",
    "conf_matrix"
   ]
  },
  {
   "cell_type": "markdown",
   "id": "5d545a00-a753-4433-86b9-5723d8bf3d9b",
   "metadata": {},
   "source": [
    "alpha = 0.01"
   ]
  },
  {
   "cell_type": "code",
   "execution_count": 86,
   "id": "96fcac5f-2916-4772-9dc9-9dfce583afea",
   "metadata": {},
   "outputs": [],
   "source": [
    "lasso = Lasso(alpha=0.01) \n",
    "lasso.fit(X_train_small, y2_diff_train)\n",
    "y2_pred_lasso_reg = lasso.predict(X_test_small)"
   ]
  },
  {
   "cell_type": "code",
   "execution_count": 87,
   "id": "619bbc01-d311-46ab-9c4c-952bc9353cd0",
   "metadata": {},
   "outputs": [
    {
     "name": "stdout",
     "output_type": "stream",
     "text": [
      "#relations: -0.7717647486184857\n",
      "#conditions: 0.04016105592538272\n",
      "#filters: 0.3590349484115278\n",
      "#joins: 0.3914512245609261\n",
      "total cost: 0.0\n",
      "median(table rows): -0.26081691996121537\n",
      "median(join rows): -0.024917861360271958\n",
      "depth: -0.1325627265047114\n",
      "median(container counts): 0.0\n",
      "median(branching factors): 0.007440137251322765\n",
      "balancedness factor: 0.03606312869918342\n"
     ]
    }
   ],
   "source": [
    "coefficients = lasso.coef_\n",
    "feature_names = X_train_small.columns\n",
    "for feature, coef in zip(feature_names, coefficients):\n",
    "    print(f\"{feature}: {coef}\")"
   ]
  },
  {
   "cell_type": "code",
   "execution_count": 88,
   "id": "4a79e155-363d-4caf-a35a-e1d242a76b7b",
   "metadata": {},
   "outputs": [
    {
     "data": {
      "text/plain": [
       "1.2884586065673962"
      ]
     },
     "execution_count": 88,
     "metadata": {},
     "output_type": "execute_result"
    }
   ],
   "source": [
    "mse = mean_squared_error(y2_diff_test, y2_pred_lasso_reg)\n",
    "mse"
   ]
  },
  {
   "cell_type": "code",
   "execution_count": 89,
   "id": "8d451d30-aa8c-4987-b942-cf6bf9f50bea",
   "metadata": {},
   "outputs": [],
   "source": [
    "y2_pred_lasso_reg_dec = pd.Series(y2_pred_lasso_reg).apply(lambda x: 1 if x >= 0 else 0)"
   ]
  },
  {
   "cell_type": "code",
   "execution_count": 90,
   "id": "63c908bf-f2da-4ad4-870a-e1bb819e7653",
   "metadata": {},
   "outputs": [
    {
     "data": {
      "text/plain": [
       "0.7804878048780488"
      ]
     },
     "execution_count": 90,
     "metadata": {},
     "output_type": "execute_result"
    }
   ],
   "source": [
    "accuracy = accuracy_score(y2_diff_test_dec, y2_pred_lasso_reg_dec)\n",
    "accuracy"
   ]
  },
  {
   "cell_type": "code",
   "execution_count": 91,
   "id": "ce29e56e-a94e-4da2-ab0d-a01d47a15407",
   "metadata": {},
   "outputs": [
    {
     "data": {
      "text/plain": [
       "array([[ 9,  3],\n",
       "       [ 6, 23]])"
      ]
     },
     "execution_count": 91,
     "metadata": {},
     "output_type": "execute_result"
    }
   ],
   "source": [
    "conf_matrix = confusion_matrix(y2_diff_test_dec, y2_pred_lasso_reg_dec)\n",
    "conf_matrix"
   ]
  },
  {
   "cell_type": "markdown",
   "id": "15892eff-cf14-40c7-a0ff-c29389d7656d",
   "metadata": {},
   "source": [
    "alpha = 0.0001"
   ]
  },
  {
   "cell_type": "code",
   "execution_count": 92,
   "id": "0aa9f966-7b92-4242-ac5c-98253257493e",
   "metadata": {},
   "outputs": [],
   "source": [
    "lasso = Lasso(alpha=0.0001) \n",
    "lasso.fit(X_train_small, y2_diff_train)\n",
    "y2_pred_lasso_reg = lasso.predict(X_test_small)"
   ]
  },
  {
   "cell_type": "code",
   "execution_count": 93,
   "id": "e95680ee-ae1f-4a81-9243-238824faea1d",
   "metadata": {},
   "outputs": [
    {
     "name": "stdout",
     "output_type": "stream",
     "text": [
      "#relations: -1.3503667505441093\n",
      "#conditions: 0.10024903586890029\n",
      "#filters: 0.29127754606455686\n",
      "#joins: 0.8111547735674018\n",
      "total cost: 0.015252049311972694\n",
      "median(table rows): -0.2550126826891377\n",
      "median(join rows): -0.04539690957121025\n",
      "depth: -0.018860777108173202\n",
      "median(container counts): 0.0\n",
      "median(branching factors): 0.1502281017469594\n",
      "balancedness factor: 0.0590155124845305\n"
     ]
    }
   ],
   "source": [
    "coefficients = lasso.coef_\n",
    "feature_names = X_train_small.columns\n",
    "for feature, coef in zip(feature_names, coefficients):\n",
    "    print(f\"{feature}: {coef}\")"
   ]
  },
  {
   "cell_type": "code",
   "execution_count": 94,
   "id": "533d5b9b-fdd3-41b3-9258-aa803c11d01b",
   "metadata": {},
   "outputs": [
    {
     "data": {
      "text/plain": [
       "2427425282499479.5"
      ]
     },
     "execution_count": 94,
     "metadata": {},
     "output_type": "execute_result"
    }
   ],
   "source": [
    "mse = mean_squared_error(y2_diff_test, y2_pred_lasso_reg)\n",
    "mse"
   ]
  },
  {
   "cell_type": "code",
   "execution_count": 95,
   "id": "2672195e-07e1-48f5-9eef-b3a817960c40",
   "metadata": {},
   "outputs": [],
   "source": [
    "y2_pred_lasso_reg_dec = pd.Series(y2_pred_lasso_reg).apply(lambda x: 1 if x >= 0 else 0)"
   ]
  },
  {
   "cell_type": "code",
   "execution_count": 96,
   "id": "7e7f8180-bde3-4b93-944d-40b7eb627aef",
   "metadata": {},
   "outputs": [
    {
     "data": {
      "text/plain": [
       "0.6097560975609756"
      ]
     },
     "execution_count": 96,
     "metadata": {},
     "output_type": "execute_result"
    }
   ],
   "source": [
    "accuracy = accuracy_score(y2_diff_test_dec, y2_pred_lasso_reg_dec)\n",
    "accuracy"
   ]
  },
  {
   "cell_type": "code",
   "execution_count": 97,
   "id": "db2092cd-c31d-4541-9e65-4dfa3907bcb3",
   "metadata": {},
   "outputs": [
    {
     "data": {
      "text/plain": [
       "array([[ 2, 10],\n",
       "       [ 6, 23]])"
      ]
     },
     "execution_count": 97,
     "metadata": {},
     "output_type": "execute_result"
    }
   ],
   "source": [
    "conf_matrix = confusion_matrix(y2_diff_test_dec, y2_pred_lasso_reg_dec)\n",
    "conf_matrix"
   ]
  },
  {
   "cell_type": "markdown",
   "id": "2d976609-eba0-4b33-af3b-abea8b8c77f2",
   "metadata": {},
   "source": [
    "alpha = 0.00001"
   ]
  },
  {
   "cell_type": "code",
   "execution_count": 98,
   "id": "e7c0dcdf-a642-446b-9909-945cb6c5d028",
   "metadata": {},
   "outputs": [],
   "source": [
    "lasso = Lasso(alpha=0.00001) \n",
    "lasso.fit(X_train_small, y2_diff_train)\n",
    "y2_pred_lasso_reg = lasso.predict(X_test_small)"
   ]
  },
  {
   "cell_type": "code",
   "execution_count": 99,
   "id": "4a589530-27b3-421c-b7bb-dd68d86f670c",
   "metadata": {},
   "outputs": [
    {
     "name": "stdout",
     "output_type": "stream",
     "text": [
      "#relations: -1.3556719276319524\n",
      "#conditions: 0.10079867344465449\n",
      "#filters: 0.2906558962713818\n",
      "#joins: 0.8150013548120358\n",
      "total cost: 0.015415936278793658\n",
      "median(table rows): -0.25496419438981505\n",
      "median(join rows): -0.045581584491641625\n",
      "depth: -0.017824924212891342\n",
      "median(container counts): 0.0\n",
      "median(branching factors): 0.15153574124472913\n",
      "balancedness factor: 0.05922634724808835\n"
     ]
    }
   ],
   "source": [
    "coefficients = lasso.coef_\n",
    "feature_names = X_train_small.columns\n",
    "for feature, coef in zip(feature_names, coefficients):\n",
    "    print(f\"{feature}: {coef}\")"
   ]
  },
  {
   "cell_type": "code",
   "execution_count": 100,
   "id": "f1a85f04-a57b-40e0-a6ab-95060b321925",
   "metadata": {},
   "outputs": [
    {
     "data": {
      "text/plain": [
       "2479872100076132.0"
      ]
     },
     "execution_count": 100,
     "metadata": {},
     "output_type": "execute_result"
    }
   ],
   "source": [
    "mse = mean_squared_error(y2_diff_test, y2_pred_lasso_reg)\n",
    "mse"
   ]
  },
  {
   "cell_type": "code",
   "execution_count": 101,
   "id": "e86e3eb7-c0dd-4f12-8ff7-d1efae7d26c5",
   "metadata": {},
   "outputs": [],
   "source": [
    "y2_pred_lasso_reg_dec = pd.Series(y2_pred_lasso_reg).apply(lambda x: 1 if x >= 0 else 0)"
   ]
  },
  {
   "cell_type": "code",
   "execution_count": 102,
   "id": "62ad374a-20c8-4beb-ad74-d9a4b658d035",
   "metadata": {},
   "outputs": [
    {
     "data": {
      "text/plain": [
       "0.6097560975609756"
      ]
     },
     "execution_count": 102,
     "metadata": {},
     "output_type": "execute_result"
    }
   ],
   "source": [
    "accuracy = accuracy_score(y2_diff_test_dec, y2_pred_lasso_reg_dec)\n",
    "accuracy"
   ]
  },
  {
   "cell_type": "code",
   "execution_count": 103,
   "id": "e1e65479-06a2-4ed9-9c84-c49b0e4b0253",
   "metadata": {},
   "outputs": [
    {
     "data": {
      "text/plain": [
       "array([[ 2, 10],\n",
       "       [ 6, 23]])"
      ]
     },
     "execution_count": 103,
     "metadata": {},
     "output_type": "execute_result"
    }
   ],
   "source": [
    "conf_matrix = confusion_matrix(y2_diff_test_dec, y2_pred_lasso_reg_dec)\n",
    "conf_matrix"
   ]
  },
  {
   "cell_type": "markdown",
   "id": "7357dd88-689f-4a42-b1b0-e0303510bc32",
   "metadata": {},
   "source": [
    "alpha = 10"
   ]
  },
  {
   "cell_type": "code",
   "execution_count": 104,
   "id": "95c010ce-5c3b-418b-b28f-755ac794849f",
   "metadata": {},
   "outputs": [],
   "source": [
    "lasso = Lasso(alpha=10.0) \n",
    "lasso.fit(X_train_small, y2_diff_train)\n",
    "y2_pred_lasso_reg = lasso.predict(X_test_small)"
   ]
  },
  {
   "cell_type": "code",
   "execution_count": 105,
   "id": "13f94123-b776-4602-ae33-70ca27d33609",
   "metadata": {},
   "outputs": [
    {
     "name": "stdout",
     "output_type": "stream",
     "text": [
      "#relations: -0.0\n",
      "#conditions: 0.0\n",
      "#filters: 0.0\n",
      "#joins: -0.0\n",
      "total cost: -0.0\n",
      "median(table rows): -0.0\n",
      "median(join rows): -0.0\n",
      "depth: -0.0\n",
      "median(container counts): 0.0\n",
      "median(branching factors): 0.0\n",
      "balancedness factor: -0.0\n"
     ]
    }
   ],
   "source": [
    "coefficients = lasso.coef_\n",
    "feature_names = X_train_small.columns\n",
    "for feature, coef in zip(feature_names, coefficients):\n",
    "    print(f\"{feature}: {coef}\")"
   ]
  },
  {
   "cell_type": "code",
   "execution_count": 106,
   "id": "6f212571-d247-41f9-a611-1d4dc88937a7",
   "metadata": {},
   "outputs": [
    {
     "data": {
      "text/plain": [
       "1.8780170789693673"
      ]
     },
     "execution_count": 106,
     "metadata": {},
     "output_type": "execute_result"
    }
   ],
   "source": [
    "mse = mean_squared_error(y2_diff_test, y2_pred_lasso_reg)\n",
    "mse"
   ]
  },
  {
   "cell_type": "code",
   "execution_count": 107,
   "id": "85911e0f-3276-4281-a99d-9088966abca8",
   "metadata": {},
   "outputs": [],
   "source": [
    "y2_pred_lasso_reg_dec = pd.Series(y2_pred_lasso_reg).apply(lambda x: 1 if x >= 0 else 0)"
   ]
  },
  {
   "cell_type": "code",
   "execution_count": 108,
   "id": "68366a7d-509a-4f21-b5b8-ccecac1a8c03",
   "metadata": {},
   "outputs": [
    {
     "data": {
      "text/plain": [
       "0.7073170731707317"
      ]
     },
     "execution_count": 108,
     "metadata": {},
     "output_type": "execute_result"
    }
   ],
   "source": [
    "accuracy = accuracy_score(y2_diff_test_dec, y2_pred_lasso_reg_dec)\n",
    "accuracy"
   ]
  },
  {
   "cell_type": "code",
   "execution_count": 109,
   "id": "6dd2478b-f88f-4e26-9f2e-bca9ef8cc616",
   "metadata": {},
   "outputs": [
    {
     "data": {
      "text/plain": [
       "array([[ 0, 12],\n",
       "       [ 0, 29]])"
      ]
     },
     "execution_count": 109,
     "metadata": {},
     "output_type": "execute_result"
    }
   ],
   "source": [
    "conf_matrix = confusion_matrix(y2_diff_test_dec, y2_pred_lasso_reg_dec)\n",
    "conf_matrix"
   ]
  },
  {
   "cell_type": "markdown",
   "id": "bd31807b-e823-403e-a440-e31017ee87b3",
   "metadata": {},
   "source": [
    "Since Lasso can also be used for feature selection, we look at the coefficients of the different Lasso models.\n",
    "It seems like median(container counts) is the least important feature, followed by median(join rows) and median(branching factors). Whereas #relations, \n",
    "#filters, median(table rows) and depth seem to be the most important features."
   ]
  },
  {
   "cell_type": "markdown",
   "id": "f2d3a7ce-603c-4f32-9e79-0968a115509e",
   "metadata": {},
   "source": [
    "### All possible settings: example Random Forest"
   ]
  },
  {
   "cell_type": "markdown",
   "id": "5314cc2c-a64b-457e-8d0c-73b63024e4db",
   "metadata": {},
   "source": [
    "#### train-test, y1, all features"
   ]
  },
  {
   "cell_type": "code",
   "execution_count": 110,
   "id": "04290ce0-0499-4362-ae85-030f833e4faa",
   "metadata": {},
   "outputs": [],
   "source": [
    "clf = RandomForestClassifier(n_estimators=100)\n",
    "clf.fit(X_train, y1_train)\n",
    "y1_all_tt_pred_rand_forest = clf.predict(X_test)"
   ]
  },
  {
   "cell_type": "code",
   "execution_count": 111,
   "id": "885048ea-6c4f-4df5-b856-11e6b6464a99",
   "metadata": {},
   "outputs": [
    {
     "name": "stdout",
     "output_type": "stream",
     "text": [
      "0.8292682926829268\n",
      "[[ 8  1]\n",
      " [ 6 26]]\n"
     ]
    }
   ],
   "source": [
    "accuracy = accuracy_score(y1_test, y1_all_tt_pred_rand_forest)\n",
    "conf_matrix = confusion_matrix(y1_test, y1_all_tt_pred_rand_forest)\n",
    "print(accuracy)\n",
    "print(conf_matrix)"
   ]
  },
  {
   "cell_type": "markdown",
   "id": "005c775d-4bf8-44e6-b6e3-d2441a90edc7",
   "metadata": {},
   "source": [
    "#### train-test, y1, some features"
   ]
  },
  {
   "cell_type": "code",
   "execution_count": 112,
   "id": "4f2a47a4-362f-4686-ae24-5528697b409f",
   "metadata": {},
   "outputs": [],
   "source": [
    "clf = RandomForestClassifier(n_estimators=100)\n",
    "clf.fit(X_train_small, y1_train)\n",
    "y1_some_tt_pred_rand_forest = clf.predict(X_test_small)"
   ]
  },
  {
   "cell_type": "code",
   "execution_count": 113,
   "id": "3b8181f7-5504-4dcc-af54-1137895d35eb",
   "metadata": {},
   "outputs": [
    {
     "name": "stdout",
     "output_type": "stream",
     "text": [
      "0.8292682926829268\n",
      "[[ 8  1]\n",
      " [ 6 26]]\n"
     ]
    }
   ],
   "source": [
    "accuracy = accuracy_score(y1_test, y1_some_tt_pred_rand_forest)\n",
    "conf_matrix = confusion_matrix(y1_test, y1_some_tt_pred_rand_forest)\n",
    "print(accuracy)\n",
    "print(conf_matrix)"
   ]
  },
  {
   "cell_type": "markdown",
   "id": "e1ad1427-33a8-45f1-9779-88ea142d80f3",
   "metadata": {},
   "source": [
    "#### train-test, y2, all features"
   ]
  },
  {
   "cell_type": "code",
   "execution_count": 114,
   "id": "809d31ad-b27e-40b6-a925-ee2896fe2698",
   "metadata": {},
   "outputs": [],
   "source": [
    "clf = RandomForestClassifier(n_estimators=100)\n",
    "clf.fit(X_train, y2_train)\n",
    "y2_all_tt_pred_rand_forest = clf.predict(X_test)"
   ]
  },
  {
   "cell_type": "code",
   "execution_count": 115,
   "id": "7c600574-381d-4c9d-829f-00c45cb15a35",
   "metadata": {},
   "outputs": [
    {
     "name": "stdout",
     "output_type": "stream",
     "text": [
      "0.8048780487804879\n",
      "[[21  2]\n",
      " [ 6 12]]\n"
     ]
    }
   ],
   "source": [
    "accuracy = accuracy_score(y2_test, y2_all_tt_pred_rand_forest)\n",
    "conf_matrix = confusion_matrix(y2_test, y2_all_tt_pred_rand_forest)\n",
    "print(accuracy)\n",
    "print(conf_matrix)"
   ]
  },
  {
   "cell_type": "markdown",
   "id": "76dcac02-9036-423c-a052-09a9065b8e40",
   "metadata": {},
   "source": [
    "#### train-test, y2, some features"
   ]
  },
  {
   "cell_type": "code",
   "execution_count": 116,
   "id": "72d85413-f5b3-4877-9ba3-f11f5bbb1f9d",
   "metadata": {},
   "outputs": [],
   "source": [
    "clf = RandomForestClassifier(n_estimators=100)\n",
    "clf.fit(X_train_small, y2_train)\n",
    "y2_some_tt_pred_rand_forest = clf.predict(X_test_small)"
   ]
  },
  {
   "cell_type": "code",
   "execution_count": 117,
   "id": "7cb265f5-7c48-4509-90c6-149389dfc51e",
   "metadata": {},
   "outputs": [
    {
     "name": "stdout",
     "output_type": "stream",
     "text": [
      "0.7804878048780488\n",
      "[[21  2]\n",
      " [ 7 11]]\n"
     ]
    }
   ],
   "source": [
    "accuracy = accuracy_score(y2_test, y2_some_tt_pred_rand_forest)\n",
    "conf_matrix = confusion_matrix(y2_test, y2_some_tt_pred_rand_forest)\n",
    "print(accuracy)\n",
    "print(conf_matrix)"
   ]
  },
  {
   "cell_type": "markdown",
   "id": "c9dfcf86-3412-417a-a60d-8255d5bc5642",
   "metadata": {},
   "source": [
    "#### CV, y1, all features"
   ]
  },
  {
   "cell_type": "code",
   "execution_count": 118,
   "id": "9602da9f-256d-4f2d-a99b-b0b184e8901d",
   "metadata": {},
   "outputs": [],
   "source": [
    "clf = RandomForestClassifier(n_estimators=100)\n",
    "y1_all_cv_pred_rand_forest = cross_val_predict(clf, X_scaled, y1, cv=5)"
   ]
  },
  {
   "cell_type": "code",
   "execution_count": 119,
   "id": "206acfdf-ff8e-4862-a708-0f52ef959535",
   "metadata": {},
   "outputs": [
    {
     "name": "stdout",
     "output_type": "stream",
     "text": [
      "0.7192118226600985\n",
      "[[51 22]\n",
      " [35 95]]\n"
     ]
    }
   ],
   "source": [
    "accuracy = accuracy_score(y1, y1_all_cv_pred_rand_forest)\n",
    "conf_matrix = confusion_matrix(y1, y1_all_cv_pred_rand_forest)\n",
    "print(accuracy)\n",
    "print(conf_matrix)"
   ]
  },
  {
   "cell_type": "markdown",
   "id": "09f7a9b7-afb7-4e63-834b-f93c6c4e2983",
   "metadata": {},
   "source": [
    "#### CV, y1, some features"
   ]
  },
  {
   "cell_type": "code",
   "execution_count": 120,
   "id": "9cef33c5-46f6-4084-bb95-76b9fe51fc61",
   "metadata": {},
   "outputs": [],
   "source": [
    "clf = RandomForestClassifier(n_estimators=100)\n",
    "y1_some_cv_pred_rand_forest = cross_val_predict(clf, X_small, y1, cv=5)"
   ]
  },
  {
   "cell_type": "code",
   "execution_count": 121,
   "id": "33b0b3f8-7a6a-41c0-92b9-9375935e0006",
   "metadata": {},
   "outputs": [
    {
     "name": "stdout",
     "output_type": "stream",
     "text": [
      "0.6748768472906403\n",
      "[[40 33]\n",
      " [33 97]]\n"
     ]
    }
   ],
   "source": [
    "accuracy = accuracy_score(y1, y1_some_cv_pred_rand_forest)\n",
    "conf_matrix = confusion_matrix(y1, y1_some_cv_pred_rand_forest)\n",
    "print(accuracy)\n",
    "print(conf_matrix)"
   ]
  },
  {
   "cell_type": "markdown",
   "id": "9daf0784-9c7f-4e73-81a9-f999a5e2ec00",
   "metadata": {},
   "source": [
    "#### CV, y2, all features"
   ]
  },
  {
   "cell_type": "code",
   "execution_count": 122,
   "id": "5426f7cf-22e1-4732-8eb5-ead17406681a",
   "metadata": {},
   "outputs": [],
   "source": [
    "clf = RandomForestClassifier(n_estimators=100)\n",
    "y2_all_cv_pred_rand_forest = cross_val_predict(clf, X_scaled, y2, cv=5)"
   ]
  },
  {
   "cell_type": "code",
   "execution_count": 123,
   "id": "4d0dea79-65b5-4822-b778-b806cb043dcc",
   "metadata": {},
   "outputs": [
    {
     "name": "stdout",
     "output_type": "stream",
     "text": [
      "0.8275862068965517\n",
      "[[118  10]\n",
      " [ 25  50]]\n"
     ]
    }
   ],
   "source": [
    "accuracy = accuracy_score(y2, y2_all_cv_pred_rand_forest)\n",
    "conf_matrix = confusion_matrix(y2, y2_all_cv_pred_rand_forest)\n",
    "print(accuracy)\n",
    "print(conf_matrix)"
   ]
  },
  {
   "cell_type": "markdown",
   "id": "10701209-7668-498d-bfd7-1a2bc9741579",
   "metadata": {},
   "source": [
    "#### CV, y2, some features"
   ]
  },
  {
   "cell_type": "code",
   "execution_count": 124,
   "id": "7942eaa8-94cb-43b9-9e7d-c5ef1e932246",
   "metadata": {},
   "outputs": [],
   "source": [
    "clf = RandomForestClassifier(n_estimators=100)\n",
    "y2_some_cv_pred_rand_forest = cross_val_predict(clf, X_small, y2, cv=5)"
   ]
  },
  {
   "cell_type": "code",
   "execution_count": 125,
   "id": "9946e145-7f26-4b18-9673-733054fe3d5f",
   "metadata": {},
   "outputs": [
    {
     "name": "stdout",
     "output_type": "stream",
     "text": [
      "0.8275862068965517\n",
      "[[118  10]\n",
      " [ 25  50]]\n"
     ]
    }
   ],
   "source": [
    "accuracy = accuracy_score(y2, y2_all_cv_pred_rand_forest)\n",
    "conf_matrix = confusion_matrix(y2, y2_all_cv_pred_rand_forest)\n",
    "print(accuracy)\n",
    "print(conf_matrix)"
   ]
  },
  {
   "cell_type": "markdown",
   "id": "7ac90462-e7a7-433f-b021-eb8297101bae",
   "metadata": {},
   "source": [
    "### All possible settings: example Logistic Regression"
   ]
  },
  {
   "cell_type": "markdown",
   "id": "b3b25617-32d9-4940-8891-f3560a62b043",
   "metadata": {},
   "source": [
    "#### train-test, y1, all features"
   ]
  },
  {
   "cell_type": "code",
   "execution_count": 126,
   "id": "d0ffb8ef-8ac2-41a7-90a0-6e57c9a35ba0",
   "metadata": {},
   "outputs": [
    {
     "name": "stdout",
     "output_type": "stream",
     "text": [
      "                            OLS Regression Results                            \n",
      "==============================================================================\n",
      "Dep. Variable:                      y   R-squared:                       0.252\n",
      "Model:                            OLS   Adj. R-squared:                  0.121\n",
      "Method:                 Least Squares   F-statistic:                     1.923\n",
      "Date:                Mon, 08 Apr 2024   Prob (F-statistic):             0.0104\n",
      "Time:                        06:30:51   Log-Likelihood:                -90.413\n",
      "No. Observations:                 162   AIC:                             230.8\n",
      "Df Residuals:                     137   BIC:                             308.0\n",
      "Df Model:                          24                                         \n",
      "Covariance Type:            nonrobust                                         \n",
      "=============================================================================================\n",
      "                                coef    std err          t      P>|t|      [0.025      0.975]\n",
      "---------------------------------------------------------------------------------------------\n",
      "const                         0.6049      0.036     16.747      0.000       0.534       0.676\n",
      "#relations                    0.5968      0.480      1.243      0.216      -0.352       1.546\n",
      "#conditions                   0.0796      0.067      1.181      0.240      -0.054       0.213\n",
      "#filters                     -0.1954      0.081     -2.407      0.017      -0.356      -0.035\n",
      "#joins                       -0.5245      0.291     -1.802      0.074      -1.100       0.051\n",
      "total cost                    0.3878     50.667      0.008      0.994     -99.804     100.579\n",
      "min(table rows)              -0.4954      5.176     -0.096      0.924     -10.731       9.740\n",
      "max(table rows)              -1.4927      8.571     -0.174      0.862     -18.442      15.456\n",
      "mean(table rows)              5.0077     37.002      0.135      0.893     -68.161      78.177\n",
      "q25(table rows)              -1.8069      6.356     -0.284      0.777     -14.376      10.762\n",
      "median(table rows)           -1.1688     11.633     -0.100      0.920     -24.173      21.835\n",
      "q75(table rows)              -0.3164      9.476     -0.033      0.973     -19.054      18.421\n",
      "min(join rows)                2.1940      3.699      0.593      0.554      -5.120       9.508\n",
      "max(join rows)                2.1657     50.184      0.043      0.966     -97.069     101.400\n",
      "mean(join rows)              -2.5830      3.356     -0.770      0.443      -9.220       4.054\n",
      "q25(join rows)                2.2199      4.573      0.485      0.628      -6.824      11.264\n",
      "median(join rows)            -3.5809      3.958     -0.905      0.367     -11.408       4.247\n",
      "q75(join rows)               -1.3262      2.343     -0.566      0.572      -5.960       3.308\n",
      "depth                         0.0168      0.219      0.076      0.939      -0.417       0.450\n",
      "min(container counts)      3.517e-16    2.4e-14      0.015      0.988    -4.7e-14    4.77e-14\n",
      "max(container counts)         0.1534      0.073      2.108      0.037       0.009       0.297\n",
      "mean(container counts)        0.0363      0.058      0.622      0.535      -0.079       0.152\n",
      "q25(container counts)      3.466e-15   2.29e-14      0.151      0.880   -4.18e-14    4.87e-14\n",
      "median(container counts)   1.156e-15   2.03e-14      0.057      0.955    -3.9e-14    4.13e-14\n",
      "q75(container counts)      5.744e-16    1.4e-14      0.041      0.967   -2.72e-14    2.83e-14\n",
      "min(branching factors)        0.3680      0.377      0.977      0.330      -0.377       1.113\n",
      "max(branching factors)        0.1897      0.359      0.528      0.598      -0.521       0.900\n",
      "mean(branching factors)      -0.0037      0.053     -0.070      0.945      -0.108       0.101\n",
      "median(branching factors)    -0.6047      0.668     -0.905      0.367      -1.926       0.716\n",
      "balancedness factor          -0.0751      0.051     -1.470      0.144      -0.176       0.026\n",
      "==============================================================================\n",
      "Omnibus:                      100.758   Durbin-Watson:                   1.155\n",
      "Prob(Omnibus):                  0.000   Jarque-Bera (JB):               12.302\n",
      "Skew:                          -0.234   Prob(JB):                      0.00213\n",
      "Kurtosis:                       1.734   Cond. No.                     1.43e+16\n",
      "==============================================================================\n",
      "\n",
      "Notes:\n",
      "[1] Standard Errors assume that the covariance matrix of the errors is correctly specified.\n",
      "[2] The smallest eigenvalue is 6.92e-30. This might indicate that there are\n",
      "strong multicollinearity problems or that the design matrix is singular.\n"
     ]
    }
   ],
   "source": [
    "model = LogisticRegression()\n",
    "model.fit(X_train, y1_train)\n",
    "X_with_intercept = sm.add_constant(X_train)\n",
    "ols_model = sm.OLS(np.array(y1_train), X_with_intercept).fit()\n",
    "print(ols_model.summary())"
   ]
  },
  {
   "cell_type": "markdown",
   "id": "008ed0d3-6b6e-4d0b-84bf-b9e9b137e09e",
   "metadata": {},
   "source": [
    "The only two significantly different from zero features are #filters and max(container counts)."
   ]
  },
  {
   "cell_type": "code",
   "execution_count": 127,
   "id": "53ebff0e-9139-4a5d-bfe9-03d30e8c6d23",
   "metadata": {},
   "outputs": [],
   "source": [
    "X_test_with_intercept = sm.add_constant(X_test)\n",
    "y1_all_tt_pred_log_dec = ols_model.predict(X_test_with_intercept)"
   ]
  },
  {
   "cell_type": "code",
   "execution_count": 128,
   "id": "23365925-b82d-4958-aeb9-441f31711e39",
   "metadata": {},
   "outputs": [
    {
     "name": "stdout",
     "output_type": "stream",
     "text": [
      "0.6829268292682927\n",
      "[[ 3  6]\n",
      " [ 7 25]]\n"
     ]
    }
   ],
   "source": [
    "y1_all_tt_pred_log_dec = y1_all_tt_pred_log_dec.apply(lambda x: 1 if x >= 0.35 else 0)\n",
    "\n",
    "accuracy = accuracy_score(y1_test, y1_all_tt_pred_log_dec)\n",
    "conf_matrix = confusion_matrix(y1_test, y1_all_tt_pred_log_dec)\n",
    "print(accuracy)\n",
    "print(conf_matrix)"
   ]
  },
  {
   "cell_type": "markdown",
   "id": "07203466-191a-4d0e-a896-0249e12ecf66",
   "metadata": {},
   "source": [
    "#### train-test, y1, some features\n",
    "\n",
    "OLS (ordinary least square) regression with train-test split and only the median of the features occuring multiple times, because the features now are highly correlated."
   ]
  },
  {
   "cell_type": "code",
   "execution_count": 129,
   "id": "5a0eb0e7-5654-4ec9-a5f1-06bad4030db1",
   "metadata": {},
   "outputs": [
    {
     "name": "stdout",
     "output_type": "stream",
     "text": [
      "                            OLS Regression Results                            \n",
      "==============================================================================\n",
      "Dep. Variable:                      y   R-squared:                       0.199\n",
      "Model:                            OLS   Adj. R-squared:                  0.146\n",
      "Method:                 Least Squares   F-statistic:                     3.763\n",
      "Date:                Mon, 08 Apr 2024   Prob (F-statistic):           0.000154\n",
      "Time:                        06:30:51   Log-Likelihood:                -95.907\n",
      "No. Observations:                 162   AIC:                             213.8\n",
      "Df Residuals:                     151   BIC:                             247.8\n",
      "Df Model:                          10                                         \n",
      "Covariance Type:            nonrobust                                         \n",
      "=============================================================================================\n",
      "                                coef    std err          t      P>|t|      [0.025      0.975]\n",
      "---------------------------------------------------------------------------------------------\n",
      "const                         0.6049      0.036     16.995      0.000       0.535       0.675\n",
      "#relations                    0.4015      0.211      1.902      0.059      -0.016       0.819\n",
      "#conditions                   0.1019      0.063      1.608      0.110      -0.023       0.227\n",
      "#filters                     -0.1875      0.070     -2.682      0.008      -0.326      -0.049\n",
      "#joins                       -0.3112      0.154     -2.026      0.044      -0.615      -0.008\n",
      "total cost                   -0.0144      0.039     -0.367      0.714      -0.092       0.063\n",
      "median(table rows)            0.0637      0.053      1.196      0.233      -0.041       0.169\n",
      "median(join rows)            -0.0091      0.048     -0.189      0.851      -0.105       0.086\n",
      "depth                        -0.0359      0.105     -0.343      0.732      -0.243       0.171\n",
      "median(container counts)  -2.646e-17   1.17e-17     -2.267      0.025   -4.95e-17    -3.4e-18\n",
      "median(branching factors)    -0.0215      0.088     -0.244      0.808      -0.196       0.153\n",
      "balancedness factor          -0.0707      0.041     -1.706      0.090      -0.153       0.011\n",
      "==============================================================================\n",
      "Omnibus:                     1064.430   Durbin-Watson:                   1.029\n",
      "Prob(Omnibus):                  0.000   Jarque-Bera (JB):               15.658\n",
      "Skew:                          -0.166   Prob(JB):                     0.000398\n",
      "Kurtosis:                       1.514   Cond. No.                     3.28e+17\n",
      "==============================================================================\n",
      "\n",
      "Notes:\n",
      "[1] Standard Errors assume that the covariance matrix of the errors is correctly specified.\n",
      "[2] The smallest eigenvalue is 4.4e-33. This might indicate that there are\n",
      "strong multicollinearity problems or that the design matrix is singular.\n"
     ]
    }
   ],
   "source": [
    "model = LogisticRegression()\n",
    "model.fit(X_train_small, y1_train)\n",
    "X_with_intercept = sm.add_constant(X_train_small)\n",
    "ols_model = sm.OLS(np.array(y1_train), X_with_intercept).fit()\n",
    "print(ols_model.summary())"
   ]
  },
  {
   "cell_type": "markdown",
   "id": "facfcf39-45e8-45fb-a1a9-b77f493f62db",
   "metadata": {},
   "source": [
    "Here #filter, #joins and median(container counts) for $\\alpha = 0.05$ are significant.   \n",
    "Additionally, #relations and balancedness factor for $\\alpha = 0.1$ are significant.\n",
    "\n",
    "---\n",
    "\n",
    "Predictions for the test set using the OLS model:"
   ]
  },
  {
   "cell_type": "code",
   "execution_count": 130,
   "id": "b565ab9a-83c7-4ad1-9f19-89a500d0b047",
   "metadata": {},
   "outputs": [],
   "source": [
    "X_test_with_intercept = sm.add_constant(X_test_small)\n",
    "y1_some_tt_pred_log_dec = ols_model.predict(X_test_with_intercept)"
   ]
  },
  {
   "cell_type": "code",
   "execution_count": 131,
   "id": "bff6bb26-b490-4b78-819d-7c1dca3c9938",
   "metadata": {},
   "outputs": [
    {
     "name": "stdout",
     "output_type": "stream",
     "text": [
      "0.6341463414634146\n",
      "[[ 2  7]\n",
      " [ 8 24]]\n"
     ]
    }
   ],
   "source": [
    "y1_some_tt_pred_log_dec = y1_some_tt_pred_log_dec.apply(lambda x: 1 if x >= 0.35 else 0)\n",
    "\n",
    "accuracy = accuracy_score(y1_test, y1_some_tt_pred_log_dec)\n",
    "conf_matrix = confusion_matrix(y1_test, y1_some_tt_pred_log_dec)\n",
    "print(accuracy)\n",
    "print(conf_matrix)"
   ]
  },
  {
   "cell_type": "markdown",
   "id": "3f48d4bf-1754-4e36-bdc9-1bcbe729be97",
   "metadata": {},
   "source": [
    "#### train-test, y2, all features"
   ]
  },
  {
   "cell_type": "code",
   "execution_count": 132,
   "id": "4c126c6d-3fd3-4cb4-9ac9-687ab8bd874f",
   "metadata": {},
   "outputs": [
    {
     "name": "stdout",
     "output_type": "stream",
     "text": [
      "                            OLS Regression Results                            \n",
      "==============================================================================\n",
      "Dep. Variable:                      y   R-squared:                       0.533\n",
      "Model:                            OLS   Adj. R-squared:                  0.451\n",
      "Method:                 Least Squares   F-statistic:                     6.515\n",
      "Date:                Mon, 08 Apr 2024   Prob (F-statistic):           2.48e-13\n",
      "Time:                        06:30:51   Log-Likelihood:                -48.463\n",
      "No. Observations:                 162   AIC:                             146.9\n",
      "Df Residuals:                     137   BIC:                             224.1\n",
      "Df Model:                          24                                         \n",
      "Covariance Type:            nonrobust                                         \n",
      "=============================================================================================\n",
      "                                coef    std err          t      P>|t|      [0.025      0.975]\n",
      "---------------------------------------------------------------------------------------------\n",
      "const                         0.3519      0.028     12.619      0.000       0.297       0.407\n",
      "#relations                    0.3574      0.371      0.964      0.337      -0.375       1.090\n",
      "#conditions                   0.0465      0.052      0.894      0.373      -0.056       0.149\n",
      "#filters                     -0.1719      0.063     -2.744      0.007      -0.296      -0.048\n",
      "#joins                       -0.1492      0.225     -0.664      0.508      -0.593       0.295\n",
      "total cost                  -10.2621     39.108     -0.262      0.793     -87.596      67.072\n",
      "min(table rows)               0.3980      3.995      0.100      0.921      -7.503       8.299\n",
      "max(table rows)              -0.0705      6.616     -0.011      0.992     -13.153      13.012\n",
      "mean(table rows)             -0.4239     28.560     -0.015      0.988     -56.900      56.052\n",
      "q25(table rows)              -1.2158      4.906     -0.248      0.805     -10.917       8.485\n",
      "median(table rows)            1.1823      8.979      0.132      0.895     -16.574      18.938\n",
      "q75(table rows)               1.4049      7.314      0.192      0.848     -13.058      15.868\n",
      "min(join rows)               -3.9720      2.855     -1.391      0.166      -9.617       1.674\n",
      "max(join rows)               13.0953     38.735      0.338      0.736     -63.500      89.691\n",
      "mean(join rows)              -2.8688      2.591     -1.107      0.270      -7.992       2.254\n",
      "q25(join rows)                4.7479      3.530      1.345      0.181      -2.233      11.728\n",
      "median(join rows)            -2.7711      3.055     -0.907      0.366      -8.813       3.271\n",
      "q75(join rows)                2.1191      1.809      1.172      0.243      -1.458       5.696\n",
      "depth                        -0.0648      0.169     -0.383      0.702      -0.399       0.270\n",
      "min(container counts)      -5.39e-15   1.85e-14     -0.291      0.771    -4.2e-14    3.12e-14\n",
      "max(container counts)         0.0880      0.056      1.566      0.120      -0.023       0.199\n",
      "mean(container counts)        0.0347      0.045      0.771      0.442      -0.054       0.124\n",
      "q25(container counts)     -2.078e-16   1.77e-14     -0.012      0.991   -3.52e-14    3.47e-14\n",
      "median(container counts)   4.519e-15   1.57e-14      0.288      0.774   -2.65e-14    3.55e-14\n",
      "q75(container counts)      3.192e-15   1.08e-14      0.295      0.769   -1.82e-14    2.46e-14\n",
      "min(branching factors)        0.1127      0.291      0.388      0.699      -0.462       0.687\n",
      "max(branching factors)       -0.1578      0.277     -0.569      0.570      -0.706       0.391\n",
      "mean(branching factors)      -0.0111      0.041     -0.272      0.786      -0.092       0.069\n",
      "median(branching factors)    -0.0028      0.516     -0.005      0.996      -1.022       1.017\n",
      "balancedness factor           0.0473      0.039      1.200      0.232      -0.031       0.125\n",
      "==============================================================================\n",
      "Omnibus:                       19.185   Durbin-Watson:                   0.832\n",
      "Prob(Omnibus):                  0.000   Jarque-Bera (JB):               23.141\n",
      "Skew:                           0.926   Prob(JB):                     9.44e-06\n",
      "Kurtosis:                       3.046   Cond. No.                     1.43e+16\n",
      "==============================================================================\n",
      "\n",
      "Notes:\n",
      "[1] Standard Errors assume that the covariance matrix of the errors is correctly specified.\n",
      "[2] The smallest eigenvalue is 6.92e-30. This might indicate that there are\n",
      "strong multicollinearity problems or that the design matrix is singular.\n"
     ]
    }
   ],
   "source": [
    "model = LogisticRegression()\n",
    "model.fit(X_train, y2_train)\n",
    "X_with_intercept = sm.add_constant(X_train)\n",
    "ols_model = sm.OLS(np.array(y2_train), X_with_intercept).fit()\n",
    "print(ols_model.summary())"
   ]
  },
  {
   "cell_type": "markdown",
   "id": "6c0fac22-44cc-4227-9f8f-f0edbbf8a44a",
   "metadata": {},
   "source": [
    "Only #filters is significant here"
   ]
  },
  {
   "cell_type": "code",
   "execution_count": 133,
   "id": "1d0d670b-4d3e-47b3-888c-655accdfe900",
   "metadata": {},
   "outputs": [],
   "source": [
    "X_test_with_intercept = sm.add_constant(X_test)\n",
    "y2_all_tt_pred_log_dec = ols_model.predict(X_test_with_intercept)"
   ]
  },
  {
   "cell_type": "code",
   "execution_count": 134,
   "id": "bc8951ee-80ef-480c-8018-e7189f8750e6",
   "metadata": {},
   "outputs": [
    {
     "name": "stdout",
     "output_type": "stream",
     "text": [
      "0.7317073170731707\n",
      "[[21  2]\n",
      " [ 9  9]]\n"
     ]
    }
   ],
   "source": [
    "y2_all_tt_pred_log_dec = y2_all_tt_pred_log_dec.apply(lambda x: 1 if x >= 0.35 else 0)\n",
    "\n",
    "accuracy = accuracy_score(y2_test, y2_all_tt_pred_log_dec)\n",
    "conf_matrix = confusion_matrix(y2_test, y2_all_tt_pred_log_dec)\n",
    "print(accuracy)\n",
    "print(conf_matrix)"
   ]
  },
  {
   "cell_type": "markdown",
   "id": "367665b3-f12f-4f4a-b6b4-b572142e2007",
   "metadata": {},
   "source": [
    "#### train-test, y2, some features"
   ]
  },
  {
   "cell_type": "code",
   "execution_count": 135,
   "id": "cbb87df3-aea3-46f1-8388-dfc6f1a3406e",
   "metadata": {},
   "outputs": [
    {
     "name": "stdout",
     "output_type": "stream",
     "text": [
      "                            OLS Regression Results                            \n",
      "==============================================================================\n",
      "Dep. Variable:                      y   R-squared:                       0.199\n",
      "Model:                            OLS   Adj. R-squared:                  0.146\n",
      "Method:                 Least Squares   F-statistic:                     3.763\n",
      "Date:                Mon, 08 Apr 2024   Prob (F-statistic):           0.000154\n",
      "Time:                        06:30:51   Log-Likelihood:                -95.907\n",
      "No. Observations:                 162   AIC:                             213.8\n",
      "Df Residuals:                     151   BIC:                             247.8\n",
      "Df Model:                          10                                         \n",
      "Covariance Type:            nonrobust                                         \n",
      "=============================================================================================\n",
      "                                coef    std err          t      P>|t|      [0.025      0.975]\n",
      "---------------------------------------------------------------------------------------------\n",
      "const                         0.6049      0.036     16.995      0.000       0.535       0.675\n",
      "#relations                    0.4015      0.211      1.902      0.059      -0.016       0.819\n",
      "#conditions                   0.1019      0.063      1.608      0.110      -0.023       0.227\n",
      "#filters                     -0.1875      0.070     -2.682      0.008      -0.326      -0.049\n",
      "#joins                       -0.3112      0.154     -2.026      0.044      -0.615      -0.008\n",
      "total cost                   -0.0144      0.039     -0.367      0.714      -0.092       0.063\n",
      "median(table rows)            0.0637      0.053      1.196      0.233      -0.041       0.169\n",
      "median(join rows)            -0.0091      0.048     -0.189      0.851      -0.105       0.086\n",
      "depth                        -0.0359      0.105     -0.343      0.732      -0.243       0.171\n",
      "median(container counts)  -2.646e-17   1.17e-17     -2.267      0.025   -4.95e-17    -3.4e-18\n",
      "median(branching factors)    -0.0215      0.088     -0.244      0.808      -0.196       0.153\n",
      "balancedness factor          -0.0707      0.041     -1.706      0.090      -0.153       0.011\n",
      "==============================================================================\n",
      "Omnibus:                     1064.430   Durbin-Watson:                   1.029\n",
      "Prob(Omnibus):                  0.000   Jarque-Bera (JB):               15.658\n",
      "Skew:                          -0.166   Prob(JB):                     0.000398\n",
      "Kurtosis:                       1.514   Cond. No.                     3.28e+17\n",
      "==============================================================================\n",
      "\n",
      "Notes:\n",
      "[1] Standard Errors assume that the covariance matrix of the errors is correctly specified.\n",
      "[2] The smallest eigenvalue is 4.4e-33. This might indicate that there are\n",
      "strong multicollinearity problems or that the design matrix is singular.\n"
     ]
    }
   ],
   "source": [
    "model = LogisticRegression()\n",
    "model.fit(X_train_small, y1_train)\n",
    "X_with_intercept = sm.add_constant(X_train_small)\n",
    "ols_model = sm.OLS(np.array(y1_train), X_with_intercept).fit()\n",
    "print(ols_model.summary())"
   ]
  },
  {
   "cell_type": "markdown",
   "id": "52569b5e-4c0b-4e54-bafd-e5aee66fabbd",
   "metadata": {},
   "source": [
    "For $\\alpha = 0.05$: #filters, #joins and median(container counts) significant   \n",
    "For $\\alpha = 0.1$: additionally #relations and balancedness factor"
   ]
  },
  {
   "cell_type": "code",
   "execution_count": 136,
   "id": "18796be1-d7ac-4d78-bf46-76fa840e5c21",
   "metadata": {},
   "outputs": [],
   "source": [
    "X_test_with_intercept = sm.add_constant(X_test_small)\n",
    "y2_some_tt_pred_log_dec = ols_model.predict(X_test_with_intercept)"
   ]
  },
  {
   "cell_type": "code",
   "execution_count": 137,
   "id": "74b06cf5-f2c1-4770-8566-2414d58de25f",
   "metadata": {},
   "outputs": [
    {
     "name": "stdout",
     "output_type": "stream",
     "text": [
      "0.34146341463414637\n",
      "[[ 3 20]\n",
      " [ 7 11]]\n"
     ]
    }
   ],
   "source": [
    "y2_some_tt_pred_log_dec = y2_some_tt_pred_log_dec.apply(lambda x: 1 if x >= 0.35 else 0)\n",
    "\n",
    "accuracy = accuracy_score(y2_test, y2_some_tt_pred_log_dec)\n",
    "conf_matrix = confusion_matrix(y2_test, y2_some_tt_pred_log_dec)\n",
    "print(accuracy)\n",
    "print(conf_matrix)"
   ]
  },
  {
   "cell_type": "markdown",
   "id": "48f1d75e-a5f9-488b-a394-13aaaa00a5a1",
   "metadata": {},
   "source": [
    "#### CV, y1, all features"
   ]
  },
  {
   "cell_type": "code",
   "execution_count": 138,
   "id": "c5bc5001-db9e-4655-b2bb-be267901c999",
   "metadata": {},
   "outputs": [],
   "source": [
    "model = LogisticRegression()\n",
    "y1_all_cv_pred_log_dec = cross_val_predict(model, X_scaled, y1, cv=2)"
   ]
  },
  {
   "cell_type": "code",
   "execution_count": 139,
   "id": "f5f1a7f0-6fa2-4f80-8024-57bc963889c8",
   "metadata": {},
   "outputs": [
    {
     "name": "stdout",
     "output_type": "stream",
     "text": [
      "0.4482758620689655\n",
      "[[46 27]\n",
      " [85 45]]\n"
     ]
    }
   ],
   "source": [
    "y1_all_cv_pred_log_dec = pd.Series(y1_all_cv_pred_log_dec).apply(lambda x: 1 if x >= 0.35 else 0)\n",
    "\n",
    "accuracy = accuracy_score(y1, y1_all_cv_pred_log_dec)\n",
    "conf_matrix = confusion_matrix(y1, y1_all_cv_pred_log_dec)\n",
    "print(accuracy)\n",
    "print(conf_matrix)"
   ]
  },
  {
   "cell_type": "markdown",
   "id": "a5d1e396-29a5-48c7-bc6b-0505c37b6460",
   "metadata": {},
   "source": [
    "#### CV, y1, some features"
   ]
  },
  {
   "cell_type": "code",
   "execution_count": 140,
   "id": "5227b6c5-d3e6-40f5-9f35-7f14fadb5c70",
   "metadata": {},
   "outputs": [],
   "source": [
    "model = LogisticRegression()\n",
    "y1_some_cv_pred_log_dec = cross_val_predict(model, X_small, y1, cv=5)"
   ]
  },
  {
   "cell_type": "code",
   "execution_count": 141,
   "id": "767727c2-1bba-4386-b2c4-b96a98444d63",
   "metadata": {},
   "outputs": [
    {
     "name": "stdout",
     "output_type": "stream",
     "text": [
      "0.5763546798029556\n",
      "[[21 52]\n",
      " [34 96]]\n"
     ]
    }
   ],
   "source": [
    "y1_some_cv_pred_log_dec = pd.Series(y1_some_cv_pred_log_dec).apply(lambda x: 1 if x >= 0.35 else 0)\n",
    "\n",
    "accuracy = accuracy_score(y1, y1_some_cv_pred_log_dec)\n",
    "conf_matrix = confusion_matrix(y1, y1_some_cv_pred_log_dec)\n",
    "print(accuracy)\n",
    "print(conf_matrix)"
   ]
  },
  {
   "cell_type": "markdown",
   "id": "8741b7cb-3d35-47ac-8b3a-3c83f43fd9f2",
   "metadata": {},
   "source": [
    "#### CV, y2, all features"
   ]
  },
  {
   "cell_type": "code",
   "execution_count": 142,
   "id": "5ead4523-d1d8-43c3-93ab-986ad048fa60",
   "metadata": {},
   "outputs": [],
   "source": [
    "model = LogisticRegression()\n",
    "y2_all_cv_pred_log_dec = cross_val_predict(model, X_scaled, y2, cv=5)"
   ]
  },
  {
   "cell_type": "code",
   "execution_count": 143,
   "id": "07b8ff92-8b61-4b7c-b9ce-637e03d61489",
   "metadata": {},
   "outputs": [
    {
     "name": "stdout",
     "output_type": "stream",
     "text": [
      "0.7931034482758621\n",
      "[[116  12]\n",
      " [ 30  45]]\n"
     ]
    }
   ],
   "source": [
    "y2_all_cv_pred_log_dec = pd.Series(y2_all_cv_pred_log_dec).apply(lambda x: 1 if x >= 0.35 else 0)\n",
    "\n",
    "accuracy = accuracy_score(y2, y2_all_cv_pred_log_dec)\n",
    "conf_matrix = confusion_matrix(y2, y2_all_cv_pred_log_dec)\n",
    "print(accuracy)\n",
    "print(conf_matrix)"
   ]
  },
  {
   "cell_type": "markdown",
   "id": "7788e041-33fc-4b89-8956-add93739fa0b",
   "metadata": {},
   "source": [
    "#### CV, y2, some features"
   ]
  },
  {
   "cell_type": "code",
   "execution_count": 144,
   "id": "d012b6c7-f48f-4703-a7de-03c9cd6043b3",
   "metadata": {},
   "outputs": [],
   "source": [
    "model = LogisticRegression()\n",
    "y2_some_cv_pred_log_dec = cross_val_predict(model, X_small, y2, cv=5)"
   ]
  },
  {
   "cell_type": "code",
   "execution_count": 145,
   "id": "d41c43b7-0ae5-46a5-b04b-f495c94f7270",
   "metadata": {},
   "outputs": [
    {
     "name": "stdout",
     "output_type": "stream",
     "text": [
      "0.8029556650246306\n",
      "[[114  14]\n",
      " [ 26  49]]\n"
     ]
    }
   ],
   "source": [
    "y2_some_cv_pred_log_dec = pd.Series(y2_some_cv_pred_log_dec).apply(lambda x: 1 if x >= 0.35 else 0)\n",
    "\n",
    "accuracy = accuracy_score(y2, y2_some_cv_pred_log_dec)\n",
    "conf_matrix = confusion_matrix(y2, y2_some_cv_pred_log_dec)\n",
    "print(accuracy)\n",
    "print(conf_matrix)"
   ]
  },
  {
   "cell_type": "markdown",
   "id": "43911344-0e24-4cfe-86a9-407a4aaeb60b",
   "metadata": {},
   "source": [
    "## Inspection of the misclassifications"
   ]
  },
  {
   "cell_type": "code",
   "execution_count": 146,
   "id": "b183bb8e-7e0d-45b6-93fd-6978c7e7df35",
   "metadata": {},
   "outputs": [],
   "source": [
    "clf = SVC(kernel='linear')\n",
    "clf.fit(X_train_small, y2_train)\n",
    "y2_pred_svm_linear = clf.predict(X_test_small)"
   ]
  },
  {
   "cell_type": "code",
   "execution_count": 147,
   "id": "da9391ef-24eb-4bf9-929a-03365f7052a2",
   "metadata": {},
   "outputs": [
    {
     "name": "stdout",
     "output_type": "stream",
     "text": [
      "0.8048780487804879\n",
      "[[23  0]\n",
      " [ 8 10]]\n"
     ]
    }
   ],
   "source": [
    "accuracy = accuracy_score(y2_test, y2_pred_svm_linear)\n",
    "conf_matrix = confusion_matrix(y2_test, y2_pred_svm_linear)\n",
    "print(accuracy)\n",
    "print(conf_matrix)"
   ]
  },
  {
   "cell_type": "code",
   "execution_count": 148,
   "id": "d25fc2da-ddc6-4fcd-96af-3d38489c90aa",
   "metadata": {},
   "outputs": [
    {
     "data": {
      "text/html": [
       "<div>\n",
       "<style scoped>\n",
       "    .dataframe tbody tr th:only-of-type {\n",
       "        vertical-align: middle;\n",
       "    }\n",
       "\n",
       "    .dataframe tbody tr th {\n",
       "        vertical-align: top;\n",
       "    }\n",
       "\n",
       "    .dataframe thead th {\n",
       "        text-align: right;\n",
       "    }\n",
       "</style>\n",
       "<table border=\"1\" class=\"dataframe\">\n",
       "  <thead>\n",
       "    <tr style=\"text-align: right;\">\n",
       "      <th></th>\n",
       "      <th>orig/rewr+rewr(mean)</th>\n",
       "      <th>0</th>\n",
       "    </tr>\n",
       "  </thead>\n",
       "  <tbody>\n",
       "    <tr>\n",
       "      <th>40</th>\n",
       "      <td>0</td>\n",
       "      <td>0</td>\n",
       "    </tr>\n",
       "    <tr>\n",
       "      <th>41</th>\n",
       "      <td>0</td>\n",
       "      <td>0</td>\n",
       "    </tr>\n",
       "    <tr>\n",
       "      <th>42</th>\n",
       "      <td>0</td>\n",
       "      <td>0</td>\n",
       "    </tr>\n",
       "    <tr>\n",
       "      <th>43</th>\n",
       "      <td>0</td>\n",
       "      <td>0</td>\n",
       "    </tr>\n",
       "    <tr>\n",
       "      <th>44</th>\n",
       "      <td>0</td>\n",
       "      <td>0</td>\n",
       "    </tr>\n",
       "    <tr>\n",
       "      <th>45</th>\n",
       "      <td>0</td>\n",
       "      <td>0</td>\n",
       "    </tr>\n",
       "    <tr>\n",
       "      <th>46</th>\n",
       "      <td>0</td>\n",
       "      <td>0</td>\n",
       "    </tr>\n",
       "    <tr>\n",
       "      <th>47</th>\n",
       "      <td>0</td>\n",
       "      <td>0</td>\n",
       "    </tr>\n",
       "    <tr>\n",
       "      <th>48</th>\n",
       "      <td>0</td>\n",
       "      <td>0</td>\n",
       "    </tr>\n",
       "    <tr>\n",
       "      <th>49</th>\n",
       "      <td>0</td>\n",
       "      <td>0</td>\n",
       "    </tr>\n",
       "    <tr>\n",
       "      <th>90</th>\n",
       "      <td>0</td>\n",
       "      <td>0</td>\n",
       "    </tr>\n",
       "    <tr>\n",
       "      <th>91</th>\n",
       "      <td>0</td>\n",
       "      <td>0</td>\n",
       "    </tr>\n",
       "    <tr>\n",
       "      <th>92</th>\n",
       "      <td>0</td>\n",
       "      <td>0</td>\n",
       "    </tr>\n",
       "    <tr>\n",
       "      <th>93</th>\n",
       "      <td>0</td>\n",
       "      <td>0</td>\n",
       "    </tr>\n",
       "    <tr>\n",
       "      <th>94</th>\n",
       "      <td>0</td>\n",
       "      <td>0</td>\n",
       "    </tr>\n",
       "    <tr>\n",
       "      <th>95</th>\n",
       "      <td>0</td>\n",
       "      <td>0</td>\n",
       "    </tr>\n",
       "    <tr>\n",
       "      <th>96</th>\n",
       "      <td>0</td>\n",
       "      <td>0</td>\n",
       "    </tr>\n",
       "    <tr>\n",
       "      <th>97</th>\n",
       "      <td>0</td>\n",
       "      <td>0</td>\n",
       "    </tr>\n",
       "    <tr>\n",
       "      <th>98</th>\n",
       "      <td>0</td>\n",
       "      <td>0</td>\n",
       "    </tr>\n",
       "    <tr>\n",
       "      <th>99</th>\n",
       "      <td>0</td>\n",
       "      <td>0</td>\n",
       "    </tr>\n",
       "    <tr>\n",
       "      <th>138</th>\n",
       "      <td>1</td>\n",
       "      <td>0</td>\n",
       "    </tr>\n",
       "    <tr>\n",
       "      <th>139</th>\n",
       "      <td>1</td>\n",
       "      <td>0</td>\n",
       "    </tr>\n",
       "    <tr>\n",
       "      <th>140</th>\n",
       "      <td>1</td>\n",
       "      <td>1</td>\n",
       "    </tr>\n",
       "    <tr>\n",
       "      <th>141</th>\n",
       "      <td>1</td>\n",
       "      <td>0</td>\n",
       "    </tr>\n",
       "    <tr>\n",
       "      <th>142</th>\n",
       "      <td>1</td>\n",
       "      <td>0</td>\n",
       "    </tr>\n",
       "    <tr>\n",
       "      <th>143</th>\n",
       "      <td>1</td>\n",
       "      <td>0</td>\n",
       "    </tr>\n",
       "    <tr>\n",
       "      <th>144</th>\n",
       "      <td>1</td>\n",
       "      <td>0</td>\n",
       "    </tr>\n",
       "    <tr>\n",
       "      <th>145</th>\n",
       "      <td>1</td>\n",
       "      <td>0</td>\n",
       "    </tr>\n",
       "    <tr>\n",
       "      <th>146</th>\n",
       "      <td>1</td>\n",
       "      <td>0</td>\n",
       "    </tr>\n",
       "    <tr>\n",
       "      <th>178</th>\n",
       "      <td>1</td>\n",
       "      <td>1</td>\n",
       "    </tr>\n",
       "    <tr>\n",
       "      <th>179</th>\n",
       "      <td>1</td>\n",
       "      <td>1</td>\n",
       "    </tr>\n",
       "    <tr>\n",
       "      <th>180</th>\n",
       "      <td>1</td>\n",
       "      <td>1</td>\n",
       "    </tr>\n",
       "    <tr>\n",
       "      <th>181</th>\n",
       "      <td>1</td>\n",
       "      <td>1</td>\n",
       "    </tr>\n",
       "    <tr>\n",
       "      <th>182</th>\n",
       "      <td>1</td>\n",
       "      <td>1</td>\n",
       "    </tr>\n",
       "    <tr>\n",
       "      <th>183</th>\n",
       "      <td>1</td>\n",
       "      <td>1</td>\n",
       "    </tr>\n",
       "    <tr>\n",
       "      <th>184</th>\n",
       "      <td>1</td>\n",
       "      <td>1</td>\n",
       "    </tr>\n",
       "    <tr>\n",
       "      <th>185</th>\n",
       "      <td>1</td>\n",
       "      <td>1</td>\n",
       "    </tr>\n",
       "    <tr>\n",
       "      <th>186</th>\n",
       "      <td>0</td>\n",
       "      <td>0</td>\n",
       "    </tr>\n",
       "    <tr>\n",
       "      <th>199</th>\n",
       "      <td>0</td>\n",
       "      <td>0</td>\n",
       "    </tr>\n",
       "    <tr>\n",
       "      <th>200</th>\n",
       "      <td>0</td>\n",
       "      <td>0</td>\n",
       "    </tr>\n",
       "    <tr>\n",
       "      <th>202</th>\n",
       "      <td>1</td>\n",
       "      <td>1</td>\n",
       "    </tr>\n",
       "  </tbody>\n",
       "</table>\n",
       "</div>"
      ],
      "text/plain": [
       "     orig/rewr+rewr(mean)  0\n",
       "40                      0  0\n",
       "41                      0  0\n",
       "42                      0  0\n",
       "43                      0  0\n",
       "44                      0  0\n",
       "45                      0  0\n",
       "46                      0  0\n",
       "47                      0  0\n",
       "48                      0  0\n",
       "49                      0  0\n",
       "90                      0  0\n",
       "91                      0  0\n",
       "92                      0  0\n",
       "93                      0  0\n",
       "94                      0  0\n",
       "95                      0  0\n",
       "96                      0  0\n",
       "97                      0  0\n",
       "98                      0  0\n",
       "99                      0  0\n",
       "138                     1  0\n",
       "139                     1  0\n",
       "140                     1  1\n",
       "141                     1  0\n",
       "142                     1  0\n",
       "143                     1  0\n",
       "144                     1  0\n",
       "145                     1  0\n",
       "146                     1  0\n",
       "178                     1  1\n",
       "179                     1  1\n",
       "180                     1  1\n",
       "181                     1  1\n",
       "182                     1  1\n",
       "183                     1  1\n",
       "184                     1  1\n",
       "185                     1  1\n",
       "186                     0  0\n",
       "199                     0  0\n",
       "200                     0  0\n",
       "202                     1  1"
      ]
     },
     "execution_count": 148,
     "metadata": {},
     "output_type": "execute_result"
    }
   ],
   "source": [
    "pd.concat([pd.Series(y2_test), pd.Series(y2_pred_svm_linear, index = pd.Series(y2_test).index)], axis = 1)"
   ]
  },
  {
   "cell_type": "markdown",
   "id": "d1142560-1e97-4b5a-a5b1-19868b6d4775",
   "metadata": {},
   "source": [
    "All of the misclassification are STATS queries at the end of the STATS benchmark...we splitted the benchmark by hand, such that the last ones are all in the test set, so it seems that there is a component we did not take into consideration yet, which has an high influence."
   ]
  },
  {
   "cell_type": "code",
   "execution_count": 149,
   "id": "93e42c75-bc84-4f09-9194-baf162328ad5",
   "metadata": {},
   "outputs": [],
   "source": [
    "model = RandomForestClassifier(n_estimators=100)\n",
    "model.fit(X_train_small, y2_train)\n",
    "y2_pred_rand_forest = model.predict(X_test_small)"
   ]
  },
  {
   "cell_type": "code",
   "execution_count": 150,
   "id": "09d76d7e-ef6f-4af1-aa03-23d5118aa3ba",
   "metadata": {},
   "outputs": [
    {
     "name": "stdout",
     "output_type": "stream",
     "text": [
      "0.8048780487804879\n",
      "[[21  2]\n",
      " [ 6 12]]\n"
     ]
    }
   ],
   "source": [
    "accuracy = accuracy_score(y2_test, y2_pred_rand_forest)\n",
    "conf_matrix = confusion_matrix(y2_test, y2_pred_rand_forest)\n",
    "print(accuracy)\n",
    "print(conf_matrix)"
   ]
  },
  {
   "cell_type": "code",
   "execution_count": 151,
   "id": "a4526c8b-bd24-4135-8748-e1751b98810f",
   "metadata": {},
   "outputs": [
    {
     "data": {
      "text/html": [
       "<div>\n",
       "<style scoped>\n",
       "    .dataframe tbody tr th:only-of-type {\n",
       "        vertical-align: middle;\n",
       "    }\n",
       "\n",
       "    .dataframe tbody tr th {\n",
       "        vertical-align: top;\n",
       "    }\n",
       "\n",
       "    .dataframe thead th {\n",
       "        text-align: right;\n",
       "    }\n",
       "</style>\n",
       "<table border=\"1\" class=\"dataframe\">\n",
       "  <thead>\n",
       "    <tr style=\"text-align: right;\">\n",
       "      <th></th>\n",
       "      <th>orig/rewr+rewr(mean)</th>\n",
       "      <th>0</th>\n",
       "    </tr>\n",
       "  </thead>\n",
       "  <tbody>\n",
       "    <tr>\n",
       "      <th>40</th>\n",
       "      <td>0</td>\n",
       "      <td>0</td>\n",
       "    </tr>\n",
       "    <tr>\n",
       "      <th>41</th>\n",
       "      <td>0</td>\n",
       "      <td>0</td>\n",
       "    </tr>\n",
       "    <tr>\n",
       "      <th>42</th>\n",
       "      <td>0</td>\n",
       "      <td>0</td>\n",
       "    </tr>\n",
       "    <tr>\n",
       "      <th>43</th>\n",
       "      <td>0</td>\n",
       "      <td>0</td>\n",
       "    </tr>\n",
       "    <tr>\n",
       "      <th>44</th>\n",
       "      <td>0</td>\n",
       "      <td>0</td>\n",
       "    </tr>\n",
       "    <tr>\n",
       "      <th>45</th>\n",
       "      <td>0</td>\n",
       "      <td>0</td>\n",
       "    </tr>\n",
       "    <tr>\n",
       "      <th>46</th>\n",
       "      <td>0</td>\n",
       "      <td>0</td>\n",
       "    </tr>\n",
       "    <tr>\n",
       "      <th>47</th>\n",
       "      <td>0</td>\n",
       "      <td>0</td>\n",
       "    </tr>\n",
       "    <tr>\n",
       "      <th>48</th>\n",
       "      <td>0</td>\n",
       "      <td>0</td>\n",
       "    </tr>\n",
       "    <tr>\n",
       "      <th>49</th>\n",
       "      <td>0</td>\n",
       "      <td>0</td>\n",
       "    </tr>\n",
       "    <tr>\n",
       "      <th>90</th>\n",
       "      <td>0</td>\n",
       "      <td>0</td>\n",
       "    </tr>\n",
       "    <tr>\n",
       "      <th>91</th>\n",
       "      <td>0</td>\n",
       "      <td>0</td>\n",
       "    </tr>\n",
       "    <tr>\n",
       "      <th>92</th>\n",
       "      <td>0</td>\n",
       "      <td>0</td>\n",
       "    </tr>\n",
       "    <tr>\n",
       "      <th>93</th>\n",
       "      <td>0</td>\n",
       "      <td>0</td>\n",
       "    </tr>\n",
       "    <tr>\n",
       "      <th>94</th>\n",
       "      <td>0</td>\n",
       "      <td>0</td>\n",
       "    </tr>\n",
       "    <tr>\n",
       "      <th>95</th>\n",
       "      <td>0</td>\n",
       "      <td>0</td>\n",
       "    </tr>\n",
       "    <tr>\n",
       "      <th>96</th>\n",
       "      <td>0</td>\n",
       "      <td>0</td>\n",
       "    </tr>\n",
       "    <tr>\n",
       "      <th>97</th>\n",
       "      <td>0</td>\n",
       "      <td>0</td>\n",
       "    </tr>\n",
       "    <tr>\n",
       "      <th>98</th>\n",
       "      <td>0</td>\n",
       "      <td>0</td>\n",
       "    </tr>\n",
       "    <tr>\n",
       "      <th>99</th>\n",
       "      <td>0</td>\n",
       "      <td>0</td>\n",
       "    </tr>\n",
       "    <tr>\n",
       "      <th>138</th>\n",
       "      <td>1</td>\n",
       "      <td>0</td>\n",
       "    </tr>\n",
       "    <tr>\n",
       "      <th>139</th>\n",
       "      <td>1</td>\n",
       "      <td>0</td>\n",
       "    </tr>\n",
       "    <tr>\n",
       "      <th>140</th>\n",
       "      <td>1</td>\n",
       "      <td>1</td>\n",
       "    </tr>\n",
       "    <tr>\n",
       "      <th>141</th>\n",
       "      <td>1</td>\n",
       "      <td>0</td>\n",
       "    </tr>\n",
       "    <tr>\n",
       "      <th>142</th>\n",
       "      <td>1</td>\n",
       "      <td>0</td>\n",
       "    </tr>\n",
       "    <tr>\n",
       "      <th>143</th>\n",
       "      <td>1</td>\n",
       "      <td>0</td>\n",
       "    </tr>\n",
       "    <tr>\n",
       "      <th>144</th>\n",
       "      <td>1</td>\n",
       "      <td>0</td>\n",
       "    </tr>\n",
       "    <tr>\n",
       "      <th>145</th>\n",
       "      <td>1</td>\n",
       "      <td>1</td>\n",
       "    </tr>\n",
       "    <tr>\n",
       "      <th>146</th>\n",
       "      <td>1</td>\n",
       "      <td>1</td>\n",
       "    </tr>\n",
       "    <tr>\n",
       "      <th>178</th>\n",
       "      <td>1</td>\n",
       "      <td>1</td>\n",
       "    </tr>\n",
       "    <tr>\n",
       "      <th>179</th>\n",
       "      <td>1</td>\n",
       "      <td>1</td>\n",
       "    </tr>\n",
       "    <tr>\n",
       "      <th>180</th>\n",
       "      <td>1</td>\n",
       "      <td>1</td>\n",
       "    </tr>\n",
       "    <tr>\n",
       "      <th>181</th>\n",
       "      <td>1</td>\n",
       "      <td>1</td>\n",
       "    </tr>\n",
       "    <tr>\n",
       "      <th>182</th>\n",
       "      <td>1</td>\n",
       "      <td>1</td>\n",
       "    </tr>\n",
       "    <tr>\n",
       "      <th>183</th>\n",
       "      <td>1</td>\n",
       "      <td>1</td>\n",
       "    </tr>\n",
       "    <tr>\n",
       "      <th>184</th>\n",
       "      <td>1</td>\n",
       "      <td>1</td>\n",
       "    </tr>\n",
       "    <tr>\n",
       "      <th>185</th>\n",
       "      <td>1</td>\n",
       "      <td>1</td>\n",
       "    </tr>\n",
       "    <tr>\n",
       "      <th>186</th>\n",
       "      <td>0</td>\n",
       "      <td>0</td>\n",
       "    </tr>\n",
       "    <tr>\n",
       "      <th>199</th>\n",
       "      <td>0</td>\n",
       "      <td>1</td>\n",
       "    </tr>\n",
       "    <tr>\n",
       "      <th>200</th>\n",
       "      <td>0</td>\n",
       "      <td>1</td>\n",
       "    </tr>\n",
       "    <tr>\n",
       "      <th>202</th>\n",
       "      <td>1</td>\n",
       "      <td>1</td>\n",
       "    </tr>\n",
       "  </tbody>\n",
       "</table>\n",
       "</div>"
      ],
      "text/plain": [
       "     orig/rewr+rewr(mean)  0\n",
       "40                      0  0\n",
       "41                      0  0\n",
       "42                      0  0\n",
       "43                      0  0\n",
       "44                      0  0\n",
       "45                      0  0\n",
       "46                      0  0\n",
       "47                      0  0\n",
       "48                      0  0\n",
       "49                      0  0\n",
       "90                      0  0\n",
       "91                      0  0\n",
       "92                      0  0\n",
       "93                      0  0\n",
       "94                      0  0\n",
       "95                      0  0\n",
       "96                      0  0\n",
       "97                      0  0\n",
       "98                      0  0\n",
       "99                      0  0\n",
       "138                     1  0\n",
       "139                     1  0\n",
       "140                     1  1\n",
       "141                     1  0\n",
       "142                     1  0\n",
       "143                     1  0\n",
       "144                     1  0\n",
       "145                     1  1\n",
       "146                     1  1\n",
       "178                     1  1\n",
       "179                     1  1\n",
       "180                     1  1\n",
       "181                     1  1\n",
       "182                     1  1\n",
       "183                     1  1\n",
       "184                     1  1\n",
       "185                     1  1\n",
       "186                     0  0\n",
       "199                     0  1\n",
       "200                     0  1\n",
       "202                     1  1"
      ]
     },
     "execution_count": 151,
     "metadata": {},
     "output_type": "execute_result"
    }
   ],
   "source": [
    "pd.concat([pd.Series(y2_test), pd.Series(y2_pred_rand_forest, index = pd.Series(y2_test).index)], axis = 1)"
   ]
  },
  {
   "cell_type": "markdown",
   "id": "20bb80a1-2207-4a03-9778-0546d7543352",
   "metadata": {},
   "source": [
    "Again all the last STATS queries are misclassified. Additionally 2 of the SNAP queries are misclassified."
   ]
  },
  {
   "cell_type": "code",
   "execution_count": 152,
   "id": "b7083cb0-bdd1-4c2e-bdd6-1af85eb86ffd",
   "metadata": {},
   "outputs": [],
   "source": [
    "X_with_intercept = sm.add_constant(X_train_small)\n",
    "ols_model = sm.OLS(np.array(y2_train), X_with_intercept).fit()"
   ]
  },
  {
   "cell_type": "code",
   "execution_count": 153,
   "id": "1c5f335d-b69b-461f-a3fa-3b6b38ea902f",
   "metadata": {},
   "outputs": [],
   "source": [
    "X_test_with_intercept = sm.add_constant(X_test_small)\n",
    "y2_pred_log_reg = ols_model.predict(X_test_with_intercept)"
   ]
  },
  {
   "cell_type": "code",
   "execution_count": 154,
   "id": "0d897f48-155a-472b-ad25-80c455e49075",
   "metadata": {},
   "outputs": [],
   "source": [
    "y2_pred_log_reg_035 = y2_pred_log_reg.apply(lambda x: 1 if x >= 0.35 else 0)"
   ]
  },
  {
   "cell_type": "code",
   "execution_count": 155,
   "id": "61b697c2-8353-4f56-aa7e-0a9356ea0227",
   "metadata": {},
   "outputs": [
    {
     "name": "stdout",
     "output_type": "stream",
     "text": [
      "0.6341463414634146\n",
      "[[19  4]\n",
      " [11  7]]\n"
     ]
    }
   ],
   "source": [
    "accuracy = accuracy_score(y2_test, y2_pred_log_reg_035)\n",
    "conf_matrix = confusion_matrix(y2_test, y2_pred_log_reg_035)\n",
    "print(accuracy)\n",
    "print(conf_matrix)"
   ]
  },
  {
   "cell_type": "code",
   "execution_count": 156,
   "id": "234a9c44-7717-4b9e-9728-8f160ba2e311",
   "metadata": {},
   "outputs": [
    {
     "data": {
      "text/html": [
       "<div>\n",
       "<style scoped>\n",
       "    .dataframe tbody tr th:only-of-type {\n",
       "        vertical-align: middle;\n",
       "    }\n",
       "\n",
       "    .dataframe tbody tr th {\n",
       "        vertical-align: top;\n",
       "    }\n",
       "\n",
       "    .dataframe thead th {\n",
       "        text-align: right;\n",
       "    }\n",
       "</style>\n",
       "<table border=\"1\" class=\"dataframe\">\n",
       "  <thead>\n",
       "    <tr style=\"text-align: right;\">\n",
       "      <th></th>\n",
       "      <th>orig/rewr+rewr(mean)</th>\n",
       "      <th>0</th>\n",
       "    </tr>\n",
       "  </thead>\n",
       "  <tbody>\n",
       "    <tr>\n",
       "      <th>40</th>\n",
       "      <td>0</td>\n",
       "      <td>1</td>\n",
       "    </tr>\n",
       "    <tr>\n",
       "      <th>41</th>\n",
       "      <td>0</td>\n",
       "      <td>0</td>\n",
       "    </tr>\n",
       "    <tr>\n",
       "      <th>42</th>\n",
       "      <td>0</td>\n",
       "      <td>0</td>\n",
       "    </tr>\n",
       "    <tr>\n",
       "      <th>43</th>\n",
       "      <td>0</td>\n",
       "      <td>0</td>\n",
       "    </tr>\n",
       "    <tr>\n",
       "      <th>44</th>\n",
       "      <td>0</td>\n",
       "      <td>0</td>\n",
       "    </tr>\n",
       "    <tr>\n",
       "      <th>45</th>\n",
       "      <td>0</td>\n",
       "      <td>0</td>\n",
       "    </tr>\n",
       "    <tr>\n",
       "      <th>46</th>\n",
       "      <td>0</td>\n",
       "      <td>0</td>\n",
       "    </tr>\n",
       "    <tr>\n",
       "      <th>47</th>\n",
       "      <td>0</td>\n",
       "      <td>0</td>\n",
       "    </tr>\n",
       "    <tr>\n",
       "      <th>48</th>\n",
       "      <td>0</td>\n",
       "      <td>0</td>\n",
       "    </tr>\n",
       "    <tr>\n",
       "      <th>49</th>\n",
       "      <td>0</td>\n",
       "      <td>0</td>\n",
       "    </tr>\n",
       "    <tr>\n",
       "      <th>90</th>\n",
       "      <td>0</td>\n",
       "      <td>0</td>\n",
       "    </tr>\n",
       "    <tr>\n",
       "      <th>91</th>\n",
       "      <td>0</td>\n",
       "      <td>0</td>\n",
       "    </tr>\n",
       "    <tr>\n",
       "      <th>92</th>\n",
       "      <td>0</td>\n",
       "      <td>1</td>\n",
       "    </tr>\n",
       "    <tr>\n",
       "      <th>93</th>\n",
       "      <td>0</td>\n",
       "      <td>0</td>\n",
       "    </tr>\n",
       "    <tr>\n",
       "      <th>94</th>\n",
       "      <td>0</td>\n",
       "      <td>0</td>\n",
       "    </tr>\n",
       "    <tr>\n",
       "      <th>95</th>\n",
       "      <td>0</td>\n",
       "      <td>1</td>\n",
       "    </tr>\n",
       "    <tr>\n",
       "      <th>96</th>\n",
       "      <td>0</td>\n",
       "      <td>1</td>\n",
       "    </tr>\n",
       "    <tr>\n",
       "      <th>97</th>\n",
       "      <td>0</td>\n",
       "      <td>0</td>\n",
       "    </tr>\n",
       "    <tr>\n",
       "      <th>98</th>\n",
       "      <td>0</td>\n",
       "      <td>0</td>\n",
       "    </tr>\n",
       "    <tr>\n",
       "      <th>99</th>\n",
       "      <td>0</td>\n",
       "      <td>0</td>\n",
       "    </tr>\n",
       "    <tr>\n",
       "      <th>138</th>\n",
       "      <td>1</td>\n",
       "      <td>1</td>\n",
       "    </tr>\n",
       "    <tr>\n",
       "      <th>139</th>\n",
       "      <td>1</td>\n",
       "      <td>0</td>\n",
       "    </tr>\n",
       "    <tr>\n",
       "      <th>140</th>\n",
       "      <td>1</td>\n",
       "      <td>1</td>\n",
       "    </tr>\n",
       "    <tr>\n",
       "      <th>141</th>\n",
       "      <td>1</td>\n",
       "      <td>1</td>\n",
       "    </tr>\n",
       "    <tr>\n",
       "      <th>142</th>\n",
       "      <td>1</td>\n",
       "      <td>1</td>\n",
       "    </tr>\n",
       "    <tr>\n",
       "      <th>143</th>\n",
       "      <td>1</td>\n",
       "      <td>0</td>\n",
       "    </tr>\n",
       "    <tr>\n",
       "      <th>144</th>\n",
       "      <td>1</td>\n",
       "      <td>0</td>\n",
       "    </tr>\n",
       "    <tr>\n",
       "      <th>145</th>\n",
       "      <td>1</td>\n",
       "      <td>0</td>\n",
       "    </tr>\n",
       "    <tr>\n",
       "      <th>146</th>\n",
       "      <td>1</td>\n",
       "      <td>1</td>\n",
       "    </tr>\n",
       "    <tr>\n",
       "      <th>178</th>\n",
       "      <td>1</td>\n",
       "      <td>1</td>\n",
       "    </tr>\n",
       "    <tr>\n",
       "      <th>179</th>\n",
       "      <td>1</td>\n",
       "      <td>0</td>\n",
       "    </tr>\n",
       "    <tr>\n",
       "      <th>180</th>\n",
       "      <td>1</td>\n",
       "      <td>0</td>\n",
       "    </tr>\n",
       "    <tr>\n",
       "      <th>181</th>\n",
       "      <td>1</td>\n",
       "      <td>0</td>\n",
       "    </tr>\n",
       "    <tr>\n",
       "      <th>182</th>\n",
       "      <td>1</td>\n",
       "      <td>0</td>\n",
       "    </tr>\n",
       "    <tr>\n",
       "      <th>183</th>\n",
       "      <td>1</td>\n",
       "      <td>1</td>\n",
       "    </tr>\n",
       "    <tr>\n",
       "      <th>184</th>\n",
       "      <td>1</td>\n",
       "      <td>0</td>\n",
       "    </tr>\n",
       "    <tr>\n",
       "      <th>185</th>\n",
       "      <td>1</td>\n",
       "      <td>0</td>\n",
       "    </tr>\n",
       "    <tr>\n",
       "      <th>186</th>\n",
       "      <td>0</td>\n",
       "      <td>0</td>\n",
       "    </tr>\n",
       "    <tr>\n",
       "      <th>199</th>\n",
       "      <td>0</td>\n",
       "      <td>0</td>\n",
       "    </tr>\n",
       "    <tr>\n",
       "      <th>200</th>\n",
       "      <td>0</td>\n",
       "      <td>0</td>\n",
       "    </tr>\n",
       "    <tr>\n",
       "      <th>202</th>\n",
       "      <td>1</td>\n",
       "      <td>0</td>\n",
       "    </tr>\n",
       "  </tbody>\n",
       "</table>\n",
       "</div>"
      ],
      "text/plain": [
       "     orig/rewr+rewr(mean)  0\n",
       "40                      0  1\n",
       "41                      0  0\n",
       "42                      0  0\n",
       "43                      0  0\n",
       "44                      0  0\n",
       "45                      0  0\n",
       "46                      0  0\n",
       "47                      0  0\n",
       "48                      0  0\n",
       "49                      0  0\n",
       "90                      0  0\n",
       "91                      0  0\n",
       "92                      0  1\n",
       "93                      0  0\n",
       "94                      0  0\n",
       "95                      0  1\n",
       "96                      0  1\n",
       "97                      0  0\n",
       "98                      0  0\n",
       "99                      0  0\n",
       "138                     1  1\n",
       "139                     1  0\n",
       "140                     1  1\n",
       "141                     1  1\n",
       "142                     1  1\n",
       "143                     1  0\n",
       "144                     1  0\n",
       "145                     1  0\n",
       "146                     1  1\n",
       "178                     1  1\n",
       "179                     1  0\n",
       "180                     1  0\n",
       "181                     1  0\n",
       "182                     1  0\n",
       "183                     1  1\n",
       "184                     1  0\n",
       "185                     1  0\n",
       "186                     0  0\n",
       "199                     0  0\n",
       "200                     0  0\n",
       "202                     1  0"
      ]
     },
     "execution_count": 156,
     "metadata": {},
     "output_type": "execute_result"
    }
   ],
   "source": [
    "pd.concat([pd.Series(y2_test), pd.Series(y2_pred_log_reg_035.values, index = pd.Series(y2_test).index)], axis = 1)"
   ]
  },
  {
   "cell_type": "markdown",
   "id": "e82e9572-e7a2-483a-836a-896ab08403e1",
   "metadata": {},
   "source": [
    "This one behaves completely differently. But again only STATS queries are misclassified (however in this case all over the benchmark dataset)."
   ]
  },
  {
   "cell_type": "code",
   "execution_count": null,
   "id": "97d24500-a2fd-40d3-a93d-fed53049094d",
   "metadata": {},
   "outputs": [],
   "source": []
  },
  {
   "cell_type": "code",
   "execution_count": null,
   "id": "b4b97041-066c-4106-9974-c06122283687",
   "metadata": {},
   "outputs": [],
   "source": []
  },
  {
   "cell_type": "markdown",
   "id": "b0797488-be72-481b-bdff-ff2bcbe9ae1d",
   "metadata": {},
   "source": [
    "Changing of the train test split only for getting insights (should not be done in general!)"
   ]
  },
  {
   "cell_type": "code",
   "execution_count": 157,
   "id": "4a67efb8-5f11-46ce-9567-85fe0c439598",
   "metadata": {},
   "outputs": [],
   "source": [
    "X_train_raw2 = X.iloc[list(range(0, 40)) + list(range(50, 90)) + list(range(100, 135)) + list(range(142, 144)) + list(range(147, 178)) + list(range(187, 199)) + \n",
    "list(range(201, 202))]\n",
    "X_test_raw2 = X.iloc[list(range(40, 50)) + list(range(90, 100)) + list(range(135, 142)) + list(range(144,147)) + list(range(178, 187)) + list(range(199, 201)) +\n",
    "list(range(202, 203))]\n",
    "y2_train2 = y2.iloc[list(range(0, 40)) + list(range(50, 90)) + list(range(100, 135)) + list(range(142, 144)) + list(range(147, 178)) + list(range(187, 199)) + \n",
    "list(range(201, 202))]\n",
    "y2_test2 = y2.iloc[list(range(40, 50)) + list(range(90, 100)) + list(range(135, 142)) + list(range(144,147)) + list(range(178, 187)) + list(range(199, 201)) +\n",
    "list(range(202, 203))]"
   ]
  },
  {
   "cell_type": "code",
   "execution_count": 158,
   "id": "bc42dc4d-c724-49bc-a4be-69c55af70833",
   "metadata": {},
   "outputs": [],
   "source": [
    "scaler = StandardScaler()\n",
    "scaler.fit(X_train_raw2)\n",
    "X_train2 = pd.DataFrame(scaler.transform(X_train_raw2), columns=X_train_raw2.columns)\n",
    "X_test2 = pd.DataFrame(scaler.transform(X_test_raw2), columns=X_test_raw2.columns)"
   ]
  },
  {
   "cell_type": "code",
   "execution_count": 159,
   "id": "4c113026-ee9f-4b80-92c3-fd88d859ad00",
   "metadata": {},
   "outputs": [],
   "source": [
    "X_train_small2 = X_train2.iloc[:,[0,1,2,3,4,9,15,17,22,27,28]]\n",
    "X_test_small2 = X_test2.iloc[:,[0,1,2,3,4,9,15,17,22,27,28]]"
   ]
  },
  {
   "cell_type": "code",
   "execution_count": 160,
   "id": "9e98c2dc-1913-4b36-a14a-4fd90974eff0",
   "metadata": {},
   "outputs": [],
   "source": [
    "clf = SVC(kernel='linear')\n",
    "clf.fit(X_train_small2, y2_train2)\n",
    "y2_pred_svm_linear2 = clf.predict(X_test_small2)"
   ]
  },
  {
   "cell_type": "code",
   "execution_count": 161,
   "id": "8804bf42-d5f4-471f-b7a5-b8b12442c5bd",
   "metadata": {},
   "outputs": [
    {
     "name": "stdout",
     "output_type": "stream",
     "text": [
      "0.8095238095238095\n",
      "[[23  0]\n",
      " [ 8 11]]\n"
     ]
    }
   ],
   "source": [
    "accuracy = accuracy_score(y2_test2, y2_pred_svm_linear2)\n",
    "conf_matrix = confusion_matrix(y2_test2, y2_pred_svm_linear2)\n",
    "print(accuracy)\n",
    "print(conf_matrix)"
   ]
  },
  {
   "cell_type": "code",
   "execution_count": 162,
   "id": "e0597c44-a297-47bd-b260-f69d1a3dda8c",
   "metadata": {},
   "outputs": [
    {
     "data": {
      "text/html": [
       "<div>\n",
       "<style scoped>\n",
       "    .dataframe tbody tr th:only-of-type {\n",
       "        vertical-align: middle;\n",
       "    }\n",
       "\n",
       "    .dataframe tbody tr th {\n",
       "        vertical-align: top;\n",
       "    }\n",
       "\n",
       "    .dataframe thead th {\n",
       "        text-align: right;\n",
       "    }\n",
       "</style>\n",
       "<table border=\"1\" class=\"dataframe\">\n",
       "  <thead>\n",
       "    <tr style=\"text-align: right;\">\n",
       "      <th></th>\n",
       "      <th>orig/rewr+rewr(mean)</th>\n",
       "      <th>0</th>\n",
       "    </tr>\n",
       "  </thead>\n",
       "  <tbody>\n",
       "    <tr>\n",
       "      <th>40</th>\n",
       "      <td>0</td>\n",
       "      <td>0</td>\n",
       "    </tr>\n",
       "    <tr>\n",
       "      <th>41</th>\n",
       "      <td>0</td>\n",
       "      <td>0</td>\n",
       "    </tr>\n",
       "    <tr>\n",
       "      <th>42</th>\n",
       "      <td>0</td>\n",
       "      <td>0</td>\n",
       "    </tr>\n",
       "    <tr>\n",
       "      <th>43</th>\n",
       "      <td>0</td>\n",
       "      <td>0</td>\n",
       "    </tr>\n",
       "    <tr>\n",
       "      <th>44</th>\n",
       "      <td>0</td>\n",
       "      <td>0</td>\n",
       "    </tr>\n",
       "    <tr>\n",
       "      <th>45</th>\n",
       "      <td>0</td>\n",
       "      <td>0</td>\n",
       "    </tr>\n",
       "    <tr>\n",
       "      <th>46</th>\n",
       "      <td>0</td>\n",
       "      <td>0</td>\n",
       "    </tr>\n",
       "    <tr>\n",
       "      <th>47</th>\n",
       "      <td>0</td>\n",
       "      <td>0</td>\n",
       "    </tr>\n",
       "    <tr>\n",
       "      <th>48</th>\n",
       "      <td>0</td>\n",
       "      <td>0</td>\n",
       "    </tr>\n",
       "    <tr>\n",
       "      <th>49</th>\n",
       "      <td>0</td>\n",
       "      <td>0</td>\n",
       "    </tr>\n",
       "    <tr>\n",
       "      <th>90</th>\n",
       "      <td>0</td>\n",
       "      <td>0</td>\n",
       "    </tr>\n",
       "    <tr>\n",
       "      <th>91</th>\n",
       "      <td>0</td>\n",
       "      <td>0</td>\n",
       "    </tr>\n",
       "    <tr>\n",
       "      <th>92</th>\n",
       "      <td>0</td>\n",
       "      <td>0</td>\n",
       "    </tr>\n",
       "    <tr>\n",
       "      <th>93</th>\n",
       "      <td>0</td>\n",
       "      <td>0</td>\n",
       "    </tr>\n",
       "    <tr>\n",
       "      <th>94</th>\n",
       "      <td>0</td>\n",
       "      <td>0</td>\n",
       "    </tr>\n",
       "    <tr>\n",
       "      <th>95</th>\n",
       "      <td>0</td>\n",
       "      <td>0</td>\n",
       "    </tr>\n",
       "    <tr>\n",
       "      <th>96</th>\n",
       "      <td>0</td>\n",
       "      <td>0</td>\n",
       "    </tr>\n",
       "    <tr>\n",
       "      <th>97</th>\n",
       "      <td>0</td>\n",
       "      <td>0</td>\n",
       "    </tr>\n",
       "    <tr>\n",
       "      <th>98</th>\n",
       "      <td>0</td>\n",
       "      <td>0</td>\n",
       "    </tr>\n",
       "    <tr>\n",
       "      <th>99</th>\n",
       "      <td>0</td>\n",
       "      <td>0</td>\n",
       "    </tr>\n",
       "    <tr>\n",
       "      <th>135</th>\n",
       "      <td>1</td>\n",
       "      <td>0</td>\n",
       "    </tr>\n",
       "    <tr>\n",
       "      <th>136</th>\n",
       "      <td>1</td>\n",
       "      <td>1</td>\n",
       "    </tr>\n",
       "    <tr>\n",
       "      <th>137</th>\n",
       "      <td>1</td>\n",
       "      <td>0</td>\n",
       "    </tr>\n",
       "    <tr>\n",
       "      <th>138</th>\n",
       "      <td>1</td>\n",
       "      <td>0</td>\n",
       "    </tr>\n",
       "    <tr>\n",
       "      <th>139</th>\n",
       "      <td>1</td>\n",
       "      <td>0</td>\n",
       "    </tr>\n",
       "    <tr>\n",
       "      <th>140</th>\n",
       "      <td>1</td>\n",
       "      <td>1</td>\n",
       "    </tr>\n",
       "    <tr>\n",
       "      <th>141</th>\n",
       "      <td>1</td>\n",
       "      <td>0</td>\n",
       "    </tr>\n",
       "    <tr>\n",
       "      <th>144</th>\n",
       "      <td>1</td>\n",
       "      <td>0</td>\n",
       "    </tr>\n",
       "    <tr>\n",
       "      <th>145</th>\n",
       "      <td>1</td>\n",
       "      <td>0</td>\n",
       "    </tr>\n",
       "    <tr>\n",
       "      <th>146</th>\n",
       "      <td>1</td>\n",
       "      <td>0</td>\n",
       "    </tr>\n",
       "    <tr>\n",
       "      <th>178</th>\n",
       "      <td>1</td>\n",
       "      <td>1</td>\n",
       "    </tr>\n",
       "    <tr>\n",
       "      <th>179</th>\n",
       "      <td>1</td>\n",
       "      <td>1</td>\n",
       "    </tr>\n",
       "    <tr>\n",
       "      <th>180</th>\n",
       "      <td>1</td>\n",
       "      <td>1</td>\n",
       "    </tr>\n",
       "    <tr>\n",
       "      <th>181</th>\n",
       "      <td>1</td>\n",
       "      <td>1</td>\n",
       "    </tr>\n",
       "    <tr>\n",
       "      <th>182</th>\n",
       "      <td>1</td>\n",
       "      <td>1</td>\n",
       "    </tr>\n",
       "    <tr>\n",
       "      <th>183</th>\n",
       "      <td>1</td>\n",
       "      <td>1</td>\n",
       "    </tr>\n",
       "    <tr>\n",
       "      <th>184</th>\n",
       "      <td>1</td>\n",
       "      <td>1</td>\n",
       "    </tr>\n",
       "    <tr>\n",
       "      <th>185</th>\n",
       "      <td>1</td>\n",
       "      <td>1</td>\n",
       "    </tr>\n",
       "    <tr>\n",
       "      <th>186</th>\n",
       "      <td>0</td>\n",
       "      <td>0</td>\n",
       "    </tr>\n",
       "    <tr>\n",
       "      <th>199</th>\n",
       "      <td>0</td>\n",
       "      <td>0</td>\n",
       "    </tr>\n",
       "    <tr>\n",
       "      <th>200</th>\n",
       "      <td>0</td>\n",
       "      <td>0</td>\n",
       "    </tr>\n",
       "    <tr>\n",
       "      <th>202</th>\n",
       "      <td>1</td>\n",
       "      <td>1</td>\n",
       "    </tr>\n",
       "  </tbody>\n",
       "</table>\n",
       "</div>"
      ],
      "text/plain": [
       "     orig/rewr+rewr(mean)  0\n",
       "40                      0  0\n",
       "41                      0  0\n",
       "42                      0  0\n",
       "43                      0  0\n",
       "44                      0  0\n",
       "45                      0  0\n",
       "46                      0  0\n",
       "47                      0  0\n",
       "48                      0  0\n",
       "49                      0  0\n",
       "90                      0  0\n",
       "91                      0  0\n",
       "92                      0  0\n",
       "93                      0  0\n",
       "94                      0  0\n",
       "95                      0  0\n",
       "96                      0  0\n",
       "97                      0  0\n",
       "98                      0  0\n",
       "99                      0  0\n",
       "135                     1  0\n",
       "136                     1  1\n",
       "137                     1  0\n",
       "138                     1  0\n",
       "139                     1  0\n",
       "140                     1  1\n",
       "141                     1  0\n",
       "144                     1  0\n",
       "145                     1  0\n",
       "146                     1  0\n",
       "178                     1  1\n",
       "179                     1  1\n",
       "180                     1  1\n",
       "181                     1  1\n",
       "182                     1  1\n",
       "183                     1  1\n",
       "184                     1  1\n",
       "185                     1  1\n",
       "186                     0  0\n",
       "199                     0  0\n",
       "200                     0  0\n",
       "202                     1  1"
      ]
     },
     "execution_count": 162,
     "metadata": {},
     "output_type": "execute_result"
    }
   ],
   "source": [
    "pd.concat([pd.Series(y2_test2), pd.Series(y2_pred_svm_linear2, index = pd.Series(y2_test2).index)], axis = 1)"
   ]
  },
  {
   "cell_type": "markdown",
   "id": "f420d662-9786-42d7-8b3f-53c6f8c013bd",
   "metadata": {},
   "source": [
    "Very interestingly again 8 STATS queries are misclassified, so i could not take the other training samples to its advantage."
   ]
  },
  {
   "cell_type": "code",
   "execution_count": 163,
   "id": "16347b5e-7ac1-4e3f-8b03-7ae7e875586b",
   "metadata": {},
   "outputs": [],
   "source": [
    "model = RandomForestClassifier(n_estimators=100)\n",
    "model.fit(X_train_small2, y2_train2)\n",
    "y2_pred_rand_forest2 = model.predict(X_test_small2)"
   ]
  },
  {
   "cell_type": "code",
   "execution_count": 164,
   "id": "d9b34f19-775a-48f8-a271-7c6bdfb3b239",
   "metadata": {},
   "outputs": [
    {
     "name": "stdout",
     "output_type": "stream",
     "text": [
      "0.8809523809523809\n",
      "[[23  0]\n",
      " [ 5 14]]\n"
     ]
    }
   ],
   "source": [
    "accuracy = accuracy_score(y2_test2, y2_pred_rand_forest2)\n",
    "conf_matrix = confusion_matrix(y2_test2, y2_pred_rand_forest2)\n",
    "print(accuracy)\n",
    "print(conf_matrix)"
   ]
  },
  {
   "cell_type": "code",
   "execution_count": 165,
   "id": "5cda0c73-be5d-4e87-bc3c-6ccd6d62c98f",
   "metadata": {},
   "outputs": [
    {
     "data": {
      "text/html": [
       "<div>\n",
       "<style scoped>\n",
       "    .dataframe tbody tr th:only-of-type {\n",
       "        vertical-align: middle;\n",
       "    }\n",
       "\n",
       "    .dataframe tbody tr th {\n",
       "        vertical-align: top;\n",
       "    }\n",
       "\n",
       "    .dataframe thead th {\n",
       "        text-align: right;\n",
       "    }\n",
       "</style>\n",
       "<table border=\"1\" class=\"dataframe\">\n",
       "  <thead>\n",
       "    <tr style=\"text-align: right;\">\n",
       "      <th></th>\n",
       "      <th>orig/rewr+rewr(mean)</th>\n",
       "      <th>0</th>\n",
       "    </tr>\n",
       "  </thead>\n",
       "  <tbody>\n",
       "    <tr>\n",
       "      <th>40</th>\n",
       "      <td>0</td>\n",
       "      <td>0</td>\n",
       "    </tr>\n",
       "    <tr>\n",
       "      <th>41</th>\n",
       "      <td>0</td>\n",
       "      <td>0</td>\n",
       "    </tr>\n",
       "    <tr>\n",
       "      <th>42</th>\n",
       "      <td>0</td>\n",
       "      <td>0</td>\n",
       "    </tr>\n",
       "    <tr>\n",
       "      <th>43</th>\n",
       "      <td>0</td>\n",
       "      <td>0</td>\n",
       "    </tr>\n",
       "    <tr>\n",
       "      <th>44</th>\n",
       "      <td>0</td>\n",
       "      <td>0</td>\n",
       "    </tr>\n",
       "    <tr>\n",
       "      <th>45</th>\n",
       "      <td>0</td>\n",
       "      <td>0</td>\n",
       "    </tr>\n",
       "    <tr>\n",
       "      <th>46</th>\n",
       "      <td>0</td>\n",
       "      <td>0</td>\n",
       "    </tr>\n",
       "    <tr>\n",
       "      <th>47</th>\n",
       "      <td>0</td>\n",
       "      <td>0</td>\n",
       "    </tr>\n",
       "    <tr>\n",
       "      <th>48</th>\n",
       "      <td>0</td>\n",
       "      <td>0</td>\n",
       "    </tr>\n",
       "    <tr>\n",
       "      <th>49</th>\n",
       "      <td>0</td>\n",
       "      <td>0</td>\n",
       "    </tr>\n",
       "    <tr>\n",
       "      <th>90</th>\n",
       "      <td>0</td>\n",
       "      <td>0</td>\n",
       "    </tr>\n",
       "    <tr>\n",
       "      <th>91</th>\n",
       "      <td>0</td>\n",
       "      <td>0</td>\n",
       "    </tr>\n",
       "    <tr>\n",
       "      <th>92</th>\n",
       "      <td>0</td>\n",
       "      <td>0</td>\n",
       "    </tr>\n",
       "    <tr>\n",
       "      <th>93</th>\n",
       "      <td>0</td>\n",
       "      <td>0</td>\n",
       "    </tr>\n",
       "    <tr>\n",
       "      <th>94</th>\n",
       "      <td>0</td>\n",
       "      <td>0</td>\n",
       "    </tr>\n",
       "    <tr>\n",
       "      <th>95</th>\n",
       "      <td>0</td>\n",
       "      <td>0</td>\n",
       "    </tr>\n",
       "    <tr>\n",
       "      <th>96</th>\n",
       "      <td>0</td>\n",
       "      <td>0</td>\n",
       "    </tr>\n",
       "    <tr>\n",
       "      <th>97</th>\n",
       "      <td>0</td>\n",
       "      <td>0</td>\n",
       "    </tr>\n",
       "    <tr>\n",
       "      <th>98</th>\n",
       "      <td>0</td>\n",
       "      <td>0</td>\n",
       "    </tr>\n",
       "    <tr>\n",
       "      <th>99</th>\n",
       "      <td>0</td>\n",
       "      <td>0</td>\n",
       "    </tr>\n",
       "    <tr>\n",
       "      <th>135</th>\n",
       "      <td>1</td>\n",
       "      <td>1</td>\n",
       "    </tr>\n",
       "    <tr>\n",
       "      <th>136</th>\n",
       "      <td>1</td>\n",
       "      <td>1</td>\n",
       "    </tr>\n",
       "    <tr>\n",
       "      <th>137</th>\n",
       "      <td>1</td>\n",
       "      <td>0</td>\n",
       "    </tr>\n",
       "    <tr>\n",
       "      <th>138</th>\n",
       "      <td>1</td>\n",
       "      <td>0</td>\n",
       "    </tr>\n",
       "    <tr>\n",
       "      <th>139</th>\n",
       "      <td>1</td>\n",
       "      <td>1</td>\n",
       "    </tr>\n",
       "    <tr>\n",
       "      <th>140</th>\n",
       "      <td>1</td>\n",
       "      <td>1</td>\n",
       "    </tr>\n",
       "    <tr>\n",
       "      <th>141</th>\n",
       "      <td>1</td>\n",
       "      <td>0</td>\n",
       "    </tr>\n",
       "    <tr>\n",
       "      <th>144</th>\n",
       "      <td>1</td>\n",
       "      <td>0</td>\n",
       "    </tr>\n",
       "    <tr>\n",
       "      <th>145</th>\n",
       "      <td>1</td>\n",
       "      <td>0</td>\n",
       "    </tr>\n",
       "    <tr>\n",
       "      <th>146</th>\n",
       "      <td>1</td>\n",
       "      <td>1</td>\n",
       "    </tr>\n",
       "    <tr>\n",
       "      <th>178</th>\n",
       "      <td>1</td>\n",
       "      <td>1</td>\n",
       "    </tr>\n",
       "    <tr>\n",
       "      <th>179</th>\n",
       "      <td>1</td>\n",
       "      <td>1</td>\n",
       "    </tr>\n",
       "    <tr>\n",
       "      <th>180</th>\n",
       "      <td>1</td>\n",
       "      <td>1</td>\n",
       "    </tr>\n",
       "    <tr>\n",
       "      <th>181</th>\n",
       "      <td>1</td>\n",
       "      <td>1</td>\n",
       "    </tr>\n",
       "    <tr>\n",
       "      <th>182</th>\n",
       "      <td>1</td>\n",
       "      <td>1</td>\n",
       "    </tr>\n",
       "    <tr>\n",
       "      <th>183</th>\n",
       "      <td>1</td>\n",
       "      <td>1</td>\n",
       "    </tr>\n",
       "    <tr>\n",
       "      <th>184</th>\n",
       "      <td>1</td>\n",
       "      <td>1</td>\n",
       "    </tr>\n",
       "    <tr>\n",
       "      <th>185</th>\n",
       "      <td>1</td>\n",
       "      <td>1</td>\n",
       "    </tr>\n",
       "    <tr>\n",
       "      <th>186</th>\n",
       "      <td>0</td>\n",
       "      <td>0</td>\n",
       "    </tr>\n",
       "    <tr>\n",
       "      <th>199</th>\n",
       "      <td>0</td>\n",
       "      <td>0</td>\n",
       "    </tr>\n",
       "    <tr>\n",
       "      <th>200</th>\n",
       "      <td>0</td>\n",
       "      <td>0</td>\n",
       "    </tr>\n",
       "    <tr>\n",
       "      <th>202</th>\n",
       "      <td>1</td>\n",
       "      <td>1</td>\n",
       "    </tr>\n",
       "  </tbody>\n",
       "</table>\n",
       "</div>"
      ],
      "text/plain": [
       "     orig/rewr+rewr(mean)  0\n",
       "40                      0  0\n",
       "41                      0  0\n",
       "42                      0  0\n",
       "43                      0  0\n",
       "44                      0  0\n",
       "45                      0  0\n",
       "46                      0  0\n",
       "47                      0  0\n",
       "48                      0  0\n",
       "49                      0  0\n",
       "90                      0  0\n",
       "91                      0  0\n",
       "92                      0  0\n",
       "93                      0  0\n",
       "94                      0  0\n",
       "95                      0  0\n",
       "96                      0  0\n",
       "97                      0  0\n",
       "98                      0  0\n",
       "99                      0  0\n",
       "135                     1  1\n",
       "136                     1  1\n",
       "137                     1  0\n",
       "138                     1  0\n",
       "139                     1  1\n",
       "140                     1  1\n",
       "141                     1  0\n",
       "144                     1  0\n",
       "145                     1  0\n",
       "146                     1  1\n",
       "178                     1  1\n",
       "179                     1  1\n",
       "180                     1  1\n",
       "181                     1  1\n",
       "182                     1  1\n",
       "183                     1  1\n",
       "184                     1  1\n",
       "185                     1  1\n",
       "186                     0  0\n",
       "199                     0  0\n",
       "200                     0  0\n",
       "202                     1  1"
      ]
     },
     "execution_count": 165,
     "metadata": {},
     "output_type": "execute_result"
    }
   ],
   "source": [
    "pd.concat([pd.Series(y2_test2), pd.Series(y2_pred_rand_forest2, index = pd.Series(y2_test2).index)], axis = 1)"
   ]
  },
  {
   "cell_type": "markdown",
   "id": "9b89f33a-30bb-4219-8acb-b1f908ac1ffc",
   "metadata": {},
   "source": [
    "In this case it helped, since we exactly excluded those, which the model had problems with before. And it also classified the SNAP queries here correctly."
   ]
  },
  {
   "cell_type": "code",
   "execution_count": 166,
   "id": "c0d45907-af9a-4b72-b9a8-26ec6764e9b3",
   "metadata": {},
   "outputs": [],
   "source": [
    "X_with_intercept2 = sm.add_constant(X_train_small2)\n",
    "ols_model = sm.OLS(np.array(y2_train2), X_with_intercept2).fit()"
   ]
  },
  {
   "cell_type": "code",
   "execution_count": 167,
   "id": "7928016d-ac00-422b-8974-34a8084aa6b8",
   "metadata": {},
   "outputs": [],
   "source": [
    "X_test_with_intercept2 = sm.add_constant(X_test_small2)\n",
    "y2_pred_log_reg2 = ols_model.predict(X_test_with_intercept2)"
   ]
  },
  {
   "cell_type": "code",
   "execution_count": 168,
   "id": "db354a82-6d3f-4652-a09e-e716be0dbc6a",
   "metadata": {},
   "outputs": [],
   "source": [
    "y2_pred_log_reg_0352 = y2_pred_log_reg2.apply(lambda x: 1 if x >= 0.35 else 0)"
   ]
  },
  {
   "cell_type": "code",
   "execution_count": 169,
   "id": "af8277c5-8f91-41c3-b4d1-0257bf98c750",
   "metadata": {},
   "outputs": [
    {
     "name": "stdout",
     "output_type": "stream",
     "text": [
      "0.6666666666666666\n",
      "[[20  3]\n",
      " [11  8]]\n"
     ]
    }
   ],
   "source": [
    "accuracy = accuracy_score(y2_test2, y2_pred_log_reg_0352)\n",
    "conf_matrix = confusion_matrix(y2_test2, y2_pred_log_reg_0352)\n",
    "print(accuracy)\n",
    "print(conf_matrix)"
   ]
  },
  {
   "cell_type": "code",
   "execution_count": 170,
   "id": "03767ea8-6624-4aec-a54b-9f461cd2f991",
   "metadata": {},
   "outputs": [
    {
     "data": {
      "text/html": [
       "<div>\n",
       "<style scoped>\n",
       "    .dataframe tbody tr th:only-of-type {\n",
       "        vertical-align: middle;\n",
       "    }\n",
       "\n",
       "    .dataframe tbody tr th {\n",
       "        vertical-align: top;\n",
       "    }\n",
       "\n",
       "    .dataframe thead th {\n",
       "        text-align: right;\n",
       "    }\n",
       "</style>\n",
       "<table border=\"1\" class=\"dataframe\">\n",
       "  <thead>\n",
       "    <tr style=\"text-align: right;\">\n",
       "      <th></th>\n",
       "      <th>orig/rewr+rewr(mean)</th>\n",
       "      <th>0</th>\n",
       "    </tr>\n",
       "  </thead>\n",
       "  <tbody>\n",
       "    <tr>\n",
       "      <th>40</th>\n",
       "      <td>0</td>\n",
       "      <td>1</td>\n",
       "    </tr>\n",
       "    <tr>\n",
       "      <th>41</th>\n",
       "      <td>0</td>\n",
       "      <td>0</td>\n",
       "    </tr>\n",
       "    <tr>\n",
       "      <th>42</th>\n",
       "      <td>0</td>\n",
       "      <td>0</td>\n",
       "    </tr>\n",
       "    <tr>\n",
       "      <th>43</th>\n",
       "      <td>0</td>\n",
       "      <td>0</td>\n",
       "    </tr>\n",
       "    <tr>\n",
       "      <th>44</th>\n",
       "      <td>0</td>\n",
       "      <td>0</td>\n",
       "    </tr>\n",
       "    <tr>\n",
       "      <th>45</th>\n",
       "      <td>0</td>\n",
       "      <td>0</td>\n",
       "    </tr>\n",
       "    <tr>\n",
       "      <th>46</th>\n",
       "      <td>0</td>\n",
       "      <td>0</td>\n",
       "    </tr>\n",
       "    <tr>\n",
       "      <th>47</th>\n",
       "      <td>0</td>\n",
       "      <td>0</td>\n",
       "    </tr>\n",
       "    <tr>\n",
       "      <th>48</th>\n",
       "      <td>0</td>\n",
       "      <td>0</td>\n",
       "    </tr>\n",
       "    <tr>\n",
       "      <th>49</th>\n",
       "      <td>0</td>\n",
       "      <td>0</td>\n",
       "    </tr>\n",
       "    <tr>\n",
       "      <th>90</th>\n",
       "      <td>0</td>\n",
       "      <td>0</td>\n",
       "    </tr>\n",
       "    <tr>\n",
       "      <th>91</th>\n",
       "      <td>0</td>\n",
       "      <td>0</td>\n",
       "    </tr>\n",
       "    <tr>\n",
       "      <th>92</th>\n",
       "      <td>0</td>\n",
       "      <td>1</td>\n",
       "    </tr>\n",
       "    <tr>\n",
       "      <th>93</th>\n",
       "      <td>0</td>\n",
       "      <td>0</td>\n",
       "    </tr>\n",
       "    <tr>\n",
       "      <th>94</th>\n",
       "      <td>0</td>\n",
       "      <td>0</td>\n",
       "    </tr>\n",
       "    <tr>\n",
       "      <th>95</th>\n",
       "      <td>0</td>\n",
       "      <td>1</td>\n",
       "    </tr>\n",
       "    <tr>\n",
       "      <th>96</th>\n",
       "      <td>0</td>\n",
       "      <td>0</td>\n",
       "    </tr>\n",
       "    <tr>\n",
       "      <th>97</th>\n",
       "      <td>0</td>\n",
       "      <td>0</td>\n",
       "    </tr>\n",
       "    <tr>\n",
       "      <th>98</th>\n",
       "      <td>0</td>\n",
       "      <td>0</td>\n",
       "    </tr>\n",
       "    <tr>\n",
       "      <th>99</th>\n",
       "      <td>0</td>\n",
       "      <td>0</td>\n",
       "    </tr>\n",
       "    <tr>\n",
       "      <th>135</th>\n",
       "      <td>1</td>\n",
       "      <td>1</td>\n",
       "    </tr>\n",
       "    <tr>\n",
       "      <th>136</th>\n",
       "      <td>1</td>\n",
       "      <td>1</td>\n",
       "    </tr>\n",
       "    <tr>\n",
       "      <th>137</th>\n",
       "      <td>1</td>\n",
       "      <td>0</td>\n",
       "    </tr>\n",
       "    <tr>\n",
       "      <th>138</th>\n",
       "      <td>1</td>\n",
       "      <td>1</td>\n",
       "    </tr>\n",
       "    <tr>\n",
       "      <th>139</th>\n",
       "      <td>1</td>\n",
       "      <td>0</td>\n",
       "    </tr>\n",
       "    <tr>\n",
       "      <th>140</th>\n",
       "      <td>1</td>\n",
       "      <td>1</td>\n",
       "    </tr>\n",
       "    <tr>\n",
       "      <th>141</th>\n",
       "      <td>1</td>\n",
       "      <td>1</td>\n",
       "    </tr>\n",
       "    <tr>\n",
       "      <th>144</th>\n",
       "      <td>1</td>\n",
       "      <td>0</td>\n",
       "    </tr>\n",
       "    <tr>\n",
       "      <th>145</th>\n",
       "      <td>1</td>\n",
       "      <td>0</td>\n",
       "    </tr>\n",
       "    <tr>\n",
       "      <th>146</th>\n",
       "      <td>1</td>\n",
       "      <td>1</td>\n",
       "    </tr>\n",
       "    <tr>\n",
       "      <th>178</th>\n",
       "      <td>1</td>\n",
       "      <td>1</td>\n",
       "    </tr>\n",
       "    <tr>\n",
       "      <th>179</th>\n",
       "      <td>1</td>\n",
       "      <td>0</td>\n",
       "    </tr>\n",
       "    <tr>\n",
       "      <th>180</th>\n",
       "      <td>1</td>\n",
       "      <td>0</td>\n",
       "    </tr>\n",
       "    <tr>\n",
       "      <th>181</th>\n",
       "      <td>1</td>\n",
       "      <td>0</td>\n",
       "    </tr>\n",
       "    <tr>\n",
       "      <th>182</th>\n",
       "      <td>1</td>\n",
       "      <td>0</td>\n",
       "    </tr>\n",
       "    <tr>\n",
       "      <th>183</th>\n",
       "      <td>1</td>\n",
       "      <td>1</td>\n",
       "    </tr>\n",
       "    <tr>\n",
       "      <th>184</th>\n",
       "      <td>1</td>\n",
       "      <td>0</td>\n",
       "    </tr>\n",
       "    <tr>\n",
       "      <th>185</th>\n",
       "      <td>1</td>\n",
       "      <td>0</td>\n",
       "    </tr>\n",
       "    <tr>\n",
       "      <th>186</th>\n",
       "      <td>0</td>\n",
       "      <td>0</td>\n",
       "    </tr>\n",
       "    <tr>\n",
       "      <th>199</th>\n",
       "      <td>0</td>\n",
       "      <td>0</td>\n",
       "    </tr>\n",
       "    <tr>\n",
       "      <th>200</th>\n",
       "      <td>0</td>\n",
       "      <td>0</td>\n",
       "    </tr>\n",
       "    <tr>\n",
       "      <th>202</th>\n",
       "      <td>1</td>\n",
       "      <td>0</td>\n",
       "    </tr>\n",
       "  </tbody>\n",
       "</table>\n",
       "</div>"
      ],
      "text/plain": [
       "     orig/rewr+rewr(mean)  0\n",
       "40                      0  1\n",
       "41                      0  0\n",
       "42                      0  0\n",
       "43                      0  0\n",
       "44                      0  0\n",
       "45                      0  0\n",
       "46                      0  0\n",
       "47                      0  0\n",
       "48                      0  0\n",
       "49                      0  0\n",
       "90                      0  0\n",
       "91                      0  0\n",
       "92                      0  1\n",
       "93                      0  0\n",
       "94                      0  0\n",
       "95                      0  1\n",
       "96                      0  0\n",
       "97                      0  0\n",
       "98                      0  0\n",
       "99                      0  0\n",
       "135                     1  1\n",
       "136                     1  1\n",
       "137                     1  0\n",
       "138                     1  1\n",
       "139                     1  0\n",
       "140                     1  1\n",
       "141                     1  1\n",
       "144                     1  0\n",
       "145                     1  0\n",
       "146                     1  1\n",
       "178                     1  1\n",
       "179                     1  0\n",
       "180                     1  0\n",
       "181                     1  0\n",
       "182                     1  0\n",
       "183                     1  1\n",
       "184                     1  0\n",
       "185                     1  0\n",
       "186                     0  0\n",
       "199                     0  0\n",
       "200                     0  0\n",
       "202                     1  0"
      ]
     },
     "execution_count": 170,
     "metadata": {},
     "output_type": "execute_result"
    }
   ],
   "source": [
    "pd.concat([pd.Series(y2_test2), pd.Series(y2_pred_log_reg_0352.values, index = pd.Series(y2_test2).index)], axis = 1)"
   ]
  }
 ],
 "metadata": {
  "kernelspec": {
   "display_name": "Python 3 (ipykernel)",
   "language": "python",
   "name": "python3"
  },
  "language_info": {
   "codemirror_mode": {
    "name": "ipython",
    "version": 3
   },
   "file_extension": ".py",
   "mimetype": "text/x-python",
   "name": "python",
   "nbconvert_exporter": "python",
   "pygments_lexer": "ipython3",
   "version": "3.10.12"
  }
 },
 "nbformat": 4,
 "nbformat_minor": 5
}
