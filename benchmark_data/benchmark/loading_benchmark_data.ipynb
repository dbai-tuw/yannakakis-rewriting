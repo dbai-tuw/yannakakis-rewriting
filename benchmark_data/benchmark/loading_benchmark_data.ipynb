{
 "cells": [
  {
   "cell_type": "markdown",
   "id": "e216c73a-8d87-4399-a380-c815b04e4244",
   "metadata": {},
   "source": [
    "# Loading the benchmark data and queries\n",
    "\n",
    "* LSQB\n",
    "* SNAP\n",
    "* JOB\n",
    "* STATS"
   ]
  },
  {
   "cell_type": "markdown",
   "id": "032793ce-eb0b-4c86-9524-b34553603b40",
   "metadata": {},
   "source": [
    "## Create the DB users"
   ]
  },
  {
   "cell_type": "code",
   "execution_count": 1,
   "id": "b717d04a-34ac-44b6-82e9-e0bbd88f9429",
   "metadata": {},
   "outputs": [
    {
     "name": "stderr",
     "output_type": "stream",
     "text": [
      "ERROR:  role \"lsqb\" already exists\n",
      "ERROR:  database \"lsqb\" already exists\n"
     ]
    },
    {
     "name": "stdout",
     "output_type": "stream",
     "text": [
      "GRANT\n",
      "You are now connected to database \"lsqb\" as user \"postgres\".\n",
      "GRANT\n"
     ]
    },
    {
     "name": "stderr",
     "output_type": "stream",
     "text": [
      "ERROR:  role \"snap\" already exists\n",
      "ERROR:  database \"snap\" already exists\n"
     ]
    },
    {
     "name": "stdout",
     "output_type": "stream",
     "text": [
      "GRANT\n",
      "You are now connected to database \"snap\" as user \"postgres\".\n",
      "GRANT\n"
     ]
    },
    {
     "name": "stderr",
     "output_type": "stream",
     "text": [
      "ERROR:  role \"tpcds\" already exists\n",
      "ERROR:  database \"tpcds\" already exists\n"
     ]
    },
    {
     "name": "stdout",
     "output_type": "stream",
     "text": [
      "GRANT\n",
      "You are now connected to database \"tpcds\" as user \"postgres\".\n",
      "GRANT\n"
     ]
    },
    {
     "name": "stderr",
     "output_type": "stream",
     "text": [
      "ERROR:  role \"tpch\" already exists\n",
      "ERROR:  database \"tpch\" already exists\n"
     ]
    },
    {
     "name": "stdout",
     "output_type": "stream",
     "text": [
      "GRANT\n",
      "You are now connected to database \"tpch\" as user \"postgres\".\n",
      "GRANT\n"
     ]
    },
    {
     "name": "stderr",
     "output_type": "stream",
     "text": [
      "ERROR:  role \"imdb\" already exists\n",
      "ERROR:  database \"imdb\" already exists\n"
     ]
    },
    {
     "name": "stdout",
     "output_type": "stream",
     "text": [
      "GRANT\n",
      "You are now connected to database \"imdb\" as user \"postgres\".\n",
      "GRANT\n"
     ]
    },
    {
     "name": "stderr",
     "output_type": "stream",
     "text": [
      "ERROR:  role \"stats\" already exists\n",
      "ERROR:  database \"stats\" already exists\n"
     ]
    },
    {
     "name": "stdout",
     "output_type": "stream",
     "text": [
      "GRANT\n",
      "You are now connected to database \"stats\" as user \"postgres\".\n",
      "GRANT\n"
     ]
    }
   ],
   "source": [
    "%%bash\n",
    "\n",
    "export PGPASSWORD=postgres\n",
    "\n",
    "create_db() {\n",
    "cat <<EOF\n",
    "        create user $1 with password '$1';\n",
    "        create database $1;\n",
    "        grant all privileges on database $1 to $1;\n",
    "        \\c $1 postgres\n",
    "        grant all on schema public to $1;\n",
    "EOF\n",
    "}\n",
    "\n",
    "dbnames=(lsqb snap tpcds tpch)\n",
    "\n",
    "psql --host=postgres --username postgres --dbname postgres <<-EOSQL\n",
    "        $(create_db lsqb)\n",
    "        $(create_db snap)\n",
    "        $(create_db tpcds)\n",
    "        $(create_db tpch)\n",
    "        $(create_db imdb)\n",
    "        $(create_db stats)\n",
    "EOSQL"
   ]
  },
  {
   "cell_type": "markdown",
   "id": "e50f5d83-1b21-4f99-9482-1089e2c25123",
   "metadata": {},
   "source": [
    "# LSQB"
   ]
  },
  {
   "cell_type": "markdown",
   "id": "4ffd1ec3-37f2-48cb-aa3d-37b44a3d0392",
   "metadata": {},
   "source": [
    "## Fetch LSQB data"
   ]
  },
  {
   "cell_type": "markdown",
   "id": "c9e62a19-9a3f-402b-8448-e0cfcfd70ed8",
   "metadata": {},
   "source": [
    "You either can download one LSQB dataset, deciding which scale factor you want or a lot of different ones. Both methods are provided here.  \n",
    "\n",
    "Only load one dataset with scale factor SF (here = 1)"
   ]
  },
  {
   "cell_type": "code",
   "execution_count": 2,
   "id": "5b332a07-0995-4896-a054-0d3490f42385",
   "metadata": {},
   "outputs": [],
   "source": [
    "!chmod +x lsqb/scripts/download-merged-fk-single-data-set.sh"
   ]
  },
  {
   "cell_type": "code",
   "execution_count": 3,
   "id": "4ccdfe70-e038-49c9-965e-d282f3af24e2",
   "metadata": {},
   "outputs": [
    {
     "name": "stdout",
     "output_type": "stream",
     "text": [
      "Downloading scale factor 1\n"
     ]
    }
   ],
   "source": [
    "%%bash\n",
    "cd lsqb\n",
    "export SF=1\n",
    "./scripts/download-merged-fk-single-data-set.sh\n",
    "cd .."
   ]
  },
  {
   "cell_type": "markdown",
   "id": "1e90c0aa-d89d-4e93-844d-dcb4e673676d",
   "metadata": {},
   "source": [
    "Downloading the LSQB data for different scale factors: 0.1, 0.3, 1, 3, 10, 30, 100, 300, 1000"
   ]
  },
  {
   "cell_type": "code",
   "execution_count": 4,
   "id": "2d0604ac-9d3b-4fab-858e-a67f0394f286",
   "metadata": {},
   "outputs": [],
   "source": [
    "#!chmod +x lsqb/scripts/download-merged-fk-data-sets.sh"
   ]
  },
  {
   "cell_type": "code",
   "execution_count": 5,
   "id": "d6a03a47-1774-4b71-a096-1371de730f10",
   "metadata": {},
   "outputs": [],
   "source": [
    "#%%bash\n",
    "#cd lsqb\n",
    "#export MAX_SF=300\n",
    "#./scripts/download-merged-fk-data-sets.sh\n",
    "#cd .."
   ]
  },
  {
   "cell_type": "markdown",
   "id": "fba27672-bc04-40fe-95f0-2c6989a6a3cd",
   "metadata": {},
   "source": [
    "## Import the LSQB benchmark data"
   ]
  },
  {
   "cell_type": "markdown",
   "id": "577b259e-2bbc-4b6e-957b-821b2cb2f54f",
   "metadata": {},
   "source": [
    "Import the benchmark data for scale factor 1"
   ]
  },
  {
   "cell_type": "code",
   "execution_count": 6,
   "id": "ffe1fc2f-a496-44d3-b572-c253205826ae",
   "metadata": {},
   "outputs": [],
   "source": [
    "!chmod +x import-lsqb.sh"
   ]
  },
  {
   "cell_type": "code",
   "execution_count": 7,
   "id": "084ad51a-7481-4a4d-8add-52f75485dc36",
   "metadata": {
    "scrolled": true
   },
   "outputs": [
    {
     "name": "stdout",
     "output_type": "stream",
     "text": [
      "DROP VIEW\n",
      "DROP VIEW\n",
      "DROP VIEW\n",
      "DROP VIEW\n",
      "DROP VIEW\n",
      "DROP VIEW\n",
      "DROP TABLE\n",
      "DROP TABLE\n",
      "DROP TABLE\n",
      "DROP TABLE\n",
      "DROP TABLE\n",
      "DROP TABLE\n",
      "DROP TABLE\n",
      "DROP TABLE\n",
      "DROP TABLE\n",
      "DROP TABLE\n",
      "DROP TABLE\n",
      "DROP TABLE\n",
      "DROP TABLE\n",
      "DROP TABLE\n",
      "DROP TABLE\n",
      "DROP TABLE\n",
      "DROP TABLE\n",
      "DROP TABLE\n",
      "DROP TABLE\n",
      "DROP TABLE\n",
      "DROP TABLE\n",
      "CREATE TABLE\n",
      "CREATE TABLE\n",
      "CREATE TABLE\n",
      "CREATE TABLE\n",
      "CREATE TABLE\n",
      "CREATE TABLE\n",
      "CREATE TABLE\n",
      "CREATE TABLE\n",
      "CREATE TABLE\n",
      "CREATE TABLE\n",
      "CREATE TABLE\n",
      "CREATE TABLE\n",
      "CREATE TABLE\n",
      "CREATE TABLE\n",
      "CREATE TABLE\n",
      "CREATE TABLE\n",
      "CREATE TABLE\n",
      "CREATE TABLE\n",
      "CREATE TABLE\n",
      "CREATE TABLE\n",
      "CREATE TABLE\n",
      "COPY 1575\n",
      "COPY 6380\n",
      "COPY 6\n",
      "COPY 111\n",
      "COPY 1343\n",
      "COPY 109617\n",
      "COPY 2580332\n",
      "COPY 1229275\n",
      "COPY 11000\n",
      "COPY 16080\n",
      "COPY 71\n",
      "COPY 3148317\n",
      "COPY 815205\n",
      "COPY 3268415\n",
      "COPY 354213\n",
      "COPY 255596\n",
      "COPY 1668015\n",
      "COPY 853145\n",
      "COPY 8880\n",
      "COPY 23600\n",
      "COPY 226293\n",
      "COPY 226293\n",
      "CREATE VIEW\n",
      "CREATE VIEW\n",
      "CREATE VIEW\n",
      "CREATE VIEW\n",
      "CREATE VIEW\n",
      "CREATE VIEW\n"
     ]
    }
   ],
   "source": [
    "%%bash\n",
    "export SF=1\n",
    "./import-lsqb.sh"
   ]
  },
  {
   "cell_type": "markdown",
   "id": "cdc68a5a-e8d7-401b-ae90-ca453297cb7a",
   "metadata": {},
   "source": [
    "# SNAP"
   ]
  },
  {
   "cell_type": "markdown",
   "id": "78076a59-e13a-4bb1-a431-cb4029d271ed",
   "metadata": {},
   "source": [
    "## Fetch the SNAP data"
   ]
  },
  {
   "cell_type": "code",
   "execution_count": 14,
   "id": "b8a64742-ad74-4539-bf4e-2695c0cab012",
   "metadata": {},
   "outputs": [],
   "source": [
    "!chmod +x snap/remove-header.sh"
   ]
  },
  {
   "cell_type": "code",
   "execution_count": 15,
   "id": "3490e426-11cf-4a47-ae0b-4a47fd6718ca",
   "metadata": {},
   "outputs": [
    {
     "name": "stderr",
     "output_type": "stream",
     "text": [
      "  % Total    % Received % Xferd  Average Speed   Time    Time     Time  Current\n",
      "                                 Dload  Upload   Total   Spent    Left  Speed\n",
      "100 81.1M  100 81.1M    0     0   442k      0  0:03:07  0:03:07 --:--:--  505k\n",
      "  % Total    % Received % Xferd  Average Speed   Time    Time     Time  Current\n",
      "                                 Dload  Upload   Total   Spent    Left  Speed\n",
      "100 95.1M  100 95.1M    0     0   534k      0  0:03:02  0:03:02 --:--:--  473k\n",
      "  % Total    % Received % Xferd  Average Speed   Time    Time     Time  Current\n",
      "                                 Dload  Upload   Total   Spent    Left  Speed\n",
      "100 20.1M  100 20.1M    0     0   497k      0  0:00:41  0:00:41 --:--:--  966k\n",
      "  % Total    % Received % Xferd  Average Speed   Time    Time     Time  Current\n",
      "                                 Dload  Upload   Total   Spent    Left  Speed\n",
      "100 4041k  100 4041k    0     0   267k      0  0:00:15  0:00:15 --:--:--  304k\n"
     ]
    }
   ],
   "source": [
    "%%bash\n",
    "\n",
    "datasets=(\"http://snap.stanford.edu/data/cit-Patents.txt.gz\"\n",
    "          \"http://snap.stanford.edu/data/wiki-topcats.txt.gz\"\n",
    "          \"http://snap.stanford.edu/data/web-Google.txt.gz\"\n",
    "          \"http://snap.stanford.edu/data/bigdata/communities/com-dblp.ungraph.txt.gz\")\n",
    "\n",
    "cd snap\n",
    "\n",
    "for d in ${datasets[*]}; do\n",
    "    if [ ! -f $(basename $d) ]; then\n",
    "        curl -O $d;\n",
    "        gunzip $(basename $d)\n",
    "    else\n",
    "        echo \"$(basename $d) exists\"\n",
    "    fi\n",
    "done\n",
    "\n",
    "./remove-header.sh\n",
    "\n",
    "cd .."
   ]
  },
  {
   "cell_type": "markdown",
   "id": "ab415533-85c5-42d8-ac95-2ee758af0674",
   "metadata": {},
   "source": [
    "## Import the SNAP data"
   ]
  },
  {
   "cell_type": "code",
   "execution_count": 16,
   "id": "88da5b05-2f35-4001-9c7e-2d436ac54034",
   "metadata": {},
   "outputs": [
    {
     "name": "stdout",
     "output_type": "stream",
     "text": [
      "Overwriting import-snap.sql\n"
     ]
    }
   ],
   "source": [
    "%%writefile import-snap.sql\n",
    "\n",
    "DROP TABLE IF EXISTS patents;\n",
    "CREATE TABLE patents (fromNode integer, toNode integer);\n",
    "\\copy patents FROM 'snap/noheader/cit-Patents.txt' with (header false);\n",
    "\n",
    "DROP TABLE IF EXISTS wiki;\n",
    "CREATE TABLE wiki (fromNode integer, toNode integer);\n",
    "\\copy wiki FROM 'snap/noheader/wiki-topcats.txt' with (header false, delimiter ' ');\n",
    "\n",
    "DROP TABLE IF EXISTS google;\n",
    "CREATE TABLE google (fromNode integer, toNode integer);\n",
    "\\copy google FROM 'snap/noheader/web-Google.txt' with (header false);\n",
    "\n",
    "DROP TABLE IF EXISTS dblp;\n",
    "CREATE TABLE dblp (fromNode integer, toNode integer);\n",
    "\\copy dblp FROM 'snap/noheader/com-dblp.ungraph.txt' with (header false);"
   ]
  },
  {
   "cell_type": "code",
   "execution_count": 17,
   "id": "96ba4047-28b3-4ff3-b2e6-27969da86cce",
   "metadata": {},
   "outputs": [
    {
     "name": "stderr",
     "output_type": "stream",
     "text": [
      "psql:import-snap.sql:2: NOTICE:  table \"patents\" does not exist, skipping\n"
     ]
    },
    {
     "name": "stdout",
     "output_type": "stream",
     "text": [
      "DROP TABLE\n",
      "CREATE TABLE\n",
      "COPY 16518948\n"
     ]
    },
    {
     "name": "stderr",
     "output_type": "stream",
     "text": [
      "psql:import-snap.sql:6: NOTICE:  table \"wiki\" does not exist, skipping\n"
     ]
    },
    {
     "name": "stdout",
     "output_type": "stream",
     "text": [
      "DROP TABLE\n",
      "CREATE TABLE\n",
      "COPY 28511807\n"
     ]
    },
    {
     "name": "stderr",
     "output_type": "stream",
     "text": [
      "psql:import-snap.sql:10: NOTICE:  table \"google\" does not exist, skipping\n"
     ]
    },
    {
     "name": "stdout",
     "output_type": "stream",
     "text": [
      "DROP TABLE\n",
      "CREATE TABLE\n",
      "COPY 5105039\n"
     ]
    },
    {
     "name": "stderr",
     "output_type": "stream",
     "text": [
      "psql:import-snap.sql:14: NOTICE:  table \"dblp\" does not exist, skipping\n"
     ]
    },
    {
     "name": "stdout",
     "output_type": "stream",
     "text": [
      "DROP TABLE\n",
      "CREATE TABLE\n",
      "COPY 1049866\n"
     ]
    }
   ],
   "source": [
    "%%bash\n",
    "\n",
    "PGPASSWORD=snap psql -h postgres -U snap -d snap -f import-snap.sql"
   ]
  },
  {
   "cell_type": "markdown",
   "id": "76e3001c-296a-4810-becd-1c9610de2d67",
   "metadata": {},
   "source": [
    "## Generate SNAP queries"
   ]
  },
  {
   "cell_type": "code",
   "execution_count": 33,
   "id": "ad4a7ce6-64b2-4c76-9e4b-9ff77c9b3583",
   "metadata": {},
   "outputs": [],
   "source": [
    "import glob\n",
    "from pathlib import Path\n",
    "\n",
    "snap_tables = ['patents', 'wiki', 'google', 'dblp']\n",
    "\n",
    "Path(f'snap-queries/all').mkdir(parents=True, exist_ok=True)\n",
    "for tablename in snap_tables:\n",
    "    Path(f'snap-queries/{tablename}').mkdir(parents=True, exist_ok=True)\n",
    "    # We use the patent queries as the base and replace the references to the patent relation\n",
    "    base_query_files = glob.glob('snap-queries/patents/*.sql')\n",
    "    for file in base_query_files:\n",
    "        query = Path(file).read_text()\n",
    "        basename = Path(file).name\n",
    "        new_query = query.replace('patents', tablename)\n",
    "        with open(f'snap-queries/{tablename}/{basename}', 'w') as new_file:\n",
    "            new_file.write(new_query)\n",
    "        with open(f'snap-queries/all/{tablename}-{basename}', 'w') as new_file:\n",
    "            new_file.write(new_query)"
   ]
  },
  {
   "cell_type": "markdown",
   "id": "4591e590-f0d7-4c17-a7de-b857be068b76",
   "metadata": {},
   "source": [
    "# JOB"
   ]
  },
  {
   "cell_type": "markdown",
   "id": "c04e0969-873a-4ee5-9841-11d5e5cda96b",
   "metadata": {},
   "source": [
    "## Import the JOB/IMDB data"
   ]
  },
  {
   "cell_type": "code",
   "execution_count": 4,
   "id": "d24de335-5fcc-42ef-bfa3-af132cf26776",
   "metadata": {},
   "outputs": [],
   "source": [
    "%%bash\n",
    "cd job\n",
    "tar -xzf export.sql.tar.gz"
   ]
  },
  {
   "cell_type": "code",
   "execution_count": 3,
   "id": "2fe97450-cee6-4891-be44-a29b435f6a91",
   "metadata": {},
   "outputs": [
    {
     "name": "stdout",
     "output_type": "stream",
     "text": [
      "\n",
      "CREATE INDEX title_idx_kindid ON public.title USING btree (kind_id);\n",
      "\n",
      "\n",
      "--\n",
      "-- Name: title_idx_md5; Type: INDEX; Schema: public; Owner: imdb\n",
      "--\n",
      "\n",
      "CREATE INDEX title_idx_md5 ON public.title USING btree (md5sum);\n",
      "\n",
      "\n",
      "--\n",
      "-- Name: title_idx_pcode; Type: INDEX; Schema: public; Owner: imdb\n",
      "--\n",
      "\n",
      "CREATE INDEX title_idx_pcode ON public.title USING btree (phonetic_code);\n",
      "\n",
      "\n",
      "--\n",
      "-- Name: title_idx_season_nr; Type: INDEX; Schema: public; Owner: imdb\n",
      "--\n",
      "\n",
      "CREATE INDEX title_idx_season_nr ON public.title USING btree (season_nr);\n",
      "\n",
      "\n",
      "--\n",
      "-- Name: title_idx_title; Type: INDEX; Schema: public; Owner: imdb\n",
      "--\n",
      "\n",
      "CREATE INDEX title_idx_title ON public.title USING btree (title);\n",
      "\n",
      "\n",
      "--\n",
      "-- Name: title_idx_year; Type: INDEX; Schema: public; Owner: imdb\n",
      "--\n",
      "\n",
      "CREATE INDEX title_idx_year ON public.title USING btree (production_year);\n",
      "\n",
      "\n",
      "--\n",
      "-- Name: SCHEMA public; Type: ACL; Schema: -; Owner: pg_database_owner\n",
      "--\n",
      "\n",
      "GRANT ALL ON SCHEMA public TO imdb;\n",
      "\n",
      "\n",
      "--\n",
      "-- PostgreSQL database dump complete\n",
      "--\n",
      "\n"
     ]
    }
   ],
   "source": [
    "%%bash\n",
    "tail -n 50 job/export.sql"
   ]
  },
  {
   "cell_type": "code",
   "execution_count": 2,
   "id": "162d4341-50e8-4069-a052-448589a4d04b",
   "metadata": {},
   "outputs": [
    {
     "name": "stdout",
     "output_type": "stream",
     "text": [
      "SET\n",
      "SET\n",
      "SET\n",
      "SET\n",
      "SET\n",
      " set_config \n",
      "------------\n",
      " \n",
      "(1 row)\n",
      "\n",
      "SET\n",
      "SET\n",
      "SET\n",
      "SET\n",
      "SET\n",
      "SET\n"
     ]
    },
    {
     "name": "stderr",
     "output_type": "stream",
     "text": [
      "psql:export.sql:36: ERROR:  relation \"aka_name\" already exists\n",
      "psql:export.sql:51: ERROR:  relation \"aka_name_id_seq\" already exists\n"
     ]
    },
    {
     "name": "stdout",
     "output_type": "stream",
     "text": [
      "ALTER TABLE\n",
      "ALTER SEQUENCE\n",
      "ALTER SEQUENCE\n"
     ]
    },
    {
     "name": "stderr",
     "output_type": "stream",
     "text": [
      "psql:export.sql:80: ERROR:  relation \"aka_title\" already exists\n"
     ]
    },
    {
     "name": "stdout",
     "output_type": "stream",
     "text": [
      "ALTER TABLE\n"
     ]
    },
    {
     "name": "stderr",
     "output_type": "stream",
     "text": [
      "psql:export.sql:95: ERROR:  relation \"aka_title_id_seq\" already exists\n"
     ]
    },
    {
     "name": "stdout",
     "output_type": "stream",
     "text": [
      "ALTER SEQUENCE\n",
      "ALTER SEQUENCE\n"
     ]
    },
    {
     "name": "stderr",
     "output_type": "stream",
     "text": [
      "psql:export.sql:119: ERROR:  relation \"cast_info\" already exists\n"
     ]
    },
    {
     "name": "stdout",
     "output_type": "stream",
     "text": [
      "ALTER TABLE\n"
     ]
    },
    {
     "name": "stderr",
     "output_type": "stream",
     "text": [
      "psql:export.sql:134: ERROR:  relation \"cast_info_id_seq\" already exists\n"
     ]
    },
    {
     "name": "stdout",
     "output_type": "stream",
     "text": [
      "ALTER SEQUENCE\n",
      "ALTER SEQUENCE\n"
     ]
    },
    {
     "name": "stderr",
     "output_type": "stream",
     "text": [
      "psql:export.sql:158: ERROR:  relation \"char_name\" already exists\n"
     ]
    },
    {
     "name": "stdout",
     "output_type": "stream",
     "text": [
      "ALTER TABLE\n"
     ]
    },
    {
     "name": "stderr",
     "output_type": "stream",
     "text": [
      "psql:export.sql:173: ERROR:  relation \"char_name_id_seq\" already exists\n"
     ]
    },
    {
     "name": "stdout",
     "output_type": "stream",
     "text": [
      "ALTER SEQUENCE\n",
      "ALTER SEQUENCE\n"
     ]
    },
    {
     "name": "stderr",
     "output_type": "stream",
     "text": [
      "psql:export.sql:192: ERROR:  relation \"comp_cast_type\" already exists\n"
     ]
    },
    {
     "name": "stdout",
     "output_type": "stream",
     "text": [
      "ALTER TABLE\n"
     ]
    },
    {
     "name": "stderr",
     "output_type": "stream",
     "text": [
      "psql:export.sql:207: ERROR:  relation \"comp_cast_type_id_seq\" already exists\n"
     ]
    },
    {
     "name": "stdout",
     "output_type": "stream",
     "text": [
      "ALTER SEQUENCE\n",
      "ALTER SEQUENCE\n"
     ]
    },
    {
     "name": "stderr",
     "output_type": "stream",
     "text": [
      "psql:export.sql:231: ERROR:  relation \"company_name\" already exists\n"
     ]
    },
    {
     "name": "stdout",
     "output_type": "stream",
     "text": [
      "ALTER TABLE\n"
     ]
    },
    {
     "name": "stderr",
     "output_type": "stream",
     "text": [
      "psql:export.sql:246: ERROR:  relation \"company_name_id_seq\" already exists\n"
     ]
    },
    {
     "name": "stdout",
     "output_type": "stream",
     "text": [
      "ALTER SEQUENCE\n",
      "ALTER SEQUENCE\n"
     ]
    },
    {
     "name": "stderr",
     "output_type": "stream",
     "text": [
      "psql:export.sql:265: ERROR:  relation \"company_type\" already exists\n"
     ]
    },
    {
     "name": "stdout",
     "output_type": "stream",
     "text": [
      "ALTER TABLE\n"
     ]
    },
    {
     "name": "stderr",
     "output_type": "stream",
     "text": [
      "psql:export.sql:280: ERROR:  relation \"company_type_id_seq\" already exists\n"
     ]
    },
    {
     "name": "stdout",
     "output_type": "stream",
     "text": [
      "ALTER SEQUENCE\n",
      "ALTER SEQUENCE\n"
     ]
    },
    {
     "name": "stderr",
     "output_type": "stream",
     "text": [
      "psql:export.sql:301: ERROR:  relation \"complete_cast\" already exists\n"
     ]
    },
    {
     "name": "stdout",
     "output_type": "stream",
     "text": [
      "ALTER TABLE\n"
     ]
    },
    {
     "name": "stderr",
     "output_type": "stream",
     "text": [
      "psql:export.sql:316: ERROR:  relation \"complete_cast_id_seq\" already exists\n"
     ]
    },
    {
     "name": "stdout",
     "output_type": "stream",
     "text": [
      "ALTER SEQUENCE\n",
      "ALTER SEQUENCE\n"
     ]
    },
    {
     "name": "stderr",
     "output_type": "stream",
     "text": [
      "psql:export.sql:335: ERROR:  relation \"info_type\" already exists\n"
     ]
    },
    {
     "name": "stdout",
     "output_type": "stream",
     "text": [
      "ALTER TABLE\n"
     ]
    },
    {
     "name": "stderr",
     "output_type": "stream",
     "text": [
      "psql:export.sql:350: ERROR:  relation \"info_type_id_seq\" already exists\n"
     ]
    },
    {
     "name": "stdout",
     "output_type": "stream",
     "text": [
      "ALTER SEQUENCE\n",
      "ALTER SEQUENCE\n"
     ]
    },
    {
     "name": "stderr",
     "output_type": "stream",
     "text": [
      "psql:export.sql:370: ERROR:  relation \"keyword\" already exists\n"
     ]
    },
    {
     "name": "stdout",
     "output_type": "stream",
     "text": [
      "ALTER TABLE\n"
     ]
    },
    {
     "name": "stderr",
     "output_type": "stream",
     "text": [
      "psql:export.sql:385: ERROR:  relation \"keyword_id_seq\" already exists\n"
     ]
    },
    {
     "name": "stdout",
     "output_type": "stream",
     "text": [
      "ALTER SEQUENCE\n",
      "ALTER SEQUENCE\n"
     ]
    },
    {
     "name": "stderr",
     "output_type": "stream",
     "text": [
      "psql:export.sql:404: ERROR:  relation \"kind_type\" already exists\n"
     ]
    },
    {
     "name": "stdout",
     "output_type": "stream",
     "text": [
      "ALTER TABLE\n"
     ]
    },
    {
     "name": "stderr",
     "output_type": "stream",
     "text": [
      "psql:export.sql:419: ERROR:  relation \"kind_type_id_seq\" already exists\n"
     ]
    },
    {
     "name": "stdout",
     "output_type": "stream",
     "text": [
      "ALTER SEQUENCE\n",
      "ALTER SEQUENCE\n"
     ]
    },
    {
     "name": "stderr",
     "output_type": "stream",
     "text": [
      "psql:export.sql:438: ERROR:  relation \"link_type\" already exists\n"
     ]
    },
    {
     "name": "stdout",
     "output_type": "stream",
     "text": [
      "ALTER TABLE\n"
     ]
    },
    {
     "name": "stderr",
     "output_type": "stream",
     "text": [
      "psql:export.sql:453: ERROR:  relation \"link_type_id_seq\" already exists\n"
     ]
    },
    {
     "name": "stdout",
     "output_type": "stream",
     "text": [
      "ALTER SEQUENCE\n",
      "ALTER SEQUENCE\n"
     ]
    },
    {
     "name": "stderr",
     "output_type": "stream",
     "text": [
      "psql:export.sql:475: ERROR:  relation \"movie_companies\" already exists\n"
     ]
    },
    {
     "name": "stdout",
     "output_type": "stream",
     "text": [
      "ALTER TABLE\n"
     ]
    },
    {
     "name": "stderr",
     "output_type": "stream",
     "text": [
      "psql:export.sql:490: ERROR:  relation \"movie_companies_id_seq\" already exists\n"
     ]
    },
    {
     "name": "stdout",
     "output_type": "stream",
     "text": [
      "ALTER SEQUENCE\n",
      "ALTER SEQUENCE\n"
     ]
    },
    {
     "name": "stderr",
     "output_type": "stream",
     "text": [
      "psql:export.sql:512: ERROR:  relation \"movie_info\" already exists\n"
     ]
    },
    {
     "name": "stdout",
     "output_type": "stream",
     "text": [
      "ALTER TABLE\n"
     ]
    },
    {
     "name": "stderr",
     "output_type": "stream",
     "text": [
      "psql:export.sql:527: ERROR:  relation \"movie_info_id_seq\" already exists\n"
     ]
    },
    {
     "name": "stdout",
     "output_type": "stream",
     "text": [
      "ALTER SEQUENCE\n",
      "ALTER SEQUENCE\n"
     ]
    },
    {
     "name": "stderr",
     "output_type": "stream",
     "text": [
      "psql:export.sql:547: ERROR:  relation \"movie_keyword\" already exists\n"
     ]
    },
    {
     "name": "stdout",
     "output_type": "stream",
     "text": [
      "ALTER TABLE\n"
     ]
    },
    {
     "name": "stderr",
     "output_type": "stream",
     "text": [
      "psql:export.sql:562: ERROR:  relation \"movie_keyword_id_seq\" already exists\n"
     ]
    },
    {
     "name": "stdout",
     "output_type": "stream",
     "text": [
      "ALTER SEQUENCE\n",
      "ALTER SEQUENCE\n"
     ]
    },
    {
     "name": "stderr",
     "output_type": "stream",
     "text": [
      "psql:export.sql:583: ERROR:  relation \"movie_link\" already exists\n"
     ]
    },
    {
     "name": "stdout",
     "output_type": "stream",
     "text": [
      "ALTER TABLE\n"
     ]
    },
    {
     "name": "stderr",
     "output_type": "stream",
     "text": [
      "psql:export.sql:598: ERROR:  relation \"movie_link_id_seq\" already exists\n"
     ]
    },
    {
     "name": "stdout",
     "output_type": "stream",
     "text": [
      "ALTER SEQUENCE\n",
      "ALTER SEQUENCE\n"
     ]
    },
    {
     "name": "stderr",
     "output_type": "stream",
     "text": [
      "psql:export.sql:624: ERROR:  relation \"name\" already exists\n"
     ]
    },
    {
     "name": "stdout",
     "output_type": "stream",
     "text": [
      "ALTER TABLE\n"
     ]
    },
    {
     "name": "stderr",
     "output_type": "stream",
     "text": [
      "psql:export.sql:639: ERROR:  relation \"name_id_seq\" already exists\n"
     ]
    },
    {
     "name": "stdout",
     "output_type": "stream",
     "text": [
      "ALTER SEQUENCE\n",
      "ALTER SEQUENCE\n"
     ]
    },
    {
     "name": "stderr",
     "output_type": "stream",
     "text": [
      "psql:export.sql:661: ERROR:  relation \"person_info\" already exists\n"
     ]
    },
    {
     "name": "stdout",
     "output_type": "stream",
     "text": [
      "ALTER TABLE\n"
     ]
    },
    {
     "name": "stderr",
     "output_type": "stream",
     "text": [
      "psql:export.sql:676: ERROR:  relation \"person_info_id_seq\" already exists\n"
     ]
    },
    {
     "name": "stdout",
     "output_type": "stream",
     "text": [
      "ALTER SEQUENCE\n",
      "ALTER SEQUENCE\n"
     ]
    },
    {
     "name": "stderr",
     "output_type": "stream",
     "text": [
      "psql:export.sql:695: ERROR:  relation \"role_type\" already exists\n"
     ]
    },
    {
     "name": "stdout",
     "output_type": "stream",
     "text": [
      "ALTER TABLE\n"
     ]
    },
    {
     "name": "stderr",
     "output_type": "stream",
     "text": [
      "psql:export.sql:710: ERROR:  relation \"role_type_id_seq\" already exists\n"
     ]
    },
    {
     "name": "stdout",
     "output_type": "stream",
     "text": [
      "ALTER SEQUENCE\n",
      "ALTER SEQUENCE\n"
     ]
    },
    {
     "name": "stderr",
     "output_type": "stream",
     "text": [
      "psql:export.sql:739: ERROR:  relation \"title\" already exists\n"
     ]
    },
    {
     "name": "stdout",
     "output_type": "stream",
     "text": [
      "ALTER TABLE\n"
     ]
    },
    {
     "name": "stderr",
     "output_type": "stream",
     "text": [
      "psql:export.sql:754: ERROR:  relation \"title_id_seq\" already exists\n"
     ]
    },
    {
     "name": "stdout",
     "output_type": "stream",
     "text": [
      "ALTER SEQUENCE\n",
      "ALTER SEQUENCE\n",
      "ALTER TABLE\n",
      "ALTER TABLE\n",
      "ALTER TABLE\n",
      "ALTER TABLE\n",
      "ALTER TABLE\n",
      "ALTER TABLE\n",
      "ALTER TABLE\n",
      "ALTER TABLE\n",
      "ALTER TABLE\n",
      "ALTER TABLE\n",
      "ALTER TABLE\n",
      "ALTER TABLE\n",
      "ALTER TABLE\n",
      "ALTER TABLE\n",
      "ALTER TABLE\n",
      "ALTER TABLE\n",
      "ALTER TABLE\n",
      "ALTER TABLE\n",
      "ALTER TABLE\n",
      "ALTER TABLE\n",
      "COPY 1312273\n",
      "COPY 528297\n"
     ]
    },
    {
     "name": "stderr",
     "output_type": "stream",
     "text": [
      "psql:export.sql:65317332: ERROR:  duplicate key value violates unique constraint \"cast_info_pkey\"\n",
      "DETAIL:  Key (id)=(1) already exists.\n",
      "CONTEXT:  COPY cast_info, line 1\n",
      "psql:export.sql:69632204: ERROR:  duplicate key value violates unique constraint \"char_name_pkey\"\n",
      "DETAIL:  Key (id)=(1) already exists.\n",
      "CONTEXT:  COPY char_name, line 1\n",
      "psql:export.sql:69632216: ERROR:  duplicate key value violates unique constraint \"comp_cast_type_pkey\"\n",
      "DETAIL:  Key (id)=(1) already exists.\n",
      "CONTEXT:  COPY comp_cast_type, line 1\n",
      "psql:export.sql:69994355: ERROR:  duplicate key value violates unique constraint \"company_name_pkey\"\n",
      "DETAIL:  Key (id)=(1) already exists.\n",
      "CONTEXT:  COPY company_name, line 1\n",
      "psql:export.sql:69994367: ERROR:  duplicate key value violates unique constraint \"company_type_pkey\"\n",
      "DETAIL:  Key (id)=(1) already exists.\n",
      "CONTEXT:  COPY company_type, line 1\n",
      "psql:export.sql:70129461: ERROR:  duplicate key value violates unique constraint \"complete_cast_pkey\"\n",
      "DETAIL:  Key (id)=(1) already exists.\n",
      "CONTEXT:  COPY complete_cast, line 1\n",
      "psql:export.sql:70129582: ERROR:  duplicate key value violates unique constraint \"info_type_pkey\"\n",
      "DETAIL:  Key (id)=(1) already exists.\n",
      "CONTEXT:  COPY info_type, line 1\n",
      "psql:export.sql:70366217: ERROR:  duplicate key value violates unique constraint \"keyword_pkey\"\n",
      "DETAIL:  Key (id)=(1) already exists.\n",
      "CONTEXT:  COPY keyword, line 1\n",
      "psql:export.sql:70366234: ERROR:  duplicate key value violates unique constraint \"kind_type_pkey\"\n",
      "DETAIL:  Key (id)=(1) already exists.\n",
      "CONTEXT:  COPY kind_type, line 1\n",
      "psql:export.sql:70366260: ERROR:  duplicate key value violates unique constraint \"link_type_pkey\"\n",
      "DETAIL:  Key (id)=(1) already exists.\n",
      "CONTEXT:  COPY link_type, line 1\n",
      "psql:export.sql:75324564: ERROR:  duplicate key value violates unique constraint \"movie_companies_pkey\"\n",
      "DETAIL:  Key (id)=(1) already exists.\n",
      "CONTEXT:  COPY movie_companies, line 1\n",
      "psql:export.sql:105099258: ERROR:  duplicate key value violates unique constraint \"movie_info_pkey\"\n",
      "DETAIL:  Key (id)=(1) already exists.\n",
      "CONTEXT:  COPY movie_info, line 1\n",
      "psql:export.sql:112579353: ERROR:  duplicate key value violates unique constraint \"movie_keyword_pkey\"\n",
      "DETAIL:  Key (id)=(1) already exists.\n",
      "CONTEXT:  COPY movie_keyword, line 1\n",
      "psql:export.sql:115164511: ERROR:  duplicate key value violates unique constraint \"movie_link_pkey\"\n",
      "DETAIL:  Key (id)=(1) already exists.\n",
      "CONTEXT:  COPY movie_link, line 1\n",
      "psql:export.sql:121544259: ERROR:  duplicate key value violates unique constraint \"name_pkey\"\n",
      "DETAIL:  Key (id)=(1) already exists.\n",
      "CONTEXT:  COPY name, line 1\n",
      "psql:export.sql:125674474: ERROR:  duplicate key value violates unique constraint \"person_info_pkey\"\n",
      "DETAIL:  Key (id)=(1) already exists.\n",
      "CONTEXT:  COPY person_info, line 1\n",
      "psql:export.sql:125674494: ERROR:  duplicate key value violates unique constraint \"role_type_pkey\"\n",
      "DETAIL:  Key (id)=(1) already exists.\n",
      "CONTEXT:  COPY role_type, line 1\n",
      "psql:export.sql:128974502: ERROR:  duplicate key value violates unique constraint \"title_pkey\"\n",
      "DETAIL:  Key (id)=(100001) already exists.\n",
      "CONTEXT:  COPY title, line 1\n"
     ]
    },
    {
     "name": "stdout",
     "output_type": "stream",
     "text": [
      " setval  \n",
      "---------\n",
      " 1312273\n",
      "(1 row)\n",
      "\n",
      " setval \n",
      "--------\n",
      "      1\n",
      "(1 row)\n",
      "\n",
      "  setval  \n",
      "----------\n",
      " 63475835\n",
      "(1 row)\n",
      "\n",
      " setval \n",
      "--------\n",
      "      1\n",
      "(1 row)\n",
      "\n",
      " setval \n",
      "--------\n",
      "      4\n",
      "(1 row)\n",
      "\n",
      " setval \n",
      "--------\n",
      "      1\n",
      "(1 row)\n",
      "\n",
      " setval \n",
      "--------\n",
      "      4\n",
      "(1 row)\n",
      "\n",
      " setval \n",
      "--------\n",
      " 135086\n",
      "(1 row)\n",
      "\n",
      " setval \n",
      "--------\n",
      "    113\n",
      "(1 row)\n",
      "\n",
      " setval \n",
      "--------\n",
      "      1\n",
      "(1 row)\n",
      "\n",
      " setval \n",
      "--------\n",
      "      9\n",
      "(1 row)\n",
      "\n",
      " setval \n",
      "--------\n",
      "     18\n",
      "(1 row)\n",
      "\n",
      " setval  \n",
      "---------\n",
      " 4958296\n",
      "(1 row)\n",
      "\n",
      "  setval  \n",
      "----------\n",
      " 29774686\n",
      "(1 row)\n",
      "\n",
      " setval  \n",
      "---------\n",
      " 7480087\n",
      "(1 row)\n",
      "\n",
      " setval  \n",
      "---------\n",
      " 2585150\n",
      "(1 row)\n",
      "\n",
      " setval \n",
      "--------\n",
      "      1\n",
      "(1 row)\n",
      "\n",
      " setval  \n",
      "---------\n",
      " 4130207\n",
      "(1 row)\n",
      "\n",
      " setval \n",
      "--------\n",
      "     12\n",
      "(1 row)\n",
      "\n",
      " setval \n",
      "--------\n",
      "      1\n",
      "(1 row)\n",
      "\n"
     ]
    },
    {
     "name": "stderr",
     "output_type": "stream",
     "text": [
      "psql:export.sql:128974650: ERROR:  could not create unique index \"aka_name_pkey\"\n",
      "DETAIL:  Key (id)=(20403) is duplicated.\n",
      "psql:export.sql:128974658: ERROR:  could not create unique index \"aka_title_pkey\"\n",
      "DETAIL:  Key (id)=(458464) is duplicated.\n",
      "CONTEXT:  parallel worker\n",
      "psql:export.sql:128974666: ERROR:  multiple primary keys for table \"cast_info\" are not allowed\n",
      "psql:export.sql:128974674: ERROR:  multiple primary keys for table \"char_name\" are not allowed\n",
      "psql:export.sql:128974682: ERROR:  multiple primary keys for table \"comp_cast_type\" are not allowed\n",
      "psql:export.sql:128974690: ERROR:  multiple primary keys for table \"company_name\" are not allowed\n",
      "psql:export.sql:128974698: ERROR:  multiple primary keys for table \"company_type\" are not allowed\n",
      "psql:export.sql:128974706: ERROR:  multiple primary keys for table \"complete_cast\" are not allowed\n",
      "psql:export.sql:128974714: ERROR:  multiple primary keys for table \"info_type\" are not allowed\n",
      "psql:export.sql:128974722: ERROR:  multiple primary keys for table \"keyword\" are not allowed\n",
      "psql:export.sql:128974730: ERROR:  multiple primary keys for table \"kind_type\" are not allowed\n",
      "psql:export.sql:128974738: ERROR:  multiple primary keys for table \"link_type\" are not allowed\n",
      "psql:export.sql:128974746: ERROR:  multiple primary keys for table \"movie_companies\" are not allowed\n",
      "psql:export.sql:128974754: ERROR:  multiple primary keys for table \"movie_info\" are not allowed\n",
      "psql:export.sql:128974762: ERROR:  multiple primary keys for table \"movie_keyword\" are not allowed\n",
      "psql:export.sql:128974770: ERROR:  multiple primary keys for table \"movie_link\" are not allowed\n",
      "psql:export.sql:128974778: ERROR:  multiple primary keys for table \"name\" are not allowed\n",
      "psql:export.sql:128974786: ERROR:  multiple primary keys for table \"person_info\" are not allowed\n",
      "psql:export.sql:128974794: ERROR:  multiple primary keys for table \"role_type\" are not allowed\n",
      "psql:export.sql:128974802: ERROR:  multiple primary keys for table \"title\" are not allowed\n",
      "psql:export.sql:128974809: ERROR:  relation \"aka_name_idx_md5\" already exists\n",
      "psql:export.sql:128974816: ERROR:  relation \"aka_name_idx_name\" already exists\n",
      "psql:export.sql:128974823: ERROR:  relation \"aka_name_idx_pcode\" already exists\n",
      "psql:export.sql:128974830: ERROR:  relation \"aka_name_idx_pcodecf\" already exists\n",
      "psql:export.sql:128974837: ERROR:  relation \"aka_name_idx_pcodenf\" already exists\n",
      "psql:export.sql:128974844: ERROR:  relation \"aka_name_idx_person\" already exists\n",
      "psql:export.sql:128974851: ERROR:  relation \"aka_title_idx_epof\" already exists\n",
      "psql:export.sql:128974858: ERROR:  relation \"aka_title_idx_kindid\" already exists\n",
      "psql:export.sql:128974865: ERROR:  relation \"aka_title_idx_md5\" already exists\n",
      "psql:export.sql:128974872: ERROR:  relation \"aka_title_idx_movieid\" already exists\n",
      "psql:export.sql:128974879: ERROR:  relation \"aka_title_idx_pcode\" already exists\n",
      "psql:export.sql:128974886: ERROR:  relation \"aka_title_idx_title\" already exists\n",
      "psql:export.sql:128974893: ERROR:  relation \"aka_title_idx_year\" already exists\n",
      "psql:export.sql:128974900: ERROR:  relation \"cast_info_idx_cid\" already exists\n",
      "psql:export.sql:128974907: ERROR:  relation \"cast_info_idx_mid\" already exists\n",
      "psql:export.sql:128974914: ERROR:  relation \"cast_info_idx_pid\" already exists\n",
      "psql:export.sql:128974921: ERROR:  relation \"cast_info_idx_rid\" already exists\n",
      "psql:export.sql:128974928: ERROR:  relation \"char_name_idx_imdb_id\" already exists\n",
      "psql:export.sql:128974935: ERROR:  relation \"char_name_idx_md5\" already exists\n",
      "psql:export.sql:128974942: ERROR:  relation \"char_name_idx_name\" already exists\n",
      "psql:export.sql:128974949: ERROR:  relation \"char_name_idx_pcode\" already exists\n",
      "psql:export.sql:128974956: ERROR:  relation \"char_name_idx_pcodenf\" already exists\n",
      "psql:export.sql:128974963: ERROR:  relation \"comp_cast_type_kind\" already exists\n",
      "psql:export.sql:128974970: ERROR:  relation \"company_name_idx_ccode\" already exists\n",
      "psql:export.sql:128974977: ERROR:  relation \"company_name_idx_imdb_id\" already exists\n",
      "psql:export.sql:128974984: ERROR:  relation \"company_name_idx_md5\" already exists\n",
      "psql:export.sql:128974991: ERROR:  relation \"company_name_idx_name\" already exists\n",
      "psql:export.sql:128974998: ERROR:  relation \"company_name_idx_pcodenf\" already exists\n",
      "psql:export.sql:128975005: ERROR:  relation \"company_name_idx_pcodesf\" already exists\n",
      "psql:export.sql:128975012: ERROR:  relation \"company_type_kind\" already exists\n",
      "psql:export.sql:128975019: ERROR:  relation \"complete_cast_idx_mid\" already exists\n",
      "psql:export.sql:128975026: ERROR:  relation \"complete_cast_idx_sid\" already exists\n",
      "psql:export.sql:128975033: ERROR:  relation \"info_type_info\" already exists\n",
      "psql:export.sql:128975040: ERROR:  relation \"keyword_idx_keyword\" already exists\n",
      "psql:export.sql:128975047: ERROR:  relation \"keyword_idx_pcode\" already exists\n",
      "psql:export.sql:128975054: ERROR:  relation \"kind_type_kind\" already exists\n",
      "psql:export.sql:128975061: ERROR:  relation \"link_type_link\" already exists\n",
      "psql:export.sql:128975068: ERROR:  relation \"movie_companies_idx_cid\" already exists\n",
      "psql:export.sql:128975075: ERROR:  relation \"movie_companies_idx_ctypeid\" already exists\n",
      "psql:export.sql:128975082: ERROR:  relation \"movie_companies_idx_mid\" already exists\n",
      "psql:export.sql:128975089: ERROR:  relation \"movie_info_idx_infotypeid\" already exists\n",
      "psql:export.sql:128975096: ERROR:  relation \"movie_info_idx_mid\" already exists\n",
      "psql:export.sql:128975103: ERROR:  relation \"movie_keyword_idx_keywordid\" already exists\n",
      "psql:export.sql:128975110: ERROR:  relation \"movie_keyword_idx_mid\" already exists\n",
      "psql:export.sql:128975117: ERROR:  relation \"movie_link_idx_lmid\" already exists\n",
      "psql:export.sql:128975124: ERROR:  relation \"movie_link_idx_ltypeid\" already exists\n",
      "psql:export.sql:128975131: ERROR:  relation \"movie_link_idx_mid\" already exists\n",
      "psql:export.sql:128975138: ERROR:  relation \"name_idx_gender\" already exists\n",
      "psql:export.sql:128975145: ERROR:  relation \"name_idx_imdb_id\" already exists\n",
      "psql:export.sql:128975152: ERROR:  relation \"name_idx_md5\" already exists\n",
      "psql:export.sql:128975159: ERROR:  relation \"name_idx_name\" already exists\n",
      "psql:export.sql:128975166: ERROR:  relation \"name_idx_pcode\" already exists\n",
      "psql:export.sql:128975173: ERROR:  relation \"name_idx_pcodecf\" already exists\n",
      "psql:export.sql:128975180: ERROR:  relation \"name_idx_pcodenf\" already exists\n",
      "psql:export.sql:128975187: ERROR:  relation \"person_info_idx_itypeid\" already exists\n",
      "psql:export.sql:128975194: ERROR:  relation \"person_info_idx_pid\" already exists\n",
      "psql:export.sql:128975201: ERROR:  relation \"role_type_role\" already exists\n",
      "psql:export.sql:128975208: ERROR:  relation \"title_idx_episode_nr\" already exists\n",
      "psql:export.sql:128975215: ERROR:  relation \"title_idx_epof\" already exists\n",
      "psql:export.sql:128975222: ERROR:  relation \"title_idx_imdb_id\" already exists\n",
      "psql:export.sql:128975229: ERROR:  relation \"title_idx_kindid\" already exists\n",
      "psql:export.sql:128975236: ERROR:  relation \"title_idx_md5\" already exists\n",
      "psql:export.sql:128975243: ERROR:  relation \"title_idx_pcode\" already exists\n",
      "psql:export.sql:128975250: ERROR:  relation \"title_idx_season_nr\" already exists\n",
      "psql:export.sql:128975257: ERROR:  relation \"title_idx_title\" already exists\n",
      "psql:export.sql:128975264: ERROR:  relation \"title_idx_year\" already exists\n",
      "psql:export.sql:128975271: WARNING:  no privileges were granted for \"public\"\n"
     ]
    },
    {
     "name": "stdout",
     "output_type": "stream",
     "text": [
      "GRANT\n"
     ]
    }
   ],
   "source": [
    "%%bash\n",
    "\n",
    "cd job\n",
    "PGPASSWORD=imdb psql -h postgres -U imdb -d imdb -f export.sql"
   ]
  },
  {
   "cell_type": "code",
   "execution_count": 10,
   "id": "3021510f-ddbf-41a4-b264-7b2795f13a7b",
   "metadata": {},
   "outputs": [
    {
     "name": "stdout",
     "output_type": "stream",
     "text": [
      "            List of relations\n",
      " Schema |      Name       | Type  | Owner \n",
      "--------+-----------------+-------+-------\n",
      " public | aka_name        | table | imdb\n",
      " public | aka_title       | table | imdb\n",
      " public | cast_info       | table | imdb\n",
      " public | char_name       | table | imdb\n",
      " public | comp_cast_type  | table | imdb\n",
      " public | company_name    | table | imdb\n",
      " public | company_type    | table | imdb\n",
      " public | complete_cast   | table | imdb\n",
      " public | info_type       | table | imdb\n",
      " public | keyword         | table | imdb\n",
      " public | kind_type       | table | imdb\n",
      " public | link_type       | table | imdb\n",
      " public | movie_companies | table | imdb\n",
      " public | movie_info      | table | imdb\n",
      " public | movie_keyword   | table | imdb\n",
      " public | movie_link      | table | imdb\n",
      " public | name            | table | imdb\n",
      " public | person_info     | table | imdb\n",
      " public | role_type       | table | imdb\n",
      " public | title           | table | imdb\n",
      "(20 rows)\n",
      "\n"
     ]
    }
   ],
   "source": [
    "%%bash\n",
    "PGPASSWORD=imdb psql -h postgres -U imdb -d imdb\n",
    "\\dt"
   ]
  },
  {
   "cell_type": "markdown",
   "id": "f30a193a-72fb-45eb-bdc2-a373a4519dcc",
   "metadata": {},
   "source": [
    "# STATS"
   ]
  },
  {
   "cell_type": "markdown",
   "id": "744683bc-a5aa-40d0-8a70-9c81cf9328fc",
   "metadata": {},
   "source": [
    "## Import the STATS dataset"
   ]
  },
  {
   "cell_type": "code",
   "execution_count": 21,
   "id": "f104f30b-4b1a-4ea8-b0fd-675d40adb3dd",
   "metadata": {},
   "outputs": [
    {
     "name": "stderr",
     "output_type": "stream",
     "text": [
      "psql:datasets/stats.sql:9: ERROR:  relation \"users\" already exists\n",
      "psql:datasets/stats.sql:23: ERROR:  relation \"posts\" already exists\n",
      "psql:datasets/stats.sql:32: ERROR:  relation \"postlinks\" already exists\n",
      "psql:datasets/stats.sql:41: ERROR:  relation \"posthistory\" already exists\n",
      "psql:datasets/stats.sql:50: ERROR:  relation \"comments\" already exists\n",
      "psql:datasets/stats.sql:60: ERROR:  relation \"votes\" already exists\n",
      "psql:datasets/stats.sql:67: ERROR:  relation \"badges\" already exists\n",
      "psql:datasets/stats.sql:74: ERROR:  relation \"tags\" already exists\n"
     ]
    },
    {
     "name": "stdout",
     "output_type": "stream",
     "text": [
      "COPY 79851\n",
      "COPY 174305\n",
      "COPY 40325\n",
      "COPY 1032\n",
      "COPY 91976\n",
      "COPY 328064\n",
      "COPY 303187\n",
      "COPY 11102\n"
     ]
    }
   ],
   "source": [
    "%%bash\n",
    "\n",
    "cd stats\n",
    "PGPASSWORD=stats psql -h postgres -U stats -d stats -f datasets/stats.sql\n",
    "PGPASSWORD=stats psql -h postgres -U stats -d stats -f scripts/stats_load.sql"
   ]
  },
  {
   "cell_type": "markdown",
   "id": "ce3317ba-c89a-49e3-8b1e-55c216fe15e9",
   "metadata": {},
   "source": [
    "## Generate the STATS queries\n",
    "\n",
    "Some small errors in the names of the foreign keys are fixed (from https://arxiv.org/pdf/2109.05877.pdf)"
   ]
  },
  {
   "cell_type": "code",
   "execution_count": 32,
   "id": "ae9744c6-7bba-46a0-9b21-8587bb8848b7",
   "metadata": {},
   "outputs": [],
   "source": [
    "import re\n",
    "\n",
    "query_file = Path('stats/workload/stats_CEB.sql').read_text()\n",
    "queries = []\n",
    "for i, row in enumerate(query_file.split('\\n')):\n",
    "    count = int(row.split('||')[0])\n",
    "    query = row.split('||')[1]\n",
    "\n",
    "    p = re.compile(\"('\\\\d{4}-\\\\d{2}-\\\\d{2} \\\\d{2}:\\\\d{2}:\\\\d{2}')::timestamp\")\n",
    "    query_replaced = p.sub(lambda match: f'CAST({match.group(1)} AS TIMESTAMP)', query)\n",
    "    queries.append((i, count, query_replaced))\n",
    "\n",
    "queries.sort(key=lambda t: t[1])\n",
    "\n",
    "hints = [('FK(t.ExcerptPostId, p.Id)', ['t', 'p']),\n",
    "        ('FK(pl.PostId, p.Id)', ['pl', 'p']),\n",
    "        ('FK(pl.RelatedPostId, p.Id)', ['pl', 'p']),\n",
    "        ('FK(c.PostId, p.Id)', ['c', 'p']),\n",
    "        ('FK(ph.PostId, p.Id)', ['ph', 'p']),\n",
    "        ('FK(v.PostId, p.Id)', ['v', 'p']),\n",
    "        ('FK(p.OwnerUserId, u.Id)', ['p', 'u']),\n",
    "        ('FK(c.UserId, u.Id)', ['c', 'u']),\n",
    "        ('FK(ph.UserId, u.Id)', ['ph', 'u']),\n",
    "        ('FK(b.UserId, u.Id)', ['b', 'u']),\n",
    "        ('FK(v.UserId, u.Id)', ['v', 'u'])]\n",
    "\n",
    "for i, (idx, count, query_replaced) in enumerate(queries):\n",
    "    with open(f'stats-queries/{i+1:03}-{idx+1:03}.sql', 'w') as f:\n",
    "        f.write(query_replaced)\n",
    "    with open(f'stats-queries/hints/{i+1:03}-{idx+1:03}-hint.sql', 'w') as f:\n",
    "        applicable_hints = list(map(lambda h: h[0],\n",
    "                               list(filter(lambda h: re.search('as {rname}( |,)'.format(rname=h[1][0]), query_replaced) is not None\n",
    "                                           and re.search('as {rname}( |,)'.format(rname=h[1][1]), query_replaced) is not None, hints))))\n",
    "        if (len(applicable_hints) > 0):\n",
    "            query_hints = query_replaced.replace('SELECT', f'SELECT /*+ {\",\".join(applicable_hints)} */ ')\n",
    "            f.write(query_hints)\n",
    "        else:\n",
    "            f.write(query_replaced)"
   ]
  }
 ],
 "metadata": {
  "kernelspec": {
   "display_name": "Python 3 (ipykernel)",
   "language": "python",
   "name": "python3"
  },
  "language_info": {
   "codemirror_mode": {
    "name": "ipython",
    "version": 3
   },
   "file_extension": ".py",
   "mimetype": "text/x-python",
   "name": "python",
   "nbconvert_exporter": "python",
   "pygments_lexer": "ipython3",
   "version": "3.10.12"
  }
 },
 "nbformat": 4,
 "nbformat_minor": 5
}
