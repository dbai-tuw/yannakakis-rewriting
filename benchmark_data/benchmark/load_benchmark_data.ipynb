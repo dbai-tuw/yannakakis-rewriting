{
 "cells": [
  {
   "cell_type": "markdown",
   "id": "e216c73a-8d87-4399-a380-c815b04e4244",
   "metadata": {},
   "source": [
    "# Loading the benchmark data and queries\n",
    "\n",
    "* LSQB\n",
    "* SNAP\n",
    "* JOB\n",
    "* STATS\n",
    "* HETIO"
   ]
  },
  {
   "cell_type": "markdown",
   "id": "18674fc3-59f1-49e5-b6b2-a0f600844920",
   "metadata": {},
   "source": [
    "# PostgreSQL"
   ]
  },
  {
   "cell_type": "markdown",
   "id": "032793ce-eb0b-4c86-9524-b34553603b40",
   "metadata": {},
   "source": [
    "## Create the DB users"
   ]
  },
  {
   "cell_type": "code",
   "execution_count": 25,
   "id": "b717d04a-34ac-44b6-82e9-e0bbd88f9429",
   "metadata": {},
   "outputs": [
    {
     "name": "stderr",
     "output_type": "stream",
     "text": [
      "ERROR:  role \"lsqb\" already exists\n",
      "ERROR:  database \"lsqb\" already exists\n"
     ]
    },
    {
     "name": "stdout",
     "output_type": "stream",
     "text": [
      "GRANT\n",
      "You are now connected to database \"lsqb\" as user \"postgres\".\n",
      "GRANT\n"
     ]
    },
    {
     "name": "stderr",
     "output_type": "stream",
     "text": [
      "ERROR:  role \"snap\" already exists\n",
      "ERROR:  database \"snap\" already exists\n"
     ]
    },
    {
     "name": "stdout",
     "output_type": "stream",
     "text": [
      "GRANT\n",
      "You are now connected to database \"snap\" as user \"postgres\".\n",
      "GRANT\n"
     ]
    },
    {
     "name": "stderr",
     "output_type": "stream",
     "text": [
      "ERROR:  role \"imdb\" already exists\n",
      "ERROR:  database \"imdb\" already exists\n"
     ]
    },
    {
     "name": "stdout",
     "output_type": "stream",
     "text": [
      "GRANT\n",
      "You are now connected to database \"imdb\" as user \"postgres\".\n",
      "GRANT\n"
     ]
    },
    {
     "name": "stderr",
     "output_type": "stream",
     "text": [
      "ERROR:  role \"stats\" already exists\n",
      "ERROR:  database \"stats\" already exists\n"
     ]
    },
    {
     "name": "stdout",
     "output_type": "stream",
     "text": [
      "GRANT\n",
      "You are now connected to database \"stats\" as user \"postgres\".\n",
      "GRANT\n"
     ]
    },
    {
     "name": "stderr",
     "output_type": "stream",
     "text": [
      "ERROR:  role \"hetio\" already exists\n",
      "ERROR:  database \"hetio\" already exists\n"
     ]
    },
    {
     "name": "stdout",
     "output_type": "stream",
     "text": [
      "GRANT\n",
      "You are now connected to database \"hetio\" as user \"postgres\".\n",
      "GRANT\n"
     ]
    }
   ],
   "source": [
    "%%bash\n",
    "\n",
    "export PGPASSWORD=postgres\n",
    "\n",
    "create_db() {\n",
    "cat <<EOF\n",
    "        create user $1 with password '$1';\n",
    "        create database $1;\n",
    "        grant all privileges on database $1 to $1;\n",
    "        \\c $1 postgres\n",
    "        grant all on schema public to $1;\n",
    "EOF\n",
    "}\n",
    "\n",
    "psql --host=postgres --username postgres --dbname postgres <<-EOSQL\n",
    "        $(create_db lsqb)\n",
    "        $(create_db snap)\n",
    "        $(create_db imdb)\n",
    "        $(create_db stats)\n",
    "        $(create_db hetio)\n",
    "EOSQL"
   ]
  },
  {
   "cell_type": "markdown",
   "id": "e50f5d83-1b21-4f99-9482-1089e2c25123",
   "metadata": {},
   "source": [
    "# LSQB"
   ]
  },
  {
   "cell_type": "markdown",
   "id": "4ffd1ec3-37f2-48cb-aa3d-37b44a3d0392",
   "metadata": {},
   "source": [
    "## Fetch LSQB data"
   ]
  },
  {
   "cell_type": "markdown",
   "id": "c9e62a19-9a3f-402b-8448-e0cfcfd70ed8",
   "metadata": {},
   "source": [
    "You either can download one LSQB dataset, deciding which scale factor you want or a lot of different ones. Both methods are provided here.  \n",
    "\n",
    "Only load one dataset with scale factor SF (here = 1)"
   ]
  },
  {
   "cell_type": "code",
   "execution_count": 2,
   "id": "5b332a07-0995-4896-a054-0d3490f42385",
   "metadata": {},
   "outputs": [],
   "source": [
    "!chmod +x lsqb/scripts/download-merged-fk-single-data-set.sh"
   ]
  },
  {
   "cell_type": "code",
   "execution_count": 3,
   "id": "4ccdfe70-e038-49c9-965e-d282f3af24e2",
   "metadata": {},
   "outputs": [
    {
     "name": "stdout",
     "output_type": "stream",
     "text": [
      "Downloading scale factor 1\n"
     ]
    }
   ],
   "source": [
    "%%bash\n",
    "cd lsqb\n",
    "export SF=1\n",
    "./scripts/download-merged-fk-single-data-set.sh\n",
    "cd .."
   ]
  },
  {
   "cell_type": "markdown",
   "id": "1e90c0aa-d89d-4e93-844d-dcb4e673676d",
   "metadata": {},
   "source": [
    "Downloading the LSQB data for different scale factors: 0.1, 0.3, 1, 3, 10, 30, 100, 300, 1000"
   ]
  },
  {
   "cell_type": "code",
   "execution_count": 4,
   "id": "2d0604ac-9d3b-4fab-858e-a67f0394f286",
   "metadata": {},
   "outputs": [],
   "source": [
    "#!chmod +x lsqb/scripts/download-merged-fk-data-sets.sh"
   ]
  },
  {
   "cell_type": "code",
   "execution_count": 5,
   "id": "d6a03a47-1774-4b71-a096-1371de730f10",
   "metadata": {},
   "outputs": [],
   "source": [
    "#%%bash\n",
    "#cd lsqb\n",
    "#export MAX_SF=300\n",
    "#./scripts/download-merged-fk-data-sets.sh\n",
    "#cd .."
   ]
  },
  {
   "cell_type": "markdown",
   "id": "fba27672-bc04-40fe-95f0-2c6989a6a3cd",
   "metadata": {},
   "source": [
    "## Import the LSQB benchmark data"
   ]
  },
  {
   "cell_type": "markdown",
   "id": "577b259e-2bbc-4b6e-957b-821b2cb2f54f",
   "metadata": {},
   "source": [
    "Import the benchmark data for scale factor 1"
   ]
  },
  {
   "cell_type": "code",
   "execution_count": 6,
   "id": "ffe1fc2f-a496-44d3-b572-c253205826ae",
   "metadata": {},
   "outputs": [],
   "source": [
    "!chmod +x import-lsqb.sh"
   ]
  },
  {
   "cell_type": "code",
   "execution_count": 7,
   "id": "084ad51a-7481-4a4d-8add-52f75485dc36",
   "metadata": {
    "scrolled": true
   },
   "outputs": [
    {
     "name": "stderr",
     "output_type": "stream",
     "text": [
      "psql:lsqb/sql/drop.sql:1: NOTICE:  view \"message\" does not exist, skipping\n"
     ]
    },
    {
     "name": "stdout",
     "output_type": "stream",
     "text": [
      "DROP VIEW\n"
     ]
    },
    {
     "name": "stderr",
     "output_type": "stream",
     "text": [
      "psql:lsqb/sql/drop.sql:2: NOTICE:  view \"comment_replyof_message\" does not exist, skipping\n",
      "psql:lsqb/sql/drop.sql:3: NOTICE:  view \"message_hascreator_person\" does not exist, skipping\n",
      "psql:lsqb/sql/drop.sql:4: NOTICE:  view \"message_hastag_tag\" does not exist, skipping\n",
      "psql:lsqb/sql/drop.sql:5: NOTICE:  view \"message_islocatedin_country\" does not exist, skipping\n",
      "psql:lsqb/sql/drop.sql:6: NOTICE:  view \"person_likes_message\" does not exist, skipping\n",
      "psql:lsqb/sql/drop.sql:8: NOTICE:  table \"company\" does not exist, skipping\n",
      "psql:lsqb/sql/drop.sql:9: NOTICE:  table \"university\" does not exist, skipping\n",
      "psql:lsqb/sql/drop.sql:10: NOTICE:  table \"continent\" does not exist, skipping\n",
      "psql:lsqb/sql/drop.sql:11: NOTICE:  table \"country\" does not exist, skipping\n",
      "psql:lsqb/sql/drop.sql:12: NOTICE:  table \"city\" does not exist, skipping\n",
      "psql:lsqb/sql/drop.sql:13: NOTICE:  table \"tag\" does not exist, skipping\n",
      "psql:lsqb/sql/drop.sql:14: NOTICE:  table \"tagclass\" does not exist, skipping\n",
      "psql:lsqb/sql/drop.sql:15: NOTICE:  table \"forum\" does not exist, skipping\n",
      "psql:lsqb/sql/drop.sql:16: NOTICE:  table \"comment\" does not exist, skipping\n",
      "psql:lsqb/sql/drop.sql:17: NOTICE:  table \"post\" does not exist, skipping\n",
      "psql:lsqb/sql/drop.sql:18: NOTICE:  table \"person\" does not exist, skipping\n",
      "psql:lsqb/sql/drop.sql:19: NOTICE:  table \"comment_hastag_tag\" does not exist, skipping\n",
      "psql:lsqb/sql/drop.sql:20: NOTICE:  table \"post_hastag_tag\" does not exist, skipping\n",
      "psql:lsqb/sql/drop.sql:21: NOTICE:  table \"forum_hasmember_person\" does not exist, skipping\n",
      "psql:lsqb/sql/drop.sql:22: NOTICE:  table \"forum_hastag_tag\" does not exist, skipping\n"
     ]
    },
    {
     "name": "stdout",
     "output_type": "stream",
     "text": [
      "DROP VIEW\n",
      "DROP VIEW\n",
      "DROP VIEW\n",
      "DROP VIEW\n",
      "DROP VIEW\n",
      "DROP TABLE\n",
      "DROP TABLE\n",
      "DROP TABLE\n",
      "DROP TABLE\n",
      "DROP TABLE\n",
      "DROP TABLE\n",
      "DROP TABLE\n",
      "DROP TABLE\n",
      "DROP TABLE\n",
      "DROP TABLE\n",
      "DROP TABLE\n",
      "DROP TABLE\n",
      "DROP TABLE\n",
      "DROP TABLE\n",
      "DROP TABLE\n",
      "DROP TABLE\n"
     ]
    },
    {
     "name": "stderr",
     "output_type": "stream",
     "text": [
      "psql:lsqb/sql/drop.sql:23: NOTICE:  table \"person_hasinterest_tag\" does not exist, skipping\n",
      "psql:lsqb/sql/drop.sql:24: NOTICE:  table \"person_likes_comment\" does not exist, skipping\n",
      "psql:lsqb/sql/drop.sql:25: NOTICE:  table \"person_likes_post\" does not exist, skipping\n",
      "psql:lsqb/sql/drop.sql:26: NOTICE:  table \"person_studyat_university\" does not exist, skipping\n",
      "psql:lsqb/sql/drop.sql:27: NOTICE:  table \"person_workat_company\" does not exist, skipping\n",
      "psql:lsqb/sql/drop.sql:28: NOTICE:  table \"person_knows_person\" does not exist, skipping\n"
     ]
    },
    {
     "name": "stdout",
     "output_type": "stream",
     "text": [
      "DROP TABLE\n",
      "DROP TABLE\n",
      "DROP TABLE\n",
      "DROP TABLE\n",
      "DROP TABLE\n",
      "CREATE TABLE\n",
      "CREATE TABLE\n",
      "CREATE TABLE\n",
      "CREATE TABLE\n",
      "CREATE TABLE\n",
      "CREATE TABLE\n",
      "CREATE TABLE\n",
      "CREATE TABLE\n",
      "CREATE TABLE\n",
      "CREATE TABLE\n",
      "CREATE TABLE\n",
      "CREATE TABLE\n",
      "CREATE TABLE\n",
      "CREATE TABLE\n",
      "CREATE TABLE\n",
      "CREATE TABLE\n",
      "CREATE TABLE\n",
      "CREATE TABLE\n",
      "CREATE TABLE\n",
      "CREATE TABLE\n",
      "CREATE TABLE\n",
      "COPY 1575\n",
      "COPY 6380\n",
      "COPY 6\n",
      "COPY 111\n",
      "COPY 1343\n",
      "COPY 109617\n",
      "COPY 2580332\n",
      "COPY 1229275\n",
      "COPY 11000\n",
      "COPY 16080\n",
      "COPY 71\n",
      "COPY 3148317\n",
      "COPY 815205\n",
      "COPY 3268415\n",
      "COPY 354213\n",
      "COPY 255596\n",
      "COPY 1668015\n",
      "COPY 853145\n",
      "COPY 8880\n",
      "COPY 23600\n",
      "COPY 226293\n",
      "COPY 226293\n",
      "CREATE VIEW\n",
      "CREATE VIEW\n",
      "CREATE VIEW\n",
      "CREATE VIEW\n",
      "CREATE VIEW\n",
      "CREATE VIEW\n"
     ]
    }
   ],
   "source": [
    "%%bash\n",
    "export SF=1\n",
    "./import-lsqb.sh"
   ]
  },
  {
   "cell_type": "markdown",
   "id": "cdc68a5a-e8d7-401b-ae90-ca453297cb7a",
   "metadata": {},
   "source": [
    "# SNAP"
   ]
  },
  {
   "cell_type": "markdown",
   "id": "78076a59-e13a-4bb1-a431-cb4029d271ed",
   "metadata": {},
   "source": [
    "## Fetch the SNAP data"
   ]
  },
  {
   "cell_type": "code",
   "execution_count": 8,
   "id": "b8a64742-ad74-4539-bf4e-2695c0cab012",
   "metadata": {},
   "outputs": [],
   "source": [
    "!chmod +x snap/remove-header.sh"
   ]
  },
  {
   "cell_type": "code",
   "execution_count": 9,
   "id": "3490e426-11cf-4a47-ae0b-4a47fd6718ca",
   "metadata": {},
   "outputs": [
    {
     "name": "stderr",
     "output_type": "stream",
     "text": [
      "  % Total    % Received % Xferd  Average Speed   Time    Time     Time  Current\n",
      "                                 Dload  Upload   Total   Spent    Left  Speed\n",
      "100 81.1M  100 81.1M    0     0  5532k      0  0:00:15  0:00:15 --:--:-- 13.3M\n",
      "gzip: cit-Patents.txt already exists;\tnot overwritten\n",
      "  % Total    % Received % Xferd  Average Speed   Time    Time     Time  Current\n",
      "                                 Dload  Upload   Total   Spent    Left  Speed\n",
      "100 95.1M  100 95.1M    0     0  5812k      0  0:00:16  0:00:16 --:--:-- 13.3M\n",
      "gzip: wiki-topcats.txt already exists;\tnot overwritten\n",
      "  % Total    % Received % Xferd  Average Speed   Time    Time     Time  Current\n",
      "                                 Dload  Upload   Total   Spent    Left  Speed\n",
      "100 20.1M  100 20.1M    0     0  2116k      0  0:00:09  0:00:09 --:--:-- 4087k\n",
      "gzip: web-Google.txt already exists;\tnot overwritten\n",
      "  % Total    % Received % Xferd  Average Speed   Time    Time     Time  Current\n",
      "                                 Dload  Upload   Total   Spent    Left  Speed\n",
      "100 4041k  100 4041k    0     0   635k      0  0:00:06  0:00:06 --:--:--  824k\n",
      "gzip: com-dblp.ungraph.txt already exists;\tnot overwritten\n"
     ]
    }
   ],
   "source": [
    "%%bash\n",
    "\n",
    "datasets=(\"http://snap.stanford.edu/data/cit-Patents.txt.gz\"\n",
    "          \"http://snap.stanford.edu/data/wiki-topcats.txt.gz\"\n",
    "          \"http://snap.stanford.edu/data/web-Google.txt.gz\"\n",
    "          \"http://snap.stanford.edu/data/bigdata/communities/com-dblp.ungraph.txt.gz\")\n",
    "\n",
    "cd snap\n",
    "\n",
    "for d in ${datasets[*]}; do\n",
    "    if [ ! -f $(basename $d) ]; then\n",
    "        curl -O $d;\n",
    "        gunzip $(basename $d)\n",
    "    else\n",
    "        echo \"$(basename $d) exists\"\n",
    "    fi\n",
    "done\n",
    "\n",
    "./remove-header.sh\n",
    "\n",
    "cd .."
   ]
  },
  {
   "cell_type": "markdown",
   "id": "ab415533-85c5-42d8-ac95-2ee758af0674",
   "metadata": {},
   "source": [
    "## Import the SNAP data"
   ]
  },
  {
   "cell_type": "code",
   "execution_count": 10,
   "id": "88da5b05-2f35-4001-9c7e-2d436ac54034",
   "metadata": {},
   "outputs": [
    {
     "name": "stdout",
     "output_type": "stream",
     "text": [
      "Overwriting import-snap.sql\n"
     ]
    }
   ],
   "source": [
    "%%writefile import-snap.sql\n",
    "\n",
    "DROP TABLE IF EXISTS patents;\n",
    "CREATE TABLE patents (fromNode integer, toNode integer);\n",
    "\\copy patents FROM 'snap/noheader/cit-Patents.txt' with (header false);\n",
    "\n",
    "DROP TABLE IF EXISTS wiki;\n",
    "CREATE TABLE wiki (fromNode integer, toNode integer);\n",
    "\\copy wiki FROM 'snap/noheader/wiki-topcats.txt' with (header false, delimiter ' ');\n",
    "\n",
    "DROP TABLE IF EXISTS google;\n",
    "CREATE TABLE google (fromNode integer, toNode integer);\n",
    "\\copy google FROM 'snap/noheader/web-Google.txt' with (header false);\n",
    "\n",
    "DROP TABLE IF EXISTS dblp;\n",
    "CREATE TABLE dblp (fromNode integer, toNode integer);\n",
    "\\copy dblp FROM 'snap/noheader/com-dblp.ungraph.txt' with (header false);"
   ]
  },
  {
   "cell_type": "code",
   "execution_count": 11,
   "id": "96ba4047-28b3-4ff3-b2e6-27969da86cce",
   "metadata": {},
   "outputs": [
    {
     "name": "stderr",
     "output_type": "stream",
     "text": [
      "psql:import-snap.sql:2: NOTICE:  table \"patents\" does not exist, skipping\n"
     ]
    },
    {
     "name": "stdout",
     "output_type": "stream",
     "text": [
      "DROP TABLE\n",
      "CREATE TABLE\n",
      "COPY 16518948\n"
     ]
    },
    {
     "name": "stderr",
     "output_type": "stream",
     "text": [
      "psql:import-snap.sql:6: NOTICE:  table \"wiki\" does not exist, skipping\n"
     ]
    },
    {
     "name": "stdout",
     "output_type": "stream",
     "text": [
      "DROP TABLE\n",
      "CREATE TABLE\n",
      "COPY 28511807\n"
     ]
    },
    {
     "name": "stderr",
     "output_type": "stream",
     "text": [
      "psql:import-snap.sql:10: NOTICE:  table \"google\" does not exist, skipping\n"
     ]
    },
    {
     "name": "stdout",
     "output_type": "stream",
     "text": [
      "DROP TABLE\n",
      "CREATE TABLE\n",
      "COPY 5105039\n"
     ]
    },
    {
     "name": "stderr",
     "output_type": "stream",
     "text": [
      "psql:import-snap.sql:14: NOTICE:  table \"dblp\" does not exist, skipping\n"
     ]
    },
    {
     "name": "stdout",
     "output_type": "stream",
     "text": [
      "DROP TABLE\n",
      "CREATE TABLE\n",
      "COPY 1049866\n"
     ]
    }
   ],
   "source": [
    "%%bash\n",
    "\n",
    "PGPASSWORD=snap psql -h postgres -U snap -d snap -f import-snap.sql"
   ]
  },
  {
   "cell_type": "markdown",
   "id": "76e3001c-296a-4810-becd-1c9610de2d67",
   "metadata": {},
   "source": [
    "## Generate SNAP queries"
   ]
  },
  {
   "cell_type": "code",
   "execution_count": 12,
   "id": "ad4a7ce6-64b2-4c76-9e4b-9ff77c9b3583",
   "metadata": {},
   "outputs": [],
   "source": [
    "import glob\n",
    "from pathlib import Path\n",
    "\n",
    "snap_tables = ['patents', 'wiki', 'google', 'dblp']\n",
    "\n",
    "Path(f'snap-queries/all').mkdir(parents=True, exist_ok=True)\n",
    "for tablename in snap_tables:\n",
    "    Path(f'snap-queries/{tablename}').mkdir(parents=True, exist_ok=True)\n",
    "    # We use the patent queries as the base and replace the references to the patent relation\n",
    "    base_query_files = glob.glob('snap-queries/patents/*.sql')\n",
    "    for file in base_query_files:\n",
    "        query = Path(file).read_text()\n",
    "        basename = Path(file).name\n",
    "        new_query = query.replace('patents', tablename)\n",
    "        with open(f'snap-queries/{tablename}/{basename}', 'w') as new_file:\n",
    "            new_file.write(new_query)\n",
    "        with open(f'snap-queries/all/{tablename}-{basename}', 'w') as new_file:\n",
    "            new_file.write(new_query)"
   ]
  },
  {
   "cell_type": "markdown",
   "id": "4591e590-f0d7-4c17-a7de-b857be068b76",
   "metadata": {},
   "source": [
    "# JOB"
   ]
  },
  {
   "cell_type": "markdown",
   "id": "c04e0969-873a-4ee5-9841-11d5e5cda96b",
   "metadata": {},
   "source": [
    "## Import the JOB/IMDB data"
   ]
  },
  {
   "cell_type": "code",
   "execution_count": 13,
   "id": "d24de335-5fcc-42ef-bfa3-af132cf26776",
   "metadata": {},
   "outputs": [],
   "source": [
    "%%bash\n",
    "cd job\n",
    "tar -xzf export.sql.tar.gz"
   ]
  },
  {
   "cell_type": "code",
   "execution_count": 14,
   "id": "2fe97450-cee6-4891-be44-a29b435f6a91",
   "metadata": {},
   "outputs": [
    {
     "name": "stdout",
     "output_type": "stream",
     "text": [
      "\n",
      "CREATE INDEX title_idx_kindid ON public.title USING btree (kind_id);\n",
      "\n",
      "\n",
      "--\n",
      "-- Name: title_idx_md5; Type: INDEX; Schema: public; Owner: imdb\n",
      "--\n",
      "\n",
      "CREATE INDEX title_idx_md5 ON public.title USING btree (md5sum);\n",
      "\n",
      "\n",
      "--\n",
      "-- Name: title_idx_pcode; Type: INDEX; Schema: public; Owner: imdb\n",
      "--\n",
      "\n",
      "CREATE INDEX title_idx_pcode ON public.title USING btree (phonetic_code);\n",
      "\n",
      "\n",
      "--\n",
      "-- Name: title_idx_season_nr; Type: INDEX; Schema: public; Owner: imdb\n",
      "--\n",
      "\n",
      "CREATE INDEX title_idx_season_nr ON public.title USING btree (season_nr);\n",
      "\n",
      "\n",
      "--\n",
      "-- Name: title_idx_title; Type: INDEX; Schema: public; Owner: imdb\n",
      "--\n",
      "\n",
      "CREATE INDEX title_idx_title ON public.title USING btree (title);\n",
      "\n",
      "\n",
      "--\n",
      "-- Name: title_idx_year; Type: INDEX; Schema: public; Owner: imdb\n",
      "--\n",
      "\n",
      "CREATE INDEX title_idx_year ON public.title USING btree (production_year);\n",
      "\n",
      "\n",
      "--\n",
      "-- Name: SCHEMA public; Type: ACL; Schema: -; Owner: pg_database_owner\n",
      "--\n",
      "\n",
      "GRANT ALL ON SCHEMA public TO imdb;\n",
      "\n",
      "\n",
      "--\n",
      "-- PostgreSQL database dump complete\n",
      "--\n",
      "\n"
     ]
    }
   ],
   "source": [
    "%%bash\n",
    "tail -n 50 job/export.sql"
   ]
  },
  {
   "cell_type": "code",
   "execution_count": 15,
   "id": "162d4341-50e8-4069-a052-448589a4d04b",
   "metadata": {},
   "outputs": [
    {
     "name": "stdout",
     "output_type": "stream",
     "text": [
      "SET\n",
      "SET\n",
      "SET\n",
      "SET\n",
      "SET\n",
      " set_config \n",
      "------------\n",
      " \n",
      "(1 row)\n",
      "\n",
      "SET\n",
      "SET\n",
      "SET\n",
      "SET\n",
      "SET\n",
      "SET\n",
      "CREATE TABLE\n",
      "ALTER TABLE\n",
      "CREATE SEQUENCE\n",
      "ALTER SEQUENCE\n",
      "ALTER SEQUENCE\n",
      "CREATE TABLE\n",
      "ALTER TABLE\n",
      "CREATE SEQUENCE\n",
      "ALTER SEQUENCE\n",
      "ALTER SEQUENCE\n",
      "CREATE TABLE\n",
      "ALTER TABLE\n",
      "CREATE SEQUENCE\n",
      "ALTER SEQUENCE\n",
      "ALTER SEQUENCE\n",
      "CREATE TABLE\n",
      "ALTER TABLE\n",
      "CREATE SEQUENCE\n",
      "ALTER SEQUENCE\n",
      "ALTER SEQUENCE\n",
      "CREATE TABLE\n",
      "ALTER TABLE\n",
      "CREATE SEQUENCE\n",
      "ALTER SEQUENCE\n",
      "ALTER SEQUENCE\n",
      "CREATE TABLE\n",
      "ALTER TABLE\n",
      "CREATE SEQUENCE\n",
      "ALTER SEQUENCE\n",
      "ALTER SEQUENCE\n",
      "CREATE TABLE\n",
      "ALTER TABLE\n",
      "CREATE SEQUENCE\n",
      "ALTER SEQUENCE\n",
      "ALTER SEQUENCE\n",
      "CREATE TABLE\n",
      "ALTER TABLE\n",
      "CREATE SEQUENCE\n",
      "ALTER SEQUENCE\n",
      "ALTER SEQUENCE\n",
      "CREATE TABLE\n",
      "ALTER TABLE\n",
      "CREATE SEQUENCE\n",
      "ALTER SEQUENCE\n",
      "ALTER SEQUENCE\n",
      "CREATE TABLE\n",
      "ALTER TABLE\n",
      "CREATE SEQUENCE\n",
      "ALTER SEQUENCE\n",
      "ALTER SEQUENCE\n",
      "CREATE TABLE\n",
      "ALTER TABLE\n",
      "CREATE SEQUENCE\n",
      "ALTER SEQUENCE\n",
      "ALTER SEQUENCE\n",
      "CREATE TABLE\n",
      "ALTER TABLE\n",
      "CREATE SEQUENCE\n",
      "ALTER SEQUENCE\n",
      "ALTER SEQUENCE\n",
      "CREATE TABLE\n",
      "ALTER TABLE\n",
      "CREATE SEQUENCE\n",
      "ALTER SEQUENCE\n",
      "ALTER SEQUENCE\n",
      "CREATE TABLE\n",
      "ALTER TABLE\n",
      "CREATE SEQUENCE\n",
      "ALTER SEQUENCE\n",
      "ALTER SEQUENCE\n",
      "CREATE TABLE\n",
      "ALTER TABLE\n",
      "CREATE SEQUENCE\n",
      "ALTER SEQUENCE\n",
      "ALTER SEQUENCE\n",
      "CREATE TABLE\n",
      "ALTER TABLE\n",
      "CREATE SEQUENCE\n",
      "ALTER SEQUENCE\n",
      "ALTER SEQUENCE\n",
      "CREATE TABLE\n",
      "ALTER TABLE\n",
      "CREATE SEQUENCE\n",
      "ALTER SEQUENCE\n",
      "ALTER SEQUENCE\n",
      "CREATE TABLE\n",
      "ALTER TABLE\n",
      "CREATE SEQUENCE\n",
      "ALTER SEQUENCE\n",
      "ALTER SEQUENCE\n",
      "CREATE TABLE\n",
      "ALTER TABLE\n",
      "CREATE SEQUENCE\n",
      "ALTER SEQUENCE\n",
      "ALTER SEQUENCE\n",
      "CREATE TABLE\n",
      "ALTER TABLE\n",
      "CREATE SEQUENCE\n",
      "ALTER SEQUENCE\n",
      "ALTER SEQUENCE\n",
      "ALTER TABLE\n",
      "ALTER TABLE\n",
      "ALTER TABLE\n",
      "ALTER TABLE\n",
      "ALTER TABLE\n",
      "ALTER TABLE\n",
      "ALTER TABLE\n",
      "ALTER TABLE\n",
      "ALTER TABLE\n",
      "ALTER TABLE\n",
      "ALTER TABLE\n",
      "ALTER TABLE\n",
      "ALTER TABLE\n",
      "ALTER TABLE\n",
      "ALTER TABLE\n",
      "ALTER TABLE\n",
      "ALTER TABLE\n",
      "ALTER TABLE\n",
      "ALTER TABLE\n",
      "ALTER TABLE\n",
      "COPY 1312273\n",
      "COPY 528297\n",
      "COPY 63475835\n",
      "COPY 4314864\n",
      "COPY 4\n",
      "COPY 362131\n",
      "COPY 4\n",
      "COPY 135086\n",
      "COPY 113\n",
      "COPY 236627\n",
      "COPY 9\n",
      "COPY 18\n",
      "COPY 4958296\n",
      "COPY 29774686\n",
      "COPY 7480087\n",
      "COPY 2585150\n",
      "COPY 6379740\n",
      "COPY 4130207\n",
      "COPY 12\n",
      "COPY 3300000\n",
      " setval  \n",
      "---------\n",
      " 1312273\n",
      "(1 row)\n",
      "\n",
      " setval \n",
      "--------\n",
      "      1\n",
      "(1 row)\n",
      "\n",
      "  setval  \n",
      "----------\n",
      " 63475835\n",
      "(1 row)\n",
      "\n",
      " setval \n",
      "--------\n",
      "      1\n",
      "(1 row)\n",
      "\n",
      " setval \n",
      "--------\n",
      "      4\n",
      "(1 row)\n",
      "\n",
      " setval \n",
      "--------\n",
      "      1\n",
      "(1 row)\n",
      "\n",
      " setval \n",
      "--------\n",
      "      4\n",
      "(1 row)\n",
      "\n",
      " setval \n",
      "--------\n",
      " 135086\n",
      "(1 row)\n",
      "\n",
      " setval \n",
      "--------\n",
      "    113\n",
      "(1 row)\n",
      "\n",
      " setval \n",
      "--------\n",
      "      1\n",
      "(1 row)\n",
      "\n",
      " setval \n",
      "--------\n",
      "      9\n",
      "(1 row)\n",
      "\n",
      " setval \n",
      "--------\n",
      "     18\n",
      "(1 row)\n",
      "\n",
      " setval  \n",
      "---------\n",
      " 4958296\n",
      "(1 row)\n",
      "\n",
      "  setval  \n",
      "----------\n",
      " 29774686\n",
      "(1 row)\n",
      "\n",
      " setval  \n",
      "---------\n",
      " 7480087\n",
      "(1 row)\n",
      "\n",
      " setval  \n",
      "---------\n",
      " 2585150\n",
      "(1 row)\n",
      "\n",
      " setval \n",
      "--------\n",
      "      1\n",
      "(1 row)\n",
      "\n",
      " setval  \n",
      "---------\n",
      " 4130207\n",
      "(1 row)\n",
      "\n",
      " setval \n",
      "--------\n",
      "     12\n",
      "(1 row)\n",
      "\n",
      " setval \n",
      "--------\n",
      "      1\n",
      "(1 row)\n",
      "\n",
      "ALTER TABLE\n",
      "ALTER TABLE\n",
      "ALTER TABLE\n",
      "ALTER TABLE\n",
      "ALTER TABLE\n",
      "ALTER TABLE\n",
      "ALTER TABLE\n",
      "ALTER TABLE\n",
      "ALTER TABLE\n",
      "ALTER TABLE\n",
      "ALTER TABLE\n",
      "ALTER TABLE\n",
      "ALTER TABLE\n",
      "ALTER TABLE\n",
      "ALTER TABLE\n",
      "ALTER TABLE\n",
      "ALTER TABLE\n",
      "ALTER TABLE\n",
      "ALTER TABLE\n",
      "ALTER TABLE\n",
      "CREATE INDEX\n",
      "CREATE INDEX\n",
      "CREATE INDEX\n",
      "CREATE INDEX\n",
      "CREATE INDEX\n",
      "CREATE INDEX\n",
      "CREATE INDEX\n",
      "CREATE INDEX\n",
      "CREATE INDEX\n",
      "CREATE INDEX\n",
      "CREATE INDEX\n",
      "CREATE INDEX\n",
      "CREATE INDEX\n",
      "CREATE INDEX\n",
      "CREATE INDEX\n",
      "CREATE INDEX\n",
      "CREATE INDEX\n",
      "CREATE INDEX\n",
      "CREATE INDEX\n",
      "CREATE INDEX\n",
      "CREATE INDEX\n",
      "CREATE INDEX\n",
      "CREATE INDEX\n",
      "CREATE INDEX\n",
      "CREATE INDEX\n",
      "CREATE INDEX\n",
      "CREATE INDEX\n",
      "CREATE INDEX\n",
      "CREATE INDEX\n",
      "CREATE INDEX\n",
      "CREATE INDEX\n",
      "CREATE INDEX\n",
      "CREATE INDEX\n",
      "CREATE INDEX\n",
      "CREATE INDEX\n",
      "CREATE INDEX\n",
      "CREATE INDEX\n",
      "CREATE INDEX\n",
      "CREATE INDEX\n",
      "CREATE INDEX\n",
      "CREATE INDEX\n",
      "CREATE INDEX\n",
      "CREATE INDEX\n",
      "CREATE INDEX\n",
      "CREATE INDEX\n",
      "CREATE INDEX\n",
      "CREATE INDEX\n",
      "CREATE INDEX\n",
      "CREATE INDEX\n",
      "CREATE INDEX\n",
      "CREATE INDEX\n",
      "CREATE INDEX\n",
      "CREATE INDEX\n",
      "CREATE INDEX\n",
      "CREATE INDEX\n",
      "CREATE INDEX\n",
      "CREATE INDEX\n",
      "CREATE INDEX\n",
      "CREATE INDEX\n",
      "CREATE INDEX\n",
      "CREATE INDEX\n",
      "CREATE INDEX\n",
      "CREATE INDEX\n",
      "CREATE INDEX\n",
      "CREATE INDEX\n",
      "CREATE INDEX\n"
     ]
    },
    {
     "name": "stderr",
     "output_type": "stream",
     "text": [
      "psql:export.sql:128975271: WARNING:  no privileges were granted for \"public\"\n"
     ]
    },
    {
     "name": "stdout",
     "output_type": "stream",
     "text": [
      "GRANT\n"
     ]
    }
   ],
   "source": [
    "%%bash\n",
    "\n",
    "cd job\n",
    "PGPASSWORD=imdb psql -h postgres -U imdb -d imdb -f export.sql"
   ]
  },
  {
   "cell_type": "code",
   "execution_count": 16,
   "id": "3021510f-ddbf-41a4-b264-7b2795f13a7b",
   "metadata": {},
   "outputs": [
    {
     "name": "stdout",
     "output_type": "stream",
     "text": [
      "            List of relations\n",
      " Schema |      Name       | Type  | Owner \n",
      "--------+-----------------+-------+-------\n",
      " public | aka_name        | table | imdb\n",
      " public | aka_title       | table | imdb\n",
      " public | cast_info       | table | imdb\n",
      " public | char_name       | table | imdb\n",
      " public | comp_cast_type  | table | imdb\n",
      " public | company_name    | table | imdb\n",
      " public | company_type    | table | imdb\n",
      " public | complete_cast   | table | imdb\n",
      " public | info_type       | table | imdb\n",
      " public | keyword         | table | imdb\n",
      " public | kind_type       | table | imdb\n",
      " public | link_type       | table | imdb\n",
      " public | movie_companies | table | imdb\n",
      " public | movie_info      | table | imdb\n",
      " public | movie_keyword   | table | imdb\n",
      " public | movie_link      | table | imdb\n",
      " public | name            | table | imdb\n",
      " public | person_info     | table | imdb\n",
      " public | role_type       | table | imdb\n",
      " public | title           | table | imdb\n",
      "(20 rows)\n",
      "\n"
     ]
    }
   ],
   "source": [
    "%%bash\n",
    "PGPASSWORD=imdb psql -h postgres -U imdb -d imdb\n",
    "\\dt"
   ]
  },
  {
   "cell_type": "markdown",
   "id": "f30a193a-72fb-45eb-bdc2-a373a4519dcc",
   "metadata": {},
   "source": [
    "# STATS"
   ]
  },
  {
   "cell_type": "markdown",
   "id": "744683bc-a5aa-40d0-8a70-9c81cf9328fc",
   "metadata": {},
   "source": [
    "## Import the STATS dataset"
   ]
  },
  {
   "cell_type": "code",
   "execution_count": 17,
   "id": "f104f30b-4b1a-4ea8-b0fd-675d40adb3dd",
   "metadata": {},
   "outputs": [
    {
     "name": "stdout",
     "output_type": "stream",
     "text": [
      "CREATE TABLE\n",
      "CREATE TABLE\n",
      "CREATE TABLE\n",
      "CREATE TABLE\n",
      "CREATE TABLE\n",
      "CREATE TABLE\n",
      "CREATE TABLE\n",
      "CREATE TABLE\n",
      "COPY 79851\n",
      "COPY 174305\n",
      "COPY 40325\n",
      "COPY 1032\n",
      "COPY 91976\n",
      "COPY 328064\n",
      "COPY 303187\n",
      "COPY 11102\n"
     ]
    }
   ],
   "source": [
    "%%bash\n",
    "\n",
    "cd stats\n",
    "PGPASSWORD=stats psql -h postgres -U stats -d stats -f datasets/stats.sql\n",
    "PGPASSWORD=stats psql -h postgres -U stats -d stats -f scripts/stats_load.sql"
   ]
  },
  {
   "cell_type": "markdown",
   "id": "ce3317ba-c89a-49e3-8b1e-55c216fe15e9",
   "metadata": {},
   "source": [
    "## Generate the STATS queries\n",
    "\n",
    "Some small errors in the names of the foreign keys are fixed (from https://arxiv.org/pdf/2109.05877.pdf)"
   ]
  },
  {
   "cell_type": "code",
   "execution_count": 18,
   "id": "ae9744c6-7bba-46a0-9b21-8587bb8848b7",
   "metadata": {},
   "outputs": [],
   "source": [
    "import re\n",
    "\n",
    "query_file = Path('stats/workload/stats_CEB.sql').read_text()\n",
    "queries = []\n",
    "for i, row in enumerate(query_file.split('\\n')):\n",
    "    count = int(row.split('||')[0])\n",
    "    query = row.split('||')[1]\n",
    "\n",
    "    p = re.compile(\"('\\\\d{4}-\\\\d{2}-\\\\d{2} \\\\d{2}:\\\\d{2}:\\\\d{2}')::timestamp\")\n",
    "    query_replaced = p.sub(lambda match: f'CAST({match.group(1)} AS TIMESTAMP)', query)\n",
    "    queries.append((i, count, query_replaced))\n",
    "\n",
    "queries.sort(key=lambda t: t[1])\n",
    "\n",
    "hints = [('FK(t.ExcerptPostId, p.Id)', ['t', 'p']),\n",
    "        ('FK(pl.PostId, p.Id)', ['pl', 'p']),\n",
    "        ('FK(pl.RelatedPostId, p.Id)', ['pl', 'p']),\n",
    "        ('FK(c.PostId, p.Id)', ['c', 'p']),\n",
    "        ('FK(ph.PostId, p.Id)', ['ph', 'p']),\n",
    "        ('FK(v.PostId, p.Id)', ['v', 'p']),\n",
    "        ('FK(p.OwnerUserId, u.Id)', ['p', 'u']),\n",
    "        ('FK(c.UserId, u.Id)', ['c', 'u']),\n",
    "        ('FK(ph.UserId, u.Id)', ['ph', 'u']),\n",
    "        ('FK(b.UserId, u.Id)', ['b', 'u']),\n",
    "        ('FK(v.UserId, u.Id)', ['v', 'u'])]\n",
    "\n",
    "for i, (idx, count, query_replaced) in enumerate(queries):\n",
    "    with open(f'stats-queries/{i+1:03}-{idx+1:03}.sql', 'w') as f:\n",
    "        f.write(query_replaced)\n",
    "    with open(f'stats-queries/hints/{i+1:03}-{idx+1:03}-hint.sql', 'w') as f:\n",
    "        applicable_hints = list(map(lambda h: h[0],\n",
    "                               list(filter(lambda h: re.search('as {rname}( |,)'.format(rname=h[1][0]), query_replaced) is not None\n",
    "                                           and re.search('as {rname}( |,)'.format(rname=h[1][1]), query_replaced) is not None, hints))))\n",
    "        if (len(applicable_hints) > 0):\n",
    "            query_hints = query_replaced.replace('SELECT', f'SELECT /*+ {\",\".join(applicable_hints)} */ ')\n",
    "            f.write(query_hints)\n",
    "        else:\n",
    "            f.write(query_replaced)"
   ]
  },
  {
   "cell_type": "markdown",
   "id": "68acddc4-28ae-4c09-9532-a11e2646b80e",
   "metadata": {},
   "source": [
    "# HETIONET"
   ]
  },
  {
   "cell_type": "code",
   "execution_count": 19,
   "id": "9d095ee6-547d-465a-9659-2c21eaa7a2ec",
   "metadata": {},
   "outputs": [
    {
     "name": "stderr",
     "output_type": "stream",
     "text": [
      "--2024-04-24 08:56:17--  https://github.com/hetio/hetionet/raw/main/hetnet/json/hetionet-v1.0.json.bz2\n",
      "Resolving github.com (github.com)... 140.82.121.4\n",
      "Connecting to github.com (github.com)|140.82.121.4|:443... connected.\n",
      "HTTP request sent, awaiting response... 302 Found\n",
      "Location: https://media.githubusercontent.com/media/hetio/hetionet/main/hetnet/json/hetionet-v1.0.json.bz2 [following]\n",
      "--2024-04-24 08:56:18--  https://media.githubusercontent.com/media/hetio/hetionet/main/hetnet/json/hetionet-v1.0.json.bz2\n",
      "Resolving media.githubusercontent.com (media.githubusercontent.com)... 185.199.111.133, 185.199.110.133, 185.199.108.133, ...\n",
      "Connecting to media.githubusercontent.com (media.githubusercontent.com)|185.199.111.133|:443... connected.\n",
      "HTTP request sent, awaiting response... 200 OK\n",
      "Length: 16112094 (15M) [application/octet-stream]\n",
      "Saving to: ‘hetionet-v1.0.json.bz2’\n",
      "\n",
      "     0K .......... .......... .......... .......... ..........  0% 6.77M 2s\n",
      "    50K .......... .......... .......... .......... ..........  0% 13.2M 2s\n",
      "   100K .......... .......... .......... .......... ..........  0% 18.4M 1s\n",
      "   150K .......... .......... .......... .......... ..........  1% 14.2M 1s\n",
      "   200K .......... .......... .......... .......... ..........  1% 19.5M 1s\n",
      "   250K .......... .......... .......... .......... ..........  1% 51.0M 1s\n",
      "   300K .......... .......... .......... .......... ..........  2% 52.6M 1s\n",
      "   350K .......... .......... .......... .......... ..........  2% 30.8M 1s\n",
      "   400K .......... .......... .......... .......... ..........  2% 41.7M 1s\n",
      "   450K .......... .......... .......... .......... ..........  3%  169M 1s\n",
      "   500K .......... .......... .......... .......... ..........  3% 34.2M 1s\n",
      "   550K .......... .......... .......... .......... ..........  3% 45.2M 1s\n",
      "   600K .......... .......... .......... .......... ..........  4%  121M 1s\n",
      "   650K .......... .......... .......... .......... ..........  4% 63.4M 1s\n",
      "   700K .......... .......... .......... .......... ..........  4% 66.4M 1s\n",
      "   750K .......... .......... .......... .......... ..........  5% 42.2M 1s\n",
      "   800K .......... .......... .......... .......... ..........  5% 75.5M 1s\n",
      "   850K .......... .......... .......... .......... ..........  5% 65.3M 1s\n",
      "   900K .......... .......... .......... .......... ..........  6% 86.3M 0s\n",
      "   950K .......... .......... .......... .......... ..........  6% 56.1M 0s\n",
      "  1000K .......... .......... .......... .......... ..........  6% 97.1M 0s\n",
      "  1050K .......... .......... .......... .......... ..........  6%  203M 0s\n",
      "  1100K .......... .......... .......... .......... ..........  7% 37.3M 0s\n",
      "  1150K .......... .......... .......... .......... ..........  7%  159M 0s\n",
      "  1200K .......... .......... .......... .......... ..........  7% 47.8M 0s\n",
      "  1250K .......... .......... .......... .......... ..........  8% 86.9M 0s\n",
      "  1300K .......... .......... .......... .......... ..........  8% 27.3M 0s\n",
      "  1350K .......... .......... .......... .......... ..........  8%  227M 0s\n",
      "  1400K .......... .......... .......... .......... ..........  9%  122M 0s\n",
      "  1450K .......... .......... .......... .......... ..........  9% 31.0M 0s\n",
      "  1500K .......... .......... .......... .......... ..........  9%  106M 0s\n",
      "  1550K .......... .......... .......... .......... .......... 10% 67.8M 0s\n",
      "  1600K .......... .......... .......... .......... .......... 10% 81.1M 0s\n",
      "  1650K .......... .......... .......... .......... .......... 10% 73.1M 0s\n",
      "  1700K .......... .......... .......... .......... .......... 11% 33.2M 0s\n",
      "  1750K .......... .......... .......... .......... .......... 11% 77.6M 0s\n",
      "  1800K .......... .......... .......... .......... .......... 11%  184M 0s\n",
      "  1850K .......... .......... .......... .......... .......... 12% 46.5M 0s\n",
      "  1900K .......... .......... .......... .......... .......... 12% 90.4M 0s\n",
      "  1950K .......... .......... .......... .......... .......... 12%  136M 0s\n",
      "  2000K .......... .......... .......... .......... .......... 13% 74.6M 0s\n",
      "  2050K .......... .......... .......... .......... .......... 13% 33.4M 0s\n",
      "  2100K .......... .......... .......... .......... .......... 13% 54.0M 0s\n",
      "  2150K .......... .......... .......... .......... .......... 13% 34.6M 0s\n",
      "  2200K .......... .......... .......... .......... .......... 14%  250M 0s\n",
      "  2250K .......... .......... .......... .......... .......... 14%  109M 0s\n",
      "  2300K .......... .......... .......... .......... .......... 14% 72.0M 0s\n",
      "  2350K .......... .......... .......... .......... .......... 15%  159M 0s\n",
      "  2400K .......... .......... .......... .......... .......... 15% 78.3M 0s\n",
      "  2450K .......... .......... .......... .......... .......... 15% 45.4M 0s\n",
      "  2500K .......... .......... .......... .......... .......... 16%  170M 0s\n",
      "  2550K .......... .......... .......... .......... .......... 16% 65.7M 0s\n",
      "  2600K .......... .......... .......... .......... .......... 16% 44.2M 0s\n",
      "  2650K .......... .......... .......... .......... .......... 17%  111M 0s\n",
      "  2700K .......... .......... .......... .......... .......... 17% 99.8M 0s\n",
      "  2750K .......... .......... .......... .......... .......... 17%  112M 0s\n",
      "  2800K .......... .......... .......... .......... .......... 18%  190M 0s\n",
      "  2850K .......... .......... .......... .......... .......... 18% 50.0M 0s\n",
      "  2900K .......... .......... .......... .......... .......... 18%  151M 0s\n",
      "  2950K .......... .......... .......... .......... .......... 19%  111M 0s\n",
      "  3000K .......... .......... .......... .......... .......... 19%  318M 0s\n",
      "  3050K .......... .......... .......... .......... .......... 19% 66.4M 0s\n",
      "  3100K .......... .......... .......... .......... .......... 20%  141M 0s\n",
      "  3150K .......... .......... .......... .......... .......... 20% 55.0M 0s\n",
      "  3200K .......... .......... .......... .......... .......... 20%  535M 0s\n",
      "  3250K .......... .......... .......... .......... .......... 20% 53.7M 0s\n",
      "  3300K .......... .......... .......... .......... .......... 21%  131M 0s\n",
      "  3350K .......... .......... .......... .......... .......... 21% 98.2M 0s\n",
      "  3400K .......... .......... .......... .......... .......... 21% 78.2M 0s\n",
      "  3450K .......... .......... .......... .......... .......... 22%  258M 0s\n",
      "  3500K .......... .......... .......... .......... .......... 22% 56.9M 0s\n",
      "  3550K .......... .......... .......... .......... .......... 22%  141M 0s\n",
      "  3600K .......... .......... .......... .......... .......... 23%  131M 0s\n",
      "  3650K .......... .......... .......... .......... .......... 23%  238M 0s\n",
      "  3700K .......... .......... .......... .......... .......... 23%  123M 0s\n",
      "  3750K .......... .......... .......... .......... .......... 24% 51.4M 0s\n",
      "  3800K .......... .......... .......... .......... .......... 24%  243M 0s\n",
      "  3850K .......... .......... .......... .......... .......... 24%  179M 0s\n",
      "  3900K .......... .......... .......... .......... .......... 25%  266M 0s\n",
      "  3950K .......... .......... .......... .......... .......... 25%  135M 0s\n",
      "  4000K .......... .......... .......... .......... .......... 25% 79.6M 0s\n",
      "  4050K .......... .......... .......... .......... .......... 26%  102M 0s\n",
      "  4100K .......... .......... .......... .......... .......... 26%  169M 0s\n",
      "  4150K .......... .......... .......... .......... .......... 26%  331M 0s\n",
      "  4200K .......... .......... .......... .......... .......... 27% 80.5M 0s\n",
      "  4250K .......... .......... .......... .......... .......... 27% 41.3M 0s\n",
      "  4300K .......... .......... .......... .......... .......... 27% 83.8M 0s\n",
      "  4350K .......... .......... .......... .......... .......... 27%  264M 0s\n",
      "  4400K .......... .......... .......... .......... .......... 28%  293M 0s\n",
      "  4450K .......... .......... .......... .......... .......... 28% 47.2M 0s\n",
      "  4500K .......... .......... .......... .......... .......... 28% 30.3M 0s\n",
      "  4550K .......... .......... .......... .......... .......... 29%  269M 0s\n",
      "  4600K .......... .......... .......... .......... .......... 29%  154M 0s\n",
      "  4650K .......... .......... .......... .......... .......... 29%  302M 0s\n",
      "  4700K .......... .......... .......... .......... .......... 30% 48.7M 0s\n",
      "  4750K .......... .......... .......... .......... .......... 30% 63.3M 0s\n",
      "  4800K .......... .......... .......... .......... .......... 30%  147M 0s\n",
      "  4850K .......... .......... .......... .......... .......... 31% 68.3M 0s\n",
      "  4900K .......... .......... .......... .......... .......... 31%  298M 0s\n",
      "  4950K .......... .......... .......... .......... .......... 31% 49.7M 0s\n",
      "  5000K .......... .......... .......... .......... .......... 32% 54.8M 0s\n",
      "  5050K .......... .......... .......... .......... .......... 32% 72.4M 0s\n",
      "  5100K .......... .......... .......... .......... .......... 32%  287M 0s\n",
      "  5150K .......... .......... .......... .......... .......... 33% 91.6M 0s\n",
      "  5200K .......... .......... .......... .......... .......... 33% 28.6M 0s\n",
      "  5250K .......... .......... .......... .......... .......... 33% 48.4M 0s\n",
      "  5300K .......... .......... .......... .......... .......... 34%  108M 0s\n",
      "  5350K .......... .......... .......... .......... .......... 34%  277M 0s\n",
      "  5400K .......... .......... .......... .......... .......... 34%  136M 0s\n",
      "  5450K .......... .......... .......... .......... .......... 34% 82.8M 0s\n",
      "  5500K .......... .......... .......... .......... .......... 35% 92.8M 0s\n",
      "  5550K .......... .......... .......... .......... .......... 35%  366M 0s\n",
      "  5600K .......... .......... .......... .......... .......... 35% 90.8M 0s\n",
      "  5650K .......... .......... .......... .......... .......... 36% 75.6M 0s\n",
      "  5700K .......... .......... .......... .......... .......... 36% 77.2M 0s\n",
      "  5750K .......... .......... .......... .......... .......... 36% 69.0M 0s\n",
      "  5800K .......... .......... .......... .......... .......... 37%  233M 0s\n",
      "  5850K .......... .......... .......... .......... .......... 37% 92.8M 0s\n",
      "  5900K .......... .......... .......... .......... .......... 37%  251M 0s\n",
      "  5950K .......... .......... .......... .......... .......... 38% 80.7M 0s\n",
      "  6000K .......... .......... .......... .......... .......... 38%  382M 0s\n",
      "  6050K .......... .......... .......... .......... .......... 38% 77.6M 0s\n",
      "  6100K .......... .......... .......... .......... .......... 39% 90.2M 0s\n",
      "  6150K .......... .......... .......... .......... .......... 39%  283M 0s\n",
      "  6200K .......... .......... .......... .......... .......... 39%  203M 0s\n",
      "  6250K .......... .......... .......... .......... .......... 40%  300M 0s\n",
      "  6300K .......... .......... .......... .......... .......... 40%  102M 0s\n",
      "  6350K .......... .......... .......... .......... .......... 40%  128M 0s\n",
      "  6400K .......... .......... .......... .......... .......... 40% 99.8M 0s\n",
      "  6450K .......... .......... .......... .......... .......... 41% 89.2M 0s\n",
      "  6500K .......... .......... .......... .......... .......... 41%  318M 0s\n",
      "  6550K .......... .......... .......... .......... .......... 41% 73.4M 0s\n",
      "  6600K .......... .......... .......... .......... .......... 42% 97.2M 0s\n",
      "  6650K .......... .......... .......... .......... .......... 42%  177M 0s\n",
      "  6700K .......... .......... .......... .......... .......... 42% 55.6M 0s\n",
      "  6750K .......... .......... .......... .......... .......... 43%  339M 0s\n",
      "  6800K .......... .......... .......... .......... .......... 43%  219M 0s\n",
      "  6850K .......... .......... .......... .......... .......... 43% 80.1M 0s\n",
      "  6900K .......... .......... .......... .......... .......... 44%  167M 0s\n",
      "  6950K .......... .......... .......... .......... .......... 44%  162M 0s\n",
      "  7000K .......... .......... .......... .......... .......... 44%  183M 0s\n",
      "  7050K .......... .......... .......... .......... .......... 45% 84.0M 0s\n",
      "  7100K .......... .......... .......... .......... .......... 45%  105M 0s\n",
      "  7150K .......... .......... .......... .......... .......... 45% 87.7M 0s\n",
      "  7200K .......... .......... .......... .......... .......... 46%  268M 0s\n",
      "  7250K .......... .......... .......... .......... .......... 46%  130M 0s\n",
      "  7300K .......... .......... .......... .......... .......... 46%  124M 0s\n",
      "  7350K .......... .......... .......... .......... .......... 47% 90.5M 0s\n",
      "  7400K .......... .......... .......... .......... .......... 47%  110M 0s\n",
      "  7450K .......... .......... .......... .......... .......... 47%  247M 0s\n",
      "  7500K .......... .......... .......... .......... .......... 47%  113M 0s\n",
      "  7550K .......... .......... .......... .......... .......... 48%  135M 0s\n",
      "  7600K .......... .......... .......... .......... .......... 48% 63.5M 0s\n",
      "  7650K .......... .......... .......... .......... .......... 48%  136M 0s\n",
      "  7700K .......... .......... .......... .......... .......... 49%  309M 0s\n",
      "  7750K .......... .......... .......... .......... .......... 49% 55.1M 0s\n",
      "  7800K .......... .......... .......... .......... .......... 49% 97.9M 0s\n",
      "  7850K .......... .......... .......... .......... .......... 50%  135M 0s\n",
      "  7900K .......... .......... .......... .......... .......... 50%  231M 0s\n",
      "  7950K .......... .......... .......... .......... .......... 50% 75.5M 0s\n",
      "  8000K .......... .......... .......... .......... .......... 51% 22.5M 0s\n",
      "  8050K .......... .......... .......... .......... .......... 51% 63.9M 0s\n",
      "  8100K .......... .......... .......... .......... .......... 51% 79.7M 0s\n",
      "  8150K .......... .......... .......... .......... .......... 52%  108M 0s\n",
      "  8200K .......... .......... .......... .......... .......... 52%  128M 0s\n",
      "  8250K .......... .......... .......... .......... .......... 52% 56.3M 0s\n",
      "  8300K .......... .......... .......... .......... .......... 53% 99.9M 0s\n",
      "  8350K .......... .......... .......... .......... .......... 53%  188M 0s\n",
      "  8400K .......... .......... .......... .......... .......... 53% 88.2M 0s\n",
      "  8450K .......... .......... .......... .......... .......... 54% 54.1M 0s\n",
      "  8500K .......... .......... .......... .......... .......... 54% 60.6M 0s\n",
      "  8550K .......... .......... .......... .......... .......... 54%  158M 0s\n",
      "  8600K .......... .......... .......... .......... .......... 54% 90.8M 0s\n",
      "  8650K .......... .......... .......... .......... .......... 55% 91.9M 0s\n",
      "  8700K .......... .......... .......... .......... .......... 55%  310M 0s\n",
      "  8750K .......... .......... .......... .......... .......... 55%  117M 0s\n",
      "  8800K .......... .......... .......... .......... .......... 56% 12.8M 0s\n",
      "  8850K .......... .......... .......... .......... .......... 56% 81.4M 0s\n",
      "  8900K .......... .......... .......... .......... .......... 56%  160M 0s\n",
      "  8950K .......... .......... .......... .......... .......... 57%  135M 0s\n",
      "  9000K .......... .......... .......... .......... .......... 57%  112M 0s\n",
      "  9050K .......... .......... .......... .......... .......... 57%  122M 0s\n",
      "  9100K .......... .......... .......... .......... .......... 58%  294M 0s\n",
      "  9150K .......... .......... .......... .......... .......... 58% 91.8M 0s\n",
      "  9200K .......... .......... .......... .......... .......... 58% 95.3M 0s\n",
      "  9250K .......... .......... .......... .......... .......... 59%  181M 0s\n",
      "  9300K .......... .......... .......... .......... .......... 59%  209M 0s\n",
      "  9350K .......... .......... .......... .......... .......... 59%  164M 0s\n",
      "  9400K .......... .......... .......... .......... .......... 60%  141M 0s\n",
      "  9450K .......... .......... .......... .......... .......... 60%  158M 0s\n",
      "  9500K .......... .......... .......... .......... .......... 60%  168M 0s\n",
      "  9550K .......... .......... .......... .......... .......... 61%  192M 0s\n",
      "  9600K .......... .......... .......... .......... .......... 61%  163M 0s\n",
      "  9650K .......... .......... .......... .......... .......... 61% 86.1M 0s\n",
      "  9700K .......... .......... .......... .......... .......... 61% 91.5M 0s\n",
      "  9750K .......... .......... .......... .......... .......... 62%  132M 0s\n",
      "  9800K .......... .......... .......... .......... .......... 62%  222M 0s\n",
      "  9850K .......... .......... .......... .......... .......... 62%  204M 0s\n",
      "  9900K .......... .......... .......... .......... .......... 63%  172M 0s\n",
      "  9950K .......... .......... .......... .......... .......... 63%  337M 0s\n",
      " 10000K .......... .......... .......... .......... .......... 63%  168M 0s\n",
      " 10050K .......... .......... .......... .......... .......... 64% 84.6M 0s\n",
      " 10100K .......... .......... .......... .......... .......... 64%  137M 0s\n",
      " 10150K .......... .......... .......... .......... .......... 64% 99.5M 0s\n",
      " 10200K .......... .......... .......... .......... .......... 65%  131M 0s\n",
      " 10250K .......... .......... .......... .......... .......... 65%  391M 0s\n",
      " 10300K .......... .......... .......... .......... .......... 65%  245M 0s\n",
      " 10350K .......... .......... .......... .......... .......... 66%  127M 0s\n",
      " 10400K .......... .......... .......... .......... .......... 66%  228M 0s\n",
      " 10450K .......... .......... .......... .......... .......... 66%  120M 0s\n",
      " 10500K .......... .......... .......... .......... .......... 67%  265M 0s\n",
      " 10550K .......... .......... .......... .......... .......... 67%  180M 0s\n",
      " 10600K .......... .......... .......... .......... .......... 67%  276M 0s\n",
      " 10650K .......... .......... .......... .......... .......... 68%  195M 0s\n",
      " 10700K .......... .......... .......... .......... .......... 68% 86.8M 0s\n",
      " 10750K .......... .......... .......... .......... .......... 68%  284M 0s\n",
      " 10800K .......... .......... .......... .......... .......... 68% 82.0M 0s\n",
      " 10850K .......... .......... .......... .......... .......... 69%  128M 0s\n",
      " 10900K .......... .......... .......... .......... .......... 69% 99.9M 0s\n",
      " 10950K .......... .......... .......... .......... .......... 69%  460M 0s\n",
      " 11000K .......... .......... .......... .......... .......... 70%  103M 0s\n",
      " 11050K .......... .......... .......... .......... .......... 70%  105M 0s\n",
      " 11100K .......... .......... .......... .......... .......... 70% 67.7M 0s\n",
      " 11150K .......... .......... .......... .......... .......... 71%  142M 0s\n",
      " 11200K .......... .......... .......... .......... .......... 71%  171M 0s\n",
      " 11250K .......... .......... .......... .......... .......... 71% 44.9M 0s\n",
      " 11300K .......... .......... .......... .......... .......... 72%  158M 0s\n",
      " 11350K .......... .......... .......... .......... .......... 72% 47.8M 0s\n",
      " 11400K .......... .......... .......... .......... .......... 72%  102M 0s\n",
      " 11450K .......... .......... .......... .......... .......... 73%  341M 0s\n",
      " 11500K .......... .......... .......... .......... .......... 73%  242M 0s\n",
      " 11550K .......... .......... .......... .......... .......... 73% 75.8M 0s\n",
      " 11600K .......... .......... .......... .......... .......... 74% 63.8M 0s\n",
      " 11650K .......... .......... .......... .......... .......... 74%  136M 0s\n",
      " 11700K .......... .......... .......... .......... .......... 74%  205M 0s\n",
      " 11750K .......... .......... .......... .......... .......... 74% 67.3M 0s\n",
      " 11800K .......... .......... .......... .......... .......... 75% 61.4M 0s\n",
      " 11850K .......... .......... .......... .......... .......... 75% 59.8M 0s\n",
      " 11900K .......... .......... .......... .......... .......... 75%  450M 0s\n",
      " 11950K .......... .......... .......... .......... .......... 76%  108M 0s\n",
      " 12000K .......... .......... .......... .......... .......... 76% 85.7M 0s\n",
      " 12050K .......... .......... .......... .......... .......... 76%  135M 0s\n",
      " 12100K .......... .......... .......... .......... .......... 77%  141M 0s\n",
      " 12150K .......... .......... .......... .......... .......... 77%  324M 0s\n",
      " 12200K .......... .......... .......... .......... .......... 77% 30.0M 0s\n",
      " 12250K .......... .......... .......... .......... .......... 78%  128M 0s\n",
      " 12300K .......... .......... .......... .......... .......... 78%  274M 0s\n",
      " 12350K .......... .......... .......... .......... .......... 78% 6.23M 0s\n",
      " 12400K .......... .......... .......... .......... .......... 79%  353M 0s\n",
      " 12450K .......... .......... .......... .......... .......... 79%  452M 0s\n",
      " 12500K .......... .......... .......... .......... .......... 79%  445M 0s\n",
      " 12550K .......... .......... .......... .......... .......... 80%  564M 0s\n",
      " 12600K .......... .......... .......... .......... .......... 80%  559M 0s\n",
      " 12650K .......... .......... .......... .......... .......... 80%  474M 0s\n",
      " 12700K .......... .......... .......... .......... .......... 81%  575M 0s\n",
      " 12750K .......... .......... .......... .......... .......... 81%  549M 0s\n",
      " 12800K .......... .......... .......... .......... .......... 81%  568M 0s\n",
      " 12850K .......... .......... .......... .......... .......... 81%  468M 0s\n",
      " 12900K .......... .......... .......... .......... .......... 82%  341M 0s\n",
      " 12950K .......... .......... .......... .......... .......... 82%  530M 0s\n",
      " 13000K .......... .......... .......... .......... .......... 82%  543M 0s\n",
      " 13050K .......... .......... .......... .......... .......... 83%  511M 0s\n",
      " 13100K .......... .......... .......... .......... .......... 83% 40.7M 0s\n",
      " 13150K .......... .......... .......... .......... .......... 83%  138M 0s\n",
      " 13200K .......... .......... .......... .......... .......... 84%  119M 0s\n",
      " 13250K .......... .......... .......... .......... .......... 84% 39.5M 0s\n",
      " 13300K .......... .......... .......... .......... .......... 84%  495M 0s\n",
      " 13350K .......... .......... .......... .......... .......... 85% 54.0M 0s\n",
      " 13400K .......... .......... .......... .......... .......... 85%  294M 0s\n",
      " 13450K .......... .......... .......... .......... .......... 85%  220M 0s\n",
      " 13500K .......... .......... .......... .......... .......... 86% 26.0M 0s\n",
      " 13550K .......... .......... .......... .......... .......... 86%  377M 0s\n",
      " 13600K .......... .......... .......... .......... .......... 86% 79.5M 0s\n",
      " 13650K .......... .......... .......... .......... .......... 87% 56.4M 0s\n",
      " 13700K .......... .......... .......... .......... .......... 87% 45.5M 0s\n",
      " 13750K .......... .......... .......... .......... .......... 87%  226M 0s\n",
      " 13800K .......... .......... .......... .......... .......... 88%  519M 0s\n",
      " 13850K .......... .......... .......... .......... .......... 88% 81.5M 0s\n",
      " 13900K .......... .......... .......... .......... .......... 88% 78.6M 0s\n",
      " 13950K .......... .......... .......... .......... .......... 88% 62.4M 0s\n",
      " 14000K .......... .......... .......... .......... .......... 89%  106M 0s\n",
      " 14050K .......... .......... .......... .......... .......... 89% 85.4M 0s\n",
      " 14100K .......... .......... .......... .......... .......... 89% 45.4M 0s\n",
      " 14150K .......... .......... .......... .......... .......... 90% 94.4M 0s\n",
      " 14200K .......... .......... .......... .......... .......... 90% 83.4M 0s\n",
      " 14250K .......... .......... .......... .......... .......... 90%  133M 0s\n",
      " 14300K .......... .......... .......... .......... .......... 91% 67.2M 0s\n",
      " 14350K .......... .......... .......... .......... .......... 91% 49.5M 0s\n",
      " 14400K .......... .......... .......... .......... .......... 91%  104M 0s\n",
      " 14450K .......... .......... .......... .......... .......... 92% 96.9M 0s\n",
      " 14500K .......... .......... .......... .......... .......... 92%  208M 0s\n",
      " 14550K .......... .......... .......... .......... .......... 92% 60.8M 0s\n",
      " 14600K .......... .......... .......... .......... .......... 93% 68.9M 0s\n",
      " 14650K .......... .......... .......... .......... .......... 93% 62.7M 0s\n",
      " 14700K .......... .......... .......... .......... .......... 93%  494M 0s\n",
      " 14750K .......... .......... .......... .......... .......... 94% 77.2M 0s\n",
      " 14800K .......... .......... .......... .......... .......... 94%  117M 0s\n",
      " 14850K .......... .......... .......... .......... .......... 94% 61.3M 0s\n",
      " 14900K .......... .......... .......... .......... .......... 95%  112M 0s\n",
      " 14950K .......... .......... .......... .......... .......... 95%  452M 0s\n",
      " 15000K .......... .......... .......... .......... .......... 95% 47.6M 0s\n",
      " 15050K .......... .......... .......... .......... .......... 95% 83.3M 0s\n",
      " 15100K .......... .......... .......... .......... .......... 96% 75.5M 0s\n",
      " 15150K .......... .......... .......... .......... .......... 96%  348M 0s\n",
      " 15200K .......... .......... .......... .......... .......... 96% 68.2M 0s\n",
      " 15250K .......... .......... .......... .......... .......... 97%  112M 0s\n",
      " 15300K .......... .......... .......... .......... .......... 97% 92.6M 0s\n",
      " 15350K .......... .......... .......... .......... .......... 97%  172M 0s\n",
      " 15400K .......... .......... .......... .......... .......... 98%  158M 0s\n",
      " 15450K .......... .......... .......... .......... .......... 98% 92.6M 0s\n",
      " 15500K .......... .......... .......... .......... .......... 98%  158M 0s\n",
      " 15550K .......... .......... .......... .......... .......... 99%  113M 0s\n",
      " 15600K .......... .......... .......... .......... .......... 99%  468M 0s\n",
      " 15650K .......... .......... .......... .......... .......... 99% 79.9M 0s\n",
      " 15700K .......... .......... .......... ....                 100% 88.0M=0.2s\n",
      "\n",
      "2024-04-24 08:56:20 (80.5 MB/s) - ‘hetionet-v1.0.json.bz2’ saved [16112094/16112094]\n",
      "\n"
     ]
    }
   ],
   "source": [
    "%%bash\n",
    "rm hetionet-v1.0.json.bz2\n",
    "wget https://github.com/hetio/hetionet/raw/main/hetnet/json/hetionet-v1.0.json.bz2"
   ]
  },
  {
   "cell_type": "code",
   "execution_count": 20,
   "id": "b5647890-b25a-468f-b7d0-e497e94813f7",
   "metadata": {},
   "outputs": [
    {
     "name": "stdout",
     "output_type": "stream",
     "text": [
      "upregulates 248670\n",
      "expresses 1052814\n",
      "interacts 294328\n",
      "participates 1629328\n",
      "downregulates 261930\n",
      "causes 277888\n",
      "binds 23142\n",
      "regulates 265672\n",
      "associates 25246\n",
      "covaries 123380\n",
      "localizes 7204\n",
      "resembles 14058\n",
      "treats 1510\n",
      "includes 2058\n",
      "presents 6714\n",
      "palliates 780\n"
     ]
    }
   ],
   "source": [
    "import json\n",
    "import bz2\n",
    "\n",
    "with bz2.open(\"hetionet-v1.0.json.bz2\", 'r') as f:\n",
    "    hetiojson = json.load(f)\n",
    "\n",
    "list(hetiojson.keys())\n",
    "\n",
    "nodes = hetiojson['nodes']\n",
    "edges = hetiojson['edges']\n",
    "\n",
    "node_rels = {}\n",
    "\n",
    "for n in nodes:\n",
    "    rel = n['kind'].replace(' ', '_')\n",
    "    id = n['identifier']\n",
    "    name = n['name']\n",
    "\n",
    "    if rel not in node_rels:\n",
    "        node_rels[rel] = []\n",
    "    \n",
    "    node_rels[rel].append((id, name))\n",
    "\n",
    "node_rels.keys()\n",
    "\n",
    "edge_rels = {}\n",
    "\n",
    "for e in edges:\n",
    "    erel = e['kind']\n",
    "    source = e['source_id'][1]\n",
    "    target = e['target_id'][1]\n",
    "    direction = e['direction']\n",
    "\n",
    "    if erel not in edge_rels:\n",
    "        edge_rels[erel] = []\n",
    "\n",
    "    if direction == 'both':\n",
    "        edge_rels[erel].append((source, target))\n",
    "        edge_rels[erel].append((target, source))\n",
    "    elif direction == 'forward':\n",
    "        edge_rels[erel].append((source, target))\n",
    "    else:\n",
    "        print(f'unknown direction {direction}, canceling!')\n",
    "        break\n",
    "        \n",
    "for k in edge_rels.keys():\n",
    "    print(k, len(edge_rels[k]))"
   ]
  },
  {
   "cell_type": "code",
   "execution_count": 21,
   "id": "5dd9b133-c968-465d-8c79-39f4a9243009",
   "metadata": {},
   "outputs": [
    {
     "name": "stdout",
     "output_type": "stream",
     "text": [
      "Requirement already satisfied: psycopg2-binary in /usr/local/lib/python3.10/dist-packages (2.9.9)\n"
     ]
    },
    {
     "name": "stderr",
     "output_type": "stream",
     "text": [
      "WARNING: Running pip as the 'root' user can result in broken permissions and conflicting behaviour with the system package manager. It is recommended to use a virtual environment instead: https://pip.pypa.io/warnings/venv\n"
     ]
    }
   ],
   "source": [
    "%%bash\n",
    "pip3 install psycopg2-binary"
   ]
  },
  {
   "cell_type": "code",
   "execution_count": 22,
   "id": "cfdf362c-0507-4c6d-a4f1-283946e08660",
   "metadata": {},
   "outputs": [],
   "source": [
    "import psycopg2 as pg\n",
    "from psycopg2 import sql\n",
    "\n",
    "conn = pg.connect(\"host=postgres dbname=hetio user=hetio password=hetio\")\n",
    "cur = conn.cursor()"
   ]
  },
  {
   "cell_type": "code",
   "execution_count": 23,
   "id": "6426156f-cd5f-4653-9165-22b3ce95fc35",
   "metadata": {},
   "outputs": [],
   "source": [
    "try:\n",
    "    for k in node_rels.keys():\n",
    "        s = sql.SQL('CREATE TABLE IF NOT EXISTS {} (nid varchar(64) primary key, name text)').format(sql.Identifier(k.lower()))\n",
    "        cur.execute(s)\n",
    "        for v in node_rels[k]:\n",
    "            cur.execute(sql.SQL('INSERT INTO {} VALUES (%s,%s);').format(sql.Identifier(k.lower())), v)\n",
    "    conn.commit()\n",
    "except Exception as e:\n",
    "    print(e)\n",
    "    print('Failed')\n",
    "    conn.rollback()"
   ]
  },
  {
   "cell_type": "code",
   "execution_count": 24,
   "id": "08df37e7-088a-460f-96a4-2e4df1043d86",
   "metadata": {},
   "outputs": [
    {
     "name": "stdout",
     "output_type": "stream",
     "text": [
      "upregulates\n",
      "Composed([SQL('CREATE TABLE IF NOT EXISTS '), Identifier('upregulates'), SQL(' (sid varchar(64), tid varchar(64))')])\n",
      "expresses\n",
      "Composed([SQL('CREATE TABLE IF NOT EXISTS '), Identifier('expresses'), SQL(' (sid varchar(64), tid varchar(64))')])\n",
      "interacts\n",
      "Composed([SQL('CREATE TABLE IF NOT EXISTS '), Identifier('interacts'), SQL(' (sid varchar(64), tid varchar(64))')])\n",
      "participates\n",
      "Composed([SQL('CREATE TABLE IF NOT EXISTS '), Identifier('participates'), SQL(' (sid varchar(64), tid varchar(64))')])\n",
      "downregulates\n",
      "Composed([SQL('CREATE TABLE IF NOT EXISTS '), Identifier('downregulates'), SQL(' (sid varchar(64), tid varchar(64))')])\n",
      "causes\n",
      "Composed([SQL('CREATE TABLE IF NOT EXISTS '), Identifier('causes'), SQL(' (sid varchar(64), tid varchar(64))')])\n",
      "binds\n",
      "Composed([SQL('CREATE TABLE IF NOT EXISTS '), Identifier('binds'), SQL(' (sid varchar(64), tid varchar(64))')])\n",
      "regulates\n",
      "Composed([SQL('CREATE TABLE IF NOT EXISTS '), Identifier('regulates'), SQL(' (sid varchar(64), tid varchar(64))')])\n",
      "associates\n",
      "Composed([SQL('CREATE TABLE IF NOT EXISTS '), Identifier('associates'), SQL(' (sid varchar(64), tid varchar(64))')])\n",
      "covaries\n",
      "Composed([SQL('CREATE TABLE IF NOT EXISTS '), Identifier('covaries'), SQL(' (sid varchar(64), tid varchar(64))')])\n",
      "localizes\n",
      "Composed([SQL('CREATE TABLE IF NOT EXISTS '), Identifier('localizes'), SQL(' (sid varchar(64), tid varchar(64))')])\n",
      "resembles\n",
      "Composed([SQL('CREATE TABLE IF NOT EXISTS '), Identifier('resembles'), SQL(' (sid varchar(64), tid varchar(64))')])\n",
      "treats\n",
      "Composed([SQL('CREATE TABLE IF NOT EXISTS '), Identifier('treats'), SQL(' (sid varchar(64), tid varchar(64))')])\n",
      "includes\n",
      "Composed([SQL('CREATE TABLE IF NOT EXISTS '), Identifier('includes'), SQL(' (sid varchar(64), tid varchar(64))')])\n",
      "presents\n",
      "Composed([SQL('CREATE TABLE IF NOT EXISTS '), Identifier('presents'), SQL(' (sid varchar(64), tid varchar(64))')])\n",
      "palliates\n",
      "Composed([SQL('CREATE TABLE IF NOT EXISTS '), Identifier('palliates'), SQL(' (sid varchar(64), tid varchar(64))')])\n"
     ]
    }
   ],
   "source": [
    "try:\n",
    "    for k in edge_rels.keys():\n",
    "        print(k)\n",
    "        s = sql.SQL('CREATE TABLE IF NOT EXISTS {} (sid varchar(64), tid varchar(64))').format(sql.Identifier(k))\n",
    "        print(s)\n",
    "        cur.execute(s)\n",
    "        for e in edge_rels[k]:\n",
    "            cur.execute(sql.SQL('INSERT INTO {} VALUES (%s,%s);').format(sql.Identifier(k)), e)\n",
    "        conn.commit()\n",
    "except Exception as e:\n",
    "    print(e)\n",
    "    print('Failed')\n",
    "    conn.rollback()"
   ]
  },
  {
   "cell_type": "markdown",
   "id": "28f35c5b-7abb-4cfa-a778-65dbe44b8f94",
   "metadata": {},
   "source": [
    "# DuckDB"
   ]
  },
  {
   "cell_type": "code",
   "execution_count": 3,
   "id": "7b15f6c4-f784-49eb-8f33-9e61027a53a6",
   "metadata": {},
   "outputs": [
    {
     "name": "stdout",
     "output_type": "stream",
     "text": [
      "Collecting duckdb\n",
      "  Downloading duckdb-0.10.2-cp310-cp310-manylinux_2_17_x86_64.manylinux2014_x86_64.whl (18.2 MB)\n",
      "     ━━━━━━━━━━━━━━━━━━━━━━━━━━━━━━━━━━━━━━━━ 18.2/18.2 MB 93.4 MB/s eta 0:00:00\n",
      "Installing collected packages: duckdb\n",
      "Successfully installed duckdb-0.10.2\n"
     ]
    },
    {
     "name": "stderr",
     "output_type": "stream",
     "text": [
      "WARNING: Running pip as the 'root' user can result in broken permissions and conflicting behaviour with the system package manager. It is recommended to use a virtual environment instead: https://pip.pypa.io/warnings/venv\n"
     ]
    }
   ],
   "source": [
    "%%bash\n",
    "pip install duckdb"
   ]
  },
  {
   "cell_type": "markdown",
   "id": "cc269083-2aa0-4c55-afbb-2995ee52d1c3",
   "metadata": {},
   "source": [
    "## STATS"
   ]
  },
  {
   "cell_type": "code",
   "execution_count": 103,
   "id": "6edf47ab-2b37-4a6f-9904-d005ef0bf278",
   "metadata": {},
   "outputs": [],
   "source": [
    "import duckdb\n",
    "import os\n",
    "\n",
    "con = duckdb.connect(database=\"stats/stats.duckdb\")\n",
    "con.execute(\"INSTALL postgres\")\n",
    "con.execute(\"LOAD postgres\")\n",
    "con.execute(\"ATTACH 'host=172.20.0.2 port=5432 user=postgres password=postgres dbname=stats' AS stats_DDB (TYPE postgres)\")\n",
    "con.execute(\"USE stats_DDB\")\n",
    "con.close()"
   ]
  },
  {
   "cell_type": "code",
   "execution_count": 78,
   "id": "b267b9cc-29c5-40ee-9a95-458397da92c9",
   "metadata": {},
   "outputs": [
    {
     "name": "stdout",
     "output_type": "stream",
     "text": [
      "[(1, 5, datetime.datetime(2010, 7, 19, 19, 39, 7)), (2, 6, datetime.datetime(2010, 7, 19, 19, 39, 7)), (3, 8, datetime.datetime(2010, 7, 19, 19, 39, 7)), (4, 23, datetime.datetime(2010, 7, 19, 19, 39, 7)), (5, 36, datetime.datetime(2010, 7, 19, 19, 39, 7))]\n"
     ]
    }
   ],
   "source": [
    "import duckdb\n",
    "\n",
    "conn = duckdb.connect(database='stats/stats.duckdb')\n",
    "\n",
    "cursor = conn.cursor()\n",
    "\n",
    "# Example query\n",
    "cursor.execute(\"USE stats_DDB\")\n",
    "cursor.execute(\"\"\"SELECT *\n",
    "FROM badges LIMIT 5\n",
    "\n",
    "\"\"\")\n",
    "\n",
    "# Fetch results\n",
    "results = cursor.fetchall()\n",
    "print(results)\n",
    "\n"
   ]
  },
  {
   "cell_type": "markdown",
   "id": "91d1babd-7604-4d20-a745-223324bed0f3",
   "metadata": {},
   "source": [
    "## SNAP"
   ]
  },
  {
   "cell_type": "code",
   "execution_count": 83,
   "id": "4e0d5212-3a5b-4e38-8c38-8f18f4a7734f",
   "metadata": {},
   "outputs": [],
   "source": [
    "import duckdb\n",
    "import os\n",
    "\n",
    "con = duckdb.connect(database=\"snap/snap.duckdb\")\n",
    "con.execute(\"INSTALL postgres\")\n",
    "con.execute(\"LOAD postgres\")\n",
    "con.execute(\"ATTACH 'host=172.20.0.2 port=5432 user=postgres password=postgres dbname=snap' AS snap_DDB (TYPE postgres)\")\n",
    "con.execute(\"USE snap_DDB\")\n",
    "con.close()"
   ]
  },
  {
   "cell_type": "code",
   "execution_count": 84,
   "id": "01ddfd5b-2f51-4f94-bc1c-4244fa3979f4",
   "metadata": {},
   "outputs": [
    {
     "name": "stdout",
     "output_type": "stream",
     "text": [
      "[(0, 1), (0, 2), (0, 4519), (0, 23073), (0, 33043)]\n"
     ]
    }
   ],
   "source": [
    "import duckdb\n",
    "\n",
    "conn = duckdb.connect(database='snap/snap.duckdb')\n",
    "\n",
    "cursor = conn.cursor()\n",
    "\n",
    "# Example query\n",
    "cursor.execute(\"USE snap_DDB\")\n",
    "cursor.execute(\"\"\"SELECT *\n",
    "FROM dblp LIMIT 5\n",
    "\n",
    "\"\"\")\n",
    "\n",
    "# Fetch results\n",
    "results = cursor.fetchall()\n",
    "print(results)\n",
    "\n",
    "conn.close()\n"
   ]
  },
  {
   "cell_type": "markdown",
   "id": "b2b63332-5e5c-47b0-aa6a-7075b3646ebf",
   "metadata": {},
   "source": [
    "## JOB"
   ]
  },
  {
   "cell_type": "code",
   "execution_count": 90,
   "id": "6f7253e6-a99c-4ad1-b589-b2a9ba2d69e0",
   "metadata": {},
   "outputs": [],
   "source": [
    "import duckdb\n",
    "import os\n",
    "\n",
    "con = duckdb.connect(database=\"job/job.duckdb\")\n",
    "con.execute(\"INSTALL postgres\")\n",
    "con.execute(\"LOAD postgres\")\n",
    "con.execute(\"ATTACH 'host=172.20.0.2 port=5432 user=postgres password=postgres dbname=imdb' AS job_DDB (TYPE postgres)\")\n",
    "con.execute(\"USE job_DDB\")\n",
    "con.close()"
   ]
  },
  {
   "cell_type": "code",
   "execution_count": 92,
   "id": "7eb8458b-90d3-4c50-964a-ba267e979ee7",
   "metadata": {},
   "outputs": [
    {
     "name": "stdout",
     "output_type": "stream",
     "text": [
      "[(1, 'number-in-title', 'N5165'), (2, 'web-series', 'W1262'), (3, 'friend', 'F653'), (4, 'heroin', 'H65'), (5, 'vlog', 'V42')]\n"
     ]
    }
   ],
   "source": [
    "import duckdb\n",
    "\n",
    "conn = duckdb.connect(database='job/job.duckdb')\n",
    "\n",
    "cursor = conn.cursor()\n",
    "\n",
    "# Example query\n",
    "cursor.execute(\"USE job_DDB\")\n",
    "cursor.execute(\"\"\"SELECT *\n",
    "FROM keyword LIMIT 5\n",
    "\n",
    "\"\"\")\n",
    "\n",
    "# Fetch results\n",
    "results = cursor.fetchall()\n",
    "print(results)\n",
    "\n"
   ]
  },
  {
   "cell_type": "markdown",
   "id": "d1578bf7-3ccb-438a-8c97-597ad27ecc9d",
   "metadata": {},
   "source": [
    "## LSQB"
   ]
  },
  {
   "cell_type": "code",
   "execution_count": 97,
   "id": "cc0e3610-d015-4bf7-b9b7-a12ff722eac1",
   "metadata": {},
   "outputs": [],
   "source": [
    "import duckdb\n",
    "import os\n",
    "\n",
    "con = duckdb.connect(database=\"lsqb/lsqb.duckdb\")\n",
    "con.execute(\"INSTALL postgres\")\n",
    "con.execute(\"LOAD postgres\")\n",
    "con.execute(\"ATTACH 'host=172.20.0.2 port=5432 user=postgres password=postgres dbname=lsqb' AS lsqb_DDB (TYPE postgres)\")\n",
    "con.execute(\"USE lsqb_DDB\")\n",
    "con.close()"
   ]
  },
  {
   "cell_type": "code",
   "execution_count": 98,
   "id": "29e94bdd-6dc8-407b-9548-6a060331b1e8",
   "metadata": {},
   "outputs": [
    {
     "name": "stdout",
     "output_type": "stream",
     "text": [
      "[(1649267441665, 19791209306158, 55, 1236950581248, None), (1924145348610, 10349, 51, 1236950581248, None), (1649267441668, 19791209306158, 55, 3, None), (1649267441669, 19791209306158, 55, 3, None), (1786706395489, 21990232566466, 58, 962072674656, None)]\n"
     ]
    }
   ],
   "source": [
    "import duckdb\n",
    "\n",
    "conn = duckdb.connect(database='lsqb/lsqb.duckdb')\n",
    "\n",
    "cursor = conn.cursor()\n",
    "\n",
    "# Example query\n",
    "cursor.execute(\"USE lsqb_DDB\")\n",
    "cursor.execute(\"\"\"SELECT *\n",
    "FROM Comment LIMIT 5\n",
    "\n",
    "\"\"\")\n",
    "\n",
    "# Fetch results\n",
    "results = cursor.fetchall()\n",
    "print(results)\n"
   ]
  },
  {
   "cell_type": "markdown",
   "id": "f92f9433-b103-44a0-9a7d-beb85c6ef858",
   "metadata": {},
   "source": [
    "## HETIO"
   ]
  },
  {
   "cell_type": "code",
   "execution_count": 101,
   "id": "d911076b-8e41-4f70-bed4-ba99f57426c7",
   "metadata": {},
   "outputs": [],
   "source": [
    "import duckdb\n",
    "import os\n",
    "\n",
    "con = duckdb.connect(database=\"hetio/hetio.duckdb\")\n",
    "con.execute(\"INSTALL postgres\")\n",
    "con.execute(\"LOAD postgres\")\n",
    "con.execute(\"ATTACH 'host=172.20.0.2 port=5432 user=postgres password=postgres dbname=hetio' AS hetio_DDB (TYPE postgres)\")\n",
    "con.execute(\"USE hetio_DDB\")\n",
    "con.close()"
   ]
  },
  {
   "cell_type": "code",
   "execution_count": 102,
   "id": "826dd274-d2ef-40bd-8103-22e689dbc8a0",
   "metadata": {},
   "outputs": [
    {
     "name": "stdout",
     "output_type": "stream",
     "text": [
      "[('5345', 'SERPINF2'), ('9409', 'PEX16'), ('10848', 'PPP1R13L'), ('121129', 'OR2AP1'), ('432', 'ASGR1')]\n"
     ]
    }
   ],
   "source": [
    "import duckdb\n",
    "\n",
    "conn = duckdb.connect(database='hetio/hetio.duckdb')\n",
    "\n",
    "cursor = conn.cursor()\n",
    "\n",
    "# Example query\n",
    "cursor.execute(\"USE hetio_DDB\")\n",
    "cursor.execute(\"\"\"SELECT *\n",
    "FROM gene LIMIT 5\n",
    "\n",
    "\"\"\")\n",
    "\n",
    "# Fetch results\n",
    "results = cursor.fetchall()\n",
    "print(results)\n",
    "\n"
   ]
  }
 ],
 "metadata": {
  "kernelspec": {
   "display_name": "Python 3 (ipykernel)",
   "language": "python",
   "name": "python3"
  },
  "language_info": {
   "codemirror_mode": {
    "name": "ipython",
    "version": 3
   },
   "file_extension": ".py",
   "mimetype": "text/x-python",
   "name": "python",
   "nbconvert_exporter": "python",
   "pygments_lexer": "ipython3",
   "version": "3.10.12"
  }
 },
 "nbformat": 4,
 "nbformat_minor": 5
}
