{
 "cells": [
  {
   "cell_type": "markdown",
   "id": "9cdb4222-72d2-4efb-882e-c4a6670be40f",
   "metadata": {},
   "source": [
    "# Run the benchmark queries\n",
    "for the DBMS:\n",
    "* DuckDB\n",
    "* Postgres\n",
    "\n",
    "for the benchmark datasets:\n",
    "* LSQB\n",
    "* SNAP\n",
    "* JOB\n",
    "* STATS\n",
    "\n",
    "the queries are executed as:\n",
    "* original query\n",
    "* rewritten with Yannakakis"
   ]
  },
  {
   "cell_type": "markdown",
   "id": "5143e1a2-e37c-4a1f-ac54-81e674378085",
   "metadata": {},
   "source": [
    "# Use Apache Calcite"
   ]
  },
  {
   "cell_type": "code",
   "execution_count": 1,
   "id": "1ef35b02-58d2-45cf-a7e2-bd9431ff86c7",
   "metadata": {},
   "outputs": [],
   "source": [
    "import subprocess"
   ]
  },
  {
   "cell_type": "markdown",
   "id": "24aafae5-fd65-49f2-b044-d4820807c51e",
   "metadata": {},
   "source": [
    "### Run a jar file"
   ]
  },
  {
   "cell_type": "code",
   "execution_count": 2,
   "id": "284ba281-3639-4926-ad01-c8fc5d2be7fc",
   "metadata": {},
   "outputs": [
    {
     "name": "stdout",
     "output_type": "stream",
     "text": [
      "java version \"21.0.2\" 2024-01-16 LTS\n",
      "Java(TM) SE Runtime Environment (build 21.0.2+13-LTS-58)\n",
      "Java HotSpot(TM) 64-Bit Server VM (build 21.0.2+13-LTS-58, mixed mode, sharing)\n"
     ]
    }
   ],
   "source": [
    "!java -version"
   ]
  },
  {
   "cell_type": "code",
   "execution_count": 3,
   "id": "91d348c7-9497-4f04-ab4b-30c44a92225d",
   "metadata": {},
   "outputs": [
    {
     "name": "stdout",
     "output_type": "stream",
     "text": [
      "9\n"
     ]
    }
   ],
   "source": [
    "!java -jar JavaTestWithVar.jar 5 4"
   ]
  },
  {
   "cell_type": "code",
   "execution_count": 4,
   "id": "7badf515-fc04-409a-b1e6-79629b353eae",
   "metadata": {},
   "outputs": [
    {
     "name": "stdout",
     "output_type": "stream",
     "text": [
      "9\n"
     ]
    }
   ],
   "source": [
    "result = subprocess.check_output(['java', '-jar', 'JavaTestWithVar.jar', '5', '4'], text=True)\n",
    "result = int(result)\n",
    "print(result)"
   ]
  },
  {
   "cell_type": "code",
   "execution_count": 5,
   "id": "72dd7ca1-c0a9-4f35-8af0-cd26d357e086",
   "metadata": {},
   "outputs": [
    {
     "name": "stderr",
     "output_type": "stream",
     "text": [
      "Error: Could not find or load main class org.calcite.QueryPlan\n",
      "Caused by: java.lang.ClassNotFoundException: org.calcite.QueryPlan\n"
     ]
    },
    {
     "ename": "CalledProcessError",
     "evalue": "Command '['java', '-jar', 'QueryPlan.jar', 'select * from trades.trade']' returned non-zero exit status 1.",
     "output_type": "error",
     "traceback": [
      "\u001b[0;31m---------------------------------------------------------------------------\u001b[0m",
      "\u001b[0;31mCalledProcessError\u001b[0m                        Traceback (most recent call last)",
      "Cell \u001b[0;32mIn[5], line 1\u001b[0m\n\u001b[0;32m----> 1\u001b[0m result \u001b[38;5;241m=\u001b[39m \u001b[43msubprocess\u001b[49m\u001b[38;5;241;43m.\u001b[39;49m\u001b[43mcheck_output\u001b[49m\u001b[43m(\u001b[49m\u001b[43m[\u001b[49m\u001b[38;5;124;43m'\u001b[39;49m\u001b[38;5;124;43mjava\u001b[39;49m\u001b[38;5;124;43m'\u001b[39;49m\u001b[43m,\u001b[49m\u001b[43m \u001b[49m\u001b[38;5;124;43m'\u001b[39;49m\u001b[38;5;124;43m-jar\u001b[39;49m\u001b[38;5;124;43m'\u001b[39;49m\u001b[43m,\u001b[49m\u001b[43m \u001b[49m\u001b[38;5;124;43m'\u001b[39;49m\u001b[38;5;124;43mQueryPlan.jar\u001b[39;49m\u001b[38;5;124;43m'\u001b[39;49m\u001b[43m,\u001b[49m\u001b[43m \u001b[49m\u001b[38;5;124;43m'\u001b[39;49m\u001b[38;5;124;43mselect * from trades.trade\u001b[39;49m\u001b[38;5;124;43m'\u001b[39;49m\u001b[43m]\u001b[49m\u001b[43m,\u001b[49m\u001b[43m \u001b[49m\u001b[43mtext\u001b[49m\u001b[38;5;241;43m=\u001b[39;49m\u001b[38;5;28;43;01mTrue\u001b[39;49;00m\u001b[43m)\u001b[49m\n\u001b[1;32m      2\u001b[0m result \u001b[38;5;241m=\u001b[39m \u001b[38;5;28mint\u001b[39m(result)\n\u001b[1;32m      3\u001b[0m \u001b[38;5;28mprint\u001b[39m(result)\n",
      "File \u001b[0;32m/usr/lib/python3.8/subprocess.py:415\u001b[0m, in \u001b[0;36mcheck_output\u001b[0;34m(timeout, *popenargs, **kwargs)\u001b[0m\n\u001b[1;32m    412\u001b[0m         empty \u001b[38;5;241m=\u001b[39m \u001b[38;5;124mb\u001b[39m\u001b[38;5;124m'\u001b[39m\u001b[38;5;124m'\u001b[39m\n\u001b[1;32m    413\u001b[0m     kwargs[\u001b[38;5;124m'\u001b[39m\u001b[38;5;124minput\u001b[39m\u001b[38;5;124m'\u001b[39m] \u001b[38;5;241m=\u001b[39m empty\n\u001b[0;32m--> 415\u001b[0m \u001b[38;5;28;01mreturn\u001b[39;00m \u001b[43mrun\u001b[49m\u001b[43m(\u001b[49m\u001b[38;5;241;43m*\u001b[39;49m\u001b[43mpopenargs\u001b[49m\u001b[43m,\u001b[49m\u001b[43m \u001b[49m\u001b[43mstdout\u001b[49m\u001b[38;5;241;43m=\u001b[39;49m\u001b[43mPIPE\u001b[49m\u001b[43m,\u001b[49m\u001b[43m \u001b[49m\u001b[43mtimeout\u001b[49m\u001b[38;5;241;43m=\u001b[39;49m\u001b[43mtimeout\u001b[49m\u001b[43m,\u001b[49m\u001b[43m \u001b[49m\u001b[43mcheck\u001b[49m\u001b[38;5;241;43m=\u001b[39;49m\u001b[38;5;28;43;01mTrue\u001b[39;49;00m\u001b[43m,\u001b[49m\n\u001b[1;32m    416\u001b[0m \u001b[43m           \u001b[49m\u001b[38;5;241;43m*\u001b[39;49m\u001b[38;5;241;43m*\u001b[39;49m\u001b[43mkwargs\u001b[49m\u001b[43m)\u001b[49m\u001b[38;5;241m.\u001b[39mstdout\n",
      "File \u001b[0;32m/usr/lib/python3.8/subprocess.py:516\u001b[0m, in \u001b[0;36mrun\u001b[0;34m(input, capture_output, timeout, check, *popenargs, **kwargs)\u001b[0m\n\u001b[1;32m    514\u001b[0m     retcode \u001b[38;5;241m=\u001b[39m process\u001b[38;5;241m.\u001b[39mpoll()\n\u001b[1;32m    515\u001b[0m     \u001b[38;5;28;01mif\u001b[39;00m check \u001b[38;5;129;01mand\u001b[39;00m retcode:\n\u001b[0;32m--> 516\u001b[0m         \u001b[38;5;28;01mraise\u001b[39;00m CalledProcessError(retcode, process\u001b[38;5;241m.\u001b[39margs,\n\u001b[1;32m    517\u001b[0m                                  output\u001b[38;5;241m=\u001b[39mstdout, stderr\u001b[38;5;241m=\u001b[39mstderr)\n\u001b[1;32m    518\u001b[0m \u001b[38;5;28;01mreturn\u001b[39;00m CompletedProcess(process\u001b[38;5;241m.\u001b[39margs, retcode, stdout, stderr)\n",
      "\u001b[0;31mCalledProcessError\u001b[0m: Command '['java', '-jar', 'QueryPlan.jar', 'select * from trades.trade']' returned non-zero exit status 1."
     ]
    }
   ],
   "source": [
    "result = subprocess.check_output(['java', '-jar', 'QueryPlan.jar', 'select * from trades.trade'], text=True)\n",
    "result = int(result)\n",
    "print(result)"
   ]
  },
  {
   "cell_type": "markdown",
   "id": "cca8d374-31b9-453f-b56b-cd4b66b4cde1",
   "metadata": {},
   "source": [
    "### Run the java file\n",
    "\n",
    "#### Testing with artifical trade dataset"
   ]
  },
  {
   "cell_type": "code",
   "execution_count": 6,
   "id": "43ebe157-d83b-451f-a157-281e05b2e9bb",
   "metadata": {},
   "outputs": [
    {
     "name": "stdout",
     "output_type": "stream",
     "text": [
      "16:34:40.998 [main] DEBUG org.apache.calcite.sql.parser - Reduced `tradeid` > 232312123\n",
      "16:34:41.301 [main] DEBUG org.apache.calcite.sql2rel - Plan after converting SqlNode to RelNode\n",
      "LogicalProject(qty=[COALESCE($2, $5)], tradeid=[$0], productid=[$1], tradeid2=[$3], productid2=[$4])\n",
      "  LogicalFilter(condition=[>($0, 232312123)])\n",
      "    LogicalJoin(condition=[=($2, $5)], joinType=[inner])\n",
      "      LogicalTableScan(table=[[TRADES, TRADE]])\n",
      "      LogicalTableScan(table=[[TRADES, TRADE2]])\n",
      "\n",
      "LogicalProject(qty=[COALESCE($2, $5)], tradeid=[$0], productid=[$1], tradeid2=[$3], productid2=[$4])\n",
      "  LogicalFilter(condition=[>($0, 232312123)])\n",
      "    LogicalJoin(condition=[=($2, $5)], joinType=[inner])\n",
      "      LogicalTableScan(table=[[TRADES, TRADE]])\n",
      "      LogicalTableScan(table=[[TRADES, TRADE2]])\n",
      "\n",
      "\n"
     ]
    }
   ],
   "source": [
    "command = \"cd ../../../calcite_java/QueryPlan && ./run org.calcite.QueryPlan 'select * from trades.trade natural join trades.trade2 where \\\"tradeid\\\" > 232312123'\"\n",
    "result = subprocess.check_output(command, shell=True, text=True)\n",
    "print(result)"
   ]
  },
  {
   "cell_type": "code",
   "execution_count": 7,
   "id": "8a8532be-8db6-4242-b4da-59f3c6d7f50e",
   "metadata": {},
   "outputs": [
    {
     "name": "stdout",
     "output_type": "stream",
     "text": [
      "LogicalProject(qty=[COALESCE($2, $5)], tradeid=[$0], productid=[$1], tradeid2=[$3], productid2=[$4])\n",
      "  LogicalFilter(condition=[>($0, 232312123)])\n",
      "    LogicalJoin(condition=[=($2, $5)], joinType=[inner])\n",
      "      LogicalTableScan(table=[[TRADES, TRADE]])\n",
      "      LogicalTableScan(table=[[TRADES, TRADE2]])\n"
     ]
    }
   ],
   "source": [
    "print(result.strip().split('\\n\\n')[-1])"
   ]
  },
  {
   "cell_type": "markdown",
   "id": "3de25180-f362-49a8-9642-4cee22d15463",
   "metadata": {},
   "source": [
    "#### STATS"
   ]
  },
  {
   "cell_type": "code",
   "execution_count": 8,
   "id": "6f373a4c-1993-43af-ab3c-cbbdd71fdee7",
   "metadata": {},
   "outputs": [
    {
     "name": "stdout",
     "output_type": "stream",
     "text": [
      "LogicalProject(Id=[$0], PostId=[$1], Score=[$2], CreationDate=[$3], UserId=[$4])\n",
      "  LogicalTableScan(table=[[STATS, comments]])\n"
     ]
    }
   ],
   "source": [
    "command = \"cd ../../../calcite_java/QueryPlan && ./run org.calcite.QueryPlan 'select * from stats.\\\"comments\\\"'\"\n",
    "result = subprocess.check_output(command, shell=True, text=True)\n",
    "result = result.strip().split('\\n\\n')[-1]\n",
    "print(result)"
   ]
  },
  {
   "cell_type": "code",
   "execution_count": 9,
   "id": "fe1faf2a-0996-42df-8d9c-d0125f712c8a",
   "metadata": {},
   "outputs": [
    {
     "name": "stdout",
     "output_type": "stream",
     "text": [
      "LogicalProject(Id=[$0], PostId=[$1], Score=[$2], CreationDate=[$3], UserId=[$4])\n",
      "  LogicalTableScan(table=[[STATS, comments]])\n"
     ]
    }
   ],
   "source": [
    "query = 'select * from stats.\\\\\"comments\\\\\"'\n",
    "command = f'cd ../../../calcite_java/QueryPlan && ./run org.calcite.QueryPlan \"{query}\"'\n",
    "result = subprocess.check_output(command, shell=True, text=True)\n",
    "result = result.strip().split('\\n\\n')[-1]\n",
    "print(result)"
   ]
  },
  {
   "cell_type": "code",
   "execution_count": 10,
   "id": "13061cb9-10e2-4210-be55-ebd18090c547",
   "metadata": {},
   "outputs": [
    {
     "name": "stdout",
     "output_type": "stream",
     "text": [
      "SELECT COUNT(*) FROM comments as c, votes as v, users as u WHERE u.Id = c.UserId AND u.Id = v.UserId AND c.CreationDate>=CAST('2010-10-01 20:45:26' AS TIMESTAMP) AND c.CreationDate<=CAST('2014-09-05 12:51:17' AS TIMESTAMP) AND v.BountyAmount<=100 AND u.UpVotes=0 AND u.CreationDate<=CAST('2014-09-12 03:25:34' AS TIMESTAMP);\n"
     ]
    }
   ],
   "source": [
    "file_path = '../stats-queries/001-014.sql'\n",
    "with open(file_path, 'r') as file:\n",
    "    query = file.read()\n",
    "print(query)"
   ]
  },
  {
   "cell_type": "code",
   "execution_count": 11,
   "id": "8f98051e-b022-417f-b7c3-84e18796b2e9",
   "metadata": {},
   "outputs": [
    {
     "name": "stdout",
     "output_type": "stream",
     "text": [
      "LogicalAggregate(group=[{}], EXPR$0=[COUNT()])\n",
      "  LogicalFilter(condition=[AND(=($11, $4), =($11, $9), >=(CAST($3):TIMESTAMP(0) NOT NULL, CAST('2010-10-01 20:45:26'):TIMESTAMP(0) NOT NULL), <=(CAST($3):TIMESTAMP(0) NOT NULL, CAST('2014-09-05 12:51:17'):TIMESTAMP(0) NOT NULL), <=(CAST($10):INTEGER NOT NULL, 100), =(CAST($15):INTEGER NOT NULL, 0), <=(CAST($13):TIMESTAMP(0) NOT NULL, CAST('2014-09-12 03:25:34'):TIMESTAMP(0) NOT NULL))])\n",
      "    LogicalJoin(condition=[true], joinType=[inner])\n",
      "      LogicalJoin(condition=[true], joinType=[inner])\n",
      "        LogicalTableScan(table=[[STATS, comments]])\n",
      "        LogicalTableScan(table=[[STATS, votes]])\n",
      "      LogicalTableScan(table=[[STATS, users]])\n"
     ]
    }
   ],
   "source": [
    "query = '''SELECT COUNT(*) FROM stats.\\\\\"comments\\\\\" as c, stats.\\\\\"votes\\\\\" as v, stats.\\\\\"users\\\\\" as u \n",
    "            WHERE u.\\\\\"Id\\\\\" = c.\\\\\"UserId\\\\\" AND u.\\\\\"Id\\\\\" = v.\\\\\"UserId\\\\\" \n",
    "                AND c.\\\\\"CreationDate\\\\\">=CAST('2010-10-01 20:45:26' AS TIMESTAMP)\n",
    "                AND c.\\\\\"CreationDate\\\\\"<=CAST('2014-09-05 12:51:17' AS TIMESTAMP) \n",
    "                AND v.\\\\\"BountyAmount\\\\\"<=100 AND u.\\\\\"UpVotes\\\\\"=0 \n",
    "                AND u.\\\\\"CreationDate\\\\\"<=CAST('2014-09-12 03:25:34' AS TIMESTAMP)'''\n",
    "command = f'cd ../../../calcite_java/QueryPlan && ./run org.calcite.QueryPlan \"{query}\"'\n",
    "result = subprocess.check_output(command, shell=True, text=True)\n",
    "result = result.strip().split('\\n\\n')[-1]\n",
    "print(result)"
   ]
  },
  {
   "cell_type": "code",
   "execution_count": 12,
   "id": "50c170b2-e7a3-4ee1-99ff-79ab77977469",
   "metadata": {},
   "outputs": [
    {
     "name": "stdout",
     "output_type": "stream",
     "text": [
      "LogicalAggregate(group=[{}], EXPR$0=[COUNT()])\n",
      "  LogicalJoin(condition=[=($5, $4)], joinType=[inner])\n",
      "    LogicalTableScan(table=[[STATS, comments]])\n",
      "    LogicalTableScan(table=[[STATS, users]])\n"
     ]
    }
   ],
   "source": [
    "query = '''SELECT COUNT(*) FROM stats.\\\\\"comments\\\\\" as c JOIN stats.\\\\\"users\\\\\" as u ON u.\\\\\"Id\\\\\" = c.\\\\\"UserId\\\\\" '''\n",
    "command = f'cd ../../../calcite_java/QueryPlan && ./run org.calcite.QueryPlan \"{query}\"'\n",
    "result = subprocess.check_output(command, shell=True, text=True)\n",
    "result = result.strip().split('\\n\\n')[-1]\n",
    "print(result)"
   ]
  },
  {
   "cell_type": "code",
   "execution_count": 23,
   "id": "c1c1477d-6fa6-4c7a-ab45-5f5440047955",
   "metadata": {},
   "outputs": [
    {
     "name": "stdout",
     "output_type": "stream",
     "text": [
      "LogicalAggregate(group=[{}], EXPR$0=[COUNT()])\n",
      "  LogicalJoin(condition=[=($0, $16)], joinType=[inner])\n",
      "    LogicalJoin(condition=[=($0, $10)], joinType=[inner])\n",
      "      LogicalTableScan(table=[[STATS, users]])\n",
      "      LogicalTableScan(table=[[STATS, votes]])\n",
      "    LogicalTableScan(table=[[STATS, comments]])\n"
     ]
    }
   ],
   "source": [
    "query2 = '''SELECT count(*)\n",
    "FROM stats.\\\\\"users\\\\\"\n",
    "JOIN stats.\\\\\"votes\\\\\"\n",
    "  ON \\\\\"users\\\\\".\\\\\"Id\\\\\" = \\\\\"votes\\\\\".\\\\\"UserId\\\\\"\n",
    "JOIN stats.\\\\\"comments\\\\\"\n",
    "  ON \\\\\"users\\\\\".\\\\\"Id\\\\\" = \\\\\"comments\\\\\".\\\\\"UserId\\\\\"'''\n",
    "command = f'cd ../../../calcite_java/QueryPlan && ./run org.calcite.QueryPlan \"{query2}\"'\n",
    "result = subprocess.check_output(command, shell=True, text=True)\n",
    "result = result.strip().split('\\n\\n')[-1]\n",
    "print(result)"
   ]
  },
  {
   "cell_type": "code",
   "execution_count": 25,
   "id": "8689a41c-1eb8-4a07-bbd6-911b99bc0c6d",
   "metadata": {},
   "outputs": [
    {
     "name": "stdout",
     "output_type": "stream",
     "text": [
      "LogicalAggregate(group=[{}], EXPR$0=[COUNT()])\n",
      "  LogicalJoin(condition=[=($0, $16)], joinType=[inner])\n",
      "    LogicalJoin(condition=[=($0, $10)], joinType=[inner])\n",
      "      LogicalTableScan(table=[[STATS, users]])\n",
      "      LogicalTableScan(table=[[STATS, votes]])\n",
      "    LogicalTableScan(table=[[STATS, comments]])\n"
     ]
    }
   ],
   "source": [
    "query2 = '''SELECT count(*)\n",
    "FROM stats.\\\\\"users\\\\\" as u\n",
    "JOIN stats.\\\\\"votes\\\\\" as v\n",
    "  ON u.\\\\\"Id\\\\\" = v.\\\\\"UserId\\\\\"\n",
    "JOIN stats.\\\\\"comments\\\\\" as c\n",
    "  ON u.\\\\\"Id\\\\\" = c.\\\\\"UserId\\\\\"'''\n",
    "command = f'cd ../../../calcite_java/QueryPlan && ./run org.calcite.QueryPlan \"{query2}\"'\n",
    "result = subprocess.check_output(command, shell=True, text=True)\n",
    "result = result.strip().split('\\n\\n')[-1]\n",
    "print(result)"
   ]
  },
  {
   "cell_type": "code",
   "execution_count": 26,
   "id": "e6e5aa5a-5210-4ef0-b143-2d57fd9d84ba",
   "metadata": {},
   "outputs": [
    {
     "name": "stdout",
     "output_type": "stream",
     "text": [
      "LogicalAggregate(group=[{}], EXPR$0=[COUNT()])\n",
      "  LogicalFilter(condition=[AND(=($0, $6), =($5, $14))])\n",
      "    LogicalJoin(condition=[true], joinType=[inner])\n",
      "      LogicalJoin(condition=[true], joinType=[inner])\n",
      "        LogicalTableScan(table=[[STATS, comments]])\n",
      "        LogicalTableScan(table=[[STATS, comments]])\n",
      "      LogicalTableScan(table=[[STATS, comments]])\n"
     ]
    }
   ],
   "source": [
    "query3 = '''select count(*) from stats.\\\\\"comments\\\\\" c1, stats.\\\\\"comments\\\\\" c2, stats.\\\\\"comments\\\\\" c3 \n",
    "where c1.\\\\\"Id\\\\\" = c2.\\\\\"PostId\\\\\" AND c2.\\\\\"Id\\\\\" = c3.\\\\\"UserId\\\\\"'''\n",
    "command = f'cd ../../../calcite_java/QueryPlan && ./run org.calcite.QueryPlan \"{query3}\"'\n",
    "result = subprocess.check_output(command, shell=True, text=True)\n",
    "result = result.strip().split('\\n\\n')[-1]\n",
    "print(result)"
   ]
  },
  {
   "cell_type": "markdown",
   "id": "9e1e186c-5ee8-4625-90ee-427fb288a6ec",
   "metadata": {},
   "source": [
    "#### LSQB"
   ]
  },
  {
   "cell_type": "code",
   "execution_count": 19,
   "id": "8b43d927-2586-41fe-b294-374c53aa522c",
   "metadata": {},
   "outputs": [
    {
     "name": "stdout",
     "output_type": "stream",
     "text": [
      "City.csv\n",
      "City_isPartOf_Country.csv\n",
      "Comment.csv\n",
      "Comment_hasTag_Tag.csv\n",
      "Company.csv\n",
      "Company_isLocatedIn_Country.csv\n",
      "Continent.csv\n",
      "Country.csv\n",
      "Country_isPartOf_Continent.csv\n",
      "Forum.csv\n",
      "Forum_hasMember_Person.csv\n",
      "Forum_hasTag_Tag.csv\n",
      "Person.csv\n",
      "Person_hasInterest_Tag.csv\n",
      "Person_knows_Person.csv\n",
      "Person_likes_Comment.csv\n",
      "Person_likes_Post.csv\n",
      "Person_studyAt_University.csv\n",
      "Person_workAt_Company.csv\n",
      "Post.csv\n",
      "Post_hasTag_Tag.csv\n",
      "Tag.csv\n",
      "TagClass.csv\n",
      "University.csv\n",
      "University_isLocatedIn_City.csv\n"
     ]
    }
   ],
   "source": [
    "%%bash\n",
    "cd ../lsqb/data/social-network-sf1-merged-fk/\n",
    "ls"
   ]
  },
  {
   "cell_type": "code",
   "execution_count": 20,
   "id": "afd3bd1f-0c42-44be-884b-07a9b4914c64",
   "metadata": {},
   "outputs": [
    {
     "name": "stdout",
     "output_type": "stream",
     "text": [
      "Column Names: ['id|ispartof_country']\n"
     ]
    }
   ],
   "source": [
    "import csv\n",
    "\n",
    "# Replace 'your_file.csv' with the actual path to your CSV file\n",
    "csv_file_path = '../lsqb/data/social-network-sf1-merged-fk/City.csv'\n",
    "\n",
    "# Open the CSV file in read mode\n",
    "with open(csv_file_path, 'r') as csv_file:\n",
    "    # Create a CSV reader\n",
    "    csv_reader = csv.reader(csv_file)\n",
    "\n",
    "    # Read the header row\n",
    "    header_row = next(csv_reader)\n",
    "\n",
    "# Print the column names\n",
    "print('Column Names:', header_row)\n"
   ]
  },
  {
   "cell_type": "code",
   "execution_count": 21,
   "id": "aa3a37f3-7c5f-4dda-982a-c87abcad5ba9",
   "metadata": {},
   "outputs": [
    {
     "name": "stdout",
     "output_type": "stream",
     "text": [
      "Column Names: ['Id', 'PostId', 'Score', 'CreationDate', 'UserId']\n"
     ]
    }
   ],
   "source": [
    "import csv\n",
    "\n",
    "# Replace 'your_file.csv' with the actual path to your CSV file\n",
    "csv_file_path = '../stats/datasets/comments.csv'\n",
    "\n",
    "# Open the CSV file in read mode\n",
    "with open(csv_file_path, 'r') as csv_file:\n",
    "    # Create a CSV reader\n",
    "    csv_reader = csv.reader(csv_file)\n",
    "\n",
    "    # Read the header row\n",
    "    header_row = next(csv_reader)\n",
    "\n",
    "# Print the column names\n",
    "print('Column Names:', header_row)\n"
   ]
  },
  {
   "cell_type": "code",
   "execution_count": null,
   "id": "4a8d96be-9266-4297-bf44-00a9fa517665",
   "metadata": {},
   "outputs": [],
   "source": [
    "query = '''SELECT count(*)\n",
    "FROM lsqb.\\\\\"Country\\\\\"\n",
    "JOIN lsqb.\\\\\"City\\\\\"\n",
    "  ON \\\\\"City\\\\\".\\\\\"ispartof_country\\\\\" = \\\\\"Country\\\\\".\\\\\"id\\\\\"\n",
    "JOIN lsqb.\\\\\"Person\\\\\"\n",
    "  ON \\\\\"Person\\\\\".\\\\\"islocatedin_city\\\\\" = \\\\\"City\\\\\".\\\\\"id\\\\\"\n",
    "JOIN lsqb.\\\\\"Forum_hasMember_Person\\\\\"\n",
    "  ON \\\\\"Forum_hasMember_Person\\\\\".\\\\\"id\\\\\" = \\\\\"Person\\\\\".\\\\\"id\\\\\"'''\n",
    "command = f'cd ../../../calcite_java/QueryPlan && ./run org.calcite.QueryPlan \"{query}\"'\n",
    "result = subprocess.check_output(command, shell=True, text=True)\n",
    "result = result.strip().split('\\n\\n')[-1]\n",
    "print(result)"
   ]
  },
  {
   "cell_type": "markdown",
   "id": "418ccba6-e1c4-462a-a810-afff467db61a",
   "metadata": {},
   "source": [
    "#### String manipulation"
   ]
  },
  {
   "cell_type": "code",
   "execution_count": null,
   "id": "c9d71414-760f-447b-a614-2cb78ee5d55f",
   "metadata": {},
   "outputs": [],
   "source": []
  },
  {
   "cell_type": "code",
   "execution_count": 57,
   "id": "80ff42a6-2b4f-46ad-925f-55de96984a92",
   "metadata": {},
   "outputs": [
    {
     "name": "stdout",
     "output_type": "stream",
     "text": [
      "Original: comments as c, tag as t\n",
      "Transformed: status.comments AS c as c, status.tag AS t as t\n",
      "\n",
      "Original: comments AS c, tag AS t\n",
      "Transformed: sstatus.t AS tastatus.t AS tus.sstatus.t AS tastatus.t AS tus.c sstatus.t AS tastatus.t AS tus.AS AS AS commenstatus.t AS ts sstatus.t AS tastatus.t AS tus.sstatus.t AS tastatus.t AS tus.AS AS AS sstatus.t AS tastatus.t AS tus.AS AS AS sstatus.t AS tastatus.t AS tus.AS AS AS sstatus.t AS tastatus.t AS tus.c sstatus.t AS tastatus.t AS tus.AS AS AS commenstatus.t AS ts sstatus.t AS tastatus.t AS tus.sstatus.t AS tastatus.t AS tus.AS AS AS sstatus.t AS tastatus.t AS tus.AS AS AS sstatus.t AS tastatus.t AS tus.AS AS AS sstatus.t AS tastatus.t AS tus.c sstatus.t AS tastatus.t AS tus.AS AS AS c, sstatus.t AS tastatus.t AS tus.status.t AS tag sstatus.t AS tastatus.t AS tus.AS AS AS status.t AS tag sstatus.t AS tastatus.t AS tus.sstatus.t AS tastatus.t AS tus.AS AS AS sstatus.t AS tastatus.t AS tus.AS AS AS sstatus.t AS tastatus.t AS tus.AS AS AS status.t AS t\n",
      "\n",
      "Original: comments c, tag t\n",
      "Transformed: sstatus.t AS tastatus.t AS tus.sstatus.t AS tastatus.t AS tus.c AS commenstatus.t AS ts AS sstatus.t AS tastatus.t AS tus.c AS commenstatus.t AS ts sstatus.t AS tastatus.t AS tus.c AS c, sstatus.t AS tastatus.t AS tus.status.t AS tag AS status.t AS tag status.t AS t\n",
      "\n",
      "Original: comments, tag\n",
      "Transformed: status.comments AS comments, status.tag AS tag\n",
      "\n"
     ]
    }
   ],
   "source": [
    "import re\n",
    "\n",
    "def transform_columns(input_string):\n",
    "    # Define a regular expression pattern to match the column specifications\n",
    "    pattern = re.compile(r'\\b(\\w+)\\s*(?:as\\s*(\\w+))?,?\\s*')\n",
    "\n",
    "    # Find all matches in the input string\n",
    "    matches = pattern.findall(input_string)\n",
    "\n",
    "    # Replace the matched patterns with the desired strings\n",
    "    transformed_string = input_string\n",
    "    for match in matches:\n",
    "        original_column, alias = match\n",
    "        alias = alias or original_column  # If no alias is provided, use the original column name\n",
    "        replacement = f'status.{original_column} AS {alias}'\n",
    "        transformed_string = re.sub(re.escape(match[0]), replacement, transformed_string)\n",
    "\n",
    "    return transformed_string\n",
    "\n",
    "# Example input strings\n",
    "input_strings = [\n",
    "    \"comments as c, tag as t\",\n",
    "    \"comments AS c, tag AS t\",\n",
    "    \"comments c, tag t\",\n",
    "    \"comments, tag\"\n",
    "]\n",
    "\n",
    "# Apply the transformation to each input string\n",
    "for input_str in input_strings:\n",
    "    result = transform_columns(input_str)\n",
    "    print(f'Original: {input_str}\\nTransformed: {result}\\n')\n"
   ]
  },
  {
   "cell_type": "code",
   "execution_count": 58,
   "id": "b70a6e77-e78e-43ce-a23a-1c945fb1c6d7",
   "metadata": {},
   "outputs": [
    {
     "name": "stdout",
     "output_type": "stream",
     "text": [
      "[('comments', 'c'), ('tag', 't')]\n",
      "Original: comments as c, tag as t\n",
      "Transformed: None\n",
      "\n",
      "[('comments', ''), ('AS', ''), ('c', ''), ('tag', ''), ('AS', ''), ('t', '')]\n",
      "Original: comments AS c, tag AS t\n",
      "Transformed: None\n",
      "\n",
      "[('comments', ''), ('c', ''), ('tag', ''), ('t', '')]\n",
      "Original: comments c, tag t\n",
      "Transformed: None\n",
      "\n",
      "[('comments', ''), ('tag', '')]\n",
      "Original: comments, tag\n",
      "Transformed: None\n",
      "\n"
     ]
    }
   ],
   "source": [
    "import re\n",
    "\n",
    "def transform_columns(input_string):\n",
    "    # Define a regular expression pattern to match the column specifications\n",
    "    pattern = re.compile(r'\\b(\\w+)\\s*(?:as\\s*(\\w+))?,?\\s*')\n",
    "\n",
    "    # Find all matches in the input string\n",
    "    matches = pattern.findall(input_string)\n",
    "    print(matches)\n",
    "\n",
    "# Example input strings\n",
    "input_strings = [\n",
    "    \"comments as c, tag as t\",\n",
    "    \"comments AS c, tag AS t\",\n",
    "    \"comments c, tag t\",\n",
    "    \"comments, tag\"\n",
    "]\n",
    "\n",
    "# Apply the transformation to each input string\n",
    "for input_str in input_strings:\n",
    "    result = transform_columns(input_str)\n",
    "    print(f'Original: {input_str}\\nTransformed: {result}\\n')\n"
   ]
  },
  {
   "cell_type": "code",
   "execution_count": null,
   "id": "a63c7eba-c530-4e25-a96c-9af231c62bf7",
   "metadata": {},
   "outputs": [],
   "source": []
  },
  {
   "cell_type": "code",
   "execution_count": 107,
   "id": "fea334b8-0297-4e5f-aed5-2f1fab723d01",
   "metadata": {},
   "outputs": [
    {
     "data": {
      "text/plain": [
       "['a bb']"
      ]
     },
     "execution_count": 107,
     "metadata": {},
     "output_type": "execute_result"
    }
   ],
   "source": [
    "re.split(r'\\bwhere\\b', \"a bb\", flags=re.IGNORECASE)"
   ]
  },
  {
   "cell_type": "code",
   "execution_count": null,
   "id": "87d8929d-4105-4324-9713-7fe70cbfad03",
   "metadata": {},
   "outputs": [],
   "source": []
  },
  {
   "cell_type": "code",
   "execution_count": 35,
   "id": "71cca802-9c50-448e-90bd-b1df638eb7d3",
   "metadata": {},
   "outputs": [],
   "source": [
    "import re"
   ]
  },
  {
   "cell_type": "code",
   "execution_count": 125,
   "id": "d246e52c-a3f1-4777-92ac-e5f124605a52",
   "metadata": {},
   "outputs": [],
   "source": [
    "def query_string_manipulation(query, dataset):\n",
    "    query = query.replace('\\n', ' ')\n",
    "    q = re.split(r'\\bfrom\\b', query, flags=re.IGNORECASE)\n",
    "    result = q[0]\n",
    "\n",
    "    tables = []\n",
    "    if re.search(r'\\bwhere\\b', q[1], flags=re.IGNORECASE):\n",
    "        q1 = re.split(r'\\bwhere\\b', q[1], flags=re.IGNORECASE)\n",
    "        q10 = re.split(\",\", q1[0])\n",
    "        for table in q10:\n",
    "            table_split = table.strip().split(maxsplit = 1)\n",
    "            result += dataset + '.\\\\\\\\\"' + table_split[0] + '\\\\\\\\\" ' + table_split[1] + ', '\n",
    "            tables.append(table_split[0])\n",
    "        conditions = re.split(r'\\band\\b', q1[1], flags=re.IGNORECASE)   \n",
    "        for con in conditions:\n",
    "            con_split = re.split(r'\\s*([><]?=)\\s*', con.strip())\n",
    "            print(con_split)\n",
    "            for i in con_split:\n",
    "                x = i.split(\".\")\n",
    "                print(x)\n",
    "                if x[0] in tables:\n",
    "                    print(\"yo\")\n",
    "                else:\n",
    "                    print(\"ho\")\n",
    "    print(result)"
   ]
  },
  {
   "cell_type": "code",
   "execution_count": 126,
   "id": "50597145-3ef7-48db-adfe-983df70b8cc7",
   "metadata": {},
   "outputs": [
    {
     "name": "stdout",
     "output_type": "stream",
     "text": [
      "['u.Id', '=', 'c.UserId']\n",
      "['u', 'Id']\n",
      "ho\n",
      "['=']\n",
      "ho\n",
      "['c', 'UserId']\n",
      "ho\n",
      "['u.Id', '=', 'v.UserId']\n",
      "['u', 'Id']\n",
      "ho\n",
      "['=']\n",
      "ho\n",
      "['v', 'UserId']\n",
      "ho\n",
      "['comments.CreationDate', '>=', \"CAST('2010-10-01 20:45:26' AS TIMESTAMP)\"]\n",
      "['comments', 'CreationDate']\n",
      "yo\n",
      "['>=']\n",
      "ho\n",
      "[\"CAST('2010-10-01 20:45:26' AS TIMESTAMP)\"]\n",
      "ho\n",
      "['c.CreationDate', '<=', \"CAST('2014-09-05 12:51:17' AS TIMESTAMP)\"]\n",
      "['c', 'CreationDate']\n",
      "ho\n",
      "['<=']\n",
      "ho\n",
      "[\"CAST('2014-09-05 12:51:17' AS TIMESTAMP)\"]\n",
      "ho\n",
      "['v.BountyAmount', '<=', '100']\n",
      "['v', 'BountyAmount']\n",
      "ho\n",
      "['<=']\n",
      "ho\n",
      "['100']\n",
      "ho\n",
      "['u.UpVotes', '=', '0']\n",
      "['u', 'UpVotes']\n",
      "ho\n",
      "['=']\n",
      "ho\n",
      "['0']\n",
      "ho\n",
      "['u.CreationDate', '<=', \"CAST('2014-09-12 03:25:34' AS TIMESTAMP)\"]\n",
      "['u', 'CreationDate']\n",
      "ho\n",
      "['<=']\n",
      "ho\n",
      "[\"CAST('2014-09-12 03:25:34' AS TIMESTAMP)\"]\n",
      "ho\n",
      "SELECT COUNT(*) stats.\\\\\"comments\\\\\" as c, stats.\\\\\"votes\\\\\" as v, stats.\\\\\"users\\\\\" as u, \n"
     ]
    }
   ],
   "source": [
    "query1 = '''SELECT COUNT(*) FROM comments as c, votes as v, users as u \n",
    "            WHERE u.Id = c.UserId AND u.Id = v.UserId\n",
    "                AND comments.CreationDate>=CAST('2010-10-01 20:45:26' AS TIMESTAMP)\n",
    "                AND c.CreationDate<=CAST('2014-09-05 12:51:17' AS TIMESTAMP) \n",
    "                AND v.BountyAmount<=100 AND u.UpVotes=0 \n",
    "                AND u.CreationDate<=CAST('2014-09-12 03:25:34' AS TIMESTAMP)'''\n",
    "query_string_manipulation(query1, \"stats\")"
   ]
  },
  {
   "cell_type": "code",
   "execution_count": 95,
   "id": "a952d1f2-bbf1-4cdc-a8ea-e872cd64bb23",
   "metadata": {},
   "outputs": [
    {
     "name": "stdout",
     "output_type": "stream",
     "text": [
      "SELECT count(*) \n"
     ]
    }
   ],
   "source": [
    "query2 = '''SELECT count(*)\n",
    "FROM users\n",
    "JOIN votes\n",
    "  ON users.Id = votes.UserId\n",
    "JOIN comments\n",
    "  ON users.Id = comments.UserId'''\n",
    "query_string_manipulation(query2, \"stats\")"
   ]
  },
  {
   "cell_type": "code",
   "execution_count": 110,
   "id": "b2597692-5882-4061-8f8c-3a7509839033",
   "metadata": {},
   "outputs": [
    {
     "name": "stdout",
     "output_type": "stream",
     "text": [
      "['c1.Id', '=', 'c2.PostId']\n",
      "['c2.Id', '=', 'c3.UserId']\n",
      "select count(*) stats.\\\\\"comments\\\\\" c1, stats.\\\\\"comments\\\\\" c2, stats.\\\\\"comments\\\\\" c3, \n",
      "['comments', 'comments', 'comments']\n"
     ]
    }
   ],
   "source": [
    "query3 = '''select count(*) from comments c1, comments c2, comments c3 where c1.Id = c2.PostId AND c2.Id = c3.UserId'''\n",
    "query_string_manipulation(query3, \"stats\")"
   ]
  },
  {
   "cell_type": "code",
   "execution_count": null,
   "id": "fb3407c9-28b0-440c-a6e1-9ffb7716ba81",
   "metadata": {},
   "outputs": [],
   "source": []
  },
  {
   "cell_type": "code",
   "execution_count": 41,
   "id": "6ae4adde-b7f0-495d-a0d1-8e4683ec2ca5",
   "metadata": {},
   "outputs": [],
   "source": [
    "query1 = '''SELECT COUNT(*) FROM stats.\\\\\"comments\\\\\" as c, stats.\\\\\"votes\\\\\" as v, stats.\\\\\"users\\\\\" as u \n",
    "            WHERE u.\\\\\"Id\\\\\" = c.\\\\\"UserId\\\\\" AND u.\\\\\"Id\\\\\" = v.\\\\\"UserId\\\\\" \n",
    "                AND c.\\\\\"CreationDate\\\\\">=CAST('2010-10-01 20:45:26' AS TIMESTAMP)\n",
    "                AND c.\\\\\"CreationDate\\\\\"<=CAST('2014-09-05 12:51:17' AS TIMESTAMP) \n",
    "                AND v.\\\\\"BountyAmount\\\\\"<=100 AND u.\\\\\"UpVotes\\\\\"=0 \n",
    "                AND u.\\\\\"CreationDate\\\\\"<=CAST('2014-09-12 03:25:34' AS TIMESTAMP)'''"
   ]
  },
  {
   "cell_type": "code",
   "execution_count": 42,
   "id": "6ef8ee3f-7e6e-4a4c-80ff-e3fffd7d60d8",
   "metadata": {},
   "outputs": [],
   "source": [
    "query2 = '''SELECT count(*)\n",
    "FROM stats.\\\\\"users\\\\\"\n",
    "JOIN stats.\\\\\"votes\\\\\"\n",
    "  ON \\\\\"users\\\\\".\\\\\"Id\\\\\" = \\\\\"votes\\\\\".\\\\\"UserId\\\\\"\n",
    "JOIN stats.\\\\\"comments\\\\\"\n",
    "  ON \\\\\"users\\\\\".\\\\\"Id\\\\\" = \\\\\"comments\\\\\".\\\\\"UserId\\\\\"'''"
   ]
  },
  {
   "cell_type": "code",
   "execution_count": 43,
   "id": "4e3308bf-f6ef-4275-9536-21050ab88107",
   "metadata": {},
   "outputs": [],
   "source": [
    "query3 = '''select count(*) from stats.\\\\\"comments\\\\\" c1, stats.\\\\\"comments\\\\\" c2, stats.\\\\\"comments\\\\\" c3 \n",
    "where c1.\\\\\"Id\\\\\" = c2.\\\\\"PostId\\\\\" AND c2.\\\\\"Id\\\\\" = c3.\\\\\"UserId\\\\\"'''"
   ]
  },
  {
   "cell_type": "code",
   "execution_count": null,
   "id": "a8b45dce-5378-4e35-87b5-c69f6b3b2f72",
   "metadata": {},
   "outputs": [],
   "source": []
  },
  {
   "cell_type": "code",
   "execution_count": null,
   "id": "baacb25b-0f15-489c-982c-14a5bdc14f5f",
   "metadata": {},
   "outputs": [],
   "source": [
    "query2 = '''SELECT count(*)\n",
    "FROM lsqb.\\\\\"Country\\\\\"\n",
    "JOIN lsqb.\\\\\"City\\\\\"\n",
    "  ON City.\\\\\"isPartOf_CountryId\\\\\" = Country.\\\\\"CountryId\\\\\"\n",
    "JOIN lsqb.\\\\\"Person\\\\\"\n",
    "  ON Person.\\\\\"isLocatedIn_CityId\\\\\" = City.\\\\\"CityId\\\\\"\n",
    "JOIN lsqb.\\\\\"Forum_hasMember_Person\\\\\"\n",
    "  ON Forum_hasMember_Person.\\\\\"PersonId\\\\\" = Person.\\\\\"PersonId\\\\\"'''\n",
    "query_string_manipulation(query2)"
   ]
  },
  {
   "cell_type": "code",
   "execution_count": null,
   "id": "8c90a518-325b-4c0d-8065-98b39637f553",
   "metadata": {},
   "outputs": [],
   "source": []
  },
  {
   "cell_type": "code",
   "execution_count": null,
   "id": "0e454dbe-8498-4493-889b-6a595b5a8dcb",
   "metadata": {},
   "outputs": [],
   "source": []
  },
  {
   "cell_type": "code",
   "execution_count": null,
   "id": "0db231d3-5ef0-4751-b722-ebfb384b3939",
   "metadata": {},
   "outputs": [],
   "source": []
  },
  {
   "cell_type": "code",
   "execution_count": null,
   "id": "16171186-4173-4011-bc56-3a3c8b0e5f06",
   "metadata": {},
   "outputs": [],
   "source": []
  },
  {
   "cell_type": "code",
   "execution_count": null,
   "id": "fd8d63dc-e09c-4046-a7c7-785c6491307a",
   "metadata": {},
   "outputs": [],
   "source": []
  },
  {
   "cell_type": "code",
   "execution_count": null,
   "id": "8ed78c7d-61c0-445a-b6ac-d40b5659cc1f",
   "metadata": {},
   "outputs": [],
   "source": []
  },
  {
   "cell_type": "code",
   "execution_count": null,
   "id": "027a03e2-7714-4776-8873-4201ce16dd3e",
   "metadata": {},
   "outputs": [],
   "source": []
  },
  {
   "cell_type": "code",
   "execution_count": null,
   "id": "8ec0c2f1-f4f7-4fd7-91b9-48d848ed83bb",
   "metadata": {},
   "outputs": [],
   "source": []
  },
  {
   "cell_type": "code",
   "execution_count": null,
   "id": "bb39cd4a-5262-4bab-a30e-57507f79e968",
   "metadata": {},
   "outputs": [],
   "source": []
  },
  {
   "cell_type": "code",
   "execution_count": null,
   "id": "270738c6-a26f-4e7d-9527-029ed87b8442",
   "metadata": {},
   "outputs": [],
   "source": []
  },
  {
   "cell_type": "code",
   "execution_count": null,
   "id": "1ef1f91a-8aea-4c72-bb1f-71cc175e9e4b",
   "metadata": {},
   "outputs": [],
   "source": []
  },
  {
   "cell_type": "code",
   "execution_count": null,
   "id": "5881d795-5211-4294-92a0-eaa0a44af39a",
   "metadata": {},
   "outputs": [],
   "source": []
  },
  {
   "cell_type": "code",
   "execution_count": null,
   "id": "a892d107-f617-4eb1-8c19-17c3e55fab07",
   "metadata": {},
   "outputs": [],
   "source": []
  },
  {
   "cell_type": "code",
   "execution_count": null,
   "id": "dd060524-5636-48f6-ba53-1201ce864703",
   "metadata": {},
   "outputs": [],
   "source": []
  },
  {
   "cell_type": "code",
   "execution_count": null,
   "id": "a8f59955-b4bf-4ada-b582-35e5d0290ccc",
   "metadata": {},
   "outputs": [],
   "source": []
  },
  {
   "cell_type": "code",
   "execution_count": 33,
   "id": "99c1fcb4-fa37-4512-891a-e4467414bcdd",
   "metadata": {},
   "outputs": [
    {
     "name": "stdout",
     "output_type": "stream",
     "text": [
      "Error: could not translate host name \"postgres\" to address: Name or service not known\n",
      "\n"
     ]
    },
    {
     "ename": "NameError",
     "evalue": "name 'cursor' is not defined",
     "output_type": "error",
     "traceback": [
      "\u001b[0;31m---------------------------------------------------------------------------\u001b[0m",
      "\u001b[0;31mNameError\u001b[0m                                 Traceback (most recent call last)",
      "Cell \u001b[0;32mIn[33], line 34\u001b[0m\n\u001b[1;32m     30\u001b[0m     \u001b[38;5;28mprint\u001b[39m(\u001b[38;5;124m\"\u001b[39m\u001b[38;5;124mError:\u001b[39m\u001b[38;5;124m\"\u001b[39m, e)\n\u001b[1;32m     32\u001b[0m \u001b[38;5;28;01mfinally\u001b[39;00m:\n\u001b[1;32m     33\u001b[0m     \u001b[38;5;66;03m# Close the cursor and connection\u001b[39;00m\n\u001b[0;32m---> 34\u001b[0m     \u001b[43mcursor\u001b[49m\u001b[38;5;241m.\u001b[39mclose()\n\u001b[1;32m     35\u001b[0m     connection\u001b[38;5;241m.\u001b[39mclose()\n",
      "\u001b[0;31mNameError\u001b[0m: name 'cursor' is not defined"
     ]
    }
   ],
   "source": [
    "import psycopg2\n",
    "\n",
    "# Replace these with your PostgreSQL connection details\n",
    "dbname = \"lsqb\"\n",
    "user = \"lsqb\"\n",
    "password = \"lsqb\"\n",
    "host = \"postgres\"\n",
    "\n",
    "# SQL statement representing your logical query plan\n",
    "logical_query = result\n",
    "\n",
    "try:\n",
    "    # Connect to the PostgreSQL database\n",
    "    connection = psycopg2.connect(dbname=dbname, user=user, password=password, host=host)\n",
    "\n",
    "    # Create a cursor to interact with the database\n",
    "    cursor = connection.cursor()\n",
    "\n",
    "    # Execute the logical query plan\n",
    "    cursor.execute(logical_query)\n",
    "\n",
    "    # Fetch the results if needed\n",
    "    results = cursor.fetchall()\n",
    "    print(results)\n",
    "\n",
    "    # Commit the transaction\n",
    "    connection.commit()\n",
    "\n",
    "except Exception as e:\n",
    "    print(\"Error:\", e)\n",
    "\n",
    "finally:\n",
    "    # Close the cursor and connection\n",
    "    cursor.close()\n",
    "    connection.close()\n"
   ]
  },
  {
   "cell_type": "code",
   "execution_count": null,
   "id": "0805d692-80d7-40f0-a680-8461cef54e1c",
   "metadata": {},
   "outputs": [],
   "source": []
  },
  {
   "cell_type": "code",
   "execution_count": null,
   "id": "e10341e2-dbd4-44cb-83e5-51b3e1f89030",
   "metadata": {},
   "outputs": [],
   "source": []
  },
  {
   "cell_type": "code",
   "execution_count": null,
   "id": "d5c5a37f-babb-49d5-9565-73ba0ce6fb4c",
   "metadata": {},
   "outputs": [],
   "source": []
  },
  {
   "cell_type": "code",
   "execution_count": null,
   "id": "da0cf6b7-0855-4f60-bb62-f342b89e0459",
   "metadata": {},
   "outputs": [],
   "source": []
  },
  {
   "cell_type": "code",
   "execution_count": null,
   "id": "5398e9f4-cead-492a-bae5-912ff3413c0c",
   "metadata": {},
   "outputs": [],
   "source": []
  },
  {
   "cell_type": "code",
   "execution_count": 8,
   "id": "fe776574-a40d-4a47-92c7-86c04d29341f",
   "metadata": {},
   "outputs": [
    {
     "name": "stdout",
     "output_type": "stream",
     "text": [
      "Requirement already satisfied: docopt in /usr/local/lib/python3.10/dist-packages (0.6.2)\n",
      "\u001b[33mWARNING: Running pip as the 'root' user can result in broken permissions and conflicting behaviour with the system package manager. It is recommended to use a virtual environment instead: https://pip.pypa.io/warnings/venv\u001b[0m\u001b[33m\n",
      "\u001b[0mRequirement already satisfied: networkx in /usr/local/lib/python3.10/dist-packages (3.2.1)\n",
      "\u001b[33mWARNING: Running pip as the 'root' user can result in broken permissions and conflicting behaviour with the system package manager. It is recommended to use a virtual environment instead: https://pip.pypa.io/warnings/venv\u001b[0m\u001b[33m\n",
      "\u001b[0mRequirement already satisfied: colorama in /usr/local/lib/python3.10/dist-packages (0.4.6)\n",
      "\u001b[33mWARNING: Running pip as the 'root' user can result in broken permissions and conflicting behaviour with the system package manager. It is recommended to use a virtual environment instead: https://pip.pypa.io/warnings/venv\u001b[0m\u001b[33m\n",
      "\u001b[0mRequirement already satisfied: termcolor in /usr/local/lib/python3.10/dist-packages (2.4.0)\n",
      "\u001b[33mWARNING: Running pip as the 'root' user can result in broken permissions and conflicting behaviour with the system package manager. It is recommended to use a virtual environment instead: https://pip.pypa.io/warnings/venv\u001b[0m\u001b[33m\n",
      "\u001b[0mRequirement already satisfied: duckdb in /usr/local/lib/python3.10/dist-packages (0.9.2)\n",
      "\u001b[33mWARNING: Running pip as the 'root' user can result in broken permissions and conflicting behaviour with the system package manager. It is recommended to use a virtual environment instead: https://pip.pypa.io/warnings/venv\u001b[0m\u001b[33m\n",
      "\u001b[0mRequirement already satisfied: psycopg in /usr/local/lib/python3.10/dist-packages (3.1.17)\n",
      "Requirement already satisfied: typing-extensions>=4.1 in /usr/local/lib/python3.10/dist-packages (from psycopg) (4.9.0)\n",
      "\u001b[33mWARNING: Running pip as the 'root' user can result in broken permissions and conflicting behaviour with the system package manager. It is recommended to use a virtual environment instead: https://pip.pypa.io/warnings/venv\u001b[0m\u001b[33m\n",
      "\u001b[0m"
     ]
    }
   ],
   "source": [
    "!pip install docopt\n",
    "!pip install networkx\n",
    "!pip install colorama\n",
    "!pip install termcolor\n",
    "!pip install duckdb\n",
    "!pip install psycopg"
   ]
  },
  {
   "cell_type": "code",
   "execution_count": 2,
   "id": "81c69a3e-9a6b-4315-bfbb-29404a9d268a",
   "metadata": {},
   "outputs": [],
   "source": [
    "!chmod +x sql2hg.jar"
   ]
  },
  {
   "cell_type": "markdown",
   "id": "f96fd68b-0511-4f22-a8a0-53b21d4bc97e",
   "metadata": {},
   "source": [
    "The queries here have to have the form SELECT * FROM ... WHERE ..., without additional count/min in SELECT or >=/<= in the WHERE or joins. Also aliases (badges AS b) does not work!   \n",
    "The queries in the benchmarks do not have this form, but we simplify them (e.g. COUNT(*) -> *).  \n",
    "The queries simplified to this pattern are saved in the \"simple\" folders."
   ]
  },
  {
   "cell_type": "markdown",
   "id": "4fe3b057-78aa-432a-9d5e-b5e63ebe3d3b",
   "metadata": {},
   "source": [
    "### Create the execution plan for one query"
   ]
  },
  {
   "cell_type": "code",
   "execution_count": 3,
   "id": "c1f7f092-8448-4a04-a748-c2424326d6b8",
   "metadata": {},
   "outputs": [
    {
     "name": "stdout",
     "output_type": "stream",
     "text": [
      "/* Arguments \n",
      " {'--agg': False,\n",
      " '--pg': False,\n",
      " '<query>': 'lsqb/sql/simple/q1.sql'}  */\n",
      "TreeNode-Post\n",
      "-- Time to compute JT: 0.2214040000581008 ms\n",
      "\n",
      "--- stage1\n",
      "create view Post_s1_14c8510065a68094 as select Post.PostId as v9,Post.Forum_containerOfId as v6 from Post;\n",
      "create view Forum_hasMember_Person_s1_14c8510065a68094 as select Forum_hasMember_Person.PersonId as v4,Forum_hasMember_Person.ForumId as v6 from Forum_hasMember_Person;\n",
      "create view Person_s1_14c8510065a68094 as select Person.isLocatedIn_CityId as v2,Person.PersonId as v4 from Person;\n",
      "create view City_s1_14c8510065a68094 as select City.CityId as v2,City.isPartOf_CountryId as v0 from City;\n",
      "create view Country_s2_14c8510065a68094 as select Country.CountryId as v0 from Country;\n",
      "create view Forum_s2_14c8510065a68094 as select Forum.ForumId as v6 from Forum;\n",
      "create view Comment_s1_14c8510065a68094 as select Comment.CommentId as v11,Comment.replyOf_PostId as v9 from Comment;\n",
      "create view Comment_hasTag_Tag_s1_14c8510065a68094 as select Comment_hasTag_Tag.CommentId as v11,Comment_hasTag_Tag.TagId as v13 from Comment_hasTag_Tag;\n",
      "create view Tag_s1_14c8510065a68094 as select Tag.hasType_TagClassId as v15,Tag.TagId as v13 from Tag;\n",
      "create view TagClass_s2_14c8510065a68094 as select TagClass.TagClassId as v15 from TagClass; \n",
      "\n",
      "\n",
      "--- stage2\n",
      "create temp table Tag_s2_14c8510065a68094 as select * from Tag_s1_14c8510065a68094 where (v15) in (select (v15) from TagClass_s2_14c8510065a68094);\n",
      "create temp table Comment_hasTag_Tag_s2_14c8510065a68094 as select * from Comment_hasTag_Tag_s1_14c8510065a68094 where (v13) in (select (v13) from Tag_s2_14c8510065a68094);\n",
      "create temp table Comment_s2_14c8510065a68094 as select * from Comment_s1_14c8510065a68094 where (v11) in (select (v11) from Comment_hasTag_Tag_s2_14c8510065a68094);\n",
      "create temp table City_s2_14c8510065a68094 as select * from City_s1_14c8510065a68094 where (v0) in (select (v0) from Country_s2_14c8510065a68094);\n",
      "create temp table Person_s2_14c8510065a68094 as select * from Person_s1_14c8510065a68094 where (v2) in (select (v2) from City_s2_14c8510065a68094);\n",
      "create temp table Forum_hasMember_Person_s2_14c8510065a68094 as select * from Forum_hasMember_Person_s1_14c8510065a68094 where (v6) in (select (v6) from Forum_s2_14c8510065a68094) AND (v4) in (select (v4) from Person_s2_14c8510065a68094);\n",
      "create temp table Post_s2_14c8510065a68094 as select * from Post_s1_14c8510065a68094 where (v9) in (select (v9) from Comment_s2_14c8510065a68094) AND (v6) in (select (v6) from Forum_hasMember_Person_s2_14c8510065a68094); \n",
      "\n",
      "\n",
      "--- stage3\n",
      "create temp table Forum_hasMember_Person_s3_14c8510065a68094 as select * from Forum_hasMember_Person_s2_14c8510065a68094 where (v6) in (select (v6) from Post_s2_14c8510065a68094) ;\n",
      "create temp table Person_s3_14c8510065a68094 as select * from Person_s2_14c8510065a68094 where (v4) in (select (v4) from Forum_hasMember_Person_s2_14c8510065a68094) ;\n",
      "create temp table City_s3_14c8510065a68094 as select * from City_s2_14c8510065a68094 where (v2) in (select (v2) from Person_s2_14c8510065a68094) ;\n",
      "create temp table Country_s3_14c8510065a68094 as select * from Country_s2_14c8510065a68094 where (v0) in (select (v0) from City_s2_14c8510065a68094) ;\n",
      "create temp table Forum_s3_14c8510065a68094 as select * from Forum_s2_14c8510065a68094 where (v6) in (select (v6) from Forum_hasMember_Person_s2_14c8510065a68094) ;\n",
      "create temp table Comment_s3_14c8510065a68094 as select * from Comment_s2_14c8510065a68094 where (v9) in (select (v9) from Post_s2_14c8510065a68094) ;\n",
      "create temp table Comment_hasTag_Tag_s3_14c8510065a68094 as select * from Comment_hasTag_Tag_s2_14c8510065a68094 where (v11) in (select (v11) from Comment_s2_14c8510065a68094) ;\n",
      "create temp table Tag_s3_14c8510065a68094 as select * from Tag_s2_14c8510065a68094 where (v13) in (select (v13) from Comment_hasTag_Tag_s2_14c8510065a68094) ;\n",
      "create temp table TagClass_s3_14c8510065a68094 as select * from TagClass_s2_14c8510065a68094 where (v15) in (select (v15) from Tag_s2_14c8510065a68094) ; \n",
      "\n",
      "\n",
      "--- stage4\n",
      "create temp table s4_group_46E0584412D23B7B as  select * from Comment_s3_14c8510065a68094 NATURAL JOIN Comment_hasTag_Tag_s3_14c8510065a68094 NATURAL JOIN Tag_s3_14c8510065a68094 NATURAL JOIN TagClass_s3_14c8510065a68094;\n",
      "create temp table s4_group_303D5F3A1311BE37 as  select * from Forum_hasMember_Person_s3_14c8510065a68094 NATURAL JOIN Person_s3_14c8510065a68094 NATURAL JOIN City_s3_14c8510065a68094 NATURAL JOIN Country_s3_14c8510065a68094 NATURAL JOIN Forum_s3_14c8510065a68094;\n",
      "create temp table s4_group_7B6B55FBCDDA9CA6 as  select * from Post_s2_14c8510065a68094;\n",
      "create temp table _star_final_s4_14c8510065a68094 as select * from s4_group_46E0584412D23B7B natural join s4_group_303D5F3A1311BE37 natural join s4_group_7B6B55FBCDDA9CA6 \n",
      "\n",
      "\n",
      "--- cleanup\n",
      "drop view if exists Post_s1_14c8510065a68094 cascade;\n",
      "drop view if exists Forum_hasMember_Person_s1_14c8510065a68094 cascade;\n",
      "drop view if exists Person_s1_14c8510065a68094 cascade;\n",
      "drop view if exists City_s1_14c8510065a68094 cascade;\n",
      "drop view if exists Country_s2_14c8510065a68094 cascade;\n",
      "drop view if exists Forum_s2_14c8510065a68094 cascade;\n",
      "drop view if exists Comment_s1_14c8510065a68094 cascade;\n",
      "drop view if exists Comment_hasTag_Tag_s1_14c8510065a68094 cascade;\n",
      "drop view if exists Tag_s1_14c8510065a68094 cascade;\n",
      "drop view if exists TagClass_s2_14c8510065a68094 cascade;\n",
      "drop table if exists Tag_s2_14c8510065a68094 cascade;\n",
      "drop table if exists Comment_hasTag_Tag_s2_14c8510065a68094 cascade;\n",
      "drop table if exists Comment_s2_14c8510065a68094 cascade;\n",
      "drop table if exists City_s2_14c8510065a68094 cascade;\n",
      "drop table if exists Person_s2_14c8510065a68094 cascade;\n",
      "drop table if exists Forum_hasMember_Person_s2_14c8510065a68094 cascade;\n",
      "drop table if exists Post_s2_14c8510065a68094 cascade;\n",
      "drop table if exists Forum_hasMember_Person_s3_14c8510065a68094 cascade;\n",
      "drop table if exists Person_s3_14c8510065a68094 cascade;\n",
      "drop table if exists City_s3_14c8510065a68094 cascade;\n",
      "drop table if exists Country_s3_14c8510065a68094 cascade;\n",
      "drop table if exists Forum_s3_14c8510065a68094 cascade;\n",
      "drop table if exists Comment_s3_14c8510065a68094 cascade;\n",
      "drop table if exists Comment_hasTag_Tag_s3_14c8510065a68094 cascade;\n",
      "drop table if exists Tag_s3_14c8510065a68094 cascade;\n",
      "drop table if exists TagClass_s3_14c8510065a68094 cascade;\n",
      "drop table if exists s4_group_46E0584412D23B7B cascade;\n",
      "drop table if exists s4_group_303D5F3A1311BE37 cascade;\n",
      "drop table if exists s4_group_7B6B55FBCDDA9CA6 cascade;\n",
      "drop table if exists _star_final_s4_14c8510065a68094 cascade; \n",
      "\n",
      "\n",
      "/* hypergraph\n",
      "City(v2,v0)\n",
      "Comment(v11,v9)\n",
      "Comment_hasTag_Tag(v11,v13)\n",
      "Country(v0)\n",
      "Forum(v6)\n",
      "Forum_hasMember_Person(v4,v6)\n",
      "Person(v2,v4)\n",
      "Post(v9,v6)\n",
      "Tag(v15,v13)\n",
      "TagClass(v15)\n",
      "\n",
      "*/\n",
      "\n",
      "/* join tree\n",
      "['Post',\n",
      " [['Comment', [['Comment_hasTag_Tag', [['Tag', [['TagClass', []]]]]]]],\n",
      "  ['Forum_hasMember_Person',\n",
      "   [['Forum', []], ['Person', [['City', [['Country', []]]]]]]]]]\n",
      "*/\n",
      "\n",
      "-- Time to create plan: 0.3169800002069678 ms\n"
     ]
    }
   ],
   "source": [
    "%%bash\n",
    "python3 main.py \"lsqb/sql/simple/q1.sql\""
   ]
  },
  {
   "cell_type": "markdown",
   "id": "bd5965a5-72cc-42a2-b80a-0e60117f8e92",
   "metadata": {},
   "source": [
    "### Create the execution plan and execute it and stop the time"
   ]
  },
  {
   "cell_type": "markdown",
   "id": "c82bc14d-d09b-4294-aefa-f4bd082443f0",
   "metadata": {},
   "source": [
    "#### with DuckDB and LSQB"
   ]
  },
  {
   "cell_type": "markdown",
   "id": "1e356e0d-f405-45fd-94c1-f6dc54115e6c",
   "metadata": {},
   "source": [
    "erstellen der der DuckDB database for LSQB"
   ]
  },
  {
   "cell_type": "code",
   "execution_count": 5,
   "id": "4b876dd5-3f8f-4d22-a602-a748816ad745",
   "metadata": {},
   "outputs": [],
   "source": [
    "# use the scale factor, which you also used for downloading the data\n",
    "SF = 1"
   ]
  },
  {
   "cell_type": "code",
   "execution_count": 6,
   "id": "44409857-118e-442a-b69f-3af2805b8a52",
   "metadata": {},
   "outputs": [],
   "source": [
    "import duckdb\n",
    "import os\n",
    "\n",
    "con = duckdb.connect(database=f\"lsqb/lsqb{SF}.duckdb\")\n",
    "\n",
    "with open(\"lsqb/sql/schema.sql\", \"r\") as f:\n",
    "    schema_init_query = f.read()\n",
    "    con.execute(schema_init_query)\n",
    "\n",
    "data_dir = f\"lsqb/data/social-network-sf{SF}-merged-fk\"\n",
    "with open(\"lsqb/sql/snb-load.sql\", \"r\") as f:\n",
    "    load_query = f.read().replace(\"PATHVAR\", data_dir)\n",
    "    con.execute(load_query)\n",
    "\n",
    "with open(\"lsqb/sql/views.sql\", \"r\") as f:\n",
    "    view_init_query = f.read()\n",
    "    con.execute(view_init_query)\n",
    "\n",
    "con.close()"
   ]
  },
  {
   "cell_type": "code",
   "execution_count": 7,
   "id": "021158bd-7990-4d1d-8659-5f90fedaade7",
   "metadata": {},
   "outputs": [
    {
     "name": "stdout",
     "output_type": "stream",
     "text": [
      "{'--agg': False,\n",
      " '<csvout>': 'results/DDB_LSQB.csv',\n",
      " '<dbfile>': 'lsqb/lsqb.duckdb',\n",
      " '<glob>': 'lsqb/sql/simple/test1.sql'}\n",
      "lsqb/sql/simple/test1.sql\n",
      "TreeNode-City\n",
      "Qsetup create temp table _star_select as SELECT Country.CountryId,City.CityId\n",
      "FROM Country, City, Person\n",
      "WHERE City.isPartOf_CountryId = Country.CountryId\n",
      "AND Person.isLocatedIn_CityId = City.CityId; TreeNode-City \u001b[31m\u001b[22mCity\u001b[0m(\u001b[33m\u001b[22mv2\u001b[0m,\u001b[33m\u001b[22mv0\u001b[0m)\n",
      "\u001b[31m\u001b[22mCountry\u001b[0m(\u001b[33m\u001b[22mv0\u001b[0m)\n",
      "\u001b[31m\u001b[22mPerson\u001b[0m(\u001b[33m\u001b[22mv2\u001b[0m)\n",
      " {'v0': ['Country.CountryId', 'City.isPartOf_CountryId'], 'v2': ['City.CityId', 'Person.isLocatedIn_CityId']}\n",
      "here\n",
      "  width 1\n",
      "  running classic\n",
      "  -- debug:  create temp table _star_select as SELECT Country.CountryId,City.CityId\n",
      "FROM Country, City, Person\n",
      "WHERE City.isPartOf_CountryId = Country.CountryId\n",
      "AND Person.isLocatedIn_CityId = City.CityId;\n",
      "Exitcode None\n",
      "['test1.sql', 'baseline', '', 1, 0.01664342399999441, 'ok', '(184000)']\n",
      "\u001b[0m------------\n",
      "QUERIES stage1\n",
      "\t create view City_s1_dfe3a0065a680d3 as select City.CityId as v2,City.isPartOf_CountryId as v0 from City;\n",
      "\t create view Person_s2_dfe3a0065a680d3 as select Person.isLocatedIn_CityId as v2 from Person;\n",
      "\t create view Country_s2_dfe3a0065a680d3 as select Country.CountryId as v0 from Country;\n",
      "QUERIES stage2\n",
      "\t create temp table City_s2_dfe3a0065a680d3 as select * from City_s1_dfe3a0065a680d3 where (v0) in (select (v0) from Country_s2_dfe3a0065a680d3) AND (v2) in (select (v2) from Person_s2_dfe3a0065a680d3);\n",
      "QUERIES stage3\n",
      "\t create temp table Person_s3_dfe3a0065a680d3 as select * from Person_s2_dfe3a0065a680d3 where (v2) in (select (v2) from City_s2_dfe3a0065a680d3) ;\n",
      "\t create temp table Country_s3_dfe3a0065a680d3 as select * from Country_s2_dfe3a0065a680d3 where (v0) in (select (v0) from City_s2_dfe3a0065a680d3) ;\n",
      "QUERIES stage4\n",
      "\t create temp table s4_group_47467CAB54A3BFC7 as  select * from City_s2_dfe3a0065a680d3 NATURAL JOIN Country_s3_dfe3a0065a680d3 NATURAL JOIN Person_s3_dfe3a0065a680d3;\n",
      "------------\n",
      "\u001b[0m['test1.sql', 'stage1', '', 1, 0.024881861000267236, 'ok', '-']\n",
      "['test1.sql', 'stage2', '', 1, 0.015097868999873754, 'ok', '(1343)']\n",
      "['test1.sql', 'stage3', '', 1, 0.010065004999887606, 'ok', '(111)']\n",
      "['test1.sql', 'stage4', '', 1, 0.005295207000017399, 'ok', '(184000)']\n",
      "  total time 0.055339942000045994\n",
      "['test1.sql', 'total', '', 1, 0.055339942000045994, 'ok', '-']\n",
      "\u001b[0m\u001b[0m"
     ]
    }
   ],
   "source": [
    "!python3 duckrunner.py \"lsqb/sql/simple/test1.sql\" \"results/DDB_LSQB.csv\" \"lsqb/lsqb${SF}.duckdb\""
   ]
  },
  {
   "cell_type": "code",
   "execution_count": 80,
   "id": "68b1e526-f4cb-4ce0-8970-0143a66ae3cc",
   "metadata": {},
   "outputs": [
    {
     "name": "stdout",
     "output_type": "stream",
     "text": [
      "{'--agg': False,\n",
      " '<csvout>': 'DDB_LSQB.csv',\n",
      " '<dbfile>': '/benchmark/lsqb/lsqb1.duckdb',\n",
      " '<glob>': '../lsqb/sql/simple/test*.sql'}\n",
      "../lsqb/sql/simple/test1.sql\n",
      "Query SELECT *\n",
      "FROM Country, City, Person\n",
      "WHERE City.isPartOf_CountryId = Country.CountryId\n",
      "AND Person.isLocatedIn_CityId = City.CityId;\n",
      "TreeNode-City\n",
      "Qsetup create temp table _star_select as SELECT Country.CountryId,City.CityId\n",
      "FROM Country, City, Person\n",
      "WHERE City.isPartOf_CountryId = Country.CountryId\n",
      "AND Person.isLocatedIn_CityId = City.CityId; TreeNode-City \u001b[31m\u001b[22mCity\u001b[0m(\u001b[33m\u001b[22mv2\u001b[0m,\u001b[33m\u001b[22mv0\u001b[0m)\n",
      "\u001b[31m\u001b[22mCountry\u001b[0m(\u001b[33m\u001b[22mv0\u001b[0m)\n",
      "\u001b[31m\u001b[22mPerson\u001b[0m(\u001b[33m\u001b[22mv2\u001b[0m)\n",
      " {'v0': ['Country.CountryId', 'City.isPartOf_CountryId'], 'v2': ['City.CityId', 'Person.isLocatedIn_CityId']}\n",
      "here\n",
      "  width 1\n",
      "  running classic\n",
      "  -- debug:  create temp table _star_select as SELECT Country.CountryId,City.CityId\n",
      "FROM Country, City, Person\n",
      "WHERE City.isPartOf_CountryId = Country.CountryId\n",
      "AND Person.isLocatedIn_CityId = City.CityId;\n",
      "Exitcode None\n",
      "\u001b[0m['test1.sql', 'baseline', '', 1, 0.012326355000368494, 'ok', '(11000)']\n",
      "------------\n",
      "QUERIES stage1\n",
      "\t create view City_s1_19d5a98065a648b0 as select City.CityId as v2,City.isPartOf_CountryId as v0 from City;\n",
      "\t create view Person_s2_19d5a98065a648b0 as select Person.isLocatedIn_CityId as v2 from Person;\n",
      "\t create view Country_s2_19d5a98065a648b0 as select Country.CountryId as v0 from Country;\n",
      "QUERIES stage2\n",
      "\t create temp table City_s2_19d5a98065a648b0 as select * from City_s1_19d5a98065a648b0 where (v0) in (select (v0) from Country_s2_19d5a98065a648b0) AND (v2) in (select (v2) from Person_s2_19d5a98065a648b0);\n",
      "QUERIES stage3\n",
      "\t create temp table Person_s3_19d5a98065a648b0 as select * from Person_s2_19d5a98065a648b0 where (v2) in (select (v2) from City_s2_19d5a98065a648b0) ;\n",
      "\t create temp table Country_s3_19d5a98065a648b0 as select * from Country_s2_19d5a98065a648b0 where (v0) in (select (v0) from City_s2_19d5a98065a648b0) ;\n",
      "QUERIES stage4\n",
      "\t create temp table s4_group_6B5960843B354E16 as  select * from City_s2_19d5a98065a648b0 NATURAL JOIN Country_s3_19d5a98065a648b0 NATURAL JOIN Person_s3_19d5a98065a648b0;\n",
      "------------\n",
      "\u001b[0m['test1.sql', 'stage1', '', 1, 0.010603230000015174, 'ok', '-']\n",
      "['test1.sql', 'stage2', '', 1, 0.005669588999808184, 'ok', '(1343)']\n",
      "['test1.sql', 'stage3', '', 1, 0.00297143399984634, 'ok', '(111)']\n",
      "['test1.sql', 'stage4', '', 1, 0.0018518380002205959, 'ok', '(11000)']\n",
      "\u001b[0m  total time 0.021096090999890293\n",
      "['test1.sql', 'total', '', 1, 0.021096090999890293, 'ok', '-']\n",
      "../lsqb/sql/simple/test2.sql\n",
      "Query SELECT *\n",
      "FROM Forum_hasMember_Person, Forum, Post, Comment, Comment_hasTag_Tag\n",
      "WHERE Forum.ForumId = Forum_hasMember_Person.ForumId\n",
      "AND Post.Forum_containerOfId = Forum.ForumId\n",
      "AND Comment.replyOf_PostId = Post.PostId\n",
      "AND Comment_hasTag_Tag.CommentId = Comment.CommentId\n",
      "TreeNode-Post\n",
      "Qsetup create temp table _star_select as SELECT Post.Forum_containerOfId,Post.PostId,Comment_hasTag_Tag.CommentId\n",
      "FROM Forum_hasMember_Person, Forum, Post, Comment, Comment_hasTag_Tag\n",
      "WHERE Forum.ForumId = Forum_hasMember_Person.ForumId\n",
      "AND Post.Forum_containerOfId = Forum.ForumId\n",
      "AND Comment.replyOf_PostId = Post.PostId\n",
      "AND Comment_hasTag_Tag.CommentId = Comment.CommentId TreeNode-Post \u001b[31m\u001b[22mComment\u001b[0m(\u001b[33m\u001b[22mv3\u001b[0m,\u001b[33m\u001b[22mv5\u001b[0m)\n",
      "\u001b[31m\u001b[22mComment_hasTag_Tag\u001b[0m(\u001b[33m\u001b[22mv5\u001b[0m)\n",
      "\u001b[31m\u001b[22mForum\u001b[0m(\u001b[33m\u001b[22mv0\u001b[0m)\n",
      "\u001b[31m\u001b[22mForum_hasMember_Person\u001b[0m(\u001b[33m\u001b[22mv0\u001b[0m)\n",
      "\u001b[31m\u001b[22mPost\u001b[0m(\u001b[33m\u001b[22mv3\u001b[0m,\u001b[33m\u001b[22mv0\u001b[0m)\n",
      " {'v0': ['Post.Forum_containerOfId', 'Forum.ForumId', 'Forum_hasMember_Person.ForumId'], 'v3': ['Post.PostId', 'Comment.replyOf_PostId'], 'v5': ['Comment_hasTag_Tag.CommentId', 'Comment.CommentId']}\n",
      "here\n",
      "  width 1\n",
      "  running classic\n",
      "  -- debug:  create temp table _star_select as SELECT Post.Forum_containerOfId,Post.PostId,Comment_hasTag_Tag.CommentId\n",
      "FROM Forum_hasMember_Person, Forum, Post, Comment, Comment_hasTag_Tag\n",
      "WHERE Forum.ForumId = Forum_hasMember_Person.ForumId\n",
      "AND Post.Forum_containerOfId = Forum.ForumId\n",
      "AND Comment.replyOf_PostId = Post.PostId\n",
      "AND Comment_hasTag_Tag.CommentId = Comment.CommentId\n",
      "100% ▕████████████████████████████████████████████████████████████▏ \n",
      "Exitcode None\n",
      "\u001b[0m['test2.sql', 'baseline', '', 1, 6.468517753999549, 'ok', '(221636419)']\n",
      "------------\n",
      "QUERIES stage1\n",
      "\t create view Post_s1_19d5a98065a648b0 as select Post.PostId as v3,Post.Forum_containerOfId as v0 from Post;\n",
      "\t create view Comment_s1_19d5a98065a648b0 as select Comment.replyOf_PostId as v3,Comment.CommentId as v5 from Comment;\n",
      "\t create view Comment_hasTag_Tag_s2_19d5a98065a648b0 as select Comment_hasTag_Tag.CommentId as v5 from Comment_hasTag_Tag;\n",
      "\t create view Forum_hasMember_Person_s1_19d5a98065a648b0 as select Forum_hasMember_Person.ForumId as v0 from Forum_hasMember_Person;\n",
      "\t create view Forum_s2_19d5a98065a648b0 as select Forum.ForumId as v0 from Forum;\n",
      "QUERIES stage2\n",
      "\t create temp table Forum_hasMember_Person_s2_19d5a98065a648b0 as select * from Forum_hasMember_Person_s1_19d5a98065a648b0 where (v0) in (select (v0) from Forum_s2_19d5a98065a648b0);\n",
      "\t create temp table Comment_s2_19d5a98065a648b0 as select * from Comment_s1_19d5a98065a648b0 where (v5) in (select (v5) from Comment_hasTag_Tag_s2_19d5a98065a648b0);\n",
      "\t create temp table Post_s2_19d5a98065a648b0 as select * from Post_s1_19d5a98065a648b0 where (v0) in (select (v0) from Forum_hasMember_Person_s2_19d5a98065a648b0) AND (v3) in (select (v3) from Comment_s2_19d5a98065a648b0);\n",
      "QUERIES stage3\n",
      "\t create temp table Comment_s3_19d5a98065a648b0 as select * from Comment_s2_19d5a98065a648b0 where (v3) in (select (v3) from Post_s2_19d5a98065a648b0) ;\n",
      "\t create temp table Comment_hasTag_Tag_s3_19d5a98065a648b0 as select * from Comment_hasTag_Tag_s2_19d5a98065a648b0 where (v5) in (select (v5) from Comment_s2_19d5a98065a648b0) ;\n",
      "\t create temp table Forum_hasMember_Person_s3_19d5a98065a648b0 as select * from Forum_hasMember_Person_s2_19d5a98065a648b0 where (v0) in (select (v0) from Post_s2_19d5a98065a648b0) ;\n",
      "\t create temp table Forum_s3_19d5a98065a648b0 as select * from Forum_s2_19d5a98065a648b0 where (v0) in (select (v0) from Forum_hasMember_Person_s2_19d5a98065a648b0) ;\n",
      "QUERIES stage4\n",
      "\t create temp table s4_group_3A411EACF7098EFB as  select * from Post_s2_19d5a98065a648b0 NATURAL JOIN Forum_hasMember_Person_s3_19d5a98065a648b0 NATURAL JOIN Forum_s3_19d5a98065a648b0 NATURAL JOIN Comment_s3_19d5a98065a648b0 NATURAL JOIN Comment_hasTag_Tag_s3_19d5a98065a648b0;\n",
      "------------\n",
      "100% ▕████████████████████████████████████████████████████████████▏ \n",
      "\u001b[0m['test2.sql', 'stage1', '', 1, 0.015392895000331919, 'ok', '-']\n",
      "['test2.sql', 'stage2', '', 1, 0.2954511839998304, 'ok', '(222033)']\n",
      "['test2.sql', 'stage3', '', 1, 0.11089204999916547, 'ok', '(100908)']\n",
      "['test2.sql', 'stage4', '', 1, 11.83832741400056, 'ok', '(221636419)']\n",
      "\u001b[0m  total time 12.260063542999887\n",
      "['test2.sql', 'total', '', 1, 12.260063542999887, 'ok', '-']\n",
      "\u001b[0m"
     ]
    }
   ],
   "source": [
    "!python3 duckrunner.py \"lsqb/sql/simple/test*.sql\" \"results/DDB_LSQB.csv\" \"lsqb/lsqb${SF}.duckdb\""
   ]
  },
  {
   "cell_type": "code",
   "execution_count": 81,
   "id": "6bdf58a3-0c18-4bd6-8541-55e88d2397e5",
   "metadata": {},
   "outputs": [
    {
     "name": "stdout",
     "output_type": "stream",
     "text": [
      "{'--agg': True,\n",
      " '<csvout>': 'DDB_LSQB_AGG.csv',\n",
      " '<dbfile>': '/benchmark/lsqb/lsqb1.duckdb',\n",
      " '<glob>': '../lsqb/sql/simple/test*.sql'}\n",
      "../lsqb/sql/simple/test1.sql\n",
      "Query SELECT *\n",
      "FROM Country, City, Person\n",
      "WHERE City.isPartOf_CountryId = Country.CountryId\n",
      "AND Person.isLocatedIn_CityId = City.CityId;\n",
      "TreeNode-City\n",
      "Qsetup SELECT *\n",
      "FROM Country, City, Person\n",
      "WHERE City.isPartOf_CountryId = Country.CountryId\n",
      "AND Person.isLocatedIn_CityId = City.CityId; TreeNode-City \u001b[31m\u001b[22mCity\u001b[0m(\u001b[33m\u001b[22mv0\u001b[0m,\u001b[33m\u001b[22mv2\u001b[0m)\n",
      "\u001b[31m\u001b[22mCountry\u001b[0m(\u001b[33m\u001b[22mv0\u001b[0m)\n",
      "\u001b[31m\u001b[22mPerson\u001b[0m(\u001b[33m\u001b[22mv2\u001b[0m)\n",
      " {'v0': ['Country.CountryId', 'City.isPartOf_CountryId'], 'v2': ['City.CityId', 'Person.isLocatedIn_CityId']}\n",
      "here\n",
      "  width 1\n",
      "  running classic\n",
      "  -- debug:  SELECT *\n",
      "FROM Country, City, Person\n",
      "WHERE City.isPartOf_CountryId = Country.CountryId\n",
      "AND Person.isLocatedIn_CityId = City.CityId;\n",
      "Exitcode None\n",
      "\u001b[0m['test1.sql', 'baseline', 'min(City.isPartOf_CountryId)', 1, 0.011251795000134734, 'ok', '(57, 1458, 874, 57, 26388279068012, 874)']\n",
      "------------\n",
      "QUERIES stage1\n",
      "\t create view City_s1_3e8990065a648cf as select City.isPartOf_CountryId as v0,City.CityId as v2 from City;\n",
      "\t create view Person_s2_3e8990065a648cf as select Person.isLocatedIn_CityId as v2 from Person;\n",
      "\t create view Country_s2_3e8990065a648cf as select Country.CountryId as v0 from Country;\n",
      "QUERIES stage2\n",
      "\t create temp table City_s2_3e8990065a648cf as select * from City_s1_3e8990065a648cf where (v0) in (select (v0) from Country_s2_3e8990065a648cf) AND (v2) in (select (v2) from Person_s2_3e8990065a648cf);\n",
      "QUERIES stage3\n",
      "QUERIES stage4\n",
      "\t select min(v0) from City_s2_3e8990065a648cf;\n",
      "------------\n",
      "\u001b[0m['test1.sql', 'stage1', 'min(City.isPartOf_CountryId)', 1, 0.009823266000239528, 'ok', '-']\n",
      "['test1.sql', 'stage2', 'min(City.isPartOf_CountryId)', 1, 0.004743752999274875, 'ok', '(1343)']\n",
      "['test1.sql', 'stage3', 'min(City.isPartOf_CountryId)', 1, 0, 'ok', 'n/a']\n",
      "['test1.sql', 'stage4', 'min(City.isPartOf_CountryId)', 1, 0.0009322989999418496, 'ok', '(0)']\n",
      "\u001b[0m  total time 0.015499317999456252\n",
      "['test1.sql', 'total', 'min(City.isPartOf_CountryId)', 1, 0.015499317999456252, 'ok', '-']\n",
      "../lsqb/sql/simple/test2.sql\n",
      "Query SELECT *\n",
      "FROM Forum_hasMember_Person, Forum, Post, Comment, Comment_hasTag_Tag\n",
      "WHERE Forum.ForumId = Forum_hasMember_Person.ForumId\n",
      "AND Post.Forum_containerOfId = Forum.ForumId\n",
      "AND Comment.replyOf_PostId = Post.PostId\n",
      "AND Comment_hasTag_Tag.CommentId = Comment.CommentId\n",
      "TreeNode-Post\n",
      "Qsetup SELECT *\n",
      "FROM Forum_hasMember_Person, Forum, Post, Comment, Comment_hasTag_Tag\n",
      "WHERE Forum.ForumId = Forum_hasMember_Person.ForumId\n",
      "AND Post.Forum_containerOfId = Forum.ForumId\n",
      "AND Comment.replyOf_PostId = Post.PostId\n",
      "AND Comment_hasTag_Tag.CommentId = Comment.CommentId TreeNode-Forum \u001b[31m\u001b[22mComment\u001b[0m(\u001b[33m\u001b[22mv5\u001b[0m,\u001b[33m\u001b[22mv3\u001b[0m)\n",
      "\u001b[31m\u001b[22mComment_hasTag_Tag\u001b[0m(\u001b[33m\u001b[22mv5\u001b[0m)\n",
      "\u001b[31m\u001b[22mForum\u001b[0m(\u001b[33m\u001b[22mv0\u001b[0m)\n",
      "\u001b[31m\u001b[22mForum_hasMember_Person\u001b[0m(\u001b[33m\u001b[22mv0\u001b[0m)\n",
      "\u001b[31m\u001b[22mPost\u001b[0m(\u001b[33m\u001b[22mv0\u001b[0m,\u001b[33m\u001b[22mv3\u001b[0m)\n",
      " {'v0': ['Post.Forum_containerOfId', 'Forum.ForumId', 'Forum_hasMember_Person.ForumId'], 'v3': ['Post.PostId', 'Comment.replyOf_PostId'], 'v5': ['Comment_hasTag_Tag.CommentId', 'Comment.CommentId']}\n",
      "here\n",
      "  width 1\n",
      "  running classic\n",
      "  -- debug:  SELECT *\n",
      "FROM Forum_hasMember_Person, Forum, Post, Comment, Comment_hasTag_Tag\n",
      "WHERE Forum.ForumId = Forum_hasMember_Person.ForumId\n",
      "AND Post.Forum_containerOfId = Forum.ForumId\n",
      "AND Comment.replyOf_PostId = Post.PostId\n",
      "AND Comment_hasTag_Tag.CommentId = Comment.CommentId\n",
      "['test2.sql', 'baseline', 'min(Forum.ForumId)', 1, 0, 'timeout', '-']\n",
      "------------\n",
      "QUERIES stage1\n",
      "\t create view Forum_s1_3e8990065a648cf as select Forum.ForumId as v0 from Forum;\n",
      "\t create view Forum_hasMember_Person_s1_3e8990065a648cf as select Forum_hasMember_Person.ForumId as v0 from Forum_hasMember_Person;\n",
      "\t create view Post_s1_3e8990065a648cf as select Post.Forum_containerOfId as v0,Post.PostId as v3 from Post;\n",
      "\t create view Comment_s1_3e8990065a648cf as select Comment.CommentId as v5,Comment.replyOf_PostId as v3 from Comment;\n",
      "\t create view Comment_hasTag_Tag_s2_3e8990065a648cf as select Comment_hasTag_Tag.CommentId as v5 from Comment_hasTag_Tag;\n",
      "QUERIES stage2\n",
      "\t create temp table Comment_s2_3e8990065a648cf as select * from Comment_s1_3e8990065a648cf where (v5) in (select (v5) from Comment_hasTag_Tag_s2_3e8990065a648cf);\n",
      "\t create temp table Post_s2_3e8990065a648cf as select * from Post_s1_3e8990065a648cf where (v3) in (select (v3) from Comment_s2_3e8990065a648cf);\n",
      "\t create temp table Forum_hasMember_Person_s2_3e8990065a648cf as select * from Forum_hasMember_Person_s1_3e8990065a648cf where (v0) in (select (v0) from Post_s2_3e8990065a648cf);\n",
      "\t create temp table Forum_s2_3e8990065a648cf as select * from Forum_s1_3e8990065a648cf where (v0) in (select (v0) from Forum_hasMember_Person_s2_3e8990065a648cf);\n",
      "QUERIES stage3\n",
      "QUERIES stage4\n",
      "\t select min(v0) from Forum_s2_3e8990065a648cf;\n",
      "------------\n",
      "\u001b[0m['test2.sql', 'stage1', 'min(Forum.ForumId)', 1, 0.023049643001286313, 'ok', '-']\n",
      "['test2.sql', 'stage2', 'min(Forum.ForumId)', 1, 0.3984617040005105, 'ok', '(9074)']\n",
      "['test2.sql', 'stage3', 'min(Forum.ForumId)', 1, 0, 'ok', 'n/a']\n",
      "['test2.sql', 'stage4', 'min(Forum.ForumId)', 1, 0.0023626060010428773, 'ok', '(36)']\n",
      "\u001b[0m  total time 0.4238739530028397\n",
      "['test2.sql', 'total', 'min(Forum.ForumId)', 1, 0.4238739530028397, 'ok', '-']\n",
      "\u001b[0m"
     ]
    }
   ],
   "source": [
    "!python3 duckrunner.py \"lsqb/sql/simple/test*.sql\" \"results/DDB_LSQB_AGG.csv\" \"lsqb/lsqb1.duckdb\" --agg"
   ]
  },
  {
   "cell_type": "markdown",
   "id": "28b0eaeb-c082-4e17-9418-dee52ec937e8",
   "metadata": {},
   "source": [
    "#### with PostgresSQL and LSQB"
   ]
  },
  {
   "cell_type": "code",
   "execution_count": 9,
   "id": "b4d50d93-035f-4116-be50-5f5ae6e848d2",
   "metadata": {},
   "outputs": [],
   "source": [
    "!chmod +x import-lsqb.sh"
   ]
  },
  {
   "cell_type": "code",
   "execution_count": 12,
   "id": "a355c232-ce1e-4e89-8474-7fb44eef4dad",
   "metadata": {},
   "outputs": [
    {
     "name": "stdout",
     "output_type": "stream",
     "text": [
      "DROP VIEW\n",
      "DROP VIEW\n",
      "DROP VIEW\n",
      "DROP VIEW\n",
      "DROP VIEW\n",
      "DROP VIEW\n",
      "DROP TABLE\n",
      "DROP TABLE\n",
      "DROP TABLE\n",
      "DROP TABLE\n",
      "DROP TABLE\n",
      "DROP TABLE\n",
      "DROP TABLE\n",
      "DROP TABLE\n",
      "DROP TABLE\n",
      "DROP TABLE\n",
      "DROP TABLE\n",
      "DROP TABLE\n",
      "DROP TABLE\n",
      "DROP TABLE\n",
      "DROP TABLE\n",
      "DROP TABLE\n",
      "DROP TABLE\n",
      "DROP TABLE\n",
      "DROP TABLE\n",
      "DROP TABLE\n",
      "DROP TABLE\n"
     ]
    },
    {
     "name": "stderr",
     "output_type": "stream",
     "text": [
      "psql:lsqb/sql/schema.sql:1: NOTICE:  table \"company\" does not exist, skipping\n"
     ]
    },
    {
     "name": "stdout",
     "output_type": "stream",
     "text": [
      "DROP TABLE\n",
      "DROP TABLE\n"
     ]
    },
    {
     "name": "stderr",
     "output_type": "stream",
     "text": [
      "psql:lsqb/sql/schema.sql:2: NOTICE:  table \"university\" does not exist, skipping\n",
      "psql:lsqb/sql/schema.sql:3: NOTICE:  table \"continent\" does not exist, skipping\n",
      "psql:lsqb/sql/schema.sql:4: NOTICE:  table \"country\" does not exist, skipping\n",
      "psql:lsqb/sql/schema.sql:5: NOTICE:  table \"city\" does not exist, skipping\n",
      "psql:lsqb/sql/schema.sql:6: NOTICE:  table \"tag\" does not exist, skipping\n",
      "psql:lsqb/sql/schema.sql:7: NOTICE:  table \"tagclass\" does not exist, skipping\n",
      "psql:lsqb/sql/schema.sql:8: NOTICE:  table \"forum\" does not exist, skipping\n",
      "psql:lsqb/sql/schema.sql:9: NOTICE:  table \"comment\" does not exist, skipping\n",
      "psql:lsqb/sql/schema.sql:10: NOTICE:  table \"post\" does not exist, skipping\n",
      "psql:lsqb/sql/schema.sql:11: NOTICE:  table \"person\" does not exist, skipping\n",
      "psql:lsqb/sql/schema.sql:12: NOTICE:  table \"comment_hastag_tag\" does not exist, skipping\n",
      "psql:lsqb/sql/schema.sql:13: NOTICE:  table \"post_hastag_tag\" does not exist, skipping\n",
      "psql:lsqb/sql/schema.sql:14: NOTICE:  table \"forum_hasmember_person\" does not exist, skipping\n",
      "psql:lsqb/sql/schema.sql:15: NOTICE:  table \"forum_hastag_tag\" does not exist, skipping\n",
      "psql:lsqb/sql/schema.sql:16: NOTICE:  table \"person_hasinterest_tag\" does not exist, skipping\n",
      "psql:lsqb/sql/schema.sql:17: NOTICE:  table \"person_likes_comment\" does not exist, skipping\n",
      "psql:lsqb/sql/schema.sql:18: NOTICE:  table \"person_likes_post\" does not exist, skipping\n",
      "psql:lsqb/sql/schema.sql:19: NOTICE:  table \"person_studyat_university\" does not exist, skipping\n",
      "psql:lsqb/sql/schema.sql:20: NOTICE:  table \"person_workat_company\" does not exist, skipping\n",
      "psql:lsqb/sql/schema.sql:21: NOTICE:  table \"person_knows_person\" does not exist, skipping\n"
     ]
    },
    {
     "name": "stdout",
     "output_type": "stream",
     "text": [
      "DROP TABLE\n",
      "DROP TABLE\n",
      "DROP TABLE\n",
      "DROP TABLE\n",
      "DROP TABLE\n",
      "DROP TABLE\n",
      "DROP TABLE\n",
      "DROP TABLE\n",
      "DROP TABLE\n",
      "DROP TABLE\n",
      "DROP TABLE\n",
      "DROP TABLE\n",
      "DROP TABLE\n",
      "DROP TABLE\n",
      "DROP TABLE\n",
      "DROP TABLE\n",
      "DROP TABLE\n",
      "DROP TABLE\n",
      "DROP TABLE\n",
      "CREATE TABLE\n",
      "CREATE TABLE\n",
      "CREATE TABLE\n",
      "CREATE TABLE\n",
      "CREATE TABLE\n",
      "CREATE TABLE\n",
      "CREATE TABLE\n",
      "CREATE TABLE\n",
      "CREATE TABLE\n",
      "CREATE TABLE\n",
      "CREATE TABLE\n",
      "CREATE TABLE\n",
      "CREATE TABLE\n",
      "CREATE TABLE\n",
      "CREATE TABLE\n",
      "CREATE TABLE\n",
      "CREATE TABLE\n",
      "CREATE TABLE\n",
      "CREATE TABLE\n",
      "CREATE TABLE\n",
      "CREATE TABLE\n",
      "COPY 1575\n",
      "COPY 6380\n",
      "COPY 6\n",
      "COPY 111\n",
      "COPY 1343\n",
      "COPY 109617\n",
      "COPY 2580332\n",
      "COPY 1229275\n",
      "COPY 11000\n",
      "COPY 16080\n",
      "COPY 71\n",
      "COPY 3148317\n",
      "COPY 815205\n",
      "COPY 3268415\n",
      "COPY 354213\n",
      "COPY 255596\n",
      "COPY 1668015\n",
      "COPY 853145\n",
      "COPY 8880\n",
      "COPY 23600\n",
      "COPY 226293\n",
      "COPY 226293\n",
      "CREATE VIEW\n",
      "CREATE VIEW\n",
      "CREATE VIEW\n",
      "CREATE VIEW\n",
      "CREATE VIEW\n",
      "CREATE VIEW\n"
     ]
    }
   ],
   "source": [
    "%%bash\n",
    "export SF=1\n",
    "./import-lsqb.sh"
   ]
  },
  {
   "cell_type": "code",
   "execution_count": 18,
   "id": "fda9b0cb-957c-4ae8-90da-a3b82ed52459",
   "metadata": {},
   "outputs": [
    {
     "name": "stdout",
     "output_type": "stream",
     "text": [
      "{'--agg': False,\n",
      " '--skip-classic': False,\n",
      " '<csvout>': 'results/POS_LSQB.csv',\n",
      " '<glob>': 'lsqb/sql/simple/test1.sql',\n",
      " '<pgconnectstr>': 'host=postgres dbname=lsqb user=lsqb password=lsqb'}\n",
      "lsqb/sql/simple/test1.sql\n",
      "TreeNode-City\n",
      "  width 1\n",
      "  running classic\n",
      "  -- debug:  create temp table _star_select as SELECT Country.CountryId as Country___CountryId,City.CityId as City___CityId\n",
      "FROM Country, City, Person\n",
      "WHERE City.isPartOf_CountryId = Country.CountryId\n",
      "AND Person.isLocatedIn_CityId = City.CityId;\n",
      "['test1.sql', 'baseline', '', 1, 0.03149839300021995, 'ok', '-']\n",
      "\u001b[0m------------\n",
      "QUERIES stage1\n",
      "\t create view City_s1_16e7e30065a681bd as select City.isPartOf_CountryId as v0,City.CityId as v2 from City;\n",
      "\t create view Person_s2_16e7e30065a681bd as select Person.isLocatedIn_CityId as v2 from Person;\n",
      "\t create view Country_s2_16e7e30065a681bd as select Country.CountryId as v0 from Country;\n",
      "QUERIES stage2\n",
      "\t create temp table City_s2_16e7e30065a681bd as select * from City_s1_16e7e30065a681bd where (v0) in (select v0 from Country_s2_16e7e30065a681bd) AND (v2) in (select v2 from Person_s2_16e7e30065a681bd);\n",
      "QUERIES stage3\n",
      "\t create temp table Person_s3_16e7e30065a681bd as select * from Person_s2_16e7e30065a681bd where (v2) in (select v2 from City_s2_16e7e30065a681bd) ;\n",
      "\t create temp table Country_s3_16e7e30065a681bd as select * from Country_s2_16e7e30065a681bd where (v0) in (select v0 from City_s2_16e7e30065a681bd) ;\n",
      "QUERIES stage4\n",
      "\t create temp table s4_group_6F5099C5C35CD8D3 as  select * from City_s2_16e7e30065a681bd NATURAL JOIN Country_s3_16e7e30065a681bd NATURAL JOIN Person_s3_16e7e30065a681bd;\n",
      "------------\n",
      "\u001b[0m['test1.sql', 'stage1', '', 1, 0.01276226800018776, 'ok', '-']\n",
      "['test1.sql', 'stage2', '', 1, 0.01594812799976353, 'ok', '-']\n",
      "['test1.sql', 'stage3', '', 1, 0.046836005000841396, 'ok', '-']\n",
      "['test1.sql', 'stage4', '', 1, 0.025128784999651543, 'ok', '-']\n",
      "  total time 0.10067518600044423\n",
      "['test1.sql', 'total', '', 1, 0.10067518600044423, 'ok', '-']\n",
      "\u001b[0m\u001b[0m"
     ]
    }
   ],
   "source": [
    "!python3 pgrunner.py \"lsqb/sql/simple/test1.sql\" \"results/POS_LSQB.csv\" \"host=postgres dbname=lsqb user=lsqb password=lsqb\""
   ]
  },
  {
   "cell_type": "code",
   "execution_count": 19,
   "id": "c2a9d7ef-9097-4d44-8e7d-e31a2dafdc16",
   "metadata": {},
   "outputs": [
    {
     "name": "stdout",
     "output_type": "stream",
     "text": [
      "{'--agg': True,\n",
      " '--skip-classic': False,\n",
      " '<csvout>': 'results/POS_LSQB_AGG.csv',\n",
      " '<glob>': 'lsqb/sql/simple/test1.sql',\n",
      " '<pgconnectstr>': 'host=postgres dbname=lsqb user=lsqb password=lsqb'}\n",
      "lsqb/sql/simple/test1.sql\n",
      "TreeNode-City\n",
      "  width 1\n",
      "  running classic\n",
      "  -- debug:  SELECT *\n",
      "FROM Country, City, Person\n",
      "WHERE City.isPartOf_CountryId = Country.CountryId\n",
      "AND Person.isLocatedIn_CityId = City.CityId;\n",
      "['test1.sql', 'baseline', 'min(City.isPartOf_CountryId)', 1, 0.15473245200064412, 'ok', '(57, 1458, 874, 57, 26388279068012, 874)']\n",
      "------------\n",
      "QUERIES stage1\n",
      "\t create view City_s1_1731508065a681c2 as select City.isPartOf_CountryId as v0,City.CityId as v2 from City;\n",
      "\t create view Person_s2_1731508065a681c2 as select Person.isLocatedIn_CityId as v2 from Person;\n",
      "\t create view Country_s2_1731508065a681c2 as select Country.CountryId as v0 from Country;\n",
      "QUERIES stage2\n",
      "\t create temp table City_s2_1731508065a681c2 as select * from City_s1_1731508065a681c2 where (v0) in (select v0 from Country_s2_1731508065a681c2) AND (v2) in (select v2 from Person_s2_1731508065a681c2);\n",
      "QUERIES stage3\n",
      "QUERIES stage4\n",
      "\t select min(v0) from City_s2_1731508065a681c2;\n",
      "------------\n",
      "\u001b[0m['test1.sql', 'stage1', 'min(City.isPartOf_CountryId)', 1, 0.0054740639998271945, 'ok', '-']\n",
      "['test1.sql', 'stage2', 'min(City.isPartOf_CountryId)', 1, 0.010601152000162983, 'ok', '-']\n",
      "['test1.sql', 'stage3', 'min(City.isPartOf_CountryId)', 1, 0, 'ok', 'n/a']\n",
      "['test1.sql', 'stage4', 'min(City.isPartOf_CountryId)', 1, 0.00046149599984346423, 'ok', '(0)']\n",
      "\u001b[0m  total time 0.016536711999833642\n",
      "['test1.sql', 'total', 'min(City.isPartOf_CountryId)', 1, 0.016536711999833642, 'ok', '-']\n",
      "\u001b[0m\u001b[0m"
     ]
    }
   ],
   "source": [
    "!python3 pgrunner.py \"lsqb/sql/simple/test1.sql\" \"results/POS_LSQB_AGG.csv\" \"host=postgres dbname=lsqb user=lsqb password=lsqb\" --agg"
   ]
  },
  {
   "cell_type": "markdown",
   "id": "4e38cec0-07c9-471a-aa9e-e1b93890c351",
   "metadata": {},
   "source": [
    "#### with DuckDB and SNAP"
   ]
  },
  {
   "cell_type": "markdown",
   "id": "2caaa5dc-85b1-444a-9f33-8910cde07c89",
   "metadata": {},
   "source": [
    "will not work because we have aliases"
   ]
  },
  {
   "cell_type": "code",
   "execution_count": null,
   "id": "e825512b-fea0-4162-abe5-208d3e023457",
   "metadata": {},
   "outputs": [],
   "source": []
  },
  {
   "cell_type": "markdown",
   "id": "d14fe2dc-2647-484e-85f9-54fb37d88a87",
   "metadata": {},
   "source": [
    "#### with PostgreSQL and SNAP"
   ]
  },
  {
   "cell_type": "code",
   "execution_count": null,
   "id": "86311285-59f4-49a4-be8e-99b58f436465",
   "metadata": {},
   "outputs": [],
   "source": [
    "!chmod +x import-stats.sh"
   ]
  },
  {
   "cell_type": "code",
   "execution_count": null,
   "id": "7fd569a9-fc00-4f8d-97c3-41dac9415a86",
   "metadata": {},
   "outputs": [],
   "source": [
    "%%bash\n",
    "./import-stats.sh"
   ]
  },
  {
   "cell_type": "code",
   "execution_count": null,
   "id": "eaf07805-3217-4639-b9d2-03735a2e0cd5",
   "metadata": {},
   "outputs": [],
   "source": []
  },
  {
   "cell_type": "code",
   "execution_count": null,
   "id": "92ece0dd-5c47-4b80-9a3d-ff180a1392a1",
   "metadata": {},
   "outputs": [],
   "source": []
  },
  {
   "cell_type": "markdown",
   "id": "36e61605-acaf-41ad-8acb-6ce351de79f3",
   "metadata": {},
   "source": [
    "#### with DuckDB and STATS"
   ]
  },
  {
   "cell_type": "code",
   "execution_count": 21,
   "id": "e66ee652-e345-46a3-bd03-dbeccf9bac89",
   "metadata": {},
   "outputs": [],
   "source": [
    "import duckdb\n",
    "import os\n",
    "\n",
    "con = duckdb.connect(database=\"stats/stats.duckdb\")\n",
    "\n",
    "with open(\"stats/sql/schema.sql\", \"r\") as f:\n",
    "    schema_init_query = f.read()\n",
    "    con.execute(schema_init_query)\n",
    "\n",
    "data_dir = f\"stats/datasets\"\n",
    "with open(\"stats/sql/snb-load.sql\", \"r\") as f:\n",
    "    load_query = f.read().replace(\"PATHVAR\", data_dir)\n",
    "    con.execute(load_query)\n",
    "\n",
    "con.close()"
   ]
  },
  {
   "cell_type": "code",
   "execution_count": 24,
   "id": "1c3f6284-0969-41f3-97f5-0d8f5614a0a4",
   "metadata": {},
   "outputs": [
    {
     "name": "stdout",
     "output_type": "stream",
     "text": [
      "{'--agg': True,\n",
      " '<csvout>': 'results/DDB_STATS.csv',\n",
      " '<dbfile>': 'stats/stats.duckdb',\n",
      " '<glob>': 'stats-queries/simple/test1.sql'}\n",
      "stats-queries/simple/test1.sql\n",
      "TreeNode-users\n",
      "Qsetup SELECT min(comments.UserId) FROM comments, votes, users WHERE users.Id = comments.UserId AND users.Id = votes.UserId; TreeNode-comments \u001b[31m\u001b[22mcomments\u001b[0m(\u001b[33m\u001b[22mv0\u001b[0m)\n",
      "\u001b[31m\u001b[22musers\u001b[0m(\u001b[33m\u001b[22mv0\u001b[0m)\n",
      "\u001b[31m\u001b[22mvotes\u001b[0m(\u001b[33m\u001b[22mv0\u001b[0m)\n",
      " {'v0': ['votes.UserId', 'comments.UserId', 'users.Id']}\n",
      "here\n",
      "  width 1\n",
      "  running classic\n",
      "  -- debug:  SELECT min(comments.UserId) FROM comments, votes, users WHERE users.Id = comments.UserId AND users.Id = votes.UserId;\n",
      "Exitcode None\n",
      "\u001b[0m['test1.sql', 'baseline', 'min(comments.UserId)', 1, 0.4080308620004871, 'ok', '(5)']\n",
      "------------\n",
      "QUERIES stage1\n",
      "\t create view comments_s1_f35500065a68203 as select comments.UserId as v0 from comments;\n",
      "\t create view users_s1_f35500065a68203 as select users.Id as v0 from users;\n",
      "\t create view votes_s2_f35500065a68203 as select votes.UserId as v0 from votes;\n",
      "QUERIES stage2\n",
      "\t create temp table users_s2_f35500065a68203 as select * from users_s1_f35500065a68203 where (v0) in (select (v0) from votes_s2_f35500065a68203);\n",
      "\t create temp table comments_s2_f35500065a68203 as select * from comments_s1_f35500065a68203 where (v0) in (select (v0) from users_s2_f35500065a68203);\n",
      "QUERIES stage3\n",
      "QUERIES stage4\n",
      "\t select min(v0) from comments_s2_f35500065a68203;\n",
      "------------\n",
      "\u001b[0m['test1.sql', 'stage1', 'min(comments.UserId)', 1, 0.02477636399999028, 'ok', '-']\n",
      "['test1.sql', 'stage2', 'min(comments.UserId)', 1, 0.030245620999266976, 'ok', '(122252)']\n",
      "['test1.sql', 'stage3', 'min(comments.UserId)', 1, 0, 'ok', 'n/a']\n",
      "['test1.sql', 'stage4', 'min(comments.UserId)', 1, 0.0014601089997086092, 'ok', '(5)']\n",
      "  total time 0.056482093998965865\n",
      "['test1.sql', 'total', 'min(comments.UserId)', 1, 0.056482093998965865, 'ok', '-']\n",
      "\u001b[0m\u001b[0m"
     ]
    }
   ],
   "source": [
    "!python3 duckrunner.py \"stats-queries/simple/test1.sql\" \"results/DDB_STATS.csv\" \"stats/stats.duckdb\" --agg"
   ]
  },
  {
   "cell_type": "code",
   "execution_count": 23,
   "id": "f3a8732d-e145-49f7-a71b-dc3c84020c52",
   "metadata": {},
   "outputs": [
    {
     "name": "stdout",
     "output_type": "stream",
     "text": [
      "{'--agg': True,\n",
      " '<csvout>': 'results/DDB_STATS_AGG.csv',\n",
      " '<dbfile>': 'stats/stats.duckdb',\n",
      " '<glob>': 'stats-queries/simple/test1.sql'}\n",
      "stats-queries/simple/test1.sql\n",
      "TreeNode-users\n",
      "Qsetup SELECT min(comments.UserId) FROM comments, votes, users WHERE users.Id = comments.UserId AND users.Id = votes.UserId; TreeNode-comments \u001b[31m\u001b[22mcomments\u001b[0m(\u001b[33m\u001b[22mv0\u001b[0m)\n",
      "\u001b[31m\u001b[22musers\u001b[0m(\u001b[33m\u001b[22mv0\u001b[0m)\n",
      "\u001b[31m\u001b[22mvotes\u001b[0m(\u001b[33m\u001b[22mv0\u001b[0m)\n",
      " {'v0': ['votes.UserId', 'comments.UserId', 'users.Id']}\n",
      "here\n",
      "  width 1\n",
      "  running classic\n",
      "  -- debug:  SELECT min(comments.UserId) FROM comments, votes, users WHERE users.Id = comments.UserId AND users.Id = votes.UserId;\n",
      "Exitcode None\n",
      "\u001b[0m['test1.sql', 'baseline', 'min(comments.UserId)', 1, 0.49434783600008814, 'ok', '(5)']\n",
      "------------\n",
      "QUERIES stage1\n",
      "\t create view comments_s1_167fc00065a681f8 as select comments.UserId as v0 from comments;\n",
      "\t create view users_s1_167fc00065a681f8 as select users.Id as v0 from users;\n",
      "\t create view votes_s2_167fc00065a681f8 as select votes.UserId as v0 from votes;\n",
      "QUERIES stage2\n",
      "\t create temp table users_s2_167fc00065a681f8 as select * from users_s1_167fc00065a681f8 where (v0) in (select (v0) from votes_s2_167fc00065a681f8);\n",
      "\t create temp table comments_s2_167fc00065a681f8 as select * from comments_s1_167fc00065a681f8 where (v0) in (select (v0) from users_s2_167fc00065a681f8);\n",
      "QUERIES stage3\n",
      "QUERIES stage4\n",
      "\t select min(v0) from comments_s2_167fc00065a681f8;\n",
      "------------\n",
      "\u001b[0m['test1.sql', 'stage1', 'min(comments.UserId)', 1, 0.02535651800008054, 'ok', '-']\n",
      "['test1.sql', 'stage2', 'min(comments.UserId)', 1, 0.025483354999778385, 'ok', '(122252)']\n",
      "['test1.sql', 'stage3', 'min(comments.UserId)', 1, 0, 'ok', 'n/a']\n",
      "['test1.sql', 'stage4', 'min(comments.UserId)', 1, 0.0014478610000878689, 'ok', '(5)']\n",
      "\u001b[0m  total time 0.052287733999946795\n",
      "['test1.sql', 'total', 'min(comments.UserId)', 1, 0.052287733999946795, 'ok', '-']\n",
      "\u001b[0m"
     ]
    }
   ],
   "source": [
    "!python3 duckrunner.py \"stats-queries/simple/test1.sql\" \"results/DDB_STATS_AGG.csv\" \"stats/stats.duckdb\" --agg"
   ]
  },
  {
   "cell_type": "markdown",
   "id": "0a5b0418-0a5a-4bc0-8d8d-72a4a2bce796",
   "metadata": {},
   "source": [
    "#### with PostgreSQL and STATS"
   ]
  },
  {
   "cell_type": "code",
   "execution_count": 25,
   "id": "a0189695-588c-4d54-8ddf-a3a1b9be8835",
   "metadata": {},
   "outputs": [],
   "source": [
    "!chmod +x import-stats.sh"
   ]
  },
  {
   "cell_type": "code",
   "execution_count": 26,
   "id": "4aa26c82-0519-4318-9ce8-13c989b2f09c",
   "metadata": {},
   "outputs": [
    {
     "name": "stdout",
     "output_type": "stream",
     "text": [
      "DROP TABLE\n",
      "DROP TABLE\n",
      "DROP TABLE\n",
      "DROP TABLE\n",
      "DROP TABLE\n",
      "DROP TABLE\n",
      "DROP TABLE\n",
      "DROP TABLE\n",
      "CREATE TABLE\n",
      "CREATE TABLE\n",
      "CREATE TABLE\n",
      "CREATE TABLE\n",
      "CREATE TABLE\n",
      "CREATE TABLE\n",
      "CREATE TABLE\n",
      "CREATE TABLE\n",
      "COPY 79851\n",
      "COPY 174305\n",
      "COPY 303187\n",
      "COPY 11102\n",
      "COPY 91976\n",
      "COPY 1032\n",
      "COPY 40325\n",
      "COPY 328064\n"
     ]
    }
   ],
   "source": [
    "%%bash\n",
    "./import-stats.sh"
   ]
  },
  {
   "cell_type": "code",
   "execution_count": 27,
   "id": "35cb78f9-0396-4f17-9b6e-a581117bc0c0",
   "metadata": {},
   "outputs": [
    {
     "name": "stdout",
     "output_type": "stream",
     "text": [
      "{'--agg': False,\n",
      " '--skip-classic': False,\n",
      " '<csvout>': 'results/POS_STATS.csv',\n",
      " '<glob>': 'stats-queries/simple/test1.sql',\n",
      " '<pgconnectstr>': 'host=postgres dbname=stats user=stats password=stats'}\n",
      "stats-queries/simple/test1.sql\n",
      "TreeNode-users\n",
      "  width 1\n",
      "  running classic\n",
      "  -- debug:  create temp table _star_select as SELECT votes.UserId as votes___UserId FROM comments, votes, users WHERE users.Id = comments.UserId AND users.Id = votes.UserId;\n",
      "['test1.sql', 'baseline', '', 1, 25.609564517999388, 'ok', '-']\n",
      "------------\n",
      "QUERIES stage1\n",
      "\t create view users_s1_f48a0065a6838c as select users.Id as v0 from users;\n",
      "\t create view votes_s2_f48a0065a6838c as select votes.UserId as v0 from votes;\n",
      "\t create view comments_s2_f48a0065a6838c as select comments.UserId as v0 from comments;\n",
      "QUERIES stage2\n",
      "\t create temp table users_s2_f48a0065a6838c as select * from users_s1_f48a0065a6838c where (v0) in (select v0 from comments_s2_f48a0065a6838c) AND (v0) in (select v0 from votes_s2_f48a0065a6838c);\n",
      "QUERIES stage3\n",
      "\t create temp table votes_s3_f48a0065a6838c as select * from votes_s2_f48a0065a6838c where (v0) in (select v0 from users_s2_f48a0065a6838c) ;\n",
      "\t create temp table comments_s3_f48a0065a6838c as select * from comments_s2_f48a0065a6838c where (v0) in (select v0 from users_s2_f48a0065a6838c) ;\n",
      "QUERIES stage4\n",
      "\t create temp table s4_group_6F194827262D5A82 as  select * from users_s2_f48a0065a6838c NATURAL JOIN comments_s3_f48a0065a6838c NATURAL JOIN votes_s3_f48a0065a6838c;\n",
      "------------\n",
      "\u001b[0m\u001b[0m['test1.sql', 'stage1', '', 1, 0.06134340699918539, 'ok', '-']\n",
      "['test1.sql', 'stage2', '', 1, 0.08130184099991311, 'ok', '-']\n",
      "['test1.sql', 'stage3', '', 1, 0.38886557800015, 'ok', '-']\n",
      "['test1.sql', 'stage4', '', 1, 28.532440462000523, 'ok', '-']\n",
      "\u001b[0m  total time 29.06395128799977\n",
      "['test1.sql', 'total', '', 1, 29.06395128799977, 'ok', '-']\n",
      "\u001b[0m"
     ]
    }
   ],
   "source": [
    "!python3 pgrunner.py \"stats-queries/simple/test1.sql\" \"results/POS_STATS.csv\" \"host=postgres dbname=stats user=stats password=stats\""
   ]
  },
  {
   "cell_type": "code",
   "execution_count": 28,
   "id": "93daa740-6139-4a47-9a84-5fb783dc9361",
   "metadata": {},
   "outputs": [
    {
     "name": "stdout",
     "output_type": "stream",
     "text": [
      "{'--agg': True,\n",
      " '--skip-classic': False,\n",
      " '<csvout>': 'results/POS_STATS_AGG.csv',\n",
      " '<glob>': 'stats-queries/simple/test1.sql',\n",
      " '<pgconnectstr>': 'host=postgres dbname=stats user=stats password=stats'}\n",
      "stats-queries/simple/test1.sql\n",
      "TreeNode-users\n",
      "  width 1\n",
      "  running classic\n",
      "  -- debug:  SELECT min(comments.UserId) FROM comments, votes, users WHERE users.Id = comments.UserId AND users.Id = votes.UserId;\n",
      "\u001b[0m['test1.sql', 'baseline', 'min(comments.UserId)', 1, 0.6294853949993922, 'ok', '(5)']\n",
      "------------\n",
      "QUERIES stage1\n",
      "\t create view comments_s1_1541b58065a683ec as select comments.UserId as v0 from comments;\n",
      "\t create view users_s1_1541b58065a683ec as select users.Id as v0 from users;\n",
      "\t create view votes_s2_1541b58065a683ec as select votes.UserId as v0 from votes;\n",
      "QUERIES stage2\n",
      "\t create temp table users_s2_1541b58065a683ec as select * from users_s1_1541b58065a683ec where (v0) in (select v0 from votes_s2_1541b58065a683ec);\n",
      "\t create temp table comments_s2_1541b58065a683ec as select * from comments_s1_1541b58065a683ec where (v0) in (select v0 from users_s2_1541b58065a683ec);\n",
      "QUERIES stage3\n",
      "QUERIES stage4\n",
      "\t select min(v0) from comments_s2_1541b58065a683ec;\n",
      "------------\n",
      "['test1.sql', 'stage1', 'min(comments.UserId)', 1, 0.009332749000350304, 'ok', '-']\n",
      "\u001b[0m['test1.sql', 'stage2', 'min(comments.UserId)', 1, 0.423109884999576, 'ok', '-']\n",
      "['test1.sql', 'stage3', 'min(comments.UserId)', 1, 0, 'ok', 'n/a']\n",
      "['test1.sql', 'stage4', 'min(comments.UserId)', 1, 0.007994231999873591, 'ok', '(5)']\n",
      "  total time 0.4404368659997999\n",
      "['test1.sql', 'total', 'min(comments.UserId)', 1, 0.4404368659997999, 'ok', '-']\n",
      "\u001b[0m\u001b[0m"
     ]
    }
   ],
   "source": [
    "!python3 pgrunner.py \"stats-queries/simple/test1.sql\" \"results/POS_STATS_AGG.csv\" \"host=postgres dbname=stats user=stats password=stats\" --agg"
   ]
  },
  {
   "cell_type": "markdown",
   "id": "d01dc921-74e4-404b-b7c6-4eabae67bca2",
   "metadata": {},
   "source": [
    "#### with DuckDB and JOB"
   ]
  },
  {
   "cell_type": "code",
   "execution_count": null,
   "id": "637ce88b-a9f0-4af5-86cc-cf94765e2a28",
   "metadata": {},
   "outputs": [],
   "source": []
  },
  {
   "cell_type": "code",
   "execution_count": null,
   "id": "28028455-e927-44dc-986c-9445b827068f",
   "metadata": {},
   "outputs": [],
   "source": []
  },
  {
   "cell_type": "code",
   "execution_count": null,
   "id": "92a3bf4e-21ba-4be3-96f6-640ce0939596",
   "metadata": {},
   "outputs": [],
   "source": []
  },
  {
   "cell_type": "markdown",
   "id": "4b62b47b-c640-44e8-ae51-72fb1d6d841b",
   "metadata": {},
   "source": [
    "#### with PostgreSQL and JOB"
   ]
  },
  {
   "cell_type": "code",
   "execution_count": null,
   "id": "9d98bb17-78f5-4e0d-962c-45c8f845aa9e",
   "metadata": {},
   "outputs": [],
   "source": []
  },
  {
   "cell_type": "code",
   "execution_count": null,
   "id": "66c12756-13fb-4348-ae4b-63d16b445863",
   "metadata": {},
   "outputs": [],
   "source": []
  }
 ],
 "metadata": {
  "kernelspec": {
   "display_name": "Python 3 (ipykernel)",
   "language": "python",
   "name": "python3"
  },
  "language_info": {
   "codemirror_mode": {
    "name": "ipython",
    "version": 3
   },
   "file_extension": ".py",
   "mimetype": "text/x-python",
   "name": "python",
   "nbconvert_exporter": "python",
   "pygments_lexer": "ipython3",
   "version": "3.8.10"
  }
 },
 "nbformat": 4,
 "nbformat_minor": 5
}
